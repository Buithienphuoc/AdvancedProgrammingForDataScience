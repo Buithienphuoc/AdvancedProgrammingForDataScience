{
 "cells": [
  {
   "cell_type": "markdown",
   "metadata": {},
   "source": [
    "# Assignment 2: Milestone I Natural Language Processing\n",
    "## Task 1. Basic Text Pre-processing\n",
    "#### Student Name: \n",
    "Bui Thien Phuoc s3634831\n",
    "Nguyen Duc Anh \n",
    "\n",
    "Date: 23/08/2024\n",
    "\n",
    "Version: 1.0\n",
    "\n",
    "Environment: Python 3 and Jupyter notebook\n",
    "\n",
    "Libraries used: please include all the libraries you used in your assignment, e.g.,:\n",
    "* pandas\n",
    "* re\n",
    "* numpy\n",
    "\n",
    "## Introduction\n",
    "You should give a brief information of this assessment task here.\n",
    "\n",
    "<span style=\"color: red\"> Note that this is a sample notebook only. You will need to fill in the proper markdown and code blocks. You might also want to make necessary changes to the structure to meet your own needs. Note also that any generic comments written in this notebook are to be removed and replace with your own words.</span>"
   ]
  },
  {
   "cell_type": "markdown",
   "metadata": {},
   "source": [
    "## Importing libraries "
   ]
  },
  {
   "cell_type": "code",
   "execution_count": 1,
   "metadata": {
    "ExecuteTime": {
     "end_time": "2024-09-01T16:25:21.042245Z",
     "start_time": "2024-09-01T16:25:14.470676Z"
    }
   },
   "outputs": [],
   "source": [
    "# Code to import libraries as you need in this assessment, e.g.,\n",
    "import numpy as np\n",
    "import pandas as pd\n",
    "import re\n",
    "import os\n",
    "import glob\n",
    "from collections import Counter\n",
    "from nltk.probability import *\n",
    "from itertools import chain"
   ]
  },
  {
   "cell_type": "markdown",
   "metadata": {},
   "source": [
    "### 1.1 Examining and loading data\n",
    "- xamine the data folder, including the categories and job advertisment txt documents, etc. Explain your findings here, e.g., number of folders and format of txt files, etc.\n",
    "- Load the data into proper data structures and get it ready for processing.\n",
    "- Extract webIndex and description into proper data structures.\n"
   ]
  },
  {
   "cell_type": "code",
   "execution_count": 2,
   "metadata": {
    "ExecuteTime": {
     "end_time": "2024-09-01T16:25:21.058117Z",
     "start_time": "2024-09-01T16:25:21.048086Z"
    }
   },
   "outputs": [],
   "source": [
    "# Code to inspect the provided data file...\n",
    "root_path = \"C:\\\\Users\\\\tphuo\\\\OneDrive\\\\Documents\\\\Advanced programming for Data Science\\\\Assignment_3\\\\assess3_data\\\\assess3_data\\\\data\\\\\"  # Replace with the actual\n",
    "folders = ['Accounting_Finance', 'Engineering', 'Healthcare_Nursing', 'Sales']"
   ]
  },
  {
   "cell_type": "code",
   "outputs": [],
   "source": [
    "data = []"
   ],
   "metadata": {
    "collapsed": false,
    "ExecuteTime": {
     "end_time": "2024-09-01T16:25:21.088307Z",
     "start_time": "2024-09-01T16:25:21.062084Z"
    }
   },
   "execution_count": 3
  },
  {
   "cell_type": "code",
   "outputs": [
    {
     "name": "stdout",
     "output_type": "stream",
     "text": [
      "C:\\Users\\tphuo\\OneDrive\\Documents\\Advanced programming for Data Science\\Assignment_3\\assess3_data\\assess3_data\\data\\Accounting_Finance\n",
      "C:\\Users\\tphuo\\OneDrive\\Documents\\Advanced programming for Data Science\\Assignment_3\\assess3_data\\assess3_data\\data\\Accounting_Finance\\Job_00232.txt\n",
      "C:\\Users\\tphuo\\OneDrive\\Documents\\Advanced programming for Data Science\\Assignment_3\\assess3_data\\assess3_data\\data\\Accounting_Finance\\Job_00233.txt\n",
      "C:\\Users\\tphuo\\OneDrive\\Documents\\Advanced programming for Data Science\\Assignment_3\\assess3_data\\assess3_data\\data\\Accounting_Finance\\Job_00234.txt\n",
      "C:\\Users\\tphuo\\OneDrive\\Documents\\Advanced programming for Data Science\\Assignment_3\\assess3_data\\assess3_data\\data\\Accounting_Finance\\Job_00235.txt\n",
      "C:\\Users\\tphuo\\OneDrive\\Documents\\Advanced programming for Data Science\\Assignment_3\\assess3_data\\assess3_data\\data\\Accounting_Finance\\Job_00236.txt\n",
      "C:\\Users\\tphuo\\OneDrive\\Documents\\Advanced programming for Data Science\\Assignment_3\\assess3_data\\assess3_data\\data\\Accounting_Finance\\Job_00237.txt\n",
      "C:\\Users\\tphuo\\OneDrive\\Documents\\Advanced programming for Data Science\\Assignment_3\\assess3_data\\assess3_data\\data\\Accounting_Finance\\Job_00238.txt\n",
      "C:\\Users\\tphuo\\OneDrive\\Documents\\Advanced programming for Data Science\\Assignment_3\\assess3_data\\assess3_data\\data\\Accounting_Finance\\Job_00239.txt\n",
      "C:\\Users\\tphuo\\OneDrive\\Documents\\Advanced programming for Data Science\\Assignment_3\\assess3_data\\assess3_data\\data\\Accounting_Finance\\Job_00240.txt\n",
      "C:\\Users\\tphuo\\OneDrive\\Documents\\Advanced programming for Data Science\\Assignment_3\\assess3_data\\assess3_data\\data\\Accounting_Finance\\Job_00241.txt\n",
      "C:\\Users\\tphuo\\OneDrive\\Documents\\Advanced programming for Data Science\\Assignment_3\\assess3_data\\assess3_data\\data\\Accounting_Finance\\Job_00242.txt\n",
      "C:\\Users\\tphuo\\OneDrive\\Documents\\Advanced programming for Data Science\\Assignment_3\\assess3_data\\assess3_data\\data\\Accounting_Finance\\Job_00243.txt\n",
      "C:\\Users\\tphuo\\OneDrive\\Documents\\Advanced programming for Data Science\\Assignment_3\\assess3_data\\assess3_data\\data\\Accounting_Finance\\Job_00244.txt\n",
      "C:\\Users\\tphuo\\OneDrive\\Documents\\Advanced programming for Data Science\\Assignment_3\\assess3_data\\assess3_data\\data\\Accounting_Finance\\Job_00245.txt\n",
      "C:\\Users\\tphuo\\OneDrive\\Documents\\Advanced programming for Data Science\\Assignment_3\\assess3_data\\assess3_data\\data\\Accounting_Finance\\Job_00246.txt\n",
      "C:\\Users\\tphuo\\OneDrive\\Documents\\Advanced programming for Data Science\\Assignment_3\\assess3_data\\assess3_data\\data\\Accounting_Finance\\Job_00247.txt\n",
      "C:\\Users\\tphuo\\OneDrive\\Documents\\Advanced programming for Data Science\\Assignment_3\\assess3_data\\assess3_data\\data\\Accounting_Finance\\Job_00248.txt\n",
      "C:\\Users\\tphuo\\OneDrive\\Documents\\Advanced programming for Data Science\\Assignment_3\\assess3_data\\assess3_data\\data\\Accounting_Finance\\Job_00249.txt\n",
      "C:\\Users\\tphuo\\OneDrive\\Documents\\Advanced programming for Data Science\\Assignment_3\\assess3_data\\assess3_data\\data\\Accounting_Finance\\Job_00250.txt\n",
      "C:\\Users\\tphuo\\OneDrive\\Documents\\Advanced programming for Data Science\\Assignment_3\\assess3_data\\assess3_data\\data\\Accounting_Finance\\Job_00251.txt\n",
      "C:\\Users\\tphuo\\OneDrive\\Documents\\Advanced programming for Data Science\\Assignment_3\\assess3_data\\assess3_data\\data\\Accounting_Finance\\Job_00252.txt\n",
      "C:\\Users\\tphuo\\OneDrive\\Documents\\Advanced programming for Data Science\\Assignment_3\\assess3_data\\assess3_data\\data\\Accounting_Finance\\Job_00253.txt\n",
      "C:\\Users\\tphuo\\OneDrive\\Documents\\Advanced programming for Data Science\\Assignment_3\\assess3_data\\assess3_data\\data\\Accounting_Finance\\Job_00254.txt\n",
      "C:\\Users\\tphuo\\OneDrive\\Documents\\Advanced programming for Data Science\\Assignment_3\\assess3_data\\assess3_data\\data\\Accounting_Finance\\Job_00255.txt\n",
      "C:\\Users\\tphuo\\OneDrive\\Documents\\Advanced programming for Data Science\\Assignment_3\\assess3_data\\assess3_data\\data\\Accounting_Finance\\Job_00256.txt\n",
      "C:\\Users\\tphuo\\OneDrive\\Documents\\Advanced programming for Data Science\\Assignment_3\\assess3_data\\assess3_data\\data\\Accounting_Finance\\Job_00257.txt\n",
      "C:\\Users\\tphuo\\OneDrive\\Documents\\Advanced programming for Data Science\\Assignment_3\\assess3_data\\assess3_data\\data\\Accounting_Finance\\Job_00258.txt\n",
      "C:\\Users\\tphuo\\OneDrive\\Documents\\Advanced programming for Data Science\\Assignment_3\\assess3_data\\assess3_data\\data\\Accounting_Finance\\Job_00259.txt\n",
      "C:\\Users\\tphuo\\OneDrive\\Documents\\Advanced programming for Data Science\\Assignment_3\\assess3_data\\assess3_data\\data\\Accounting_Finance\\Job_00260.txt\n",
      "C:\\Users\\tphuo\\OneDrive\\Documents\\Advanced programming for Data Science\\Assignment_3\\assess3_data\\assess3_data\\data\\Accounting_Finance\\Job_00261.txt\n",
      "C:\\Users\\tphuo\\OneDrive\\Documents\\Advanced programming for Data Science\\Assignment_3\\assess3_data\\assess3_data\\data\\Accounting_Finance\\Job_00262.txt\n",
      "C:\\Users\\tphuo\\OneDrive\\Documents\\Advanced programming for Data Science\\Assignment_3\\assess3_data\\assess3_data\\data\\Accounting_Finance\\Job_00263.txt\n",
      "C:\\Users\\tphuo\\OneDrive\\Documents\\Advanced programming for Data Science\\Assignment_3\\assess3_data\\assess3_data\\data\\Accounting_Finance\\Job_00264.txt\n",
      "C:\\Users\\tphuo\\OneDrive\\Documents\\Advanced programming for Data Science\\Assignment_3\\assess3_data\\assess3_data\\data\\Accounting_Finance\\Job_00265.txt\n",
      "C:\\Users\\tphuo\\OneDrive\\Documents\\Advanced programming for Data Science\\Assignment_3\\assess3_data\\assess3_data\\data\\Accounting_Finance\\Job_00266.txt\n",
      "C:\\Users\\tphuo\\OneDrive\\Documents\\Advanced programming for Data Science\\Assignment_3\\assess3_data\\assess3_data\\data\\Accounting_Finance\\Job_00267.txt\n",
      "C:\\Users\\tphuo\\OneDrive\\Documents\\Advanced programming for Data Science\\Assignment_3\\assess3_data\\assess3_data\\data\\Accounting_Finance\\Job_00268.txt\n",
      "C:\\Users\\tphuo\\OneDrive\\Documents\\Advanced programming for Data Science\\Assignment_3\\assess3_data\\assess3_data\\data\\Accounting_Finance\\Job_00269.txt\n",
      "C:\\Users\\tphuo\\OneDrive\\Documents\\Advanced programming for Data Science\\Assignment_3\\assess3_data\\assess3_data\\data\\Accounting_Finance\\Job_00270.txt\n",
      "C:\\Users\\tphuo\\OneDrive\\Documents\\Advanced programming for Data Science\\Assignment_3\\assess3_data\\assess3_data\\data\\Accounting_Finance\\Job_00271.txt\n",
      "C:\\Users\\tphuo\\OneDrive\\Documents\\Advanced programming for Data Science\\Assignment_3\\assess3_data\\assess3_data\\data\\Accounting_Finance\\Job_00272.txt\n",
      "C:\\Users\\tphuo\\OneDrive\\Documents\\Advanced programming for Data Science\\Assignment_3\\assess3_data\\assess3_data\\data\\Accounting_Finance\\Job_00273.txt\n",
      "C:\\Users\\tphuo\\OneDrive\\Documents\\Advanced programming for Data Science\\Assignment_3\\assess3_data\\assess3_data\\data\\Accounting_Finance\\Job_00274.txt\n",
      "C:\\Users\\tphuo\\OneDrive\\Documents\\Advanced programming for Data Science\\Assignment_3\\assess3_data\\assess3_data\\data\\Accounting_Finance\\Job_00275.txt\n",
      "C:\\Users\\tphuo\\OneDrive\\Documents\\Advanced programming for Data Science\\Assignment_3\\assess3_data\\assess3_data\\data\\Accounting_Finance\\Job_00276.txt\n",
      "C:\\Users\\tphuo\\OneDrive\\Documents\\Advanced programming for Data Science\\Assignment_3\\assess3_data\\assess3_data\\data\\Accounting_Finance\\Job_00277.txt\n",
      "C:\\Users\\tphuo\\OneDrive\\Documents\\Advanced programming for Data Science\\Assignment_3\\assess3_data\\assess3_data\\data\\Accounting_Finance\\Job_00278.txt\n",
      "C:\\Users\\tphuo\\OneDrive\\Documents\\Advanced programming for Data Science\\Assignment_3\\assess3_data\\assess3_data\\data\\Accounting_Finance\\Job_00279.txt\n",
      "C:\\Users\\tphuo\\OneDrive\\Documents\\Advanced programming for Data Science\\Assignment_3\\assess3_data\\assess3_data\\data\\Accounting_Finance\\Job_00280.txt\n",
      "C:\\Users\\tphuo\\OneDrive\\Documents\\Advanced programming for Data Science\\Assignment_3\\assess3_data\\assess3_data\\data\\Accounting_Finance\\Job_00281.txt\n",
      "C:\\Users\\tphuo\\OneDrive\\Documents\\Advanced programming for Data Science\\Assignment_3\\assess3_data\\assess3_data\\data\\Accounting_Finance\\Job_00282.txt\n",
      "C:\\Users\\tphuo\\OneDrive\\Documents\\Advanced programming for Data Science\\Assignment_3\\assess3_data\\assess3_data\\data\\Accounting_Finance\\Job_00283.txt\n",
      "C:\\Users\\tphuo\\OneDrive\\Documents\\Advanced programming for Data Science\\Assignment_3\\assess3_data\\assess3_data\\data\\Accounting_Finance\\Job_00284.txt\n",
      "C:\\Users\\tphuo\\OneDrive\\Documents\\Advanced programming for Data Science\\Assignment_3\\assess3_data\\assess3_data\\data\\Accounting_Finance\\Job_00285.txt\n",
      "C:\\Users\\tphuo\\OneDrive\\Documents\\Advanced programming for Data Science\\Assignment_3\\assess3_data\\assess3_data\\data\\Accounting_Finance\\Job_00286.txt\n",
      "C:\\Users\\tphuo\\OneDrive\\Documents\\Advanced programming for Data Science\\Assignment_3\\assess3_data\\assess3_data\\data\\Accounting_Finance\\Job_00287.txt\n",
      "C:\\Users\\tphuo\\OneDrive\\Documents\\Advanced programming for Data Science\\Assignment_3\\assess3_data\\assess3_data\\data\\Accounting_Finance\\Job_00288.txt\n",
      "C:\\Users\\tphuo\\OneDrive\\Documents\\Advanced programming for Data Science\\Assignment_3\\assess3_data\\assess3_data\\data\\Accounting_Finance\\Job_00289.txt\n",
      "C:\\Users\\tphuo\\OneDrive\\Documents\\Advanced programming for Data Science\\Assignment_3\\assess3_data\\assess3_data\\data\\Accounting_Finance\\Job_00290.txt\n",
      "C:\\Users\\tphuo\\OneDrive\\Documents\\Advanced programming for Data Science\\Assignment_3\\assess3_data\\assess3_data\\data\\Accounting_Finance\\Job_00291.txt\n",
      "C:\\Users\\tphuo\\OneDrive\\Documents\\Advanced programming for Data Science\\Assignment_3\\assess3_data\\assess3_data\\data\\Accounting_Finance\\Job_00292.txt\n",
      "C:\\Users\\tphuo\\OneDrive\\Documents\\Advanced programming for Data Science\\Assignment_3\\assess3_data\\assess3_data\\data\\Accounting_Finance\\Job_00293.txt\n",
      "C:\\Users\\tphuo\\OneDrive\\Documents\\Advanced programming for Data Science\\Assignment_3\\assess3_data\\assess3_data\\data\\Accounting_Finance\\Job_00294.txt\n",
      "C:\\Users\\tphuo\\OneDrive\\Documents\\Advanced programming for Data Science\\Assignment_3\\assess3_data\\assess3_data\\data\\Accounting_Finance\\Job_00295.txt\n",
      "C:\\Users\\tphuo\\OneDrive\\Documents\\Advanced programming for Data Science\\Assignment_3\\assess3_data\\assess3_data\\data\\Accounting_Finance\\Job_00296.txt\n",
      "C:\\Users\\tphuo\\OneDrive\\Documents\\Advanced programming for Data Science\\Assignment_3\\assess3_data\\assess3_data\\data\\Accounting_Finance\\Job_00297.txt\n",
      "C:\\Users\\tphuo\\OneDrive\\Documents\\Advanced programming for Data Science\\Assignment_3\\assess3_data\\assess3_data\\data\\Accounting_Finance\\Job_00298.txt\n",
      "C:\\Users\\tphuo\\OneDrive\\Documents\\Advanced programming for Data Science\\Assignment_3\\assess3_data\\assess3_data\\data\\Accounting_Finance\\Job_00299.txt\n",
      "C:\\Users\\tphuo\\OneDrive\\Documents\\Advanced programming for Data Science\\Assignment_3\\assess3_data\\assess3_data\\data\\Accounting_Finance\\Job_00300.txt\n",
      "C:\\Users\\tphuo\\OneDrive\\Documents\\Advanced programming for Data Science\\Assignment_3\\assess3_data\\assess3_data\\data\\Accounting_Finance\\Job_00301.txt\n",
      "C:\\Users\\tphuo\\OneDrive\\Documents\\Advanced programming for Data Science\\Assignment_3\\assess3_data\\assess3_data\\data\\Accounting_Finance\\Job_00302.txt\n",
      "C:\\Users\\tphuo\\OneDrive\\Documents\\Advanced programming for Data Science\\Assignment_3\\assess3_data\\assess3_data\\data\\Accounting_Finance\\Job_00303.txt\n",
      "C:\\Users\\tphuo\\OneDrive\\Documents\\Advanced programming for Data Science\\Assignment_3\\assess3_data\\assess3_data\\data\\Accounting_Finance\\Job_00304.txt\n",
      "C:\\Users\\tphuo\\OneDrive\\Documents\\Advanced programming for Data Science\\Assignment_3\\assess3_data\\assess3_data\\data\\Accounting_Finance\\Job_00305.txt\n",
      "C:\\Users\\tphuo\\OneDrive\\Documents\\Advanced programming for Data Science\\Assignment_3\\assess3_data\\assess3_data\\data\\Accounting_Finance\\Job_00306.txt\n",
      "C:\\Users\\tphuo\\OneDrive\\Documents\\Advanced programming for Data Science\\Assignment_3\\assess3_data\\assess3_data\\data\\Accounting_Finance\\Job_00307.txt\n",
      "C:\\Users\\tphuo\\OneDrive\\Documents\\Advanced programming for Data Science\\Assignment_3\\assess3_data\\assess3_data\\data\\Accounting_Finance\\Job_00308.txt\n",
      "C:\\Users\\tphuo\\OneDrive\\Documents\\Advanced programming for Data Science\\Assignment_3\\assess3_data\\assess3_data\\data\\Accounting_Finance\\Job_00309.txt\n",
      "C:\\Users\\tphuo\\OneDrive\\Documents\\Advanced programming for Data Science\\Assignment_3\\assess3_data\\assess3_data\\data\\Accounting_Finance\\Job_00310.txt\n",
      "C:\\Users\\tphuo\\OneDrive\\Documents\\Advanced programming for Data Science\\Assignment_3\\assess3_data\\assess3_data\\data\\Accounting_Finance\\Job_00311.txt\n",
      "C:\\Users\\tphuo\\OneDrive\\Documents\\Advanced programming for Data Science\\Assignment_3\\assess3_data\\assess3_data\\data\\Accounting_Finance\\Job_00312.txt\n",
      "C:\\Users\\tphuo\\OneDrive\\Documents\\Advanced programming for Data Science\\Assignment_3\\assess3_data\\assess3_data\\data\\Accounting_Finance\\Job_00313.txt\n",
      "C:\\Users\\tphuo\\OneDrive\\Documents\\Advanced programming for Data Science\\Assignment_3\\assess3_data\\assess3_data\\data\\Accounting_Finance\\Job_00314.txt\n",
      "C:\\Users\\tphuo\\OneDrive\\Documents\\Advanced programming for Data Science\\Assignment_3\\assess3_data\\assess3_data\\data\\Accounting_Finance\\Job_00315.txt\n",
      "C:\\Users\\tphuo\\OneDrive\\Documents\\Advanced programming for Data Science\\Assignment_3\\assess3_data\\assess3_data\\data\\Accounting_Finance\\Job_00316.txt\n",
      "C:\\Users\\tphuo\\OneDrive\\Documents\\Advanced programming for Data Science\\Assignment_3\\assess3_data\\assess3_data\\data\\Accounting_Finance\\Job_00317.txt\n",
      "C:\\Users\\tphuo\\OneDrive\\Documents\\Advanced programming for Data Science\\Assignment_3\\assess3_data\\assess3_data\\data\\Accounting_Finance\\Job_00318.txt\n",
      "C:\\Users\\tphuo\\OneDrive\\Documents\\Advanced programming for Data Science\\Assignment_3\\assess3_data\\assess3_data\\data\\Accounting_Finance\\Job_00319.txt\n",
      "C:\\Users\\tphuo\\OneDrive\\Documents\\Advanced programming for Data Science\\Assignment_3\\assess3_data\\assess3_data\\data\\Accounting_Finance\\Job_00320.txt\n",
      "C:\\Users\\tphuo\\OneDrive\\Documents\\Advanced programming for Data Science\\Assignment_3\\assess3_data\\assess3_data\\data\\Accounting_Finance\\Job_00321.txt\n",
      "C:\\Users\\tphuo\\OneDrive\\Documents\\Advanced programming for Data Science\\Assignment_3\\assess3_data\\assess3_data\\data\\Accounting_Finance\\Job_00322.txt\n",
      "C:\\Users\\tphuo\\OneDrive\\Documents\\Advanced programming for Data Science\\Assignment_3\\assess3_data\\assess3_data\\data\\Accounting_Finance\\Job_00323.txt\n",
      "C:\\Users\\tphuo\\OneDrive\\Documents\\Advanced programming for Data Science\\Assignment_3\\assess3_data\\assess3_data\\data\\Accounting_Finance\\Job_00324.txt\n",
      "C:\\Users\\tphuo\\OneDrive\\Documents\\Advanced programming for Data Science\\Assignment_3\\assess3_data\\assess3_data\\data\\Accounting_Finance\\Job_00325.txt\n",
      "C:\\Users\\tphuo\\OneDrive\\Documents\\Advanced programming for Data Science\\Assignment_3\\assess3_data\\assess3_data\\data\\Accounting_Finance\\Job_00326.txt\n",
      "C:\\Users\\tphuo\\OneDrive\\Documents\\Advanced programming for Data Science\\Assignment_3\\assess3_data\\assess3_data\\data\\Accounting_Finance\\Job_00327.txt\n",
      "C:\\Users\\tphuo\\OneDrive\\Documents\\Advanced programming for Data Science\\Assignment_3\\assess3_data\\assess3_data\\data\\Accounting_Finance\\Job_00328.txt\n",
      "C:\\Users\\tphuo\\OneDrive\\Documents\\Advanced programming for Data Science\\Assignment_3\\assess3_data\\assess3_data\\data\\Accounting_Finance\\Job_00329.txt\n",
      "C:\\Users\\tphuo\\OneDrive\\Documents\\Advanced programming for Data Science\\Assignment_3\\assess3_data\\assess3_data\\data\\Accounting_Finance\\Job_00330.txt\n",
      "C:\\Users\\tphuo\\OneDrive\\Documents\\Advanced programming for Data Science\\Assignment_3\\assess3_data\\assess3_data\\data\\Accounting_Finance\\Job_00331.txt\n",
      "C:\\Users\\tphuo\\OneDrive\\Documents\\Advanced programming for Data Science\\Assignment_3\\assess3_data\\assess3_data\\data\\Accounting_Finance\\Job_00332.txt\n",
      "C:\\Users\\tphuo\\OneDrive\\Documents\\Advanced programming for Data Science\\Assignment_3\\assess3_data\\assess3_data\\data\\Accounting_Finance\\Job_00333.txt\n",
      "C:\\Users\\tphuo\\OneDrive\\Documents\\Advanced programming for Data Science\\Assignment_3\\assess3_data\\assess3_data\\data\\Accounting_Finance\\Job_00334.txt\n",
      "C:\\Users\\tphuo\\OneDrive\\Documents\\Advanced programming for Data Science\\Assignment_3\\assess3_data\\assess3_data\\data\\Accounting_Finance\\Job_00335.txt\n",
      "C:\\Users\\tphuo\\OneDrive\\Documents\\Advanced programming for Data Science\\Assignment_3\\assess3_data\\assess3_data\\data\\Accounting_Finance\\Job_00336.txt\n",
      "C:\\Users\\tphuo\\OneDrive\\Documents\\Advanced programming for Data Science\\Assignment_3\\assess3_data\\assess3_data\\data\\Accounting_Finance\\Job_00337.txt\n",
      "C:\\Users\\tphuo\\OneDrive\\Documents\\Advanced programming for Data Science\\Assignment_3\\assess3_data\\assess3_data\\data\\Accounting_Finance\\Job_00338.txt\n",
      "C:\\Users\\tphuo\\OneDrive\\Documents\\Advanced programming for Data Science\\Assignment_3\\assess3_data\\assess3_data\\data\\Accounting_Finance\\Job_00339.txt\n",
      "C:\\Users\\tphuo\\OneDrive\\Documents\\Advanced programming for Data Science\\Assignment_3\\assess3_data\\assess3_data\\data\\Accounting_Finance\\Job_00340.txt\n",
      "C:\\Users\\tphuo\\OneDrive\\Documents\\Advanced programming for Data Science\\Assignment_3\\assess3_data\\assess3_data\\data\\Accounting_Finance\\Job_00341.txt\n",
      "C:\\Users\\tphuo\\OneDrive\\Documents\\Advanced programming for Data Science\\Assignment_3\\assess3_data\\assess3_data\\data\\Accounting_Finance\\Job_00342.txt\n",
      "C:\\Users\\tphuo\\OneDrive\\Documents\\Advanced programming for Data Science\\Assignment_3\\assess3_data\\assess3_data\\data\\Accounting_Finance\\Job_00343.txt\n",
      "C:\\Users\\tphuo\\OneDrive\\Documents\\Advanced programming for Data Science\\Assignment_3\\assess3_data\\assess3_data\\data\\Accounting_Finance\\Job_00344.txt\n",
      "C:\\Users\\tphuo\\OneDrive\\Documents\\Advanced programming for Data Science\\Assignment_3\\assess3_data\\assess3_data\\data\\Accounting_Finance\\Job_00345.txt\n",
      "C:\\Users\\tphuo\\OneDrive\\Documents\\Advanced programming for Data Science\\Assignment_3\\assess3_data\\assess3_data\\data\\Accounting_Finance\\Job_00346.txt\n",
      "C:\\Users\\tphuo\\OneDrive\\Documents\\Advanced programming for Data Science\\Assignment_3\\assess3_data\\assess3_data\\data\\Accounting_Finance\\Job_00347.txt\n",
      "C:\\Users\\tphuo\\OneDrive\\Documents\\Advanced programming for Data Science\\Assignment_3\\assess3_data\\assess3_data\\data\\Accounting_Finance\\Job_00348.txt\n",
      "C:\\Users\\tphuo\\OneDrive\\Documents\\Advanced programming for Data Science\\Assignment_3\\assess3_data\\assess3_data\\data\\Accounting_Finance\\Job_00349.txt\n",
      "C:\\Users\\tphuo\\OneDrive\\Documents\\Advanced programming for Data Science\\Assignment_3\\assess3_data\\assess3_data\\data\\Accounting_Finance\\Job_00350.txt\n",
      "C:\\Users\\tphuo\\OneDrive\\Documents\\Advanced programming for Data Science\\Assignment_3\\assess3_data\\assess3_data\\data\\Accounting_Finance\\Job_00351.txt\n",
      "C:\\Users\\tphuo\\OneDrive\\Documents\\Advanced programming for Data Science\\Assignment_3\\assess3_data\\assess3_data\\data\\Accounting_Finance\\Job_00352.txt\n",
      "C:\\Users\\tphuo\\OneDrive\\Documents\\Advanced programming for Data Science\\Assignment_3\\assess3_data\\assess3_data\\data\\Accounting_Finance\\Job_00353.txt\n",
      "C:\\Users\\tphuo\\OneDrive\\Documents\\Advanced programming for Data Science\\Assignment_3\\assess3_data\\assess3_data\\data\\Accounting_Finance\\Job_00354.txt\n",
      "C:\\Users\\tphuo\\OneDrive\\Documents\\Advanced programming for Data Science\\Assignment_3\\assess3_data\\assess3_data\\data\\Accounting_Finance\\Job_00355.txt\n",
      "C:\\Users\\tphuo\\OneDrive\\Documents\\Advanced programming for Data Science\\Assignment_3\\assess3_data\\assess3_data\\data\\Accounting_Finance\\Job_00356.txt\n",
      "C:\\Users\\tphuo\\OneDrive\\Documents\\Advanced programming for Data Science\\Assignment_3\\assess3_data\\assess3_data\\data\\Accounting_Finance\\Job_00357.txt\n",
      "C:\\Users\\tphuo\\OneDrive\\Documents\\Advanced programming for Data Science\\Assignment_3\\assess3_data\\assess3_data\\data\\Accounting_Finance\\Job_00358.txt\n",
      "C:\\Users\\tphuo\\OneDrive\\Documents\\Advanced programming for Data Science\\Assignment_3\\assess3_data\\assess3_data\\data\\Accounting_Finance\\Job_00359.txt\n",
      "C:\\Users\\tphuo\\OneDrive\\Documents\\Advanced programming for Data Science\\Assignment_3\\assess3_data\\assess3_data\\data\\Accounting_Finance\\Job_00360.txt\n",
      "C:\\Users\\tphuo\\OneDrive\\Documents\\Advanced programming for Data Science\\Assignment_3\\assess3_data\\assess3_data\\data\\Accounting_Finance\\Job_00361.txt\n",
      "C:\\Users\\tphuo\\OneDrive\\Documents\\Advanced programming for Data Science\\Assignment_3\\assess3_data\\assess3_data\\data\\Accounting_Finance\\Job_00362.txt\n",
      "C:\\Users\\tphuo\\OneDrive\\Documents\\Advanced programming for Data Science\\Assignment_3\\assess3_data\\assess3_data\\data\\Accounting_Finance\\Job_00363.txt\n",
      "C:\\Users\\tphuo\\OneDrive\\Documents\\Advanced programming for Data Science\\Assignment_3\\assess3_data\\assess3_data\\data\\Accounting_Finance\\Job_00364.txt\n",
      "C:\\Users\\tphuo\\OneDrive\\Documents\\Advanced programming for Data Science\\Assignment_3\\assess3_data\\assess3_data\\data\\Accounting_Finance\\Job_00365.txt\n",
      "C:\\Users\\tphuo\\OneDrive\\Documents\\Advanced programming for Data Science\\Assignment_3\\assess3_data\\assess3_data\\data\\Accounting_Finance\\Job_00366.txt\n",
      "C:\\Users\\tphuo\\OneDrive\\Documents\\Advanced programming for Data Science\\Assignment_3\\assess3_data\\assess3_data\\data\\Accounting_Finance\\Job_00367.txt\n",
      "C:\\Users\\tphuo\\OneDrive\\Documents\\Advanced programming for Data Science\\Assignment_3\\assess3_data\\assess3_data\\data\\Accounting_Finance\\Job_00368.txt\n",
      "C:\\Users\\tphuo\\OneDrive\\Documents\\Advanced programming for Data Science\\Assignment_3\\assess3_data\\assess3_data\\data\\Accounting_Finance\\Job_00369.txt\n",
      "C:\\Users\\tphuo\\OneDrive\\Documents\\Advanced programming for Data Science\\Assignment_3\\assess3_data\\assess3_data\\data\\Accounting_Finance\\Job_00370.txt\n",
      "C:\\Users\\tphuo\\OneDrive\\Documents\\Advanced programming for Data Science\\Assignment_3\\assess3_data\\assess3_data\\data\\Accounting_Finance\\Job_00371.txt\n",
      "C:\\Users\\tphuo\\OneDrive\\Documents\\Advanced programming for Data Science\\Assignment_3\\assess3_data\\assess3_data\\data\\Accounting_Finance\\Job_00372.txt\n",
      "C:\\Users\\tphuo\\OneDrive\\Documents\\Advanced programming for Data Science\\Assignment_3\\assess3_data\\assess3_data\\data\\Accounting_Finance\\Job_00373.txt\n",
      "C:\\Users\\tphuo\\OneDrive\\Documents\\Advanced programming for Data Science\\Assignment_3\\assess3_data\\assess3_data\\data\\Accounting_Finance\\Job_00374.txt\n",
      "C:\\Users\\tphuo\\OneDrive\\Documents\\Advanced programming for Data Science\\Assignment_3\\assess3_data\\assess3_data\\data\\Accounting_Finance\\Job_00375.txt\n",
      "C:\\Users\\tphuo\\OneDrive\\Documents\\Advanced programming for Data Science\\Assignment_3\\assess3_data\\assess3_data\\data\\Accounting_Finance\\Job_00376.txt\n",
      "C:\\Users\\tphuo\\OneDrive\\Documents\\Advanced programming for Data Science\\Assignment_3\\assess3_data\\assess3_data\\data\\Accounting_Finance\\Job_00377.txt\n",
      "C:\\Users\\tphuo\\OneDrive\\Documents\\Advanced programming for Data Science\\Assignment_3\\assess3_data\\assess3_data\\data\\Accounting_Finance\\Job_00378.txt\n",
      "C:\\Users\\tphuo\\OneDrive\\Documents\\Advanced programming for Data Science\\Assignment_3\\assess3_data\\assess3_data\\data\\Accounting_Finance\\Job_00379.txt\n",
      "C:\\Users\\tphuo\\OneDrive\\Documents\\Advanced programming for Data Science\\Assignment_3\\assess3_data\\assess3_data\\data\\Accounting_Finance\\Job_00380.txt\n",
      "C:\\Users\\tphuo\\OneDrive\\Documents\\Advanced programming for Data Science\\Assignment_3\\assess3_data\\assess3_data\\data\\Accounting_Finance\\Job_00381.txt\n",
      "C:\\Users\\tphuo\\OneDrive\\Documents\\Advanced programming for Data Science\\Assignment_3\\assess3_data\\assess3_data\\data\\Accounting_Finance\\Job_00382.txt\n",
      "C:\\Users\\tphuo\\OneDrive\\Documents\\Advanced programming for Data Science\\Assignment_3\\assess3_data\\assess3_data\\data\\Accounting_Finance\\Job_00383.txt\n",
      "C:\\Users\\tphuo\\OneDrive\\Documents\\Advanced programming for Data Science\\Assignment_3\\assess3_data\\assess3_data\\data\\Accounting_Finance\\Job_00384.txt\n",
      "C:\\Users\\tphuo\\OneDrive\\Documents\\Advanced programming for Data Science\\Assignment_3\\assess3_data\\assess3_data\\data\\Accounting_Finance\\Job_00385.txt\n",
      "C:\\Users\\tphuo\\OneDrive\\Documents\\Advanced programming for Data Science\\Assignment_3\\assess3_data\\assess3_data\\data\\Accounting_Finance\\Job_00386.txt\n",
      "C:\\Users\\tphuo\\OneDrive\\Documents\\Advanced programming for Data Science\\Assignment_3\\assess3_data\\assess3_data\\data\\Accounting_Finance\\Job_00387.txt\n",
      "C:\\Users\\tphuo\\OneDrive\\Documents\\Advanced programming for Data Science\\Assignment_3\\assess3_data\\assess3_data\\data\\Accounting_Finance\\Job_00388.txt\n",
      "C:\\Users\\tphuo\\OneDrive\\Documents\\Advanced programming for Data Science\\Assignment_3\\assess3_data\\assess3_data\\data\\Accounting_Finance\\Job_00389.txt\n",
      "C:\\Users\\tphuo\\OneDrive\\Documents\\Advanced programming for Data Science\\Assignment_3\\assess3_data\\assess3_data\\data\\Accounting_Finance\\Job_00390.txt\n",
      "C:\\Users\\tphuo\\OneDrive\\Documents\\Advanced programming for Data Science\\Assignment_3\\assess3_data\\assess3_data\\data\\Accounting_Finance\\Job_00391.txt\n",
      "C:\\Users\\tphuo\\OneDrive\\Documents\\Advanced programming for Data Science\\Assignment_3\\assess3_data\\assess3_data\\data\\Accounting_Finance\\Job_00392.txt\n",
      "C:\\Users\\tphuo\\OneDrive\\Documents\\Advanced programming for Data Science\\Assignment_3\\assess3_data\\assess3_data\\data\\Accounting_Finance\\Job_00393.txt\n",
      "C:\\Users\\tphuo\\OneDrive\\Documents\\Advanced programming for Data Science\\Assignment_3\\assess3_data\\assess3_data\\data\\Accounting_Finance\\Job_00394.txt\n",
      "C:\\Users\\tphuo\\OneDrive\\Documents\\Advanced programming for Data Science\\Assignment_3\\assess3_data\\assess3_data\\data\\Accounting_Finance\\Job_00395.txt\n",
      "C:\\Users\\tphuo\\OneDrive\\Documents\\Advanced programming for Data Science\\Assignment_3\\assess3_data\\assess3_data\\data\\Accounting_Finance\\Job_00396.txt\n",
      "C:\\Users\\tphuo\\OneDrive\\Documents\\Advanced programming for Data Science\\Assignment_3\\assess3_data\\assess3_data\\data\\Accounting_Finance\\Job_00397.txt\n",
      "C:\\Users\\tphuo\\OneDrive\\Documents\\Advanced programming for Data Science\\Assignment_3\\assess3_data\\assess3_data\\data\\Accounting_Finance\\Job_00398.txt\n",
      "C:\\Users\\tphuo\\OneDrive\\Documents\\Advanced programming for Data Science\\Assignment_3\\assess3_data\\assess3_data\\data\\Accounting_Finance\\Job_00399.txt\n",
      "C:\\Users\\tphuo\\OneDrive\\Documents\\Advanced programming for Data Science\\Assignment_3\\assess3_data\\assess3_data\\data\\Accounting_Finance\\Job_00400.txt\n",
      "C:\\Users\\tphuo\\OneDrive\\Documents\\Advanced programming for Data Science\\Assignment_3\\assess3_data\\assess3_data\\data\\Accounting_Finance\\Job_00401.txt\n",
      "C:\\Users\\tphuo\\OneDrive\\Documents\\Advanced programming for Data Science\\Assignment_3\\assess3_data\\assess3_data\\data\\Accounting_Finance\\Job_00402.txt\n",
      "C:\\Users\\tphuo\\OneDrive\\Documents\\Advanced programming for Data Science\\Assignment_3\\assess3_data\\assess3_data\\data\\Accounting_Finance\\Job_00403.txt\n",
      "C:\\Users\\tphuo\\OneDrive\\Documents\\Advanced programming for Data Science\\Assignment_3\\assess3_data\\assess3_data\\data\\Accounting_Finance\\Job_00404.txt\n",
      "C:\\Users\\tphuo\\OneDrive\\Documents\\Advanced programming for Data Science\\Assignment_3\\assess3_data\\assess3_data\\data\\Accounting_Finance\\Job_00405.txt\n",
      "C:\\Users\\tphuo\\OneDrive\\Documents\\Advanced programming for Data Science\\Assignment_3\\assess3_data\\assess3_data\\data\\Accounting_Finance\\Job_00406.txt\n",
      "C:\\Users\\tphuo\\OneDrive\\Documents\\Advanced programming for Data Science\\Assignment_3\\assess3_data\\assess3_data\\data\\Accounting_Finance\\Job_00407.txt\n",
      "C:\\Users\\tphuo\\OneDrive\\Documents\\Advanced programming for Data Science\\Assignment_3\\assess3_data\\assess3_data\\data\\Accounting_Finance\\Job_00408.txt\n",
      "C:\\Users\\tphuo\\OneDrive\\Documents\\Advanced programming for Data Science\\Assignment_3\\assess3_data\\assess3_data\\data\\Accounting_Finance\\Job_00409.txt\n",
      "C:\\Users\\tphuo\\OneDrive\\Documents\\Advanced programming for Data Science\\Assignment_3\\assess3_data\\assess3_data\\data\\Accounting_Finance\\Job_00410.txt\n",
      "C:\\Users\\tphuo\\OneDrive\\Documents\\Advanced programming for Data Science\\Assignment_3\\assess3_data\\assess3_data\\data\\Accounting_Finance\\Job_00411.txt\n",
      "C:\\Users\\tphuo\\OneDrive\\Documents\\Advanced programming for Data Science\\Assignment_3\\assess3_data\\assess3_data\\data\\Accounting_Finance\\Job_00412.txt\n",
      "C:\\Users\\tphuo\\OneDrive\\Documents\\Advanced programming for Data Science\\Assignment_3\\assess3_data\\assess3_data\\data\\Accounting_Finance\\Job_00413.txt\n",
      "C:\\Users\\tphuo\\OneDrive\\Documents\\Advanced programming for Data Science\\Assignment_3\\assess3_data\\assess3_data\\data\\Accounting_Finance\\Job_00414.txt\n",
      "C:\\Users\\tphuo\\OneDrive\\Documents\\Advanced programming for Data Science\\Assignment_3\\assess3_data\\assess3_data\\data\\Accounting_Finance\\Job_00415.txt\n",
      "C:\\Users\\tphuo\\OneDrive\\Documents\\Advanced programming for Data Science\\Assignment_3\\assess3_data\\assess3_data\\data\\Accounting_Finance\\Job_00416.txt\n",
      "C:\\Users\\tphuo\\OneDrive\\Documents\\Advanced programming for Data Science\\Assignment_3\\assess3_data\\assess3_data\\data\\Accounting_Finance\\Job_00417.txt\n",
      "C:\\Users\\tphuo\\OneDrive\\Documents\\Advanced programming for Data Science\\Assignment_3\\assess3_data\\assess3_data\\data\\Accounting_Finance\\Job_00418.txt\n",
      "C:\\Users\\tphuo\\OneDrive\\Documents\\Advanced programming for Data Science\\Assignment_3\\assess3_data\\assess3_data\\data\\Accounting_Finance\\Job_00419.txt\n",
      "C:\\Users\\tphuo\\OneDrive\\Documents\\Advanced programming for Data Science\\Assignment_3\\assess3_data\\assess3_data\\data\\Accounting_Finance\\Job_00420.txt\n",
      "C:\\Users\\tphuo\\OneDrive\\Documents\\Advanced programming for Data Science\\Assignment_3\\assess3_data\\assess3_data\\data\\Accounting_Finance\\Job_00421.txt\n",
      "C:\\Users\\tphuo\\OneDrive\\Documents\\Advanced programming for Data Science\\Assignment_3\\assess3_data\\assess3_data\\data\\Accounting_Finance\\Job_00422.txt\n",
      "C:\\Users\\tphuo\\OneDrive\\Documents\\Advanced programming for Data Science\\Assignment_3\\assess3_data\\assess3_data\\data\\Engineering\n",
      "C:\\Users\\tphuo\\OneDrive\\Documents\\Advanced programming for Data Science\\Assignment_3\\assess3_data\\assess3_data\\data\\Engineering\\Job_00001.txt\n",
      "C:\\Users\\tphuo\\OneDrive\\Documents\\Advanced programming for Data Science\\Assignment_3\\assess3_data\\assess3_data\\data\\Engineering\\Job_00002.txt\n",
      "C:\\Users\\tphuo\\OneDrive\\Documents\\Advanced programming for Data Science\\Assignment_3\\assess3_data\\assess3_data\\data\\Engineering\\Job_00003.txt\n",
      "C:\\Users\\tphuo\\OneDrive\\Documents\\Advanced programming for Data Science\\Assignment_3\\assess3_data\\assess3_data\\data\\Engineering\\Job_00004.txt\n",
      "C:\\Users\\tphuo\\OneDrive\\Documents\\Advanced programming for Data Science\\Assignment_3\\assess3_data\\assess3_data\\data\\Engineering\\Job_00005.txt\n",
      "C:\\Users\\tphuo\\OneDrive\\Documents\\Advanced programming for Data Science\\Assignment_3\\assess3_data\\assess3_data\\data\\Engineering\\Job_00006.txt\n",
      "C:\\Users\\tphuo\\OneDrive\\Documents\\Advanced programming for Data Science\\Assignment_3\\assess3_data\\assess3_data\\data\\Engineering\\Job_00007.txt\n",
      "C:\\Users\\tphuo\\OneDrive\\Documents\\Advanced programming for Data Science\\Assignment_3\\assess3_data\\assess3_data\\data\\Engineering\\Job_00008.txt\n",
      "C:\\Users\\tphuo\\OneDrive\\Documents\\Advanced programming for Data Science\\Assignment_3\\assess3_data\\assess3_data\\data\\Engineering\\Job_00009.txt\n",
      "C:\\Users\\tphuo\\OneDrive\\Documents\\Advanced programming for Data Science\\Assignment_3\\assess3_data\\assess3_data\\data\\Engineering\\Job_00010.txt\n",
      "C:\\Users\\tphuo\\OneDrive\\Documents\\Advanced programming for Data Science\\Assignment_3\\assess3_data\\assess3_data\\data\\Engineering\\Job_00011.txt\n",
      "C:\\Users\\tphuo\\OneDrive\\Documents\\Advanced programming for Data Science\\Assignment_3\\assess3_data\\assess3_data\\data\\Engineering\\Job_00012.txt\n",
      "C:\\Users\\tphuo\\OneDrive\\Documents\\Advanced programming for Data Science\\Assignment_3\\assess3_data\\assess3_data\\data\\Engineering\\Job_00013.txt\n",
      "C:\\Users\\tphuo\\OneDrive\\Documents\\Advanced programming for Data Science\\Assignment_3\\assess3_data\\assess3_data\\data\\Engineering\\Job_00014.txt\n",
      "C:\\Users\\tphuo\\OneDrive\\Documents\\Advanced programming for Data Science\\Assignment_3\\assess3_data\\assess3_data\\data\\Engineering\\Job_00015.txt\n",
      "C:\\Users\\tphuo\\OneDrive\\Documents\\Advanced programming for Data Science\\Assignment_3\\assess3_data\\assess3_data\\data\\Engineering\\Job_00016.txt\n",
      "C:\\Users\\tphuo\\OneDrive\\Documents\\Advanced programming for Data Science\\Assignment_3\\assess3_data\\assess3_data\\data\\Engineering\\Job_00017.txt\n",
      "C:\\Users\\tphuo\\OneDrive\\Documents\\Advanced programming for Data Science\\Assignment_3\\assess3_data\\assess3_data\\data\\Engineering\\Job_00018.txt\n",
      "C:\\Users\\tphuo\\OneDrive\\Documents\\Advanced programming for Data Science\\Assignment_3\\assess3_data\\assess3_data\\data\\Engineering\\Job_00019.txt\n",
      "C:\\Users\\tphuo\\OneDrive\\Documents\\Advanced programming for Data Science\\Assignment_3\\assess3_data\\assess3_data\\data\\Engineering\\Job_00020.txt\n",
      "C:\\Users\\tphuo\\OneDrive\\Documents\\Advanced programming for Data Science\\Assignment_3\\assess3_data\\assess3_data\\data\\Engineering\\Job_00021.txt\n",
      "C:\\Users\\tphuo\\OneDrive\\Documents\\Advanced programming for Data Science\\Assignment_3\\assess3_data\\assess3_data\\data\\Engineering\\Job_00022.txt\n",
      "C:\\Users\\tphuo\\OneDrive\\Documents\\Advanced programming for Data Science\\Assignment_3\\assess3_data\\assess3_data\\data\\Engineering\\Job_00023.txt\n",
      "C:\\Users\\tphuo\\OneDrive\\Documents\\Advanced programming for Data Science\\Assignment_3\\assess3_data\\assess3_data\\data\\Engineering\\Job_00024.txt\n",
      "C:\\Users\\tphuo\\OneDrive\\Documents\\Advanced programming for Data Science\\Assignment_3\\assess3_data\\assess3_data\\data\\Engineering\\Job_00025.txt\n",
      "C:\\Users\\tphuo\\OneDrive\\Documents\\Advanced programming for Data Science\\Assignment_3\\assess3_data\\assess3_data\\data\\Engineering\\Job_00026.txt\n",
      "C:\\Users\\tphuo\\OneDrive\\Documents\\Advanced programming for Data Science\\Assignment_3\\assess3_data\\assess3_data\\data\\Engineering\\Job_00027.txt\n",
      "C:\\Users\\tphuo\\OneDrive\\Documents\\Advanced programming for Data Science\\Assignment_3\\assess3_data\\assess3_data\\data\\Engineering\\Job_00028.txt\n",
      "C:\\Users\\tphuo\\OneDrive\\Documents\\Advanced programming for Data Science\\Assignment_3\\assess3_data\\assess3_data\\data\\Engineering\\Job_00029.txt\n",
      "C:\\Users\\tphuo\\OneDrive\\Documents\\Advanced programming for Data Science\\Assignment_3\\assess3_data\\assess3_data\\data\\Engineering\\Job_00030.txt\n",
      "C:\\Users\\tphuo\\OneDrive\\Documents\\Advanced programming for Data Science\\Assignment_3\\assess3_data\\assess3_data\\data\\Engineering\\Job_00031.txt\n",
      "C:\\Users\\tphuo\\OneDrive\\Documents\\Advanced programming for Data Science\\Assignment_3\\assess3_data\\assess3_data\\data\\Engineering\\Job_00032.txt\n",
      "C:\\Users\\tphuo\\OneDrive\\Documents\\Advanced programming for Data Science\\Assignment_3\\assess3_data\\assess3_data\\data\\Engineering\\Job_00033.txt\n",
      "C:\\Users\\tphuo\\OneDrive\\Documents\\Advanced programming for Data Science\\Assignment_3\\assess3_data\\assess3_data\\data\\Engineering\\Job_00034.txt\n",
      "C:\\Users\\tphuo\\OneDrive\\Documents\\Advanced programming for Data Science\\Assignment_3\\assess3_data\\assess3_data\\data\\Engineering\\Job_00035.txt\n",
      "C:\\Users\\tphuo\\OneDrive\\Documents\\Advanced programming for Data Science\\Assignment_3\\assess3_data\\assess3_data\\data\\Engineering\\Job_00036.txt\n",
      "C:\\Users\\tphuo\\OneDrive\\Documents\\Advanced programming for Data Science\\Assignment_3\\assess3_data\\assess3_data\\data\\Engineering\\Job_00037.txt\n",
      "C:\\Users\\tphuo\\OneDrive\\Documents\\Advanced programming for Data Science\\Assignment_3\\assess3_data\\assess3_data\\data\\Engineering\\Job_00038.txt\n",
      "C:\\Users\\tphuo\\OneDrive\\Documents\\Advanced programming for Data Science\\Assignment_3\\assess3_data\\assess3_data\\data\\Engineering\\Job_00039.txt\n",
      "C:\\Users\\tphuo\\OneDrive\\Documents\\Advanced programming for Data Science\\Assignment_3\\assess3_data\\assess3_data\\data\\Engineering\\Job_00040.txt\n",
      "C:\\Users\\tphuo\\OneDrive\\Documents\\Advanced programming for Data Science\\Assignment_3\\assess3_data\\assess3_data\\data\\Engineering\\Job_00041.txt\n",
      "C:\\Users\\tphuo\\OneDrive\\Documents\\Advanced programming for Data Science\\Assignment_3\\assess3_data\\assess3_data\\data\\Engineering\\Job_00042.txt\n",
      "C:\\Users\\tphuo\\OneDrive\\Documents\\Advanced programming for Data Science\\Assignment_3\\assess3_data\\assess3_data\\data\\Engineering\\Job_00043.txt\n",
      "C:\\Users\\tphuo\\OneDrive\\Documents\\Advanced programming for Data Science\\Assignment_3\\assess3_data\\assess3_data\\data\\Engineering\\Job_00044.txt\n",
      "C:\\Users\\tphuo\\OneDrive\\Documents\\Advanced programming for Data Science\\Assignment_3\\assess3_data\\assess3_data\\data\\Engineering\\Job_00045.txt\n",
      "C:\\Users\\tphuo\\OneDrive\\Documents\\Advanced programming for Data Science\\Assignment_3\\assess3_data\\assess3_data\\data\\Engineering\\Job_00046.txt\n",
      "C:\\Users\\tphuo\\OneDrive\\Documents\\Advanced programming for Data Science\\Assignment_3\\assess3_data\\assess3_data\\data\\Engineering\\Job_00047.txt\n",
      "C:\\Users\\tphuo\\OneDrive\\Documents\\Advanced programming for Data Science\\Assignment_3\\assess3_data\\assess3_data\\data\\Engineering\\Job_00048.txt\n",
      "C:\\Users\\tphuo\\OneDrive\\Documents\\Advanced programming for Data Science\\Assignment_3\\assess3_data\\assess3_data\\data\\Engineering\\Job_00049.txt\n",
      "C:\\Users\\tphuo\\OneDrive\\Documents\\Advanced programming for Data Science\\Assignment_3\\assess3_data\\assess3_data\\data\\Engineering\\Job_00050.txt\n",
      "C:\\Users\\tphuo\\OneDrive\\Documents\\Advanced programming for Data Science\\Assignment_3\\assess3_data\\assess3_data\\data\\Engineering\\Job_00051.txt\n",
      "C:\\Users\\tphuo\\OneDrive\\Documents\\Advanced programming for Data Science\\Assignment_3\\assess3_data\\assess3_data\\data\\Engineering\\Job_00052.txt\n",
      "C:\\Users\\tphuo\\OneDrive\\Documents\\Advanced programming for Data Science\\Assignment_3\\assess3_data\\assess3_data\\data\\Engineering\\Job_00053.txt\n",
      "C:\\Users\\tphuo\\OneDrive\\Documents\\Advanced programming for Data Science\\Assignment_3\\assess3_data\\assess3_data\\data\\Engineering\\Job_00054.txt\n",
      "C:\\Users\\tphuo\\OneDrive\\Documents\\Advanced programming for Data Science\\Assignment_3\\assess3_data\\assess3_data\\data\\Engineering\\Job_00055.txt\n",
      "C:\\Users\\tphuo\\OneDrive\\Documents\\Advanced programming for Data Science\\Assignment_3\\assess3_data\\assess3_data\\data\\Engineering\\Job_00056.txt\n",
      "C:\\Users\\tphuo\\OneDrive\\Documents\\Advanced programming for Data Science\\Assignment_3\\assess3_data\\assess3_data\\data\\Engineering\\Job_00057.txt\n",
      "C:\\Users\\tphuo\\OneDrive\\Documents\\Advanced programming for Data Science\\Assignment_3\\assess3_data\\assess3_data\\data\\Engineering\\Job_00058.txt\n",
      "C:\\Users\\tphuo\\OneDrive\\Documents\\Advanced programming for Data Science\\Assignment_3\\assess3_data\\assess3_data\\data\\Engineering\\Job_00059.txt\n",
      "C:\\Users\\tphuo\\OneDrive\\Documents\\Advanced programming for Data Science\\Assignment_3\\assess3_data\\assess3_data\\data\\Engineering\\Job_00060.txt\n",
      "C:\\Users\\tphuo\\OneDrive\\Documents\\Advanced programming for Data Science\\Assignment_3\\assess3_data\\assess3_data\\data\\Engineering\\Job_00061.txt\n",
      "C:\\Users\\tphuo\\OneDrive\\Documents\\Advanced programming for Data Science\\Assignment_3\\assess3_data\\assess3_data\\data\\Engineering\\Job_00062.txt\n",
      "C:\\Users\\tphuo\\OneDrive\\Documents\\Advanced programming for Data Science\\Assignment_3\\assess3_data\\assess3_data\\data\\Engineering\\Job_00063.txt\n",
      "C:\\Users\\tphuo\\OneDrive\\Documents\\Advanced programming for Data Science\\Assignment_3\\assess3_data\\assess3_data\\data\\Engineering\\Job_00064.txt\n",
      "C:\\Users\\tphuo\\OneDrive\\Documents\\Advanced programming for Data Science\\Assignment_3\\assess3_data\\assess3_data\\data\\Engineering\\Job_00065.txt\n",
      "C:\\Users\\tphuo\\OneDrive\\Documents\\Advanced programming for Data Science\\Assignment_3\\assess3_data\\assess3_data\\data\\Engineering\\Job_00066.txt\n",
      "C:\\Users\\tphuo\\OneDrive\\Documents\\Advanced programming for Data Science\\Assignment_3\\assess3_data\\assess3_data\\data\\Engineering\\Job_00067.txt\n",
      "C:\\Users\\tphuo\\OneDrive\\Documents\\Advanced programming for Data Science\\Assignment_3\\assess3_data\\assess3_data\\data\\Engineering\\Job_00068.txt\n",
      "C:\\Users\\tphuo\\OneDrive\\Documents\\Advanced programming for Data Science\\Assignment_3\\assess3_data\\assess3_data\\data\\Engineering\\Job_00069.txt\n",
      "C:\\Users\\tphuo\\OneDrive\\Documents\\Advanced programming for Data Science\\Assignment_3\\assess3_data\\assess3_data\\data\\Engineering\\Job_00070.txt\n",
      "C:\\Users\\tphuo\\OneDrive\\Documents\\Advanced programming for Data Science\\Assignment_3\\assess3_data\\assess3_data\\data\\Engineering\\Job_00071.txt\n",
      "C:\\Users\\tphuo\\OneDrive\\Documents\\Advanced programming for Data Science\\Assignment_3\\assess3_data\\assess3_data\\data\\Engineering\\Job_00072.txt\n",
      "C:\\Users\\tphuo\\OneDrive\\Documents\\Advanced programming for Data Science\\Assignment_3\\assess3_data\\assess3_data\\data\\Engineering\\Job_00073.txt\n",
      "C:\\Users\\tphuo\\OneDrive\\Documents\\Advanced programming for Data Science\\Assignment_3\\assess3_data\\assess3_data\\data\\Engineering\\Job_00074.txt\n",
      "C:\\Users\\tphuo\\OneDrive\\Documents\\Advanced programming for Data Science\\Assignment_3\\assess3_data\\assess3_data\\data\\Engineering\\Job_00075.txt\n",
      "C:\\Users\\tphuo\\OneDrive\\Documents\\Advanced programming for Data Science\\Assignment_3\\assess3_data\\assess3_data\\data\\Engineering\\Job_00076.txt\n",
      "C:\\Users\\tphuo\\OneDrive\\Documents\\Advanced programming for Data Science\\Assignment_3\\assess3_data\\assess3_data\\data\\Engineering\\Job_00077.txt\n",
      "C:\\Users\\tphuo\\OneDrive\\Documents\\Advanced programming for Data Science\\Assignment_3\\assess3_data\\assess3_data\\data\\Engineering\\Job_00078.txt\n",
      "C:\\Users\\tphuo\\OneDrive\\Documents\\Advanced programming for Data Science\\Assignment_3\\assess3_data\\assess3_data\\data\\Engineering\\Job_00079.txt\n",
      "C:\\Users\\tphuo\\OneDrive\\Documents\\Advanced programming for Data Science\\Assignment_3\\assess3_data\\assess3_data\\data\\Engineering\\Job_00080.txt\n",
      "C:\\Users\\tphuo\\OneDrive\\Documents\\Advanced programming for Data Science\\Assignment_3\\assess3_data\\assess3_data\\data\\Engineering\\Job_00081.txt\n",
      "C:\\Users\\tphuo\\OneDrive\\Documents\\Advanced programming for Data Science\\Assignment_3\\assess3_data\\assess3_data\\data\\Engineering\\Job_00082.txt\n",
      "C:\\Users\\tphuo\\OneDrive\\Documents\\Advanced programming for Data Science\\Assignment_3\\assess3_data\\assess3_data\\data\\Engineering\\Job_00083.txt\n",
      "C:\\Users\\tphuo\\OneDrive\\Documents\\Advanced programming for Data Science\\Assignment_3\\assess3_data\\assess3_data\\data\\Engineering\\Job_00084.txt\n",
      "C:\\Users\\tphuo\\OneDrive\\Documents\\Advanced programming for Data Science\\Assignment_3\\assess3_data\\assess3_data\\data\\Engineering\\Job_00085.txt\n",
      "C:\\Users\\tphuo\\OneDrive\\Documents\\Advanced programming for Data Science\\Assignment_3\\assess3_data\\assess3_data\\data\\Engineering\\Job_00086.txt\n",
      "C:\\Users\\tphuo\\OneDrive\\Documents\\Advanced programming for Data Science\\Assignment_3\\assess3_data\\assess3_data\\data\\Engineering\\Job_00087.txt\n",
      "C:\\Users\\tphuo\\OneDrive\\Documents\\Advanced programming for Data Science\\Assignment_3\\assess3_data\\assess3_data\\data\\Engineering\\Job_00088.txt\n",
      "C:\\Users\\tphuo\\OneDrive\\Documents\\Advanced programming for Data Science\\Assignment_3\\assess3_data\\assess3_data\\data\\Engineering\\Job_00089.txt\n",
      "C:\\Users\\tphuo\\OneDrive\\Documents\\Advanced programming for Data Science\\Assignment_3\\assess3_data\\assess3_data\\data\\Engineering\\Job_00090.txt\n",
      "C:\\Users\\tphuo\\OneDrive\\Documents\\Advanced programming for Data Science\\Assignment_3\\assess3_data\\assess3_data\\data\\Engineering\\Job_00091.txt\n",
      "C:\\Users\\tphuo\\OneDrive\\Documents\\Advanced programming for Data Science\\Assignment_3\\assess3_data\\assess3_data\\data\\Engineering\\Job_00092.txt\n",
      "C:\\Users\\tphuo\\OneDrive\\Documents\\Advanced programming for Data Science\\Assignment_3\\assess3_data\\assess3_data\\data\\Engineering\\Job_00093.txt\n",
      "C:\\Users\\tphuo\\OneDrive\\Documents\\Advanced programming for Data Science\\Assignment_3\\assess3_data\\assess3_data\\data\\Engineering\\Job_00094.txt\n",
      "C:\\Users\\tphuo\\OneDrive\\Documents\\Advanced programming for Data Science\\Assignment_3\\assess3_data\\assess3_data\\data\\Engineering\\Job_00095.txt\n",
      "C:\\Users\\tphuo\\OneDrive\\Documents\\Advanced programming for Data Science\\Assignment_3\\assess3_data\\assess3_data\\data\\Engineering\\Job_00096.txt\n",
      "C:\\Users\\tphuo\\OneDrive\\Documents\\Advanced programming for Data Science\\Assignment_3\\assess3_data\\assess3_data\\data\\Engineering\\Job_00097.txt\n",
      "C:\\Users\\tphuo\\OneDrive\\Documents\\Advanced programming for Data Science\\Assignment_3\\assess3_data\\assess3_data\\data\\Engineering\\Job_00098.txt\n",
      "C:\\Users\\tphuo\\OneDrive\\Documents\\Advanced programming for Data Science\\Assignment_3\\assess3_data\\assess3_data\\data\\Engineering\\Job_00099.txt\n",
      "C:\\Users\\tphuo\\OneDrive\\Documents\\Advanced programming for Data Science\\Assignment_3\\assess3_data\\assess3_data\\data\\Engineering\\Job_00100.txt\n",
      "C:\\Users\\tphuo\\OneDrive\\Documents\\Advanced programming for Data Science\\Assignment_3\\assess3_data\\assess3_data\\data\\Engineering\\Job_00101.txt\n",
      "C:\\Users\\tphuo\\OneDrive\\Documents\\Advanced programming for Data Science\\Assignment_3\\assess3_data\\assess3_data\\data\\Engineering\\Job_00102.txt\n",
      "C:\\Users\\tphuo\\OneDrive\\Documents\\Advanced programming for Data Science\\Assignment_3\\assess3_data\\assess3_data\\data\\Engineering\\Job_00103.txt\n",
      "C:\\Users\\tphuo\\OneDrive\\Documents\\Advanced programming for Data Science\\Assignment_3\\assess3_data\\assess3_data\\data\\Engineering\\Job_00104.txt\n",
      "C:\\Users\\tphuo\\OneDrive\\Documents\\Advanced programming for Data Science\\Assignment_3\\assess3_data\\assess3_data\\data\\Engineering\\Job_00105.txt\n",
      "C:\\Users\\tphuo\\OneDrive\\Documents\\Advanced programming for Data Science\\Assignment_3\\assess3_data\\assess3_data\\data\\Engineering\\Job_00106.txt\n",
      "C:\\Users\\tphuo\\OneDrive\\Documents\\Advanced programming for Data Science\\Assignment_3\\assess3_data\\assess3_data\\data\\Engineering\\Job_00107.txt\n",
      "C:\\Users\\tphuo\\OneDrive\\Documents\\Advanced programming for Data Science\\Assignment_3\\assess3_data\\assess3_data\\data\\Engineering\\Job_00108.txt\n",
      "C:\\Users\\tphuo\\OneDrive\\Documents\\Advanced programming for Data Science\\Assignment_3\\assess3_data\\assess3_data\\data\\Engineering\\Job_00109.txt\n",
      "C:\\Users\\tphuo\\OneDrive\\Documents\\Advanced programming for Data Science\\Assignment_3\\assess3_data\\assess3_data\\data\\Engineering\\Job_00110.txt\n",
      "C:\\Users\\tphuo\\OneDrive\\Documents\\Advanced programming for Data Science\\Assignment_3\\assess3_data\\assess3_data\\data\\Engineering\\Job_00111.txt\n",
      "C:\\Users\\tphuo\\OneDrive\\Documents\\Advanced programming for Data Science\\Assignment_3\\assess3_data\\assess3_data\\data\\Engineering\\Job_00112.txt\n",
      "C:\\Users\\tphuo\\OneDrive\\Documents\\Advanced programming for Data Science\\Assignment_3\\assess3_data\\assess3_data\\data\\Engineering\\Job_00113.txt\n",
      "C:\\Users\\tphuo\\OneDrive\\Documents\\Advanced programming for Data Science\\Assignment_3\\assess3_data\\assess3_data\\data\\Engineering\\Job_00114.txt\n",
      "C:\\Users\\tphuo\\OneDrive\\Documents\\Advanced programming for Data Science\\Assignment_3\\assess3_data\\assess3_data\\data\\Engineering\\Job_00115.txt\n",
      "C:\\Users\\tphuo\\OneDrive\\Documents\\Advanced programming for Data Science\\Assignment_3\\assess3_data\\assess3_data\\data\\Engineering\\Job_00116.txt\n",
      "C:\\Users\\tphuo\\OneDrive\\Documents\\Advanced programming for Data Science\\Assignment_3\\assess3_data\\assess3_data\\data\\Engineering\\Job_00117.txt\n",
      "C:\\Users\\tphuo\\OneDrive\\Documents\\Advanced programming for Data Science\\Assignment_3\\assess3_data\\assess3_data\\data\\Engineering\\Job_00118.txt\n",
      "C:\\Users\\tphuo\\OneDrive\\Documents\\Advanced programming for Data Science\\Assignment_3\\assess3_data\\assess3_data\\data\\Engineering\\Job_00119.txt\n",
      "C:\\Users\\tphuo\\OneDrive\\Documents\\Advanced programming for Data Science\\Assignment_3\\assess3_data\\assess3_data\\data\\Engineering\\Job_00120.txt\n",
      "C:\\Users\\tphuo\\OneDrive\\Documents\\Advanced programming for Data Science\\Assignment_3\\assess3_data\\assess3_data\\data\\Engineering\\Job_00121.txt\n",
      "C:\\Users\\tphuo\\OneDrive\\Documents\\Advanced programming for Data Science\\Assignment_3\\assess3_data\\assess3_data\\data\\Engineering\\Job_00122.txt\n",
      "C:\\Users\\tphuo\\OneDrive\\Documents\\Advanced programming for Data Science\\Assignment_3\\assess3_data\\assess3_data\\data\\Engineering\\Job_00123.txt\n",
      "C:\\Users\\tphuo\\OneDrive\\Documents\\Advanced programming for Data Science\\Assignment_3\\assess3_data\\assess3_data\\data\\Engineering\\Job_00124.txt\n",
      "C:\\Users\\tphuo\\OneDrive\\Documents\\Advanced programming for Data Science\\Assignment_3\\assess3_data\\assess3_data\\data\\Engineering\\Job_00125.txt\n",
      "C:\\Users\\tphuo\\OneDrive\\Documents\\Advanced programming for Data Science\\Assignment_3\\assess3_data\\assess3_data\\data\\Engineering\\Job_00126.txt\n",
      "C:\\Users\\tphuo\\OneDrive\\Documents\\Advanced programming for Data Science\\Assignment_3\\assess3_data\\assess3_data\\data\\Engineering\\Job_00127.txt\n",
      "C:\\Users\\tphuo\\OneDrive\\Documents\\Advanced programming for Data Science\\Assignment_3\\assess3_data\\assess3_data\\data\\Engineering\\Job_00128.txt\n",
      "C:\\Users\\tphuo\\OneDrive\\Documents\\Advanced programming for Data Science\\Assignment_3\\assess3_data\\assess3_data\\data\\Engineering\\Job_00129.txt\n",
      "C:\\Users\\tphuo\\OneDrive\\Documents\\Advanced programming for Data Science\\Assignment_3\\assess3_data\\assess3_data\\data\\Engineering\\Job_00130.txt\n",
      "C:\\Users\\tphuo\\OneDrive\\Documents\\Advanced programming for Data Science\\Assignment_3\\assess3_data\\assess3_data\\data\\Engineering\\Job_00131.txt\n",
      "C:\\Users\\tphuo\\OneDrive\\Documents\\Advanced programming for Data Science\\Assignment_3\\assess3_data\\assess3_data\\data\\Engineering\\Job_00132.txt\n",
      "C:\\Users\\tphuo\\OneDrive\\Documents\\Advanced programming for Data Science\\Assignment_3\\assess3_data\\assess3_data\\data\\Engineering\\Job_00133.txt\n",
      "C:\\Users\\tphuo\\OneDrive\\Documents\\Advanced programming for Data Science\\Assignment_3\\assess3_data\\assess3_data\\data\\Engineering\\Job_00134.txt\n",
      "C:\\Users\\tphuo\\OneDrive\\Documents\\Advanced programming for Data Science\\Assignment_3\\assess3_data\\assess3_data\\data\\Engineering\\Job_00135.txt\n",
      "C:\\Users\\tphuo\\OneDrive\\Documents\\Advanced programming for Data Science\\Assignment_3\\assess3_data\\assess3_data\\data\\Engineering\\Job_00136.txt\n",
      "C:\\Users\\tphuo\\OneDrive\\Documents\\Advanced programming for Data Science\\Assignment_3\\assess3_data\\assess3_data\\data\\Engineering\\Job_00137.txt\n",
      "C:\\Users\\tphuo\\OneDrive\\Documents\\Advanced programming for Data Science\\Assignment_3\\assess3_data\\assess3_data\\data\\Engineering\\Job_00138.txt\n",
      "C:\\Users\\tphuo\\OneDrive\\Documents\\Advanced programming for Data Science\\Assignment_3\\assess3_data\\assess3_data\\data\\Engineering\\Job_00139.txt\n",
      "C:\\Users\\tphuo\\OneDrive\\Documents\\Advanced programming for Data Science\\Assignment_3\\assess3_data\\assess3_data\\data\\Engineering\\Job_00140.txt\n",
      "C:\\Users\\tphuo\\OneDrive\\Documents\\Advanced programming for Data Science\\Assignment_3\\assess3_data\\assess3_data\\data\\Engineering\\Job_00141.txt\n",
      "C:\\Users\\tphuo\\OneDrive\\Documents\\Advanced programming for Data Science\\Assignment_3\\assess3_data\\assess3_data\\data\\Engineering\\Job_00142.txt\n",
      "C:\\Users\\tphuo\\OneDrive\\Documents\\Advanced programming for Data Science\\Assignment_3\\assess3_data\\assess3_data\\data\\Engineering\\Job_00143.txt\n",
      "C:\\Users\\tphuo\\OneDrive\\Documents\\Advanced programming for Data Science\\Assignment_3\\assess3_data\\assess3_data\\data\\Engineering\\Job_00144.txt\n",
      "C:\\Users\\tphuo\\OneDrive\\Documents\\Advanced programming for Data Science\\Assignment_3\\assess3_data\\assess3_data\\data\\Engineering\\Job_00145.txt\n",
      "C:\\Users\\tphuo\\OneDrive\\Documents\\Advanced programming for Data Science\\Assignment_3\\assess3_data\\assess3_data\\data\\Engineering\\Job_00146.txt\n",
      "C:\\Users\\tphuo\\OneDrive\\Documents\\Advanced programming for Data Science\\Assignment_3\\assess3_data\\assess3_data\\data\\Engineering\\Job_00147.txt\n",
      "C:\\Users\\tphuo\\OneDrive\\Documents\\Advanced programming for Data Science\\Assignment_3\\assess3_data\\assess3_data\\data\\Engineering\\Job_00148.txt\n",
      "C:\\Users\\tphuo\\OneDrive\\Documents\\Advanced programming for Data Science\\Assignment_3\\assess3_data\\assess3_data\\data\\Engineering\\Job_00149.txt\n",
      "C:\\Users\\tphuo\\OneDrive\\Documents\\Advanced programming for Data Science\\Assignment_3\\assess3_data\\assess3_data\\data\\Engineering\\Job_00150.txt\n",
      "C:\\Users\\tphuo\\OneDrive\\Documents\\Advanced programming for Data Science\\Assignment_3\\assess3_data\\assess3_data\\data\\Engineering\\Job_00151.txt\n",
      "C:\\Users\\tphuo\\OneDrive\\Documents\\Advanced programming for Data Science\\Assignment_3\\assess3_data\\assess3_data\\data\\Engineering\\Job_00152.txt\n",
      "C:\\Users\\tphuo\\OneDrive\\Documents\\Advanced programming for Data Science\\Assignment_3\\assess3_data\\assess3_data\\data\\Engineering\\Job_00153.txt\n",
      "C:\\Users\\tphuo\\OneDrive\\Documents\\Advanced programming for Data Science\\Assignment_3\\assess3_data\\assess3_data\\data\\Engineering\\Job_00154.txt\n",
      "C:\\Users\\tphuo\\OneDrive\\Documents\\Advanced programming for Data Science\\Assignment_3\\assess3_data\\assess3_data\\data\\Engineering\\Job_00155.txt\n",
      "C:\\Users\\tphuo\\OneDrive\\Documents\\Advanced programming for Data Science\\Assignment_3\\assess3_data\\assess3_data\\data\\Engineering\\Job_00156.txt\n",
      "C:\\Users\\tphuo\\OneDrive\\Documents\\Advanced programming for Data Science\\Assignment_3\\assess3_data\\assess3_data\\data\\Engineering\\Job_00157.txt\n",
      "C:\\Users\\tphuo\\OneDrive\\Documents\\Advanced programming for Data Science\\Assignment_3\\assess3_data\\assess3_data\\data\\Engineering\\Job_00158.txt\n",
      "C:\\Users\\tphuo\\OneDrive\\Documents\\Advanced programming for Data Science\\Assignment_3\\assess3_data\\assess3_data\\data\\Engineering\\Job_00159.txt\n",
      "C:\\Users\\tphuo\\OneDrive\\Documents\\Advanced programming for Data Science\\Assignment_3\\assess3_data\\assess3_data\\data\\Engineering\\Job_00160.txt\n",
      "C:\\Users\\tphuo\\OneDrive\\Documents\\Advanced programming for Data Science\\Assignment_3\\assess3_data\\assess3_data\\data\\Engineering\\Job_00161.txt\n",
      "C:\\Users\\tphuo\\OneDrive\\Documents\\Advanced programming for Data Science\\Assignment_3\\assess3_data\\assess3_data\\data\\Engineering\\Job_00162.txt\n",
      "C:\\Users\\tphuo\\OneDrive\\Documents\\Advanced programming for Data Science\\Assignment_3\\assess3_data\\assess3_data\\data\\Engineering\\Job_00163.txt\n",
      "C:\\Users\\tphuo\\OneDrive\\Documents\\Advanced programming for Data Science\\Assignment_3\\assess3_data\\assess3_data\\data\\Engineering\\Job_00164.txt\n",
      "C:\\Users\\tphuo\\OneDrive\\Documents\\Advanced programming for Data Science\\Assignment_3\\assess3_data\\assess3_data\\data\\Engineering\\Job_00165.txt\n",
      "C:\\Users\\tphuo\\OneDrive\\Documents\\Advanced programming for Data Science\\Assignment_3\\assess3_data\\assess3_data\\data\\Engineering\\Job_00166.txt\n",
      "C:\\Users\\tphuo\\OneDrive\\Documents\\Advanced programming for Data Science\\Assignment_3\\assess3_data\\assess3_data\\data\\Engineering\\Job_00167.txt\n",
      "C:\\Users\\tphuo\\OneDrive\\Documents\\Advanced programming for Data Science\\Assignment_3\\assess3_data\\assess3_data\\data\\Engineering\\Job_00168.txt\n",
      "C:\\Users\\tphuo\\OneDrive\\Documents\\Advanced programming for Data Science\\Assignment_3\\assess3_data\\assess3_data\\data\\Engineering\\Job_00169.txt\n",
      "C:\\Users\\tphuo\\OneDrive\\Documents\\Advanced programming for Data Science\\Assignment_3\\assess3_data\\assess3_data\\data\\Engineering\\Job_00170.txt\n",
      "C:\\Users\\tphuo\\OneDrive\\Documents\\Advanced programming for Data Science\\Assignment_3\\assess3_data\\assess3_data\\data\\Engineering\\Job_00171.txt\n",
      "C:\\Users\\tphuo\\OneDrive\\Documents\\Advanced programming for Data Science\\Assignment_3\\assess3_data\\assess3_data\\data\\Engineering\\Job_00172.txt\n",
      "C:\\Users\\tphuo\\OneDrive\\Documents\\Advanced programming for Data Science\\Assignment_3\\assess3_data\\assess3_data\\data\\Engineering\\Job_00173.txt\n",
      "C:\\Users\\tphuo\\OneDrive\\Documents\\Advanced programming for Data Science\\Assignment_3\\assess3_data\\assess3_data\\data\\Engineering\\Job_00174.txt\n",
      "C:\\Users\\tphuo\\OneDrive\\Documents\\Advanced programming for Data Science\\Assignment_3\\assess3_data\\assess3_data\\data\\Engineering\\Job_00175.txt\n",
      "C:\\Users\\tphuo\\OneDrive\\Documents\\Advanced programming for Data Science\\Assignment_3\\assess3_data\\assess3_data\\data\\Engineering\\Job_00176.txt\n",
      "C:\\Users\\tphuo\\OneDrive\\Documents\\Advanced programming for Data Science\\Assignment_3\\assess3_data\\assess3_data\\data\\Engineering\\Job_00177.txt\n",
      "C:\\Users\\tphuo\\OneDrive\\Documents\\Advanced programming for Data Science\\Assignment_3\\assess3_data\\assess3_data\\data\\Engineering\\Job_00178.txt\n",
      "C:\\Users\\tphuo\\OneDrive\\Documents\\Advanced programming for Data Science\\Assignment_3\\assess3_data\\assess3_data\\data\\Engineering\\Job_00179.txt\n",
      "C:\\Users\\tphuo\\OneDrive\\Documents\\Advanced programming for Data Science\\Assignment_3\\assess3_data\\assess3_data\\data\\Engineering\\Job_00180.txt\n",
      "C:\\Users\\tphuo\\OneDrive\\Documents\\Advanced programming for Data Science\\Assignment_3\\assess3_data\\assess3_data\\data\\Engineering\\Job_00181.txt\n",
      "C:\\Users\\tphuo\\OneDrive\\Documents\\Advanced programming for Data Science\\Assignment_3\\assess3_data\\assess3_data\\data\\Engineering\\Job_00182.txt\n",
      "C:\\Users\\tphuo\\OneDrive\\Documents\\Advanced programming for Data Science\\Assignment_3\\assess3_data\\assess3_data\\data\\Engineering\\Job_00183.txt\n",
      "C:\\Users\\tphuo\\OneDrive\\Documents\\Advanced programming for Data Science\\Assignment_3\\assess3_data\\assess3_data\\data\\Engineering\\Job_00184.txt\n",
      "C:\\Users\\tphuo\\OneDrive\\Documents\\Advanced programming for Data Science\\Assignment_3\\assess3_data\\assess3_data\\data\\Engineering\\Job_00185.txt\n",
      "C:\\Users\\tphuo\\OneDrive\\Documents\\Advanced programming for Data Science\\Assignment_3\\assess3_data\\assess3_data\\data\\Engineering\\Job_00186.txt\n",
      "C:\\Users\\tphuo\\OneDrive\\Documents\\Advanced programming for Data Science\\Assignment_3\\assess3_data\\assess3_data\\data\\Engineering\\Job_00187.txt\n",
      "C:\\Users\\tphuo\\OneDrive\\Documents\\Advanced programming for Data Science\\Assignment_3\\assess3_data\\assess3_data\\data\\Engineering\\Job_00188.txt\n",
      "C:\\Users\\tphuo\\OneDrive\\Documents\\Advanced programming for Data Science\\Assignment_3\\assess3_data\\assess3_data\\data\\Engineering\\Job_00189.txt\n",
      "C:\\Users\\tphuo\\OneDrive\\Documents\\Advanced programming for Data Science\\Assignment_3\\assess3_data\\assess3_data\\data\\Engineering\\Job_00190.txt\n",
      "C:\\Users\\tphuo\\OneDrive\\Documents\\Advanced programming for Data Science\\Assignment_3\\assess3_data\\assess3_data\\data\\Engineering\\Job_00191.txt\n",
      "C:\\Users\\tphuo\\OneDrive\\Documents\\Advanced programming for Data Science\\Assignment_3\\assess3_data\\assess3_data\\data\\Engineering\\Job_00192.txt\n",
      "C:\\Users\\tphuo\\OneDrive\\Documents\\Advanced programming for Data Science\\Assignment_3\\assess3_data\\assess3_data\\data\\Engineering\\Job_00193.txt\n",
      "C:\\Users\\tphuo\\OneDrive\\Documents\\Advanced programming for Data Science\\Assignment_3\\assess3_data\\assess3_data\\data\\Engineering\\Job_00194.txt\n",
      "C:\\Users\\tphuo\\OneDrive\\Documents\\Advanced programming for Data Science\\Assignment_3\\assess3_data\\assess3_data\\data\\Engineering\\Job_00195.txt\n",
      "C:\\Users\\tphuo\\OneDrive\\Documents\\Advanced programming for Data Science\\Assignment_3\\assess3_data\\assess3_data\\data\\Engineering\\Job_00196.txt\n",
      "C:\\Users\\tphuo\\OneDrive\\Documents\\Advanced programming for Data Science\\Assignment_3\\assess3_data\\assess3_data\\data\\Engineering\\Job_00197.txt\n",
      "C:\\Users\\tphuo\\OneDrive\\Documents\\Advanced programming for Data Science\\Assignment_3\\assess3_data\\assess3_data\\data\\Engineering\\Job_00198.txt\n",
      "C:\\Users\\tphuo\\OneDrive\\Documents\\Advanced programming for Data Science\\Assignment_3\\assess3_data\\assess3_data\\data\\Engineering\\Job_00199.txt\n",
      "C:\\Users\\tphuo\\OneDrive\\Documents\\Advanced programming for Data Science\\Assignment_3\\assess3_data\\assess3_data\\data\\Engineering\\Job_00200.txt\n",
      "C:\\Users\\tphuo\\OneDrive\\Documents\\Advanced programming for Data Science\\Assignment_3\\assess3_data\\assess3_data\\data\\Engineering\\Job_00201.txt\n",
      "C:\\Users\\tphuo\\OneDrive\\Documents\\Advanced programming for Data Science\\Assignment_3\\assess3_data\\assess3_data\\data\\Engineering\\Job_00202.txt\n",
      "C:\\Users\\tphuo\\OneDrive\\Documents\\Advanced programming for Data Science\\Assignment_3\\assess3_data\\assess3_data\\data\\Engineering\\Job_00203.txt\n",
      "C:\\Users\\tphuo\\OneDrive\\Documents\\Advanced programming for Data Science\\Assignment_3\\assess3_data\\assess3_data\\data\\Engineering\\Job_00204.txt\n",
      "C:\\Users\\tphuo\\OneDrive\\Documents\\Advanced programming for Data Science\\Assignment_3\\assess3_data\\assess3_data\\data\\Engineering\\Job_00205.txt\n",
      "C:\\Users\\tphuo\\OneDrive\\Documents\\Advanced programming for Data Science\\Assignment_3\\assess3_data\\assess3_data\\data\\Engineering\\Job_00206.txt\n",
      "C:\\Users\\tphuo\\OneDrive\\Documents\\Advanced programming for Data Science\\Assignment_3\\assess3_data\\assess3_data\\data\\Engineering\\Job_00207.txt\n",
      "C:\\Users\\tphuo\\OneDrive\\Documents\\Advanced programming for Data Science\\Assignment_3\\assess3_data\\assess3_data\\data\\Engineering\\Job_00208.txt\n",
      "C:\\Users\\tphuo\\OneDrive\\Documents\\Advanced programming for Data Science\\Assignment_3\\assess3_data\\assess3_data\\data\\Engineering\\Job_00209.txt\n",
      "C:\\Users\\tphuo\\OneDrive\\Documents\\Advanced programming for Data Science\\Assignment_3\\assess3_data\\assess3_data\\data\\Engineering\\Job_00210.txt\n",
      "C:\\Users\\tphuo\\OneDrive\\Documents\\Advanced programming for Data Science\\Assignment_3\\assess3_data\\assess3_data\\data\\Engineering\\Job_00211.txt\n",
      "C:\\Users\\tphuo\\OneDrive\\Documents\\Advanced programming for Data Science\\Assignment_3\\assess3_data\\assess3_data\\data\\Engineering\\Job_00212.txt\n",
      "C:\\Users\\tphuo\\OneDrive\\Documents\\Advanced programming for Data Science\\Assignment_3\\assess3_data\\assess3_data\\data\\Engineering\\Job_00213.txt\n",
      "C:\\Users\\tphuo\\OneDrive\\Documents\\Advanced programming for Data Science\\Assignment_3\\assess3_data\\assess3_data\\data\\Engineering\\Job_00214.txt\n",
      "C:\\Users\\tphuo\\OneDrive\\Documents\\Advanced programming for Data Science\\Assignment_3\\assess3_data\\assess3_data\\data\\Engineering\\Job_00215.txt\n",
      "C:\\Users\\tphuo\\OneDrive\\Documents\\Advanced programming for Data Science\\Assignment_3\\assess3_data\\assess3_data\\data\\Engineering\\Job_00216.txt\n",
      "C:\\Users\\tphuo\\OneDrive\\Documents\\Advanced programming for Data Science\\Assignment_3\\assess3_data\\assess3_data\\data\\Engineering\\Job_00217.txt\n",
      "C:\\Users\\tphuo\\OneDrive\\Documents\\Advanced programming for Data Science\\Assignment_3\\assess3_data\\assess3_data\\data\\Engineering\\Job_00218.txt\n",
      "C:\\Users\\tphuo\\OneDrive\\Documents\\Advanced programming for Data Science\\Assignment_3\\assess3_data\\assess3_data\\data\\Engineering\\Job_00219.txt\n",
      "C:\\Users\\tphuo\\OneDrive\\Documents\\Advanced programming for Data Science\\Assignment_3\\assess3_data\\assess3_data\\data\\Engineering\\Job_00220.txt\n",
      "C:\\Users\\tphuo\\OneDrive\\Documents\\Advanced programming for Data Science\\Assignment_3\\assess3_data\\assess3_data\\data\\Engineering\\Job_00221.txt\n",
      "C:\\Users\\tphuo\\OneDrive\\Documents\\Advanced programming for Data Science\\Assignment_3\\assess3_data\\assess3_data\\data\\Engineering\\Job_00222.txt\n",
      "C:\\Users\\tphuo\\OneDrive\\Documents\\Advanced programming for Data Science\\Assignment_3\\assess3_data\\assess3_data\\data\\Engineering\\Job_00223.txt\n",
      "C:\\Users\\tphuo\\OneDrive\\Documents\\Advanced programming for Data Science\\Assignment_3\\assess3_data\\assess3_data\\data\\Engineering\\Job_00224.txt\n",
      "C:\\Users\\tphuo\\OneDrive\\Documents\\Advanced programming for Data Science\\Assignment_3\\assess3_data\\assess3_data\\data\\Engineering\\Job_00225.txt\n",
      "C:\\Users\\tphuo\\OneDrive\\Documents\\Advanced programming for Data Science\\Assignment_3\\assess3_data\\assess3_data\\data\\Engineering\\Job_00226.txt\n",
      "C:\\Users\\tphuo\\OneDrive\\Documents\\Advanced programming for Data Science\\Assignment_3\\assess3_data\\assess3_data\\data\\Engineering\\Job_00227.txt\n",
      "C:\\Users\\tphuo\\OneDrive\\Documents\\Advanced programming for Data Science\\Assignment_3\\assess3_data\\assess3_data\\data\\Engineering\\Job_00228.txt\n",
      "C:\\Users\\tphuo\\OneDrive\\Documents\\Advanced programming for Data Science\\Assignment_3\\assess3_data\\assess3_data\\data\\Engineering\\Job_00229.txt\n",
      "C:\\Users\\tphuo\\OneDrive\\Documents\\Advanced programming for Data Science\\Assignment_3\\assess3_data\\assess3_data\\data\\Engineering\\Job_00230.txt\n",
      "C:\\Users\\tphuo\\OneDrive\\Documents\\Advanced programming for Data Science\\Assignment_3\\assess3_data\\assess3_data\\data\\Engineering\\Job_00231.txt\n",
      "C:\\Users\\tphuo\\OneDrive\\Documents\\Advanced programming for Data Science\\Assignment_3\\assess3_data\\assess3_data\\data\\Healthcare_Nursing\n",
      "C:\\Users\\tphuo\\OneDrive\\Documents\\Advanced programming for Data Science\\Assignment_3\\assess3_data\\assess3_data\\data\\Healthcare_Nursing\\Job_00423.txt\n",
      "C:\\Users\\tphuo\\OneDrive\\Documents\\Advanced programming for Data Science\\Assignment_3\\assess3_data\\assess3_data\\data\\Healthcare_Nursing\\Job_00424.txt\n",
      "C:\\Users\\tphuo\\OneDrive\\Documents\\Advanced programming for Data Science\\Assignment_3\\assess3_data\\assess3_data\\data\\Healthcare_Nursing\\Job_00425.txt\n",
      "C:\\Users\\tphuo\\OneDrive\\Documents\\Advanced programming for Data Science\\Assignment_3\\assess3_data\\assess3_data\\data\\Healthcare_Nursing\\Job_00426.txt\n",
      "C:\\Users\\tphuo\\OneDrive\\Documents\\Advanced programming for Data Science\\Assignment_3\\assess3_data\\assess3_data\\data\\Healthcare_Nursing\\Job_00427.txt\n",
      "C:\\Users\\tphuo\\OneDrive\\Documents\\Advanced programming for Data Science\\Assignment_3\\assess3_data\\assess3_data\\data\\Healthcare_Nursing\\Job_00428.txt\n",
      "C:\\Users\\tphuo\\OneDrive\\Documents\\Advanced programming for Data Science\\Assignment_3\\assess3_data\\assess3_data\\data\\Healthcare_Nursing\\Job_00429.txt\n",
      "C:\\Users\\tphuo\\OneDrive\\Documents\\Advanced programming for Data Science\\Assignment_3\\assess3_data\\assess3_data\\data\\Healthcare_Nursing\\Job_00430.txt\n",
      "C:\\Users\\tphuo\\OneDrive\\Documents\\Advanced programming for Data Science\\Assignment_3\\assess3_data\\assess3_data\\data\\Healthcare_Nursing\\Job_00431.txt\n",
      "C:\\Users\\tphuo\\OneDrive\\Documents\\Advanced programming for Data Science\\Assignment_3\\assess3_data\\assess3_data\\data\\Healthcare_Nursing\\Job_00432.txt\n",
      "C:\\Users\\tphuo\\OneDrive\\Documents\\Advanced programming for Data Science\\Assignment_3\\assess3_data\\assess3_data\\data\\Healthcare_Nursing\\Job_00433.txt\n",
      "C:\\Users\\tphuo\\OneDrive\\Documents\\Advanced programming for Data Science\\Assignment_3\\assess3_data\\assess3_data\\data\\Healthcare_Nursing\\Job_00434.txt\n",
      "C:\\Users\\tphuo\\OneDrive\\Documents\\Advanced programming for Data Science\\Assignment_3\\assess3_data\\assess3_data\\data\\Healthcare_Nursing\\Job_00435.txt\n",
      "C:\\Users\\tphuo\\OneDrive\\Documents\\Advanced programming for Data Science\\Assignment_3\\assess3_data\\assess3_data\\data\\Healthcare_Nursing\\Job_00436.txt\n",
      "C:\\Users\\tphuo\\OneDrive\\Documents\\Advanced programming for Data Science\\Assignment_3\\assess3_data\\assess3_data\\data\\Healthcare_Nursing\\Job_00437.txt\n",
      "C:\\Users\\tphuo\\OneDrive\\Documents\\Advanced programming for Data Science\\Assignment_3\\assess3_data\\assess3_data\\data\\Healthcare_Nursing\\Job_00438.txt\n",
      "C:\\Users\\tphuo\\OneDrive\\Documents\\Advanced programming for Data Science\\Assignment_3\\assess3_data\\assess3_data\\data\\Healthcare_Nursing\\Job_00439.txt\n",
      "C:\\Users\\tphuo\\OneDrive\\Documents\\Advanced programming for Data Science\\Assignment_3\\assess3_data\\assess3_data\\data\\Healthcare_Nursing\\Job_00440.txt\n",
      "C:\\Users\\tphuo\\OneDrive\\Documents\\Advanced programming for Data Science\\Assignment_3\\assess3_data\\assess3_data\\data\\Healthcare_Nursing\\Job_00441.txt\n",
      "C:\\Users\\tphuo\\OneDrive\\Documents\\Advanced programming for Data Science\\Assignment_3\\assess3_data\\assess3_data\\data\\Healthcare_Nursing\\Job_00442.txt\n",
      "C:\\Users\\tphuo\\OneDrive\\Documents\\Advanced programming for Data Science\\Assignment_3\\assess3_data\\assess3_data\\data\\Healthcare_Nursing\\Job_00443.txt\n",
      "C:\\Users\\tphuo\\OneDrive\\Documents\\Advanced programming for Data Science\\Assignment_3\\assess3_data\\assess3_data\\data\\Healthcare_Nursing\\Job_00444.txt\n",
      "C:\\Users\\tphuo\\OneDrive\\Documents\\Advanced programming for Data Science\\Assignment_3\\assess3_data\\assess3_data\\data\\Healthcare_Nursing\\Job_00445.txt\n",
      "C:\\Users\\tphuo\\OneDrive\\Documents\\Advanced programming for Data Science\\Assignment_3\\assess3_data\\assess3_data\\data\\Healthcare_Nursing\\Job_00446.txt\n",
      "C:\\Users\\tphuo\\OneDrive\\Documents\\Advanced programming for Data Science\\Assignment_3\\assess3_data\\assess3_data\\data\\Healthcare_Nursing\\Job_00447.txt\n",
      "C:\\Users\\tphuo\\OneDrive\\Documents\\Advanced programming for Data Science\\Assignment_3\\assess3_data\\assess3_data\\data\\Healthcare_Nursing\\Job_00448.txt\n",
      "C:\\Users\\tphuo\\OneDrive\\Documents\\Advanced programming for Data Science\\Assignment_3\\assess3_data\\assess3_data\\data\\Healthcare_Nursing\\Job_00449.txt\n",
      "C:\\Users\\tphuo\\OneDrive\\Documents\\Advanced programming for Data Science\\Assignment_3\\assess3_data\\assess3_data\\data\\Healthcare_Nursing\\Job_00450.txt\n",
      "C:\\Users\\tphuo\\OneDrive\\Documents\\Advanced programming for Data Science\\Assignment_3\\assess3_data\\assess3_data\\data\\Healthcare_Nursing\\Job_00451.txt\n",
      "C:\\Users\\tphuo\\OneDrive\\Documents\\Advanced programming for Data Science\\Assignment_3\\assess3_data\\assess3_data\\data\\Healthcare_Nursing\\Job_00452.txt\n",
      "C:\\Users\\tphuo\\OneDrive\\Documents\\Advanced programming for Data Science\\Assignment_3\\assess3_data\\assess3_data\\data\\Healthcare_Nursing\\Job_00453.txt\n",
      "C:\\Users\\tphuo\\OneDrive\\Documents\\Advanced programming for Data Science\\Assignment_3\\assess3_data\\assess3_data\\data\\Healthcare_Nursing\\Job_00454.txt\n",
      "C:\\Users\\tphuo\\OneDrive\\Documents\\Advanced programming for Data Science\\Assignment_3\\assess3_data\\assess3_data\\data\\Healthcare_Nursing\\Job_00455.txt\n",
      "C:\\Users\\tphuo\\OneDrive\\Documents\\Advanced programming for Data Science\\Assignment_3\\assess3_data\\assess3_data\\data\\Healthcare_Nursing\\Job_00456.txt\n",
      "C:\\Users\\tphuo\\OneDrive\\Documents\\Advanced programming for Data Science\\Assignment_3\\assess3_data\\assess3_data\\data\\Healthcare_Nursing\\Job_00457.txt\n",
      "C:\\Users\\tphuo\\OneDrive\\Documents\\Advanced programming for Data Science\\Assignment_3\\assess3_data\\assess3_data\\data\\Healthcare_Nursing\\Job_00458.txt\n",
      "C:\\Users\\tphuo\\OneDrive\\Documents\\Advanced programming for Data Science\\Assignment_3\\assess3_data\\assess3_data\\data\\Healthcare_Nursing\\Job_00459.txt\n",
      "C:\\Users\\tphuo\\OneDrive\\Documents\\Advanced programming for Data Science\\Assignment_3\\assess3_data\\assess3_data\\data\\Healthcare_Nursing\\Job_00460.txt\n",
      "C:\\Users\\tphuo\\OneDrive\\Documents\\Advanced programming for Data Science\\Assignment_3\\assess3_data\\assess3_data\\data\\Healthcare_Nursing\\Job_00461.txt\n",
      "C:\\Users\\tphuo\\OneDrive\\Documents\\Advanced programming for Data Science\\Assignment_3\\assess3_data\\assess3_data\\data\\Healthcare_Nursing\\Job_00462.txt\n",
      "C:\\Users\\tphuo\\OneDrive\\Documents\\Advanced programming for Data Science\\Assignment_3\\assess3_data\\assess3_data\\data\\Healthcare_Nursing\\Job_00463.txt\n",
      "C:\\Users\\tphuo\\OneDrive\\Documents\\Advanced programming for Data Science\\Assignment_3\\assess3_data\\assess3_data\\data\\Healthcare_Nursing\\Job_00464.txt\n",
      "C:\\Users\\tphuo\\OneDrive\\Documents\\Advanced programming for Data Science\\Assignment_3\\assess3_data\\assess3_data\\data\\Healthcare_Nursing\\Job_00465.txt\n",
      "C:\\Users\\tphuo\\OneDrive\\Documents\\Advanced programming for Data Science\\Assignment_3\\assess3_data\\assess3_data\\data\\Healthcare_Nursing\\Job_00466.txt\n",
      "C:\\Users\\tphuo\\OneDrive\\Documents\\Advanced programming for Data Science\\Assignment_3\\assess3_data\\assess3_data\\data\\Healthcare_Nursing\\Job_00467.txt\n",
      "C:\\Users\\tphuo\\OneDrive\\Documents\\Advanced programming for Data Science\\Assignment_3\\assess3_data\\assess3_data\\data\\Healthcare_Nursing\\Job_00468.txt\n",
      "C:\\Users\\tphuo\\OneDrive\\Documents\\Advanced programming for Data Science\\Assignment_3\\assess3_data\\assess3_data\\data\\Healthcare_Nursing\\Job_00469.txt\n",
      "C:\\Users\\tphuo\\OneDrive\\Documents\\Advanced programming for Data Science\\Assignment_3\\assess3_data\\assess3_data\\data\\Healthcare_Nursing\\Job_00470.txt\n",
      "C:\\Users\\tphuo\\OneDrive\\Documents\\Advanced programming for Data Science\\Assignment_3\\assess3_data\\assess3_data\\data\\Healthcare_Nursing\\Job_00471.txt\n",
      "C:\\Users\\tphuo\\OneDrive\\Documents\\Advanced programming for Data Science\\Assignment_3\\assess3_data\\assess3_data\\data\\Healthcare_Nursing\\Job_00472.txt\n",
      "C:\\Users\\tphuo\\OneDrive\\Documents\\Advanced programming for Data Science\\Assignment_3\\assess3_data\\assess3_data\\data\\Healthcare_Nursing\\Job_00473.txt\n",
      "C:\\Users\\tphuo\\OneDrive\\Documents\\Advanced programming for Data Science\\Assignment_3\\assess3_data\\assess3_data\\data\\Healthcare_Nursing\\Job_00474.txt\n",
      "C:\\Users\\tphuo\\OneDrive\\Documents\\Advanced programming for Data Science\\Assignment_3\\assess3_data\\assess3_data\\data\\Healthcare_Nursing\\Job_00475.txt\n",
      "C:\\Users\\tphuo\\OneDrive\\Documents\\Advanced programming for Data Science\\Assignment_3\\assess3_data\\assess3_data\\data\\Healthcare_Nursing\\Job_00476.txt\n",
      "C:\\Users\\tphuo\\OneDrive\\Documents\\Advanced programming for Data Science\\Assignment_3\\assess3_data\\assess3_data\\data\\Healthcare_Nursing\\Job_00477.txt\n",
      "C:\\Users\\tphuo\\OneDrive\\Documents\\Advanced programming for Data Science\\Assignment_3\\assess3_data\\assess3_data\\data\\Healthcare_Nursing\\Job_00478.txt\n",
      "C:\\Users\\tphuo\\OneDrive\\Documents\\Advanced programming for Data Science\\Assignment_3\\assess3_data\\assess3_data\\data\\Healthcare_Nursing\\Job_00479.txt\n",
      "C:\\Users\\tphuo\\OneDrive\\Documents\\Advanced programming for Data Science\\Assignment_3\\assess3_data\\assess3_data\\data\\Healthcare_Nursing\\Job_00480.txt\n",
      "C:\\Users\\tphuo\\OneDrive\\Documents\\Advanced programming for Data Science\\Assignment_3\\assess3_data\\assess3_data\\data\\Healthcare_Nursing\\Job_00481.txt\n",
      "C:\\Users\\tphuo\\OneDrive\\Documents\\Advanced programming for Data Science\\Assignment_3\\assess3_data\\assess3_data\\data\\Healthcare_Nursing\\Job_00482.txt\n",
      "C:\\Users\\tphuo\\OneDrive\\Documents\\Advanced programming for Data Science\\Assignment_3\\assess3_data\\assess3_data\\data\\Healthcare_Nursing\\Job_00483.txt\n",
      "C:\\Users\\tphuo\\OneDrive\\Documents\\Advanced programming for Data Science\\Assignment_3\\assess3_data\\assess3_data\\data\\Healthcare_Nursing\\Job_00484.txt\n",
      "C:\\Users\\tphuo\\OneDrive\\Documents\\Advanced programming for Data Science\\Assignment_3\\assess3_data\\assess3_data\\data\\Healthcare_Nursing\\Job_00485.txt\n",
      "C:\\Users\\tphuo\\OneDrive\\Documents\\Advanced programming for Data Science\\Assignment_3\\assess3_data\\assess3_data\\data\\Healthcare_Nursing\\Job_00486.txt\n",
      "C:\\Users\\tphuo\\OneDrive\\Documents\\Advanced programming for Data Science\\Assignment_3\\assess3_data\\assess3_data\\data\\Healthcare_Nursing\\Job_00487.txt\n",
      "C:\\Users\\tphuo\\OneDrive\\Documents\\Advanced programming for Data Science\\Assignment_3\\assess3_data\\assess3_data\\data\\Healthcare_Nursing\\Job_00488.txt\n",
      "C:\\Users\\tphuo\\OneDrive\\Documents\\Advanced programming for Data Science\\Assignment_3\\assess3_data\\assess3_data\\data\\Healthcare_Nursing\\Job_00489.txt\n",
      "C:\\Users\\tphuo\\OneDrive\\Documents\\Advanced programming for Data Science\\Assignment_3\\assess3_data\\assess3_data\\data\\Healthcare_Nursing\\Job_00490.txt\n",
      "C:\\Users\\tphuo\\OneDrive\\Documents\\Advanced programming for Data Science\\Assignment_3\\assess3_data\\assess3_data\\data\\Healthcare_Nursing\\Job_00491.txt\n",
      "C:\\Users\\tphuo\\OneDrive\\Documents\\Advanced programming for Data Science\\Assignment_3\\assess3_data\\assess3_data\\data\\Healthcare_Nursing\\Job_00492.txt\n",
      "C:\\Users\\tphuo\\OneDrive\\Documents\\Advanced programming for Data Science\\Assignment_3\\assess3_data\\assess3_data\\data\\Healthcare_Nursing\\Job_00493.txt\n",
      "C:\\Users\\tphuo\\OneDrive\\Documents\\Advanced programming for Data Science\\Assignment_3\\assess3_data\\assess3_data\\data\\Healthcare_Nursing\\Job_00494.txt\n",
      "C:\\Users\\tphuo\\OneDrive\\Documents\\Advanced programming for Data Science\\Assignment_3\\assess3_data\\assess3_data\\data\\Healthcare_Nursing\\Job_00495.txt\n",
      "C:\\Users\\tphuo\\OneDrive\\Documents\\Advanced programming for Data Science\\Assignment_3\\assess3_data\\assess3_data\\data\\Healthcare_Nursing\\Job_00496.txt\n",
      "C:\\Users\\tphuo\\OneDrive\\Documents\\Advanced programming for Data Science\\Assignment_3\\assess3_data\\assess3_data\\data\\Healthcare_Nursing\\Job_00497.txt\n",
      "C:\\Users\\tphuo\\OneDrive\\Documents\\Advanced programming for Data Science\\Assignment_3\\assess3_data\\assess3_data\\data\\Healthcare_Nursing\\Job_00498.txt\n",
      "C:\\Users\\tphuo\\OneDrive\\Documents\\Advanced programming for Data Science\\Assignment_3\\assess3_data\\assess3_data\\data\\Healthcare_Nursing\\Job_00499.txt\n",
      "C:\\Users\\tphuo\\OneDrive\\Documents\\Advanced programming for Data Science\\Assignment_3\\assess3_data\\assess3_data\\data\\Healthcare_Nursing\\Job_00500.txt\n",
      "C:\\Users\\tphuo\\OneDrive\\Documents\\Advanced programming for Data Science\\Assignment_3\\assess3_data\\assess3_data\\data\\Healthcare_Nursing\\Job_00501.txt\n",
      "C:\\Users\\tphuo\\OneDrive\\Documents\\Advanced programming for Data Science\\Assignment_3\\assess3_data\\assess3_data\\data\\Healthcare_Nursing\\Job_00502.txt\n",
      "C:\\Users\\tphuo\\OneDrive\\Documents\\Advanced programming for Data Science\\Assignment_3\\assess3_data\\assess3_data\\data\\Healthcare_Nursing\\Job_00503.txt\n",
      "C:\\Users\\tphuo\\OneDrive\\Documents\\Advanced programming for Data Science\\Assignment_3\\assess3_data\\assess3_data\\data\\Healthcare_Nursing\\Job_00504.txt\n",
      "C:\\Users\\tphuo\\OneDrive\\Documents\\Advanced programming for Data Science\\Assignment_3\\assess3_data\\assess3_data\\data\\Healthcare_Nursing\\Job_00505.txt\n",
      "C:\\Users\\tphuo\\OneDrive\\Documents\\Advanced programming for Data Science\\Assignment_3\\assess3_data\\assess3_data\\data\\Healthcare_Nursing\\Job_00506.txt\n",
      "C:\\Users\\tphuo\\OneDrive\\Documents\\Advanced programming for Data Science\\Assignment_3\\assess3_data\\assess3_data\\data\\Healthcare_Nursing\\Job_00507.txt\n",
      "C:\\Users\\tphuo\\OneDrive\\Documents\\Advanced programming for Data Science\\Assignment_3\\assess3_data\\assess3_data\\data\\Healthcare_Nursing\\Job_00508.txt\n",
      "C:\\Users\\tphuo\\OneDrive\\Documents\\Advanced programming for Data Science\\Assignment_3\\assess3_data\\assess3_data\\data\\Healthcare_Nursing\\Job_00509.txt\n",
      "C:\\Users\\tphuo\\OneDrive\\Documents\\Advanced programming for Data Science\\Assignment_3\\assess3_data\\assess3_data\\data\\Healthcare_Nursing\\Job_00510.txt\n",
      "C:\\Users\\tphuo\\OneDrive\\Documents\\Advanced programming for Data Science\\Assignment_3\\assess3_data\\assess3_data\\data\\Healthcare_Nursing\\Job_00511.txt\n",
      "C:\\Users\\tphuo\\OneDrive\\Documents\\Advanced programming for Data Science\\Assignment_3\\assess3_data\\assess3_data\\data\\Healthcare_Nursing\\Job_00512.txt\n",
      "C:\\Users\\tphuo\\OneDrive\\Documents\\Advanced programming for Data Science\\Assignment_3\\assess3_data\\assess3_data\\data\\Healthcare_Nursing\\Job_00513.txt\n",
      "C:\\Users\\tphuo\\OneDrive\\Documents\\Advanced programming for Data Science\\Assignment_3\\assess3_data\\assess3_data\\data\\Healthcare_Nursing\\Job_00514.txt\n",
      "C:\\Users\\tphuo\\OneDrive\\Documents\\Advanced programming for Data Science\\Assignment_3\\assess3_data\\assess3_data\\data\\Healthcare_Nursing\\Job_00515.txt\n",
      "C:\\Users\\tphuo\\OneDrive\\Documents\\Advanced programming for Data Science\\Assignment_3\\assess3_data\\assess3_data\\data\\Healthcare_Nursing\\Job_00516.txt\n",
      "C:\\Users\\tphuo\\OneDrive\\Documents\\Advanced programming for Data Science\\Assignment_3\\assess3_data\\assess3_data\\data\\Healthcare_Nursing\\Job_00517.txt\n",
      "C:\\Users\\tphuo\\OneDrive\\Documents\\Advanced programming for Data Science\\Assignment_3\\assess3_data\\assess3_data\\data\\Healthcare_Nursing\\Job_00518.txt\n",
      "C:\\Users\\tphuo\\OneDrive\\Documents\\Advanced programming for Data Science\\Assignment_3\\assess3_data\\assess3_data\\data\\Healthcare_Nursing\\Job_00519.txt\n",
      "C:\\Users\\tphuo\\OneDrive\\Documents\\Advanced programming for Data Science\\Assignment_3\\assess3_data\\assess3_data\\data\\Healthcare_Nursing\\Job_00520.txt\n",
      "C:\\Users\\tphuo\\OneDrive\\Documents\\Advanced programming for Data Science\\Assignment_3\\assess3_data\\assess3_data\\data\\Healthcare_Nursing\\Job_00521.txt\n",
      "C:\\Users\\tphuo\\OneDrive\\Documents\\Advanced programming for Data Science\\Assignment_3\\assess3_data\\assess3_data\\data\\Healthcare_Nursing\\Job_00522.txt\n",
      "C:\\Users\\tphuo\\OneDrive\\Documents\\Advanced programming for Data Science\\Assignment_3\\assess3_data\\assess3_data\\data\\Healthcare_Nursing\\Job_00523.txt\n",
      "C:\\Users\\tphuo\\OneDrive\\Documents\\Advanced programming for Data Science\\Assignment_3\\assess3_data\\assess3_data\\data\\Healthcare_Nursing\\Job_00524.txt\n",
      "C:\\Users\\tphuo\\OneDrive\\Documents\\Advanced programming for Data Science\\Assignment_3\\assess3_data\\assess3_data\\data\\Healthcare_Nursing\\Job_00525.txt\n",
      "C:\\Users\\tphuo\\OneDrive\\Documents\\Advanced programming for Data Science\\Assignment_3\\assess3_data\\assess3_data\\data\\Healthcare_Nursing\\Job_00526.txt\n",
      "C:\\Users\\tphuo\\OneDrive\\Documents\\Advanced programming for Data Science\\Assignment_3\\assess3_data\\assess3_data\\data\\Healthcare_Nursing\\Job_00527.txt\n",
      "C:\\Users\\tphuo\\OneDrive\\Documents\\Advanced programming for Data Science\\Assignment_3\\assess3_data\\assess3_data\\data\\Healthcare_Nursing\\Job_00528.txt\n",
      "C:\\Users\\tphuo\\OneDrive\\Documents\\Advanced programming for Data Science\\Assignment_3\\assess3_data\\assess3_data\\data\\Healthcare_Nursing\\Job_00529.txt\n",
      "C:\\Users\\tphuo\\OneDrive\\Documents\\Advanced programming for Data Science\\Assignment_3\\assess3_data\\assess3_data\\data\\Healthcare_Nursing\\Job_00530.txt\n",
      "C:\\Users\\tphuo\\OneDrive\\Documents\\Advanced programming for Data Science\\Assignment_3\\assess3_data\\assess3_data\\data\\Healthcare_Nursing\\Job_00531.txt\n",
      "C:\\Users\\tphuo\\OneDrive\\Documents\\Advanced programming for Data Science\\Assignment_3\\assess3_data\\assess3_data\\data\\Healthcare_Nursing\\Job_00532.txt\n",
      "C:\\Users\\tphuo\\OneDrive\\Documents\\Advanced programming for Data Science\\Assignment_3\\assess3_data\\assess3_data\\data\\Healthcare_Nursing\\Job_00533.txt\n",
      "C:\\Users\\tphuo\\OneDrive\\Documents\\Advanced programming for Data Science\\Assignment_3\\assess3_data\\assess3_data\\data\\Healthcare_Nursing\\Job_00534.txt\n",
      "C:\\Users\\tphuo\\OneDrive\\Documents\\Advanced programming for Data Science\\Assignment_3\\assess3_data\\assess3_data\\data\\Healthcare_Nursing\\Job_00535.txt\n",
      "C:\\Users\\tphuo\\OneDrive\\Documents\\Advanced programming for Data Science\\Assignment_3\\assess3_data\\assess3_data\\data\\Healthcare_Nursing\\Job_00536.txt\n",
      "C:\\Users\\tphuo\\OneDrive\\Documents\\Advanced programming for Data Science\\Assignment_3\\assess3_data\\assess3_data\\data\\Healthcare_Nursing\\Job_00537.txt\n",
      "C:\\Users\\tphuo\\OneDrive\\Documents\\Advanced programming for Data Science\\Assignment_3\\assess3_data\\assess3_data\\data\\Healthcare_Nursing\\Job_00538.txt\n",
      "C:\\Users\\tphuo\\OneDrive\\Documents\\Advanced programming for Data Science\\Assignment_3\\assess3_data\\assess3_data\\data\\Healthcare_Nursing\\Job_00539.txt\n",
      "C:\\Users\\tphuo\\OneDrive\\Documents\\Advanced programming for Data Science\\Assignment_3\\assess3_data\\assess3_data\\data\\Healthcare_Nursing\\Job_00540.txt\n",
      "C:\\Users\\tphuo\\OneDrive\\Documents\\Advanced programming for Data Science\\Assignment_3\\assess3_data\\assess3_data\\data\\Healthcare_Nursing\\Job_00541.txt\n",
      "C:\\Users\\tphuo\\OneDrive\\Documents\\Advanced programming for Data Science\\Assignment_3\\assess3_data\\assess3_data\\data\\Healthcare_Nursing\\Job_00542.txt\n",
      "C:\\Users\\tphuo\\OneDrive\\Documents\\Advanced programming for Data Science\\Assignment_3\\assess3_data\\assess3_data\\data\\Healthcare_Nursing\\Job_00543.txt\n",
      "C:\\Users\\tphuo\\OneDrive\\Documents\\Advanced programming for Data Science\\Assignment_3\\assess3_data\\assess3_data\\data\\Healthcare_Nursing\\Job_00544.txt\n",
      "C:\\Users\\tphuo\\OneDrive\\Documents\\Advanced programming for Data Science\\Assignment_3\\assess3_data\\assess3_data\\data\\Healthcare_Nursing\\Job_00545.txt\n",
      "C:\\Users\\tphuo\\OneDrive\\Documents\\Advanced programming for Data Science\\Assignment_3\\assess3_data\\assess3_data\\data\\Healthcare_Nursing\\Job_00546.txt\n",
      "C:\\Users\\tphuo\\OneDrive\\Documents\\Advanced programming for Data Science\\Assignment_3\\assess3_data\\assess3_data\\data\\Healthcare_Nursing\\Job_00547.txt\n",
      "C:\\Users\\tphuo\\OneDrive\\Documents\\Advanced programming for Data Science\\Assignment_3\\assess3_data\\assess3_data\\data\\Healthcare_Nursing\\Job_00548.txt\n",
      "C:\\Users\\tphuo\\OneDrive\\Documents\\Advanced programming for Data Science\\Assignment_3\\assess3_data\\assess3_data\\data\\Healthcare_Nursing\\Job_00549.txt\n",
      "C:\\Users\\tphuo\\OneDrive\\Documents\\Advanced programming for Data Science\\Assignment_3\\assess3_data\\assess3_data\\data\\Healthcare_Nursing\\Job_00550.txt\n",
      "C:\\Users\\tphuo\\OneDrive\\Documents\\Advanced programming for Data Science\\Assignment_3\\assess3_data\\assess3_data\\data\\Healthcare_Nursing\\Job_00551.txt\n",
      "C:\\Users\\tphuo\\OneDrive\\Documents\\Advanced programming for Data Science\\Assignment_3\\assess3_data\\assess3_data\\data\\Healthcare_Nursing\\Job_00552.txt\n",
      "C:\\Users\\tphuo\\OneDrive\\Documents\\Advanced programming for Data Science\\Assignment_3\\assess3_data\\assess3_data\\data\\Healthcare_Nursing\\Job_00553.txt\n",
      "C:\\Users\\tphuo\\OneDrive\\Documents\\Advanced programming for Data Science\\Assignment_3\\assess3_data\\assess3_data\\data\\Healthcare_Nursing\\Job_00554.txt\n",
      "C:\\Users\\tphuo\\OneDrive\\Documents\\Advanced programming for Data Science\\Assignment_3\\assess3_data\\assess3_data\\data\\Healthcare_Nursing\\Job_00555.txt\n",
      "C:\\Users\\tphuo\\OneDrive\\Documents\\Advanced programming for Data Science\\Assignment_3\\assess3_data\\assess3_data\\data\\Healthcare_Nursing\\Job_00556.txt\n",
      "C:\\Users\\tphuo\\OneDrive\\Documents\\Advanced programming for Data Science\\Assignment_3\\assess3_data\\assess3_data\\data\\Healthcare_Nursing\\Job_00557.txt\n",
      "C:\\Users\\tphuo\\OneDrive\\Documents\\Advanced programming for Data Science\\Assignment_3\\assess3_data\\assess3_data\\data\\Healthcare_Nursing\\Job_00558.txt\n",
      "C:\\Users\\tphuo\\OneDrive\\Documents\\Advanced programming for Data Science\\Assignment_3\\assess3_data\\assess3_data\\data\\Healthcare_Nursing\\Job_00559.txt\n",
      "C:\\Users\\tphuo\\OneDrive\\Documents\\Advanced programming for Data Science\\Assignment_3\\assess3_data\\assess3_data\\data\\Healthcare_Nursing\\Job_00560.txt\n",
      "C:\\Users\\tphuo\\OneDrive\\Documents\\Advanced programming for Data Science\\Assignment_3\\assess3_data\\assess3_data\\data\\Healthcare_Nursing\\Job_00561.txt\n",
      "C:\\Users\\tphuo\\OneDrive\\Documents\\Advanced programming for Data Science\\Assignment_3\\assess3_data\\assess3_data\\data\\Healthcare_Nursing\\Job_00562.txt\n",
      "C:\\Users\\tphuo\\OneDrive\\Documents\\Advanced programming for Data Science\\Assignment_3\\assess3_data\\assess3_data\\data\\Healthcare_Nursing\\Job_00563.txt\n",
      "C:\\Users\\tphuo\\OneDrive\\Documents\\Advanced programming for Data Science\\Assignment_3\\assess3_data\\assess3_data\\data\\Healthcare_Nursing\\Job_00564.txt\n",
      "C:\\Users\\tphuo\\OneDrive\\Documents\\Advanced programming for Data Science\\Assignment_3\\assess3_data\\assess3_data\\data\\Healthcare_Nursing\\Job_00565.txt\n",
      "C:\\Users\\tphuo\\OneDrive\\Documents\\Advanced programming for Data Science\\Assignment_3\\assess3_data\\assess3_data\\data\\Healthcare_Nursing\\Job_00566.txt\n",
      "C:\\Users\\tphuo\\OneDrive\\Documents\\Advanced programming for Data Science\\Assignment_3\\assess3_data\\assess3_data\\data\\Healthcare_Nursing\\Job_00567.txt\n",
      "C:\\Users\\tphuo\\OneDrive\\Documents\\Advanced programming for Data Science\\Assignment_3\\assess3_data\\assess3_data\\data\\Healthcare_Nursing\\Job_00568.txt\n",
      "C:\\Users\\tphuo\\OneDrive\\Documents\\Advanced programming for Data Science\\Assignment_3\\assess3_data\\assess3_data\\data\\Healthcare_Nursing\\Job_00569.txt\n",
      "C:\\Users\\tphuo\\OneDrive\\Documents\\Advanced programming for Data Science\\Assignment_3\\assess3_data\\assess3_data\\data\\Healthcare_Nursing\\Job_00570.txt\n",
      "C:\\Users\\tphuo\\OneDrive\\Documents\\Advanced programming for Data Science\\Assignment_3\\assess3_data\\assess3_data\\data\\Healthcare_Nursing\\Job_00571.txt\n",
      "C:\\Users\\tphuo\\OneDrive\\Documents\\Advanced programming for Data Science\\Assignment_3\\assess3_data\\assess3_data\\data\\Healthcare_Nursing\\Job_00572.txt\n",
      "C:\\Users\\tphuo\\OneDrive\\Documents\\Advanced programming for Data Science\\Assignment_3\\assess3_data\\assess3_data\\data\\Healthcare_Nursing\\Job_00573.txt\n",
      "C:\\Users\\tphuo\\OneDrive\\Documents\\Advanced programming for Data Science\\Assignment_3\\assess3_data\\assess3_data\\data\\Healthcare_Nursing\\Job_00574.txt\n",
      "C:\\Users\\tphuo\\OneDrive\\Documents\\Advanced programming for Data Science\\Assignment_3\\assess3_data\\assess3_data\\data\\Healthcare_Nursing\\Job_00575.txt\n",
      "C:\\Users\\tphuo\\OneDrive\\Documents\\Advanced programming for Data Science\\Assignment_3\\assess3_data\\assess3_data\\data\\Healthcare_Nursing\\Job_00576.txt\n",
      "C:\\Users\\tphuo\\OneDrive\\Documents\\Advanced programming for Data Science\\Assignment_3\\assess3_data\\assess3_data\\data\\Healthcare_Nursing\\Job_00577.txt\n",
      "C:\\Users\\tphuo\\OneDrive\\Documents\\Advanced programming for Data Science\\Assignment_3\\assess3_data\\assess3_data\\data\\Healthcare_Nursing\\Job_00578.txt\n",
      "C:\\Users\\tphuo\\OneDrive\\Documents\\Advanced programming for Data Science\\Assignment_3\\assess3_data\\assess3_data\\data\\Healthcare_Nursing\\Job_00579.txt\n",
      "C:\\Users\\tphuo\\OneDrive\\Documents\\Advanced programming for Data Science\\Assignment_3\\assess3_data\\assess3_data\\data\\Healthcare_Nursing\\Job_00580.txt\n",
      "C:\\Users\\tphuo\\OneDrive\\Documents\\Advanced programming for Data Science\\Assignment_3\\assess3_data\\assess3_data\\data\\Healthcare_Nursing\\Job_00581.txt\n",
      "C:\\Users\\tphuo\\OneDrive\\Documents\\Advanced programming for Data Science\\Assignment_3\\assess3_data\\assess3_data\\data\\Healthcare_Nursing\\Job_00582.txt\n",
      "C:\\Users\\tphuo\\OneDrive\\Documents\\Advanced programming for Data Science\\Assignment_3\\assess3_data\\assess3_data\\data\\Healthcare_Nursing\\Job_00583.txt\n",
      "C:\\Users\\tphuo\\OneDrive\\Documents\\Advanced programming for Data Science\\Assignment_3\\assess3_data\\assess3_data\\data\\Healthcare_Nursing\\Job_00584.txt\n",
      "C:\\Users\\tphuo\\OneDrive\\Documents\\Advanced programming for Data Science\\Assignment_3\\assess3_data\\assess3_data\\data\\Healthcare_Nursing\\Job_00585.txt\n",
      "C:\\Users\\tphuo\\OneDrive\\Documents\\Advanced programming for Data Science\\Assignment_3\\assess3_data\\assess3_data\\data\\Healthcare_Nursing\\Job_00586.txt\n",
      "C:\\Users\\tphuo\\OneDrive\\Documents\\Advanced programming for Data Science\\Assignment_3\\assess3_data\\assess3_data\\data\\Healthcare_Nursing\\Job_00587.txt\n",
      "C:\\Users\\tphuo\\OneDrive\\Documents\\Advanced programming for Data Science\\Assignment_3\\assess3_data\\assess3_data\\data\\Healthcare_Nursing\\Job_00588.txt\n",
      "C:\\Users\\tphuo\\OneDrive\\Documents\\Advanced programming for Data Science\\Assignment_3\\assess3_data\\assess3_data\\data\\Healthcare_Nursing\\Job_00589.txt\n",
      "C:\\Users\\tphuo\\OneDrive\\Documents\\Advanced programming for Data Science\\Assignment_3\\assess3_data\\assess3_data\\data\\Healthcare_Nursing\\Job_00590.txt\n",
      "C:\\Users\\tphuo\\OneDrive\\Documents\\Advanced programming for Data Science\\Assignment_3\\assess3_data\\assess3_data\\data\\Healthcare_Nursing\\Job_00591.txt\n",
      "C:\\Users\\tphuo\\OneDrive\\Documents\\Advanced programming for Data Science\\Assignment_3\\assess3_data\\assess3_data\\data\\Healthcare_Nursing\\Job_00592.txt\n",
      "C:\\Users\\tphuo\\OneDrive\\Documents\\Advanced programming for Data Science\\Assignment_3\\assess3_data\\assess3_data\\data\\Healthcare_Nursing\\Job_00593.txt\n",
      "C:\\Users\\tphuo\\OneDrive\\Documents\\Advanced programming for Data Science\\Assignment_3\\assess3_data\\assess3_data\\data\\Healthcare_Nursing\\Job_00594.txt\n",
      "C:\\Users\\tphuo\\OneDrive\\Documents\\Advanced programming for Data Science\\Assignment_3\\assess3_data\\assess3_data\\data\\Healthcare_Nursing\\Job_00595.txt\n",
      "C:\\Users\\tphuo\\OneDrive\\Documents\\Advanced programming for Data Science\\Assignment_3\\assess3_data\\assess3_data\\data\\Healthcare_Nursing\\Job_00596.txt\n",
      "C:\\Users\\tphuo\\OneDrive\\Documents\\Advanced programming for Data Science\\Assignment_3\\assess3_data\\assess3_data\\data\\Healthcare_Nursing\\Job_00597.txt\n",
      "C:\\Users\\tphuo\\OneDrive\\Documents\\Advanced programming for Data Science\\Assignment_3\\assess3_data\\assess3_data\\data\\Healthcare_Nursing\\Job_00598.txt\n",
      "C:\\Users\\tphuo\\OneDrive\\Documents\\Advanced programming for Data Science\\Assignment_3\\assess3_data\\assess3_data\\data\\Healthcare_Nursing\\Job_00599.txt\n",
      "C:\\Users\\tphuo\\OneDrive\\Documents\\Advanced programming for Data Science\\Assignment_3\\assess3_data\\assess3_data\\data\\Healthcare_Nursing\\Job_00600.txt\n",
      "C:\\Users\\tphuo\\OneDrive\\Documents\\Advanced programming for Data Science\\Assignment_3\\assess3_data\\assess3_data\\data\\Healthcare_Nursing\\Job_00601.txt\n",
      "C:\\Users\\tphuo\\OneDrive\\Documents\\Advanced programming for Data Science\\Assignment_3\\assess3_data\\assess3_data\\data\\Healthcare_Nursing\\Job_00602.txt\n",
      "C:\\Users\\tphuo\\OneDrive\\Documents\\Advanced programming for Data Science\\Assignment_3\\assess3_data\\assess3_data\\data\\Healthcare_Nursing\\Job_00603.txt\n",
      "C:\\Users\\tphuo\\OneDrive\\Documents\\Advanced programming for Data Science\\Assignment_3\\assess3_data\\assess3_data\\data\\Healthcare_Nursing\\Job_00604.txt\n",
      "C:\\Users\\tphuo\\OneDrive\\Documents\\Advanced programming for Data Science\\Assignment_3\\assess3_data\\assess3_data\\data\\Healthcare_Nursing\\Job_00605.txt\n",
      "C:\\Users\\tphuo\\OneDrive\\Documents\\Advanced programming for Data Science\\Assignment_3\\assess3_data\\assess3_data\\data\\Healthcare_Nursing\\Job_00606.txt\n",
      "C:\\Users\\tphuo\\OneDrive\\Documents\\Advanced programming for Data Science\\Assignment_3\\assess3_data\\assess3_data\\data\\Healthcare_Nursing\\Job_00607.txt\n",
      "C:\\Users\\tphuo\\OneDrive\\Documents\\Advanced programming for Data Science\\Assignment_3\\assess3_data\\assess3_data\\data\\Healthcare_Nursing\\Job_00608.txt\n",
      "C:\\Users\\tphuo\\OneDrive\\Documents\\Advanced programming for Data Science\\Assignment_3\\assess3_data\\assess3_data\\data\\Healthcare_Nursing\\Job_00609.txt\n",
      "C:\\Users\\tphuo\\OneDrive\\Documents\\Advanced programming for Data Science\\Assignment_3\\assess3_data\\assess3_data\\data\\Healthcare_Nursing\\Job_00610.txt\n",
      "C:\\Users\\tphuo\\OneDrive\\Documents\\Advanced programming for Data Science\\Assignment_3\\assess3_data\\assess3_data\\data\\Healthcare_Nursing\\Job_00611.txt\n",
      "C:\\Users\\tphuo\\OneDrive\\Documents\\Advanced programming for Data Science\\Assignment_3\\assess3_data\\assess3_data\\data\\Healthcare_Nursing\\Job_00612.txt\n",
      "C:\\Users\\tphuo\\OneDrive\\Documents\\Advanced programming for Data Science\\Assignment_3\\assess3_data\\assess3_data\\data\\Healthcare_Nursing\\Job_00613.txt\n",
      "C:\\Users\\tphuo\\OneDrive\\Documents\\Advanced programming for Data Science\\Assignment_3\\assess3_data\\assess3_data\\data\\Healthcare_Nursing\\Job_00614.txt\n",
      "C:\\Users\\tphuo\\OneDrive\\Documents\\Advanced programming for Data Science\\Assignment_3\\assess3_data\\assess3_data\\data\\Healthcare_Nursing\\Job_00615.txt\n",
      "C:\\Users\\tphuo\\OneDrive\\Documents\\Advanced programming for Data Science\\Assignment_3\\assess3_data\\assess3_data\\data\\Healthcare_Nursing\\Job_00616.txt\n",
      "C:\\Users\\tphuo\\OneDrive\\Documents\\Advanced programming for Data Science\\Assignment_3\\assess3_data\\assess3_data\\data\\Healthcare_Nursing\\Job_00617.txt\n",
      "C:\\Users\\tphuo\\OneDrive\\Documents\\Advanced programming for Data Science\\Assignment_3\\assess3_data\\assess3_data\\data\\Healthcare_Nursing\\Job_00618.txt\n",
      "C:\\Users\\tphuo\\OneDrive\\Documents\\Advanced programming for Data Science\\Assignment_3\\assess3_data\\assess3_data\\data\\Healthcare_Nursing\\Job_00619.txt\n",
      "C:\\Users\\tphuo\\OneDrive\\Documents\\Advanced programming for Data Science\\Assignment_3\\assess3_data\\assess3_data\\data\\Healthcare_Nursing\\Job_00620.txt\n",
      "C:\\Users\\tphuo\\OneDrive\\Documents\\Advanced programming for Data Science\\Assignment_3\\assess3_data\\assess3_data\\data\\Sales\n",
      "C:\\Users\\tphuo\\OneDrive\\Documents\\Advanced programming for Data Science\\Assignment_3\\assess3_data\\assess3_data\\data\\Sales\\Job_00621.txt\n",
      "C:\\Users\\tphuo\\OneDrive\\Documents\\Advanced programming for Data Science\\Assignment_3\\assess3_data\\assess3_data\\data\\Sales\\Job_00622.txt\n",
      "C:\\Users\\tphuo\\OneDrive\\Documents\\Advanced programming for Data Science\\Assignment_3\\assess3_data\\assess3_data\\data\\Sales\\Job_00623.txt\n",
      "C:\\Users\\tphuo\\OneDrive\\Documents\\Advanced programming for Data Science\\Assignment_3\\assess3_data\\assess3_data\\data\\Sales\\Job_00624.txt\n",
      "C:\\Users\\tphuo\\OneDrive\\Documents\\Advanced programming for Data Science\\Assignment_3\\assess3_data\\assess3_data\\data\\Sales\\Job_00625.txt\n",
      "C:\\Users\\tphuo\\OneDrive\\Documents\\Advanced programming for Data Science\\Assignment_3\\assess3_data\\assess3_data\\data\\Sales\\Job_00626.txt\n",
      "C:\\Users\\tphuo\\OneDrive\\Documents\\Advanced programming for Data Science\\Assignment_3\\assess3_data\\assess3_data\\data\\Sales\\Job_00627.txt\n",
      "C:\\Users\\tphuo\\OneDrive\\Documents\\Advanced programming for Data Science\\Assignment_3\\assess3_data\\assess3_data\\data\\Sales\\Job_00628.txt\n",
      "C:\\Users\\tphuo\\OneDrive\\Documents\\Advanced programming for Data Science\\Assignment_3\\assess3_data\\assess3_data\\data\\Sales\\Job_00629.txt\n",
      "C:\\Users\\tphuo\\OneDrive\\Documents\\Advanced programming for Data Science\\Assignment_3\\assess3_data\\assess3_data\\data\\Sales\\Job_00630.txt\n",
      "C:\\Users\\tphuo\\OneDrive\\Documents\\Advanced programming for Data Science\\Assignment_3\\assess3_data\\assess3_data\\data\\Sales\\Job_00631.txt\n",
      "C:\\Users\\tphuo\\OneDrive\\Documents\\Advanced programming for Data Science\\Assignment_3\\assess3_data\\assess3_data\\data\\Sales\\Job_00632.txt\n",
      "C:\\Users\\tphuo\\OneDrive\\Documents\\Advanced programming for Data Science\\Assignment_3\\assess3_data\\assess3_data\\data\\Sales\\Job_00633.txt\n",
      "C:\\Users\\tphuo\\OneDrive\\Documents\\Advanced programming for Data Science\\Assignment_3\\assess3_data\\assess3_data\\data\\Sales\\Job_00634.txt\n",
      "C:\\Users\\tphuo\\OneDrive\\Documents\\Advanced programming for Data Science\\Assignment_3\\assess3_data\\assess3_data\\data\\Sales\\Job_00635.txt\n",
      "C:\\Users\\tphuo\\OneDrive\\Documents\\Advanced programming for Data Science\\Assignment_3\\assess3_data\\assess3_data\\data\\Sales\\Job_00636.txt\n",
      "C:\\Users\\tphuo\\OneDrive\\Documents\\Advanced programming for Data Science\\Assignment_3\\assess3_data\\assess3_data\\data\\Sales\\Job_00637.txt\n",
      "C:\\Users\\tphuo\\OneDrive\\Documents\\Advanced programming for Data Science\\Assignment_3\\assess3_data\\assess3_data\\data\\Sales\\Job_00638.txt\n",
      "C:\\Users\\tphuo\\OneDrive\\Documents\\Advanced programming for Data Science\\Assignment_3\\assess3_data\\assess3_data\\data\\Sales\\Job_00639.txt\n",
      "C:\\Users\\tphuo\\OneDrive\\Documents\\Advanced programming for Data Science\\Assignment_3\\assess3_data\\assess3_data\\data\\Sales\\Job_00640.txt\n",
      "C:\\Users\\tphuo\\OneDrive\\Documents\\Advanced programming for Data Science\\Assignment_3\\assess3_data\\assess3_data\\data\\Sales\\Job_00641.txt\n",
      "C:\\Users\\tphuo\\OneDrive\\Documents\\Advanced programming for Data Science\\Assignment_3\\assess3_data\\assess3_data\\data\\Sales\\Job_00642.txt\n",
      "C:\\Users\\tphuo\\OneDrive\\Documents\\Advanced programming for Data Science\\Assignment_3\\assess3_data\\assess3_data\\data\\Sales\\Job_00643.txt\n",
      "C:\\Users\\tphuo\\OneDrive\\Documents\\Advanced programming for Data Science\\Assignment_3\\assess3_data\\assess3_data\\data\\Sales\\Job_00644.txt\n",
      "C:\\Users\\tphuo\\OneDrive\\Documents\\Advanced programming for Data Science\\Assignment_3\\assess3_data\\assess3_data\\data\\Sales\\Job_00645.txt\n",
      "C:\\Users\\tphuo\\OneDrive\\Documents\\Advanced programming for Data Science\\Assignment_3\\assess3_data\\assess3_data\\data\\Sales\\Job_00646.txt\n",
      "C:\\Users\\tphuo\\OneDrive\\Documents\\Advanced programming for Data Science\\Assignment_3\\assess3_data\\assess3_data\\data\\Sales\\Job_00647.txt\n",
      "C:\\Users\\tphuo\\OneDrive\\Documents\\Advanced programming for Data Science\\Assignment_3\\assess3_data\\assess3_data\\data\\Sales\\Job_00648.txt\n",
      "C:\\Users\\tphuo\\OneDrive\\Documents\\Advanced programming for Data Science\\Assignment_3\\assess3_data\\assess3_data\\data\\Sales\\Job_00649.txt\n",
      "C:\\Users\\tphuo\\OneDrive\\Documents\\Advanced programming for Data Science\\Assignment_3\\assess3_data\\assess3_data\\data\\Sales\\Job_00650.txt\n",
      "C:\\Users\\tphuo\\OneDrive\\Documents\\Advanced programming for Data Science\\Assignment_3\\assess3_data\\assess3_data\\data\\Sales\\Job_00651.txt\n",
      "C:\\Users\\tphuo\\OneDrive\\Documents\\Advanced programming for Data Science\\Assignment_3\\assess3_data\\assess3_data\\data\\Sales\\Job_00652.txt\n",
      "C:\\Users\\tphuo\\OneDrive\\Documents\\Advanced programming for Data Science\\Assignment_3\\assess3_data\\assess3_data\\data\\Sales\\Job_00653.txt\n",
      "C:\\Users\\tphuo\\OneDrive\\Documents\\Advanced programming for Data Science\\Assignment_3\\assess3_data\\assess3_data\\data\\Sales\\Job_00654.txt\n",
      "C:\\Users\\tphuo\\OneDrive\\Documents\\Advanced programming for Data Science\\Assignment_3\\assess3_data\\assess3_data\\data\\Sales\\Job_00655.txt\n",
      "C:\\Users\\tphuo\\OneDrive\\Documents\\Advanced programming for Data Science\\Assignment_3\\assess3_data\\assess3_data\\data\\Sales\\Job_00656.txt\n",
      "C:\\Users\\tphuo\\OneDrive\\Documents\\Advanced programming for Data Science\\Assignment_3\\assess3_data\\assess3_data\\data\\Sales\\Job_00657.txt\n",
      "C:\\Users\\tphuo\\OneDrive\\Documents\\Advanced programming for Data Science\\Assignment_3\\assess3_data\\assess3_data\\data\\Sales\\Job_00658.txt\n",
      "C:\\Users\\tphuo\\OneDrive\\Documents\\Advanced programming for Data Science\\Assignment_3\\assess3_data\\assess3_data\\data\\Sales\\Job_00659.txt\n",
      "C:\\Users\\tphuo\\OneDrive\\Documents\\Advanced programming for Data Science\\Assignment_3\\assess3_data\\assess3_data\\data\\Sales\\Job_00660.txt\n",
      "C:\\Users\\tphuo\\OneDrive\\Documents\\Advanced programming for Data Science\\Assignment_3\\assess3_data\\assess3_data\\data\\Sales\\Job_00661.txt\n",
      "C:\\Users\\tphuo\\OneDrive\\Documents\\Advanced programming for Data Science\\Assignment_3\\assess3_data\\assess3_data\\data\\Sales\\Job_00662.txt\n",
      "C:\\Users\\tphuo\\OneDrive\\Documents\\Advanced programming for Data Science\\Assignment_3\\assess3_data\\assess3_data\\data\\Sales\\Job_00663.txt\n",
      "C:\\Users\\tphuo\\OneDrive\\Documents\\Advanced programming for Data Science\\Assignment_3\\assess3_data\\assess3_data\\data\\Sales\\Job_00664.txt\n",
      "C:\\Users\\tphuo\\OneDrive\\Documents\\Advanced programming for Data Science\\Assignment_3\\assess3_data\\assess3_data\\data\\Sales\\Job_00665.txt\n",
      "C:\\Users\\tphuo\\OneDrive\\Documents\\Advanced programming for Data Science\\Assignment_3\\assess3_data\\assess3_data\\data\\Sales\\Job_00666.txt\n",
      "C:\\Users\\tphuo\\OneDrive\\Documents\\Advanced programming for Data Science\\Assignment_3\\assess3_data\\assess3_data\\data\\Sales\\Job_00667.txt\n",
      "C:\\Users\\tphuo\\OneDrive\\Documents\\Advanced programming for Data Science\\Assignment_3\\assess3_data\\assess3_data\\data\\Sales\\Job_00668.txt\n",
      "C:\\Users\\tphuo\\OneDrive\\Documents\\Advanced programming for Data Science\\Assignment_3\\assess3_data\\assess3_data\\data\\Sales\\Job_00669.txt\n",
      "C:\\Users\\tphuo\\OneDrive\\Documents\\Advanced programming for Data Science\\Assignment_3\\assess3_data\\assess3_data\\data\\Sales\\Job_00670.txt\n",
      "C:\\Users\\tphuo\\OneDrive\\Documents\\Advanced programming for Data Science\\Assignment_3\\assess3_data\\assess3_data\\data\\Sales\\Job_00671.txt\n",
      "C:\\Users\\tphuo\\OneDrive\\Documents\\Advanced programming for Data Science\\Assignment_3\\assess3_data\\assess3_data\\data\\Sales\\Job_00672.txt\n",
      "C:\\Users\\tphuo\\OneDrive\\Documents\\Advanced programming for Data Science\\Assignment_3\\assess3_data\\assess3_data\\data\\Sales\\Job_00673.txt\n",
      "C:\\Users\\tphuo\\OneDrive\\Documents\\Advanced programming for Data Science\\Assignment_3\\assess3_data\\assess3_data\\data\\Sales\\Job_00674.txt\n",
      "C:\\Users\\tphuo\\OneDrive\\Documents\\Advanced programming for Data Science\\Assignment_3\\assess3_data\\assess3_data\\data\\Sales\\Job_00675.txt\n",
      "C:\\Users\\tphuo\\OneDrive\\Documents\\Advanced programming for Data Science\\Assignment_3\\assess3_data\\assess3_data\\data\\Sales\\Job_00676.txt\n",
      "C:\\Users\\tphuo\\OneDrive\\Documents\\Advanced programming for Data Science\\Assignment_3\\assess3_data\\assess3_data\\data\\Sales\\Job_00677.txt\n",
      "C:\\Users\\tphuo\\OneDrive\\Documents\\Advanced programming for Data Science\\Assignment_3\\assess3_data\\assess3_data\\data\\Sales\\Job_00678.txt\n",
      "C:\\Users\\tphuo\\OneDrive\\Documents\\Advanced programming for Data Science\\Assignment_3\\assess3_data\\assess3_data\\data\\Sales\\Job_00679.txt\n",
      "C:\\Users\\tphuo\\OneDrive\\Documents\\Advanced programming for Data Science\\Assignment_3\\assess3_data\\assess3_data\\data\\Sales\\Job_00680.txt\n",
      "C:\\Users\\tphuo\\OneDrive\\Documents\\Advanced programming for Data Science\\Assignment_3\\assess3_data\\assess3_data\\data\\Sales\\Job_00681.txt\n",
      "C:\\Users\\tphuo\\OneDrive\\Documents\\Advanced programming for Data Science\\Assignment_3\\assess3_data\\assess3_data\\data\\Sales\\Job_00682.txt\n",
      "C:\\Users\\tphuo\\OneDrive\\Documents\\Advanced programming for Data Science\\Assignment_3\\assess3_data\\assess3_data\\data\\Sales\\Job_00683.txt\n",
      "C:\\Users\\tphuo\\OneDrive\\Documents\\Advanced programming for Data Science\\Assignment_3\\assess3_data\\assess3_data\\data\\Sales\\Job_00684.txt\n",
      "C:\\Users\\tphuo\\OneDrive\\Documents\\Advanced programming for Data Science\\Assignment_3\\assess3_data\\assess3_data\\data\\Sales\\Job_00685.txt\n",
      "C:\\Users\\tphuo\\OneDrive\\Documents\\Advanced programming for Data Science\\Assignment_3\\assess3_data\\assess3_data\\data\\Sales\\Job_00686.txt\n",
      "C:\\Users\\tphuo\\OneDrive\\Documents\\Advanced programming for Data Science\\Assignment_3\\assess3_data\\assess3_data\\data\\Sales\\Job_00687.txt\n",
      "C:\\Users\\tphuo\\OneDrive\\Documents\\Advanced programming for Data Science\\Assignment_3\\assess3_data\\assess3_data\\data\\Sales\\Job_00688.txt\n",
      "C:\\Users\\tphuo\\OneDrive\\Documents\\Advanced programming for Data Science\\Assignment_3\\assess3_data\\assess3_data\\data\\Sales\\Job_00689.txt\n",
      "C:\\Users\\tphuo\\OneDrive\\Documents\\Advanced programming for Data Science\\Assignment_3\\assess3_data\\assess3_data\\data\\Sales\\Job_00690.txt\n",
      "C:\\Users\\tphuo\\OneDrive\\Documents\\Advanced programming for Data Science\\Assignment_3\\assess3_data\\assess3_data\\data\\Sales\\Job_00691.txt\n",
      "C:\\Users\\tphuo\\OneDrive\\Documents\\Advanced programming for Data Science\\Assignment_3\\assess3_data\\assess3_data\\data\\Sales\\Job_00692.txt\n",
      "C:\\Users\\tphuo\\OneDrive\\Documents\\Advanced programming for Data Science\\Assignment_3\\assess3_data\\assess3_data\\data\\Sales\\Job_00693.txt\n",
      "C:\\Users\\tphuo\\OneDrive\\Documents\\Advanced programming for Data Science\\Assignment_3\\assess3_data\\assess3_data\\data\\Sales\\Job_00694.txt\n",
      "C:\\Users\\tphuo\\OneDrive\\Documents\\Advanced programming for Data Science\\Assignment_3\\assess3_data\\assess3_data\\data\\Sales\\Job_00695.txt\n",
      "C:\\Users\\tphuo\\OneDrive\\Documents\\Advanced programming for Data Science\\Assignment_3\\assess3_data\\assess3_data\\data\\Sales\\Job_00696.txt\n",
      "C:\\Users\\tphuo\\OneDrive\\Documents\\Advanced programming for Data Science\\Assignment_3\\assess3_data\\assess3_data\\data\\Sales\\Job_00697.txt\n",
      "C:\\Users\\tphuo\\OneDrive\\Documents\\Advanced programming for Data Science\\Assignment_3\\assess3_data\\assess3_data\\data\\Sales\\Job_00698.txt\n",
      "C:\\Users\\tphuo\\OneDrive\\Documents\\Advanced programming for Data Science\\Assignment_3\\assess3_data\\assess3_data\\data\\Sales\\Job_00699.txt\n",
      "C:\\Users\\tphuo\\OneDrive\\Documents\\Advanced programming for Data Science\\Assignment_3\\assess3_data\\assess3_data\\data\\Sales\\Job_00700.txt\n",
      "C:\\Users\\tphuo\\OneDrive\\Documents\\Advanced programming for Data Science\\Assignment_3\\assess3_data\\assess3_data\\data\\Sales\\Job_00701.txt\n",
      "C:\\Users\\tphuo\\OneDrive\\Documents\\Advanced programming for Data Science\\Assignment_3\\assess3_data\\assess3_data\\data\\Sales\\Job_00702.txt\n",
      "C:\\Users\\tphuo\\OneDrive\\Documents\\Advanced programming for Data Science\\Assignment_3\\assess3_data\\assess3_data\\data\\Sales\\Job_00703.txt\n",
      "C:\\Users\\tphuo\\OneDrive\\Documents\\Advanced programming for Data Science\\Assignment_3\\assess3_data\\assess3_data\\data\\Sales\\Job_00704.txt\n",
      "C:\\Users\\tphuo\\OneDrive\\Documents\\Advanced programming for Data Science\\Assignment_3\\assess3_data\\assess3_data\\data\\Sales\\Job_00705.txt\n",
      "C:\\Users\\tphuo\\OneDrive\\Documents\\Advanced programming for Data Science\\Assignment_3\\assess3_data\\assess3_data\\data\\Sales\\Job_00706.txt\n",
      "C:\\Users\\tphuo\\OneDrive\\Documents\\Advanced programming for Data Science\\Assignment_3\\assess3_data\\assess3_data\\data\\Sales\\Job_00707.txt\n",
      "C:\\Users\\tphuo\\OneDrive\\Documents\\Advanced programming for Data Science\\Assignment_3\\assess3_data\\assess3_data\\data\\Sales\\Job_00708.txt\n",
      "C:\\Users\\tphuo\\OneDrive\\Documents\\Advanced programming for Data Science\\Assignment_3\\assess3_data\\assess3_data\\data\\Sales\\Job_00709.txt\n",
      "C:\\Users\\tphuo\\OneDrive\\Documents\\Advanced programming for Data Science\\Assignment_3\\assess3_data\\assess3_data\\data\\Sales\\Job_00710.txt\n",
      "C:\\Users\\tphuo\\OneDrive\\Documents\\Advanced programming for Data Science\\Assignment_3\\assess3_data\\assess3_data\\data\\Sales\\Job_00711.txt\n",
      "C:\\Users\\tphuo\\OneDrive\\Documents\\Advanced programming for Data Science\\Assignment_3\\assess3_data\\assess3_data\\data\\Sales\\Job_00712.txt\n",
      "C:\\Users\\tphuo\\OneDrive\\Documents\\Advanced programming for Data Science\\Assignment_3\\assess3_data\\assess3_data\\data\\Sales\\Job_00713.txt\n",
      "C:\\Users\\tphuo\\OneDrive\\Documents\\Advanced programming for Data Science\\Assignment_3\\assess3_data\\assess3_data\\data\\Sales\\Job_00714.txt\n",
      "C:\\Users\\tphuo\\OneDrive\\Documents\\Advanced programming for Data Science\\Assignment_3\\assess3_data\\assess3_data\\data\\Sales\\Job_00715.txt\n",
      "C:\\Users\\tphuo\\OneDrive\\Documents\\Advanced programming for Data Science\\Assignment_3\\assess3_data\\assess3_data\\data\\Sales\\Job_00716.txt\n",
      "C:\\Users\\tphuo\\OneDrive\\Documents\\Advanced programming for Data Science\\Assignment_3\\assess3_data\\assess3_data\\data\\Sales\\Job_00717.txt\n",
      "C:\\Users\\tphuo\\OneDrive\\Documents\\Advanced programming for Data Science\\Assignment_3\\assess3_data\\assess3_data\\data\\Sales\\Job_00718.txt\n",
      "C:\\Users\\tphuo\\OneDrive\\Documents\\Advanced programming for Data Science\\Assignment_3\\assess3_data\\assess3_data\\data\\Sales\\Job_00719.txt\n",
      "C:\\Users\\tphuo\\OneDrive\\Documents\\Advanced programming for Data Science\\Assignment_3\\assess3_data\\assess3_data\\data\\Sales\\Job_00720.txt\n",
      "C:\\Users\\tphuo\\OneDrive\\Documents\\Advanced programming for Data Science\\Assignment_3\\assess3_data\\assess3_data\\data\\Sales\\Job_00721.txt\n",
      "C:\\Users\\tphuo\\OneDrive\\Documents\\Advanced programming for Data Science\\Assignment_3\\assess3_data\\assess3_data\\data\\Sales\\Job_00722.txt\n",
      "C:\\Users\\tphuo\\OneDrive\\Documents\\Advanced programming for Data Science\\Assignment_3\\assess3_data\\assess3_data\\data\\Sales\\Job_00723.txt\n",
      "C:\\Users\\tphuo\\OneDrive\\Documents\\Advanced programming for Data Science\\Assignment_3\\assess3_data\\assess3_data\\data\\Sales\\Job_00724.txt\n",
      "C:\\Users\\tphuo\\OneDrive\\Documents\\Advanced programming for Data Science\\Assignment_3\\assess3_data\\assess3_data\\data\\Sales\\Job_00725.txt\n",
      "C:\\Users\\tphuo\\OneDrive\\Documents\\Advanced programming for Data Science\\Assignment_3\\assess3_data\\assess3_data\\data\\Sales\\Job_00726.txt\n",
      "C:\\Users\\tphuo\\OneDrive\\Documents\\Advanced programming for Data Science\\Assignment_3\\assess3_data\\assess3_data\\data\\Sales\\Job_00727.txt\n",
      "C:\\Users\\tphuo\\OneDrive\\Documents\\Advanced programming for Data Science\\Assignment_3\\assess3_data\\assess3_data\\data\\Sales\\Job_00728.txt\n",
      "C:\\Users\\tphuo\\OneDrive\\Documents\\Advanced programming for Data Science\\Assignment_3\\assess3_data\\assess3_data\\data\\Sales\\Job_00729.txt\n",
      "C:\\Users\\tphuo\\OneDrive\\Documents\\Advanced programming for Data Science\\Assignment_3\\assess3_data\\assess3_data\\data\\Sales\\Job_00730.txt\n",
      "C:\\Users\\tphuo\\OneDrive\\Documents\\Advanced programming for Data Science\\Assignment_3\\assess3_data\\assess3_data\\data\\Sales\\Job_00731.txt\n",
      "C:\\Users\\tphuo\\OneDrive\\Documents\\Advanced programming for Data Science\\Assignment_3\\assess3_data\\assess3_data\\data\\Sales\\Job_00732.txt\n",
      "C:\\Users\\tphuo\\OneDrive\\Documents\\Advanced programming for Data Science\\Assignment_3\\assess3_data\\assess3_data\\data\\Sales\\Job_00733.txt\n",
      "C:\\Users\\tphuo\\OneDrive\\Documents\\Advanced programming for Data Science\\Assignment_3\\assess3_data\\assess3_data\\data\\Sales\\Job_00734.txt\n",
      "C:\\Users\\tphuo\\OneDrive\\Documents\\Advanced programming for Data Science\\Assignment_3\\assess3_data\\assess3_data\\data\\Sales\\Job_00735.txt\n",
      "C:\\Users\\tphuo\\OneDrive\\Documents\\Advanced programming for Data Science\\Assignment_3\\assess3_data\\assess3_data\\data\\Sales\\Job_00736.txt\n",
      "C:\\Users\\tphuo\\OneDrive\\Documents\\Advanced programming for Data Science\\Assignment_3\\assess3_data\\assess3_data\\data\\Sales\\Job_00737.txt\n",
      "C:\\Users\\tphuo\\OneDrive\\Documents\\Advanced programming for Data Science\\Assignment_3\\assess3_data\\assess3_data\\data\\Sales\\Job_00738.txt\n",
      "C:\\Users\\tphuo\\OneDrive\\Documents\\Advanced programming for Data Science\\Assignment_3\\assess3_data\\assess3_data\\data\\Sales\\Job_00739.txt\n",
      "C:\\Users\\tphuo\\OneDrive\\Documents\\Advanced programming for Data Science\\Assignment_3\\assess3_data\\assess3_data\\data\\Sales\\Job_00740.txt\n",
      "C:\\Users\\tphuo\\OneDrive\\Documents\\Advanced programming for Data Science\\Assignment_3\\assess3_data\\assess3_data\\data\\Sales\\Job_00741.txt\n",
      "C:\\Users\\tphuo\\OneDrive\\Documents\\Advanced programming for Data Science\\Assignment_3\\assess3_data\\assess3_data\\data\\Sales\\Job_00742.txt\n",
      "C:\\Users\\tphuo\\OneDrive\\Documents\\Advanced programming for Data Science\\Assignment_3\\assess3_data\\assess3_data\\data\\Sales\\Job_00743.txt\n",
      "C:\\Users\\tphuo\\OneDrive\\Documents\\Advanced programming for Data Science\\Assignment_3\\assess3_data\\assess3_data\\data\\Sales\\Job_00744.txt\n",
      "C:\\Users\\tphuo\\OneDrive\\Documents\\Advanced programming for Data Science\\Assignment_3\\assess3_data\\assess3_data\\data\\Sales\\Job_00745.txt\n",
      "C:\\Users\\tphuo\\OneDrive\\Documents\\Advanced programming for Data Science\\Assignment_3\\assess3_data\\assess3_data\\data\\Sales\\Job_00746.txt\n",
      "C:\\Users\\tphuo\\OneDrive\\Documents\\Advanced programming for Data Science\\Assignment_3\\assess3_data\\assess3_data\\data\\Sales\\Job_00747.txt\n",
      "C:\\Users\\tphuo\\OneDrive\\Documents\\Advanced programming for Data Science\\Assignment_3\\assess3_data\\assess3_data\\data\\Sales\\Job_00748.txt\n",
      "C:\\Users\\tphuo\\OneDrive\\Documents\\Advanced programming for Data Science\\Assignment_3\\assess3_data\\assess3_data\\data\\Sales\\Job_00749.txt\n",
      "C:\\Users\\tphuo\\OneDrive\\Documents\\Advanced programming for Data Science\\Assignment_3\\assess3_data\\assess3_data\\data\\Sales\\Job_00750.txt\n",
      "C:\\Users\\tphuo\\OneDrive\\Documents\\Advanced programming for Data Science\\Assignment_3\\assess3_data\\assess3_data\\data\\Sales\\Job_00751.txt\n",
      "C:\\Users\\tphuo\\OneDrive\\Documents\\Advanced programming for Data Science\\Assignment_3\\assess3_data\\assess3_data\\data\\Sales\\Job_00752.txt\n",
      "C:\\Users\\tphuo\\OneDrive\\Documents\\Advanced programming for Data Science\\Assignment_3\\assess3_data\\assess3_data\\data\\Sales\\Job_00753.txt\n",
      "C:\\Users\\tphuo\\OneDrive\\Documents\\Advanced programming for Data Science\\Assignment_3\\assess3_data\\assess3_data\\data\\Sales\\Job_00754.txt\n",
      "C:\\Users\\tphuo\\OneDrive\\Documents\\Advanced programming for Data Science\\Assignment_3\\assess3_data\\assess3_data\\data\\Sales\\Job_00755.txt\n",
      "C:\\Users\\tphuo\\OneDrive\\Documents\\Advanced programming for Data Science\\Assignment_3\\assess3_data\\assess3_data\\data\\Sales\\Job_00756.txt\n",
      "C:\\Users\\tphuo\\OneDrive\\Documents\\Advanced programming for Data Science\\Assignment_3\\assess3_data\\assess3_data\\data\\Sales\\Job_00757.txt\n",
      "C:\\Users\\tphuo\\OneDrive\\Documents\\Advanced programming for Data Science\\Assignment_3\\assess3_data\\assess3_data\\data\\Sales\\Job_00758.txt\n",
      "C:\\Users\\tphuo\\OneDrive\\Documents\\Advanced programming for Data Science\\Assignment_3\\assess3_data\\assess3_data\\data\\Sales\\Job_00759.txt\n",
      "C:\\Users\\tphuo\\OneDrive\\Documents\\Advanced programming for Data Science\\Assignment_3\\assess3_data\\assess3_data\\data\\Sales\\Job_00760.txt\n",
      "C:\\Users\\tphuo\\OneDrive\\Documents\\Advanced programming for Data Science\\Assignment_3\\assess3_data\\assess3_data\\data\\Sales\\Job_00761.txt\n",
      "C:\\Users\\tphuo\\OneDrive\\Documents\\Advanced programming for Data Science\\Assignment_3\\assess3_data\\assess3_data\\data\\Sales\\Job_00762.txt\n",
      "C:\\Users\\tphuo\\OneDrive\\Documents\\Advanced programming for Data Science\\Assignment_3\\assess3_data\\assess3_data\\data\\Sales\\Job_00763.txt\n",
      "C:\\Users\\tphuo\\OneDrive\\Documents\\Advanced programming for Data Science\\Assignment_3\\assess3_data\\assess3_data\\data\\Sales\\Job_00764.txt\n",
      "C:\\Users\\tphuo\\OneDrive\\Documents\\Advanced programming for Data Science\\Assignment_3\\assess3_data\\assess3_data\\data\\Sales\\Job_00765.txt\n",
      "C:\\Users\\tphuo\\OneDrive\\Documents\\Advanced programming for Data Science\\Assignment_3\\assess3_data\\assess3_data\\data\\Sales\\Job_00766.txt\n",
      "C:\\Users\\tphuo\\OneDrive\\Documents\\Advanced programming for Data Science\\Assignment_3\\assess3_data\\assess3_data\\data\\Sales\\Job_00767.txt\n",
      "C:\\Users\\tphuo\\OneDrive\\Documents\\Advanced programming for Data Science\\Assignment_3\\assess3_data\\assess3_data\\data\\Sales\\Job_00768.txt\n",
      "C:\\Users\\tphuo\\OneDrive\\Documents\\Advanced programming for Data Science\\Assignment_3\\assess3_data\\assess3_data\\data\\Sales\\Job_00769.txt\n",
      "C:\\Users\\tphuo\\OneDrive\\Documents\\Advanced programming for Data Science\\Assignment_3\\assess3_data\\assess3_data\\data\\Sales\\Job_00770.txt\n",
      "C:\\Users\\tphuo\\OneDrive\\Documents\\Advanced programming for Data Science\\Assignment_3\\assess3_data\\assess3_data\\data\\Sales\\Job_00771.txt\n",
      "C:\\Users\\tphuo\\OneDrive\\Documents\\Advanced programming for Data Science\\Assignment_3\\assess3_data\\assess3_data\\data\\Sales\\Job_00772.txt\n",
      "C:\\Users\\tphuo\\OneDrive\\Documents\\Advanced programming for Data Science\\Assignment_3\\assess3_data\\assess3_data\\data\\Sales\\Job_00773.txt\n",
      "C:\\Users\\tphuo\\OneDrive\\Documents\\Advanced programming for Data Science\\Assignment_3\\assess3_data\\assess3_data\\data\\Sales\\Job_00774.txt\n",
      "C:\\Users\\tphuo\\OneDrive\\Documents\\Advanced programming for Data Science\\Assignment_3\\assess3_data\\assess3_data\\data\\Sales\\Job_00775.txt\n",
      "C:\\Users\\tphuo\\OneDrive\\Documents\\Advanced programming for Data Science\\Assignment_3\\assess3_data\\assess3_data\\data\\Sales\\Job_00776.txt\n"
     ]
    }
   ],
   "source": [
    "for folder in folders:\n",
    "    folder_path = os.path.join(root_path, folder)\n",
    "    print(folder_path)\n",
    "    # Find all txt files in the folder\n",
    "    for file_path in glob.glob(os.path.join(folder_path, 'Job_*.txt')):\n",
    "        print(str(file_path))\n",
    "        with open(file_path, 'r', encoding='utf-8') as file:\n",
    "            content = file.read()\n",
    "            file_name = os.path.basename(file_path).split('.')[0]\n",
    "            job_id = file_name.split('_')[1]\n",
    "            # Extract information using basic string operations or regex\n",
    "            title = content.split('Title: ')[1].split('\\n')[0]\n",
    "            webindex = content.split('Webindex: ')[1].split('\\n')[0]\n",
    "            if 'Company:' in content:\n",
    "                company = content.split('Company: ')[1].split('\\n')[0]\n",
    "            else:\n",
    "                company = \"Not Specified\"\n",
    "            description = content.split('Description: ')[1].strip()\n",
    "            \n",
    "            # Append the extracted data to the list\n",
    "            data.append({\n",
    "                'ID':job_id,\n",
    "                'Title': title,\n",
    "                'Webindex': webindex,\n",
    "                'Company': company,\n",
    "                'Description': description,\n",
    "                'Category': folder  # Add the folder name as a category\n",
    "            })"
   ],
   "metadata": {
    "collapsed": false,
    "ExecuteTime": {
     "end_time": "2024-09-01T16:25:22.376366Z",
     "start_time": "2024-09-01T16:25:21.093324Z"
    }
   },
   "execution_count": 4
  },
  {
   "cell_type": "code",
   "outputs": [
    {
     "data": {
      "text/plain": "        ID                                  Title  Webindex  \\\n0    00232                        FP&A  Blue Chip  68802053   \n1    00233        Part time Management Accountant  70757636   \n2    00234                          IFA  EMPLOYED  71356489   \n3    00235                        Finance Manager  69073629   \n4    00236                  Management Accountant  70656648   \n..     ...                                    ...       ...   \n771  00772                                 Valuer  68056671   \n772  00773           Sales Manager  IT / Telecoms  68256016   \n773  00774                    Telesales Executive  71737507   \n774  00775          International Account Manager  70205492   \n775  00776  Estate Agency Senior Sales Negotiator  72444142   \n\n                         Company  \\\n0            Hays Senior Finance   \n1                     FS2 UK Ltd   \n2                Clark James Ltd   \n3         Accountancy Action Ltd   \n4                Alexander Lloyd   \n..                           ...   \n771       GCB Agency Recruitment   \n772                Not Specified   \n773           THESMARTLIST.co.uk   \n774                Bond Williams   \n775  ESTATE AGENCY PROFESSIONALS   \n\n                                           Description            Category  \n0    A market leading retail business is going thro...  Accounting_Finance  \n1    You will be responsible for the efficient runn...  Accounting_Finance  \n2    Role The purpose of the role is to provide adv...  Accounting_Finance  \n3    Excellent opportunity to join our client, an e...  Accounting_Finance  \n4    Our client offers a interesting opportunity fo...  Accounting_Finance  \n..                                                 ...                 ...  \n771  An opportunity has arisen for a Property Value...               Sales  \n772  Our client is a Yorkshire based well establish...               Sales  \n773  LOCATION: Peterborough JOB TITLE: Marketing Ex...               Sales  \n774  Our client based in the outskirts of Poole in ...               Sales  \n775  Senior Sales Negotiator Location : Shoreditch ...               Sales  \n\n[776 rows x 6 columns]",
      "text/html": "<div>\n<style scoped>\n    .dataframe tbody tr th:only-of-type {\n        vertical-align: middle;\n    }\n\n    .dataframe tbody tr th {\n        vertical-align: top;\n    }\n\n    .dataframe thead th {\n        text-align: right;\n    }\n</style>\n<table border=\"1\" class=\"dataframe\">\n  <thead>\n    <tr style=\"text-align: right;\">\n      <th></th>\n      <th>ID</th>\n      <th>Title</th>\n      <th>Webindex</th>\n      <th>Company</th>\n      <th>Description</th>\n      <th>Category</th>\n    </tr>\n  </thead>\n  <tbody>\n    <tr>\n      <th>0</th>\n      <td>00232</td>\n      <td>FP&amp;A  Blue Chip</td>\n      <td>68802053</td>\n      <td>Hays Senior Finance</td>\n      <td>A market leading retail business is going thro...</td>\n      <td>Accounting_Finance</td>\n    </tr>\n    <tr>\n      <th>1</th>\n      <td>00233</td>\n      <td>Part time Management Accountant</td>\n      <td>70757636</td>\n      <td>FS2 UK Ltd</td>\n      <td>You will be responsible for the efficient runn...</td>\n      <td>Accounting_Finance</td>\n    </tr>\n    <tr>\n      <th>2</th>\n      <td>00234</td>\n      <td>IFA  EMPLOYED</td>\n      <td>71356489</td>\n      <td>Clark James Ltd</td>\n      <td>Role The purpose of the role is to provide adv...</td>\n      <td>Accounting_Finance</td>\n    </tr>\n    <tr>\n      <th>3</th>\n      <td>00235</td>\n      <td>Finance Manager</td>\n      <td>69073629</td>\n      <td>Accountancy Action Ltd</td>\n      <td>Excellent opportunity to join our client, an e...</td>\n      <td>Accounting_Finance</td>\n    </tr>\n    <tr>\n      <th>4</th>\n      <td>00236</td>\n      <td>Management Accountant</td>\n      <td>70656648</td>\n      <td>Alexander Lloyd</td>\n      <td>Our client offers a interesting opportunity fo...</td>\n      <td>Accounting_Finance</td>\n    </tr>\n    <tr>\n      <th>...</th>\n      <td>...</td>\n      <td>...</td>\n      <td>...</td>\n      <td>...</td>\n      <td>...</td>\n      <td>...</td>\n    </tr>\n    <tr>\n      <th>771</th>\n      <td>00772</td>\n      <td>Valuer</td>\n      <td>68056671</td>\n      <td>GCB Agency Recruitment</td>\n      <td>An opportunity has arisen for a Property Value...</td>\n      <td>Sales</td>\n    </tr>\n    <tr>\n      <th>772</th>\n      <td>00773</td>\n      <td>Sales Manager  IT / Telecoms</td>\n      <td>68256016</td>\n      <td>Not Specified</td>\n      <td>Our client is a Yorkshire based well establish...</td>\n      <td>Sales</td>\n    </tr>\n    <tr>\n      <th>773</th>\n      <td>00774</td>\n      <td>Telesales Executive</td>\n      <td>71737507</td>\n      <td>THESMARTLIST.co.uk</td>\n      <td>LOCATION: Peterborough JOB TITLE: Marketing Ex...</td>\n      <td>Sales</td>\n    </tr>\n    <tr>\n      <th>774</th>\n      <td>00775</td>\n      <td>International Account Manager</td>\n      <td>70205492</td>\n      <td>Bond Williams</td>\n      <td>Our client based in the outskirts of Poole in ...</td>\n      <td>Sales</td>\n    </tr>\n    <tr>\n      <th>775</th>\n      <td>00776</td>\n      <td>Estate Agency Senior Sales Negotiator</td>\n      <td>72444142</td>\n      <td>ESTATE AGENCY PROFESSIONALS</td>\n      <td>Senior Sales Negotiator Location : Shoreditch ...</td>\n      <td>Sales</td>\n    </tr>\n  </tbody>\n</table>\n<p>776 rows × 6 columns</p>\n</div>"
     },
     "execution_count": 5,
     "metadata": {},
     "output_type": "execute_result"
    }
   ],
   "source": [
    "df = pd.DataFrame(data)\n",
    "df"
   ],
   "metadata": {
    "collapsed": false,
    "ExecuteTime": {
     "end_time": "2024-09-01T16:25:22.439179Z",
     "start_time": "2024-09-01T16:25:22.381367Z"
    }
   },
   "execution_count": 5
  },
  {
   "cell_type": "markdown",
   "metadata": {},
   "source": [
    "### 1.2 Pre-processing data\n",
    "Perform the required text pre-processing steps."
   ]
  },
  {
   "cell_type": "markdown",
   "metadata": {},
   "source": [
    "...... Sections and code blocks on basic text pre-processing\n",
    "\n",
    "\n",
    "<span style=\"color: red\"> You might have complex notebook structure in this section, please feel free to create your own notebook structure. </span>"
   ]
  },
  {
   "cell_type": "code",
   "outputs": [],
   "source": [
    "# 1. Extract information from each job advertisement. Perform the following pre-processing steps to the\n",
    "# description of each job advertisement;\n",
    "\n",
    "pattern = r'[^a-zA-Z0-9\\s]'\n",
    "# Clean up Title special character\n",
    "df['Title'] = df['Title'].str.replace(pattern, '', regex=True)\n",
    "\n",
    "# Clean up Description special character\n",
    "df['Description'] = df['Description'].str.replace(pattern, '', regex=True)\n",
    "df['Description'] = [desc.lower() for desc in df['Description']]"
   ],
   "metadata": {
    "collapsed": false,
    "ExecuteTime": {
     "end_time": "2024-09-01T16:25:22.515633Z",
     "start_time": "2024-09-01T16:25:22.442179Z"
    }
   },
   "execution_count": 6
  },
  {
   "cell_type": "code",
   "outputs": [
    {
     "data": {
      "text/plain": "Company\nFalse    776\nName: count, dtype: int64"
     },
     "execution_count": 7,
     "metadata": {},
     "output_type": "execute_result"
    }
   ],
   "source": [
    "df['Company'].isna().value_counts()\n",
    "## If Na --> Not specified"
   ],
   "metadata": {
    "collapsed": false,
    "ExecuteTime": {
     "end_time": "2024-09-01T16:25:22.546786Z",
     "start_time": "2024-09-01T16:25:22.518624Z"
    }
   },
   "execution_count": 7
  },
  {
   "cell_type": "code",
   "outputs": [],
   "source": [
    "# 2.Tokenize each job advertisement description. The word tokenization must use the following regular\n",
    "# expression, r\"[a-zA-Z]+(?:[-'][a-zA-Z]+)?\";\n",
    "pattern = r\"[a-zA-Z]+(?:[-'][a-zA-Z]+)?\"\n",
    "df['Tokenized_description'] = df['Description'].apply(lambda x: re.findall(pattern, x))\n"
   ],
   "metadata": {
    "collapsed": false,
    "ExecuteTime": {
     "end_time": "2024-09-01T16:25:22.624221Z",
     "start_time": "2024-09-01T16:25:22.548783Z"
    }
   },
   "execution_count": 8
  },
  {
   "cell_type": "code",
   "outputs": [],
   "source": [
    "# 3. All the words must be converted into the lower case;\n",
    "df = df.map(lambda x: x.lower() if isinstance(x, str) else x)"
   ],
   "metadata": {
    "collapsed": false,
    "ExecuteTime": {
     "end_time": "2024-09-01T16:25:22.640228Z",
     "start_time": "2024-09-01T16:25:22.626228Z"
    }
   },
   "execution_count": 9
  },
  {
   "cell_type": "code",
   "outputs": [
    {
     "data": {
      "text/plain": "['location',\n 'peterborough',\n 'job',\n 'title',\n 'marketing',\n 'executive',\n 'telesales',\n 'executive',\n 'trainee',\n 'recruitment',\n 'consultant',\n 'salary',\n 'benefits',\n 'k',\n 'k',\n 'bonus',\n 'k',\n 'days',\n 'annual',\n 'leave',\n 'stat',\n 'pension',\n 'healthcare',\n 'after',\n 'year',\n 'working',\n 'hours',\n 'full',\n 'time',\n 'mon',\n 'fri',\n 'hours',\n 'per',\n 'week',\n 'the',\n 'role',\n 'telesales',\n 'executive',\n 'the',\n 'role',\n 'will',\n 'be',\n 'to',\n 'become',\n 'part',\n 'of',\n 'a',\n 'busy',\n 'internal',\n 'sales',\n 'team',\n 'producing',\n 'outbound',\n 'telesales',\n 'enquiries',\n 'focusing',\n 'on',\n 'selling',\n 'our',\n 'online',\n 'fixed',\n 'fee',\n 'recruitment',\n 'service',\n 'the',\n 'role',\n 'will',\n 'be',\n 'predominately',\n 'outbound',\n 'telesales',\n 'looking',\n 'to',\n 'identify',\n 'decision',\n 'makers',\n 'with',\n 'recruitment',\n 'responsibilities',\n 'within',\n 'a',\n 'variety',\n 'of',\n 'types',\n 'of',\n 'companies',\n 'once',\n 'a',\n 'warm',\n 'lead',\n 'is',\n 'developed',\n 'this',\n 'will',\n 'be',\n 'closed',\n 'or',\n 'passed',\n 'onto',\n 'our',\n 'senior',\n 'sales',\n 'team',\n 'for',\n 'completion',\n 'this',\n 'is',\n 'an',\n 'entry',\n 'level',\n 'position',\n 'with',\n 'ourselves',\n 'with',\n 'a',\n 'view',\n 'point',\n 'that',\n 'the',\n 'successful',\n 'candidate',\n 'will',\n 'develop',\n 'into',\n 'a',\n 'senior',\n 'member',\n 'of',\n 'the',\n 'sales',\n 'team',\n 'with',\n 'training',\n 'and',\n 'development',\n 'on',\n 'offer',\n 'key',\n 'responsibilities',\n 'to',\n 'include',\n 'outbound',\n 'sales',\n 'contacting',\n 'new',\n 'and',\n 'existing',\n 'customers',\n 'proactively',\n 'identify',\n 'key',\n 'decision',\n 'makers',\n 'source',\n 'leads',\n 'and',\n 'new',\n 'customers',\n 'research',\n 'new',\n 'potential',\n 'clients',\n 'store',\n 'information',\n 'and',\n 'records',\n 'on',\n 'crm',\n 'system',\n 'utilise',\n 'and',\n 'manage',\n 'data',\n 'sources',\n 'conduct',\n 'emarketing',\n 'campaigns',\n 'with',\n 'follow',\n 'up',\n 'telephone',\n 'calls',\n 'the',\n 'company',\n 'the',\n 'smartlist',\n 'is',\n 'owned',\n 'and',\n 'operated',\n 'by',\n 'johnston',\n 'press',\n 'one',\n 'of',\n 'the',\n 'uk',\n 'and',\n 'irelands',\n 'biggest',\n 'publishers',\n 'of',\n 'daily',\n 'and',\n 'weekly',\n 'newspapers',\n 'magazines',\n 'and',\n 'popular',\n 'online',\n 'platforms',\n 'including',\n 'dealmonster',\n 'and',\n 'jobstoday',\n 'with',\n 'over',\n 'wellloved',\n 'consumer',\n 'titles',\n 'in',\n 'markets',\n 'across',\n 'the',\n 'uk',\n 'no',\n 'one',\n 'is',\n 'better',\n 'placed',\n 'than',\n 'johnston',\n 'press',\n 'to',\n 'provide',\n 'business',\n 'with',\n 'fast',\n 'fixedprice',\n 'recruitment',\n 'online',\n 'visit',\n 'us',\n 'online',\n 'to',\n 'find',\n 'out',\n 'more',\n 'at',\n 'url',\n 'removed',\n 'the',\n 'candidate',\n 'we',\n 'are',\n 'looking',\n 'for',\n 'a',\n 'highly',\n 'driven',\n 'and',\n 'enthusiastic',\n 'person',\n 'to',\n 'join',\n 'the',\n 'telesales',\n 'team',\n 'key',\n 'experience',\n 'preferred',\n 'for',\n 'the',\n 'role',\n 'a',\n 'background',\n 'in',\n 'oubound',\n 'telesales',\n 'with',\n 'a',\n 'preference',\n 'of',\n 'dealing',\n 'with',\n 'b',\n 'b',\n 'markets',\n 'a',\n 'lively',\n 'and',\n 'enthusiastic',\n 'nature',\n 'and',\n 'personality',\n 'excellent',\n 'telephone',\n 'manner',\n 'a',\n 'strong',\n 'record',\n 'of',\n 'achieving',\n 'telesales',\n 'based',\n 'targets',\n 'hungry',\n 'to',\n 'progress',\n 'career',\n 'and',\n 'earning',\n 'potentials',\n 'if',\n 'you',\n 'feel',\n 'this',\n 'sounds',\n 'like',\n 'you',\n 'then',\n 'please',\n 'apply',\n 'now',\n 'on',\n 'receipt',\n 'of',\n 'your',\n 'application',\n 'we',\n 'will',\n 'send',\n 'you',\n 'an',\n 'online',\n 'interview',\n 'questionnaire',\n 'to',\n 'complete',\n 'to',\n 'enhance',\n 'your',\n 'application',\n 'keywords',\n 'sales',\n 'telesales',\n 'customer',\n 'service',\n 'lead',\n 'generation',\n 'appointment',\n 'generating',\n 'canvassing',\n 'account',\n 'manager',\n 'business',\n 'development',\n 'customer',\n 'accounts',\n 'recruitment',\n 'consultant',\n 'business',\n 'development',\n 'manager']"
     },
     "execution_count": 10,
     "metadata": {},
     "output_type": "execute_result"
    }
   ],
   "source": [
    "df['Tokenized_description'][773]"
   ],
   "metadata": {
    "collapsed": false,
    "ExecuteTime": {
     "end_time": "2024-09-01T16:25:22.671590Z",
     "start_time": "2024-09-01T16:25:22.643572Z"
    }
   },
   "execution_count": 10
  },
  {
   "cell_type": "code",
   "outputs": [
    {
     "data": {
      "text/plain": "['location',\n 'peterborough',\n 'job',\n 'title',\n 'marketing',\n 'executive',\n 'telesales',\n 'executive',\n 'trainee',\n 'recruitment',\n 'consultant',\n 'salary',\n 'benefits',\n 'bonus',\n 'days',\n 'annual',\n 'leave',\n 'stat',\n 'pension',\n 'healthcare',\n 'after',\n 'year',\n 'working',\n 'hours',\n 'full',\n 'time',\n 'mon',\n 'fri',\n 'hours',\n 'per',\n 'week',\n 'the',\n 'role',\n 'telesales',\n 'executive',\n 'the',\n 'role',\n 'will',\n 'be',\n 'to',\n 'become',\n 'part',\n 'of',\n 'busy',\n 'internal',\n 'sales',\n 'team',\n 'producing',\n 'outbound',\n 'telesales',\n 'enquiries',\n 'focusing',\n 'on',\n 'selling',\n 'our',\n 'online',\n 'fixed',\n 'fee',\n 'recruitment',\n 'service',\n 'the',\n 'role',\n 'will',\n 'be',\n 'predominately',\n 'outbound',\n 'telesales',\n 'looking',\n 'to',\n 'identify',\n 'decision',\n 'makers',\n 'with',\n 'recruitment',\n 'responsibilities',\n 'within',\n 'variety',\n 'of',\n 'types',\n 'of',\n 'companies',\n 'once',\n 'warm',\n 'lead',\n 'is',\n 'developed',\n 'this',\n 'will',\n 'be',\n 'closed',\n 'or',\n 'passed',\n 'onto',\n 'our',\n 'senior',\n 'sales',\n 'team',\n 'for',\n 'completion',\n 'this',\n 'is',\n 'an',\n 'entry',\n 'level',\n 'position',\n 'with',\n 'ourselves',\n 'with',\n 'view',\n 'point',\n 'that',\n 'the',\n 'successful',\n 'candidate',\n 'will',\n 'develop',\n 'into',\n 'senior',\n 'member',\n 'of',\n 'the',\n 'sales',\n 'team',\n 'with',\n 'training',\n 'and',\n 'development',\n 'on',\n 'offer',\n 'key',\n 'responsibilities',\n 'to',\n 'include',\n 'outbound',\n 'sales',\n 'contacting',\n 'new',\n 'and',\n 'existing',\n 'customers',\n 'proactively',\n 'identify',\n 'key',\n 'decision',\n 'makers',\n 'source',\n 'leads',\n 'and',\n 'new',\n 'customers',\n 'research',\n 'new',\n 'potential',\n 'clients',\n 'store',\n 'information',\n 'and',\n 'records',\n 'on',\n 'crm',\n 'system',\n 'utilise',\n 'and',\n 'manage',\n 'data',\n 'sources',\n 'conduct',\n 'emarketing',\n 'campaigns',\n 'with',\n 'follow',\n 'up',\n 'telephone',\n 'calls',\n 'the',\n 'company',\n 'the',\n 'smartlist',\n 'is',\n 'owned',\n 'and',\n 'operated',\n 'by',\n 'johnston',\n 'press',\n 'one',\n 'of',\n 'the',\n 'uk',\n 'and',\n 'irelands',\n 'biggest',\n 'publishers',\n 'of',\n 'daily',\n 'and',\n 'weekly',\n 'newspapers',\n 'magazines',\n 'and',\n 'popular',\n 'online',\n 'platforms',\n 'including',\n 'dealmonster',\n 'and',\n 'jobstoday',\n 'with',\n 'over',\n 'wellloved',\n 'consumer',\n 'titles',\n 'in',\n 'markets',\n 'across',\n 'the',\n 'uk',\n 'no',\n 'one',\n 'is',\n 'better',\n 'placed',\n 'than',\n 'johnston',\n 'press',\n 'to',\n 'provide',\n 'business',\n 'with',\n 'fast',\n 'fixedprice',\n 'recruitment',\n 'online',\n 'visit',\n 'us',\n 'online',\n 'to',\n 'find',\n 'out',\n 'more',\n 'at',\n 'url',\n 'removed',\n 'the',\n 'candidate',\n 'we',\n 'are',\n 'looking',\n 'for',\n 'highly',\n 'driven',\n 'and',\n 'enthusiastic',\n 'person',\n 'to',\n 'join',\n 'the',\n 'telesales',\n 'team',\n 'key',\n 'experience',\n 'preferred',\n 'for',\n 'the',\n 'role',\n 'background',\n 'in',\n 'oubound',\n 'telesales',\n 'with',\n 'preference',\n 'of',\n 'dealing',\n 'with',\n 'markets',\n 'lively',\n 'and',\n 'enthusiastic',\n 'nature',\n 'and',\n 'personality',\n 'excellent',\n 'telephone',\n 'manner',\n 'strong',\n 'record',\n 'of',\n 'achieving',\n 'telesales',\n 'based',\n 'targets',\n 'hungry',\n 'to',\n 'progress',\n 'career',\n 'and',\n 'earning',\n 'potentials',\n 'if',\n 'you',\n 'feel',\n 'this',\n 'sounds',\n 'like',\n 'you',\n 'then',\n 'please',\n 'apply',\n 'now',\n 'on',\n 'receipt',\n 'of',\n 'your',\n 'application',\n 'we',\n 'will',\n 'send',\n 'you',\n 'an',\n 'online',\n 'interview',\n 'questionnaire',\n 'to',\n 'complete',\n 'to',\n 'enhance',\n 'your',\n 'application',\n 'keywords',\n 'sales',\n 'telesales',\n 'customer',\n 'service',\n 'lead',\n 'generation',\n 'appointment',\n 'generating',\n 'canvassing',\n 'account',\n 'manager',\n 'business',\n 'development',\n 'customer',\n 'accounts',\n 'recruitment',\n 'consultant',\n 'business',\n 'development',\n 'manager']"
     },
     "execution_count": 11,
     "metadata": {},
     "output_type": "execute_result"
    }
   ],
   "source": [
    "# 4. Remove words with length less than 2.\n",
    "df['Tokenized_description'] = [[word for word in line if len(word) >=2] for line in\n",
    "df['Tokenized_description']]\n",
    "df['Tokenized_description'][773]"
   ],
   "metadata": {
    "collapsed": false,
    "ExecuteTime": {
     "end_time": "2024-09-01T16:25:22.735129Z",
     "start_time": "2024-09-01T16:25:22.674586Z"
    }
   },
   "execution_count": 11
  },
  {
   "cell_type": "code",
   "outputs": [
    {
     "name": "stdout",
     "output_type": "stream",
     "text": [
      "{'hardly', 'normally', 'goes', 'mainly', 'done', 'tried', 'per', 'q', 'neither', 'x', 'also', 'looks', 'causes', 'regarding', 'what', \"didn't\", 'everyone', 'outside', 'does', 'appreciate', 'specified', 'tends', 'instead', 'all', \"i'd\", \"it'll\", 'mean', 'though', 'described', 'beside', 'forth', \"shouldn't\", 'eg', \"where's\", 'downwards', 'going', 'concerning', 'greetings', 'value', 'get', 'furthermore', 'for', 'own', 'thereafter', 'uucp', 'besides', 'every', 'ourselves', 'viz', 's', 'hopefully', 'might', 'useful', 'however', 'hereby', 'thru', 'inward', 'less', 'appropriate', \"haven't\", 'but', 'needs', 'currently', 'likely', 'whole', 'associated', 'can', 'later', 'consequently', 'right', 'sometime', 'better', 'latter', 'rather', \"i'm\", 'whereupon', 'that', 'very', 'him', 'seeing', 'or', \"there's\", 'do', 'on', 'thank', 'above', 'any', 'several', 'once', \"ain't\", 'anybody', 'sub', 'whatever', 'yourselves', 'who', 'somewhere', 'anyhow', 'he', 'liked', 'after', 'containing', 'serious', 'than', 'such', 'whom', 'l', 'old', 'nothing', 'yes', 'five', 'certainly', 'enough', 'something', 'like', 'my', 'nevertheless', 'w', 'said', 'at', 'has', 'near', 'they', 'this', 'followed', 'the', 'within', 'whereby', 'known', 'alone', 'gotten', \"c'mon\", 'she', 'j', 'certain', \"can't\", 'anyways', 'may', 'little', 'same', 'yourself', 'probably', \"we'd\", 'course', 'sometimes', 'otherwise', 'uses', 'obviously', 'th', 'with', 'doing', 'f', 'is', 'non', 'now', 'else', 'quite', 'tell', 'hi', \"wasn't\", 'everything', 'so', 'because', 'no', 'took', \"isn't\", 'eight', 'towards', 'immediate', 'around', 'either', 'willing', 'anything', 'unlikely', 'could', 'soon', 'seriously', 'despite', 'corresponding', 'using', 'it', 'formerly', \"here's\", 'g', 'here', 'name', 'wherein', 'p', 'y', 'i', 'novel', 'whenever', 'namely', 'myself', \"i've\", 'four', 'believe', 'ought', 'insofar', 'between', 'entirely', 'below', 'allows', 'ask', 'one', 'seven', 'o', 'when', 'beyond', \"who's\", \"doesn't\", 'most', 'our', 'from', 'unfortunately', 'until', 'able', 'herself', 'if', 'whereafter', 'cant', 'be', 'therefore', 'let', 'theres', 'un', 'co', 'specifying', 'its', 'nobody', 'help', 'e', 'oh', 'how', 'wherever', 'been', 'fifth', 'see', 'says', \"what's\", 'noone', 'must', 'plus', 'zero', 'etc', 'others', 'new', 'just', 'sup', 'always', 'us', 'want', 'although', 'various', 'somebody', 'selves', 'know', 'went', 'appear', 'indicated', 'became', 'asking', 'shall', \"you're\", 'indicate', 'indeed', \"t's\", 'ok', \"they're\", 'aside', 'need', 'provides', 'possible', \"it's\", 'necessary', 'by', 'afterwards', 'apart', 'particularly', \"they've\", 'thats', \"couldn't\", 'ones', 'your', 'clearly', 'too', 'both', 'everybody', 'nine', \"they'll\", 'seen', 'still', 'former', 'came', 'moreover', \"you've\", 'getting', 'specify', 'to', 'follows', 'seemed', 'saying', 'further', 'through', 'different', \"you'd\", 'someone', 'somewhat', 'hereupon', 'm', 'his', 'welcome', 'becoming', 'other', 'well', 'being', 'we', 'of', 'okay', 'thanx', 'beforehand', 'indicates', 'some', 'lately', 'secondly', 'wonder', 'comes', 'over', 're', 'particular', 'allow', \"wouldn't\", 'each', 'anywhere', 'during', 'seems', 'whether', \"he's\", 'onto', 'keep', 'none', 'only', 'say', 'thus', 'placed', 'use', 'latterly', 'ours', 'qv', 'edu', 'regardless', 'nowhere', 'twice', 'perhaps', 'those', 'would', 'these', 'changes', 'theirs', 'herein', 'am', 'unto', 'maybe', 'ex', 'v', 'three', 'almost', 'et', 'saw', 'sensible', 'why', 'did', 'please', 'which', 'relatively', 'himself', 'everywhere', \"we've\", 'tries', 'about', 'since', 'via', 'somehow', \"we'll\", 'mostly', 'accordingly', 'out', \"they'd\", 'kept', 'were', 'seem', 'under', 'try', 'hello', 'meanwhile', 'few', 'across', 'third', 'a', 'their', 'themselves', 'z', 'contain', 'ever', 'them', 'first', 'then', 'sorry', 'got', 'usually', 'behind', 'yours', 'howbeit', 'before', 'example', 'hence', 'up', 'u', 'whence', 'without', 'therein', 'while', 'hereafter', 'anyway', 'go', 'rd', 'six', 'toward', 'vs', 'thereby', 'hither', 'ltd', 'wants', 'brief', 'anyone', 'inasmuch', 'will', 'even', \"don't\", 'inc', 'truly', 'respectively', 'looking', 'away', 'regards', 'me', 'and', 'merely', \"it'd\", 'into', 'wish', 'another', 'c', 'again', 'used', 'along', 'consider', 'not', 'elsewhere', 'often', 'contains', 'whoever', 'had', 'second', 'last', 'cannot', 'nor', 'much', 'down', 'exactly', 'itself', 'where', 'sure', 'unless', 'available', 'given', 'together', \"we're\", \"weren't\", 'k', 'nearly', 'two', 'whither', 'was', 'in', 'sent', 'think', 'following', 'there', 'considering', 'thoroughly', \"a's\", 'r', 'according', 'way', 'thorough', \"you'll\", 'her', \"hadn't\", 'h', 'least', \"hasn't\", 'never', \"won't\", 'whose', \"let's\", 'amongst', \"i'll\", 'que', 'thereupon', 'overall', 'awfully', 'yet', 'upon', 'among', 'inner', 'should', 'presumably', 'ignored', 'self', 'already', 'off', 'happens', 't', 'having', 'becomes', 'n', 'd', 'except', 'look', 'an', 'definitely', 'become', 'really', 'b', 'lest', 'as', 'take', 'keeps', 'gone', 'trying', 'nd', 'ie', 'reasonably', \"c's\", 'come', \"that's\", 'far', 'taken', 'thence', 'you', 'thanks', \"aren't\", 'have', 'especially', 'cause', 'seeming', 'hers', 'knows', 'more', 'against', 'best', 'throughout', 'gives', 'next', 'are', 'whereas', 'com', 'gets', 'actually', 'many'}\n"
     ]
    }
   ],
   "source": [
    "# 5. Remove stopwords using the provided stop wordslist (i.e,stopwords_en.txt). It is located inside the\n",
    "# same downloaded folder.\n",
    "\n",
    "stopwords_file_path = 'C:\\\\Users\\\\tphuo\\\\OneDrive\\\\Documents\\\\Advanced programming for Data Science\\\\Assignment_3\\\\assess3_data\\\\assess3_data\\\\stopwords_en.txt'\n",
    "\n",
    "with open(stopwords_file_path, 'r') as file:\n",
    "    stopwords = set(file.read().splitlines())\n",
    "\n",
    "print(stopwords)"
   ],
   "metadata": {
    "collapsed": false,
    "ExecuteTime": {
     "end_time": "2024-09-01T16:25:22.766130Z",
     "start_time": "2024-09-01T16:25:22.739137Z"
    }
   },
   "execution_count": 12
  },
  {
   "cell_type": "code",
   "outputs": [
    {
     "data": {
      "text/plain": "0      [market, leading, retail, business, rapid, gro...\n1      [responsible, efficient, running, accounting, ...\n2      [role, purpose, role, provide, advice, telepho...\n3      [excellent, opportunity, join, client, expandi...\n4      [client, offers, interesting, opportunity, par...\n                             ...                        \n771    [opportunity, arisen, property, valuer, liverp...\n772    [client, yorkshire, based, established, teleco...\n773    [location, peterborough, job, title, marketing...\n774    [client, based, outskirts, poole, dorset, recr...\n775    [senior, sales, negotiator, location, shoredit...\nName: Tokenized_description, Length: 776, dtype: object"
     },
     "execution_count": 13,
     "metadata": {},
     "output_type": "execute_result"
    }
   ],
   "source": [
    "# Function to process each string: tokenize, lowercase, filter out short words, and remove stopwords\n",
    "df['Tokenized_description'] = [[token for token in line if token not in stopwords] for line in df['Tokenized_description']]\n",
    "\n",
    "df['Tokenized_description']"
   ],
   "metadata": {
    "collapsed": false,
    "ExecuteTime": {
     "end_time": "2024-09-01T16:25:22.829163Z",
     "start_time": "2024-09-01T16:25:22.770626Z"
    }
   },
   "execution_count": 13
  },
  {
   "cell_type": "raw",
   "source": [
    "6. Remove the word that appears only once in the document collection, based on term frequency.\n",
    "Flatten the list of words and count frequencies"
   ],
   "metadata": {
    "collapsed": false
   }
  },
  {
   "cell_type": "code",
   "outputs": [
    {
     "data": {
      "text/plain": "104002"
     },
     "execution_count": 14,
     "metadata": {},
     "output_type": "execute_result"
    }
   ],
   "source": [
    "all_words = [word.lower() for sublist in df['Tokenized_description'] for word in sublist]\n",
    "len(all_words)"
   ],
   "metadata": {
    "collapsed": false,
    "ExecuteTime": {
     "end_time": "2024-09-01T16:25:22.860307Z",
     "start_time": "2024-09-01T16:25:22.835174Z"
    }
   },
   "execution_count": 14
  },
  {
   "cell_type": "code",
   "outputs": [
    {
     "name": "stdout",
     "output_type": "stream",
     "text": [
      "The number of words that appear only once in the entire corpus is: 4719\n"
     ]
    },
    {
     "data": {
      "text/plain": "['communicational',\n 'commentaries',\n 'concluding',\n 'tangible',\n 'intangible',\n 'yearly',\n 'customs',\n 'mortgages',\n 'letchworth',\n 'qualifiedfinalist',\n 'deferred',\n 'accrued',\n 'monthend',\n 'depreciation',\n 'ejr',\n 'alexander',\n 'wwwalexanderlloydcouk',\n 'customerfocussed',\n 'mortgagebroker',\n 'interactions',\n 'hucknall',\n 'invoicecredit',\n 'cherry',\n 'wwwtotaljobscomjobseekingaccountsassistantjob',\n 'leavers',\n 'settlements',\n 'wwwtotaljobscomjobseekingpensionsadministratorjob',\n 'collaboratively',\n 'sufficiently',\n 'kpisbusiness',\n 'exploit',\n 'requisite',\n 'sas',\n 'dexterity',\n 'disparate',\n 'believer',\n 'finds',\n 'intuition',\n 'overflowback',\n 'adminfinance',\n 'optimistic',\n 'wwwtotaljobscomjobseekingfinancialadministratorandsupportfleetdeptjob',\n 'administrating',\n 'fascinating',\n 'qpaapmi',\n 'formalinformal',\n 'abenefitu',\n 'websites',\n 'ignore',\n 'abenefit',\n 'prestigeous',\n 'computation',\n 'recognises',\n 'cb',\n 'wwwtotaljobscomjobseekingfinancialaccountantjob',\n 'audited',\n 'existence',\n 'londonlawesgroupcouk',\n 'sequence',\n 'connells',\n 'unwavering',\n 'seat',\n 'boardroom',\n 'onetwotrade',\n 'juniortrainee',\n 'facilitators',\n 'learnt',\n 'learned',\n 'facilitation',\n 'complicated',\n 'rails',\n 'yellow',\n 'nonlife',\n 'mitigations',\n 'steering',\n 'solvency',\n 'ii',\n 'validity',\n 'analytic',\n 'reinsurance',\n 'louis',\n 'manson',\n 'louismansonstaractuarialcom',\n 'antony',\n 'buxton',\n 'fia',\n 'antonybuxtonstaractuarialcom',\n 'cashflows',\n 'dealt',\n 'highimpact',\n 'converging',\n 'realisation',\n 'ota',\n 'prince',\n 'mpayment',\n 'nestle',\n 'experineced',\n 'pensiojn',\n 'gatwick',\n 'progressing',\n 'screened',\n 'fleetmotor',\n 'tradetaxi',\n 'prv',\n 'scrutinies',\n 'environmentmotor',\n 'wwwtotaljobscomjobseekingcommercialunderwritingmotorteamleaderjob',\n 'tackling',\n 'eating',\n 'habits',\n 'obesity',\n 'underway',\n 'everevolving',\n 'registrars',\n 'crest',\n 'oeic',\n 'accumulation',\n 'clientifa',\n 'satisfactorily',\n 'wwwtotaljobscomjobseekingdividendscorporateactionsadministratorjob',\n 'repayment',\n 'reconciled',\n 'diligence',\n 'unincorporated',\n 'appeals',\n 'catchment',\n 'stowmarket',\n 'needham',\n 'sudbury',\n 'mildenhall',\n 'wwwtotaljobscomjobseekingaccountsseniorportfoliomanagerjob',\n 'communicationconsultancy',\n 'cook',\n 'moss',\n 'springboard',\n 'gl',\n 'lbe',\n 'felt',\n 'investable',\n 'introducers',\n 'bsuiness',\n 'barry',\n 'pendrill',\n 'barrypendrillhanoversearchcom',\n 'operationallyfocused',\n 'fd',\n 'boasted',\n 'wwwtotaljobscomjobseekinginternalauditmanagerjob',\n 'kris',\n 'shortfalls',\n 'remediate',\n 'custodians',\n 'transacted',\n 'treasuryinvestment',\n 'august',\n 'clarke',\n 'wwwtotaljobscomjobseekinginvestmentstreasurycontrollerjob',\n 'implemention',\n 'critically',\n 'valueadd',\n 'realises',\n 'planbudget',\n 'seminarstraining',\n 'diplomatic',\n 'numericalanalytical',\n 'wwwtotaljobscomjobseekingfinanceassistantjob',\n 'chertsey',\n 'benchmarks',\n 'wwwtotaljobscomjobseekingbusinessperformancemanagerjob',\n 'upps',\n 'pd',\n 'rents',\n 'deposit',\n 'cultures',\n 'inquisitive',\n 'diversified',\n 'allocations',\n 'mpgw',\n 'discounting',\n 'yourprimary',\n 'subjectmatterexpert',\n 'accurancy',\n 'visibility',\n 'cumulative',\n 'charges',\n 'kpmg',\n 'intracompany',\n 'scores',\n 'notably',\n 'postcloses',\n 'representation',\n 'signoffs',\n 'scripts',\n 'simplification',\n 'issuesprovide',\n 'onboarding',\n 'accountingreporting',\n 'multiyear',\n 'ca',\n 'eastern',\n 'smartview',\n 'wwwtotaljobscomjobseekingfinancialreportinganalystjob',\n 'starters',\n 'finishers',\n 'fo',\n 'wwwtotaljobscomjobseekingpayrollassistantjob',\n 'pupils',\n 'ofsted',\n 'sixth',\n 'tradition',\n 'njc',\n 'payingin',\n 'preservation',\n 'recordkeeping',\n 'destruction',\n 'tts',\n 'annotation',\n 'withdrawals',\n 'filed',\n 'managements',\n 'instances',\n 'wwwtotaljobscomjobseekingaccountsauditseniorjob',\n 'developerteam',\n 'multitier',\n 'ooad',\n 'soap',\n 'linq',\n 'xslt',\n 'xsd',\n 'xpath',\n 'microsofts',\n 'frameworkhe',\n 'objectoriented',\n 'eagerness',\n 'scrum',\n 'methodologythey',\n 'adoption',\n 'wwwtotaljobscomjobseekingseniordeveloperwithcvisualstudioskillsjob',\n 'enter',\n 'authorising',\n 'chequesbacs',\n 'downloading',\n 'rejects',\n 'admincharterhouserecruitmentcouk',\n 'wwwtotaljobscomjobseekingpurchaseledgerclerkjob',\n 'pt',\n 'fenland',\n 'pe',\n 'systemsrisk',\n 'probity',\n 'careful',\n 'partaking',\n 'irregularity',\n 'investigatory',\n 'replying',\n 'fail',\n 'explains',\n 'highlighted',\n 'preferabledesirable',\n 'piia',\n 'authoritypublic',\n 'divisionsdisciplines',\n 'financeinternal',\n 'requesting',\n 'jobstriumphgbcom',\n 'triumph',\n 'accaacacima',\n 'emp',\n 'responsibilitiesimplement',\n 'managementestablish',\n 'risksdrive',\n 'risklead',\n 'recruitmentmanage',\n 'risksbuild',\n 'stakeholderssupport',\n 'skillsmarket',\n 'nontraded',\n 'riskunderstanding',\n 'irrbb',\n 'regulatorsexcellent',\n 'businessesproven',\n 'experiencedegree',\n 'desirableprofessional',\n 'prm',\n 'treasuryamctmct',\n 'intrastat',\n 'ec',\n 'accacimamba',\n 'ambitions',\n 'impress',\n 'sponsorship',\n 'shortlisting',\n 'unitgroup',\n 'obtainexchange',\n 'initiation',\n 'regulator',\n 'borner',\n 'lucky',\n 'relative',\n 'seniors',\n 'ctaatt',\n 'proving',\n 'dowdeswell',\n 'infotaxcouk',\n 'protax',\n 'carlymackenzieedenscottcom',\n 'sf',\n 'acquisitive',\n 'processescontrols',\n 'profitabilityonly',\n 'landlord',\n 'tenant',\n 'declinature',\n 'agreeing',\n 'passing',\n 'ssp',\n 'smp',\n 'documentations',\n 'ni',\n 'wwwtotaljobscomjobseekingparttimepayrollclerkjob',\n 'auditsprojects',\n 'hydrogen',\n 'inyear',\n 'outturn',\n 'determines',\n 'segmented',\n 'analysiscontrol',\n 'adapting',\n 'whollyowned',\n 'producer',\n 'lowcarbon',\n 'underpinned',\n 'generations',\n 'managementsupervision',\n 'accounant',\n 'lloydspharmacy',\n 'dispense',\n 'aah',\n 'deliveries',\n 'stocked',\n 'gains',\n 'disclosures',\n 'elections',\n 'reinvestment',\n 'losses',\n 'restricted',\n 'unrestricted',\n 'delegated',\n 'nterpersonal',\n 'taxation',\n 'pbo',\n 'wwwtotaljobscomjobseekingcorporatetaxaccounantcoventryjob',\n 'interruption',\n 'cradle',\n 'grave',\n 'lloyds',\n 'directorshareholder',\n 'afcila',\n 'martin',\n 'porthouse',\n 'mpo',\n 'wilmslow',\n 'poynton',\n 'organizations',\n 'informative',\n 'theuks',\n 'inherent',\n 'crude',\n 'lng',\n 'greeks',\n 'wwwrealstaffingcom',\n 'companyoffice',\n 'introduce',\n 'startersleavers',\n 'rti',\n 'wwwtotaljobscomjobseekingpayrollmanagerjob',\n 'barclay',\n 'meade',\n 'stratford',\n 'wwwtotaljobscomjobseekingpensionsandpayrollconsultantjob',\n 'wwwtotaljobscomjobseekingriskanalystjob',\n 'accountshead',\n 'ap',\n 'revise',\n 'wwwtotaljobscomjobseekingaccountspayableteamleadersupervisorjob',\n 'evenly',\n 'sageline',\n 'sapa',\n 'taxis',\n 'gatekeeper',\n 'agendas',\n 'kyc',\n 'wpm',\n 'preparationof',\n 'entities',\n 'dictate',\n 'competitivesalary',\n 'wwwtotaljobscomjobseekingaccountssemiseniorjob',\n 'peopleteam',\n 'handles',\n 'binding',\n 'oknowledge',\n 'oexperienced',\n 'predominantlylocally',\n 'icas',\n 'absolutely',\n 'suffered',\n 'shrinkage',\n 'attentive',\n 'negated',\n 'toil',\n 'gateway',\n 'highstreet',\n 'wwwtotaljobscomjobseekingauditexecutivejob',\n 'calendar',\n 'ashe',\n 'conceptually',\n 'picture',\n 'reflex',\n 'httpwwwcmcconsultingcouk',\n 'aatacca',\n 'iris',\n 'lindakoonerpertempscouk',\n 'workyou',\n 'manneryou',\n 'belgium',\n 'wwwtotaljobscomjobseekingsupportaccountantjob',\n 'backgroundwhois',\n 'toworking',\n 'wwwtotaljobscomjobseekingtaxassistantmanagerjob',\n 'hatstand',\n 'weaknesses',\n 'replica',\n 'mathematica',\n 'differential',\n 'equations',\n 'validationrestoration',\n 'floorcoverings',\n 'woods',\n 'ceramics',\n 'salesfitting',\n 'nordic',\n 'irregularities',\n 'verticals',\n 'sows',\n 'flagging',\n 'fireworks',\n 'wwwtotaljobscomjobseekingprojectmanagerjob',\n 'deficient',\n 'compliancerelated',\n 'unlawful',\n 'wwwtotaljobscomjobseekingcompliancemonitoringofficerjob',\n 'investigo',\n 'systemprocess',\n 'wwwtotaljobscomjobseekinggroupcontrolsanalystjob',\n 'chicago',\n 'paris',\n 'apis',\n 'wwwtotaljobscomjobseekingclientsupportanalystbuysidetechnologylondoncityjob',\n 'reef',\n 'exponentially',\n 'dominates',\n 'marks',\n 'clientfocused',\n 'highlymotivated',\n 'homebased',\n 'ocassional',\n 'versions',\n 'mcdonagh',\n 'sponsor',\n 'licolnshire',\n 'analytically',\n 'academics',\n 'deserved',\n 'att',\n 'learner',\n 'ctu',\n 'highlighting',\n 'vulnerabilities',\n 'comanage',\n 'buffer',\n 'capitalrisk',\n 'scenariosstress',\n 'refinement',\n 'optimize',\n 'irb',\n 'chriscavendishmainecom',\n 'wwwtotaljobscomjobseekingicaapspecialistjob',\n 'sar',\n 'residing',\n 'urgency',\n 'proclaim',\n 'vicepresident',\n 'flm',\n 'eba',\n 'evolve',\n 'upgrading',\n 'leveraging',\n 'polices',\n 'slant',\n 'wwwtotaljobscomjobseekingfinancebusinesspartnerjob',\n 'recharge',\n 'registrations',\n 'attributesskills',\n 'inefficiencies',\n 'interrogating',\n 'wwwtotaljobscomjobseekingrranalystjob',\n 'frontoffice',\n 'quant',\n 'managment',\n 'williams',\n 'garyitscitycom',\n 'conditionsthe',\n 'ledgerpurchase',\n 'tyseley',\n 'staggering',\n 'newest',\n 'accepts',\n 'rg',\n 'varies',\n 'agilescrum',\n 'frontend',\n 'adaptable',\n 'vigour',\n 'armed',\n 'architecting',\n 'asp',\n 'cafeteria',\n 'bestival',\n 'kilimanjaro',\n 'wwwtotaljobscomjobseekingseniorcaspnetsoftwaredeveloperamigoloansjob',\n 'deeper',\n 'knowledgeskillsexperience',\n 'communicates',\n 'negotiates',\n 'modifies',\n 'afraid',\n 'conflict',\n 'confront',\n 'exploitations',\n 'affinities',\n 'wwwidexconsultingcom',\n 'relocating',\n 'mine',\n 'dhtml',\n 'insurancefinancial',\n 'transactsql',\n 'dhtmlcss',\n 'wcfnet',\n 'webservices',\n 'ntier',\n 'switchedon',\n 'fullyadvised',\n 'paplus',\n 'subsidized',\n 'acci',\n 'wwwtotaljobscomjobseekingaccountmanagerinsurancesjob',\n 'ssc',\n 'detailmeridian',\n 'pivot',\n 'tables',\n 'macros',\n 'carolineprestonpagepersonnelcouk',\n 'exc',\n 'wwwtotaljobscomjobseekingcommercialanalystjob',\n 'solver',\n 'math',\n 'commmercial',\n 'resonsibilities',\n 'fiscal',\n 'intense',\n 'coherent',\n 'wwwtotaljobscomjobseekingcommercialfinancialanalystjob',\n 'vbnet',\n 'adonet',\n 'infopath',\n 'controlproduct',\n 'vanilla',\n 'fi',\n 'ib',\n 'fs',\n 'sevices',\n 'wwwtotaljobscomjobseekinglegalentitycontrolproductibanalysisjob',\n 'externalinternal',\n 'textile',\n 'enginerring',\n 'purchasesales',\n 'cutoff',\n 'iab',\n 'qualifiedqualified',\n 'chargeresponsibilities',\n 'communicationtelephone',\n 'equities',\n 'fluctuations',\n 'lynch',\n 'choosing',\n 'resolutions',\n 'handlingcase',\n 'wwwtotaljobscomjobseekingschemeoperationsadministratorjob',\n 'grass',\n 'greener',\n 'sterling',\n 'mccall',\n 'kegworth',\n 'attracted',\n 'vested',\n 'discretionary',\n 'wwwsterlingmccallcouk',\n 'docklands',\n 'ombudsman',\n 'impacting',\n 'twg',\n 'approvals',\n 'icobs',\n 'disp',\n 'wwwtotaljobscomjobseekingcomplianceofficerjob',\n 'dotted',\n 'resulted',\n 'renewed',\n 'illustration',\n 'renew',\n 'mrk',\n 'receivables',\n 'electronically',\n 'changesrestructures',\n 'investigative',\n 'accompany',\n 'hindsight',\n 'conform',\n 'anti',\n 'suspicious',\n 'transactionsactivities',\n 'afpc',\n 'estee',\n 'venter',\n 'verifying',\n 'sort',\n 'solicitor',\n 'pi',\n 'rta',\n 'elolpl',\n 'cica',\n 'negligence',\n 'auditingreviewing',\n 'hudson',\n 'sra',\n 'academies',\n 'colleges',\n 'nsuring',\n 'reimbursement',\n 'capitation',\n 'thereof',\n 'lasts',\n 'aap',\n 'aaps',\n 'highspec',\n 'interactive',\n 'elearning',\n 'wwwtotaljobscomjobseekingaccountancyapprenticejob',\n 'gmo',\n 'fin',\n 'decisionsrequirements',\n 'conclusions',\n 'pressures',\n 'wwwtotaljobscomjobseekingregulatorypolicymanagerjob',\n 'supermarket',\n 'industryface',\n 'importantalong',\n 'businessonce',\n 'passes',\n 'wwwtotaljobscomjobseekingconsumerfinanceadministratorjob',\n 'wheatley',\n 'wwwtotaljobscomjobseekingcommercialaccountantjob',\n 'grafton',\n 'coleraine',\n 'possession',\n 'cii',\n 'avail',\n 'nadine',\n 'savage',\n 'extent',\n 'inhibit',\n 'accountingaudit',\n 'assuring',\n 'justified',\n 'treasurer',\n 'affiliate',\n 'borrowing',\n 'studier',\n 'wwwtotaljobscomjobseekingcommercialfinanceanalystjob',\n 'cleint',\n 'centric',\n 'specifics',\n 'customercentric',\n 'wwwtotaljobscomjobseekingparaplannerjob',\n 'boroughs',\n 'agenda',\n 'conversation',\n 'watts',\n 'srgeurope',\n 'formation',\n 'rigorous',\n 'compliancek',\n 'unethical',\n 'improper',\n 'evaluated',\n 'vulnerability',\n 'selfconfidence',\n 'withstand',\n 'criticism',\n 'evolving',\n 'wwwtotaljobscomjobseekingheadofcompliancejob',\n 'remunerated',\n 'tailor',\n 'boasting',\n 'longstanding',\n 'playing',\n 'outsource',\n 'lesser',\n 'cryer',\n 'timcryerbakercouk',\n 'wwwtotaljobscomjobseekingcommercialclaimshandlerjob',\n 'travelitleisureecommerce',\n 'yoy',\n 'enters',\n 'introduces',\n 'cco',\n 'embarks',\n 'forex',\n 'acma',\n 'manmanagement',\n 'processreportingit',\n 'disputed',\n 'allocating',\n 'proficiency',\n 'wwwtotaljobscomjobseekingpmisalesexecutivejob',\n 'mandates',\n 'ho',\n 'netting',\n 'bonds',\n 'guarantees',\n 'prefect',\n 'april',\n 'consist',\n 'omb',\n 'paperless',\n 'salesdealing',\n 'isnrsquot',\n 'intimidated',\n 'thrown',\n 'wwwfacebookcompagesedwardspearce',\n 'wwwtotaljobscomjobseekingsubcontractledgerclerkfulltimepermimmediatestartjob',\n 'salesassociate',\n 'initiativesstrategy',\n 'walesstaffordshirecheshire',\n 'ckk',\n 'workflows',\n 'australian',\n 'entrepreneurs',\n 'celebrated',\n 'adstreamers',\n 'derricklawesrecruitcouk',\n 'wwwlawesrecruitmentcouk',\n 'shortlist',\n 'cf',\n 'justify',\n 'propel',\n 'jim',\n 'telling',\n 'irish',\n 'finalists',\n 'caledonian',\n 'cass',\n 'joy',\n 'pensioner',\n 'payrolls',\n 'notification',\n 'pensioners',\n 'trustee',\n 'reconciliationslifestyle',\n 'switches',\n 'nonstandard',\n 'clientmember',\n 'favoured',\n 'illustrations',\n 'confidentially',\n 'displays',\n 'wwwtotaljobscomjobseekingifaclientsupportjob',\n 'misselling',\n 'navigation',\n 'ccj',\n 'racheal',\n 'serversnetworksapplication',\n 'datacenters',\n 'datacentre',\n 'cls',\n 'outstandings',\n 'nostros',\n 'cds',\n 'formatting',\n 'mt',\n 'mts',\n 'wwwbadenochandclarkcom',\n 'lets',\n 'connects',\n 'lifebadenoch',\n 'badenoch',\n 'symbol',\n 'wwwtotaljobscomjobseekingassistanttreasurymanagerjob',\n 'liability',\n 'ratio',\n 'alerts',\n 'wwwbondselectioncom',\n 'bond',\n 'victoria',\n 'diaries',\n 'timezones',\n 'couriers',\n 'callibre',\n 'residual',\n 'stimulate',\n 'debate',\n 'carveout',\n 'exacting',\n 'scenarios',\n 'compared',\n 'embed',\n 'uphold',\n 'databook',\n 'trails',\n 'version',\n 'databooks',\n 'wwwtotaljobscomjobseekingfinanceanalystjob',\n 'assure',\n 'enforcing',\n 'validating',\n 'crosssite',\n 'addressed',\n 'performancequality',\n 'assurancestandards',\n 'properly',\n 'articulated',\n 'analyticalproblem',\n 'collaborative',\n 'wwwtotaljobscomjobseekingcustomerassurancemanagerjob',\n 'underwrite',\n 'practises',\n 'fifteen',\n 'astbury',\n 'sixty',\n 'hong',\n 'kong',\n 'eve',\n 'jackson',\n 'evejacksonastburymarsdencom',\n 'wwwtotaljobscomjobseekingassociateconsultantlondonjob',\n 'priv',\n 'actuals',\n 'broader',\n 'tm',\n 'trader',\n 'cto',\n 'messages',\n 'pieces',\n 'collateral',\n 'manipulate',\n 'wwwtotaljobscomjobseekingdialoguelettersadviserjob',\n 'collate',\n 'inputting',\n 'processor',\n 'declined',\n 'precompletion',\n 'faxes',\n 'intermediaries',\n 'laurapritchardinteractionrecruitmentcouk',\n 'wwwtotaljobscomjobseekingmortgageprocessorjob',\n 'isl',\n 'riskcompliancefraud',\n 'psd',\n 'directive',\n 'lawrence',\n 'fellows',\n 'prepaid',\n 'wwwtotaljobscomjobseekingriskandcompliancemanagercardpaymentswatfordkjob',\n 'entailing',\n 'rebalancing',\n 'benchmark',\n 'havestrong',\n 'marketsstrong',\n 'universitystrong',\n 'excelprofessional',\n 'cfa',\n 'origin',\n 'cancellations',\n 'tsi',\n 'complaintcancellation',\n 'deflect',\n 'comparing',\n 'threats',\n 'stretch',\n 'quantify',\n 'wwwtotaljobscomjobseekingriskmanagerjob',\n 'leverage',\n 'brokerages',\n 'clientele',\n 'conventions',\n 'portecapplythisnet',\n 'remittances',\n 'duplicates',\n 'chaps',\n 'currencies',\n 'wwwtotaljobscomjobseekingsalespurchaseledgerclerkmaternitycoverjob',\n 'query',\n 'updatesbank',\n 'temps',\n 'wwwtotaljobscomjobseekingcreditcontrollerparttimejob',\n 'toptier',\n 'caats',\n 'cisa',\n 'cissp',\n 'mencap',\n 'fights',\n 'prejudice',\n 'debtor',\n 'payables',\n 'inflows',\n 'sharedservice',\n 'reallocations',\n 'negotiators',\n 'jobto',\n 'indirect',\n 'consumed',\n 'shortages',\n 'elimination',\n 'accidents',\n 'defectscell',\n 'lineadherence',\n 'qualificationalthough',\n 'compilation',\n 'havebe',\n 'adopts',\n 'noa',\n 'muratsubaki',\n 'engineeringto',\n 'container',\n 'akton',\n 'cliche',\n 'atkon',\n 'litteraly',\n 'dracup',\n 'tdracupaktonrecruitmentcom',\n 'diagnostics',\n 'manufacturingengineering',\n 'manufacturingprocess',\n 'wwwtotaljobscomjobseekingtemptesttechnicianjob',\n 'execute',\n 'transverse',\n 'checkingverification',\n 'argument',\n 'logically',\n 'schematicsdiagrams',\n 'shipbuilding',\n 'cvstevedignumerscouk',\n 'wwwtotaljobscomjobseekingseniorengineermechanicaljob',\n 'compentent',\n 'inverness',\n 'mechanic',\n 'commercialheavy',\n 'peaks',\n 'briefed',\n 'workinprogress',\n 'csr',\n 'laid',\n 'vosa',\n 'testers',\n 'qualificationsexperience',\n 'modify',\n 'gds',\n 'gvs',\n 'geofffairgrievematchtechcom',\n 'grip',\n 'licenses',\n 'cvhays',\n 'winchfield',\n 'detector',\n 'enquires',\n 'detectors',\n 'checkweighers',\n 'rpo',\n 'logic',\n 'combustion',\n 'np',\n 'relocators',\n 'upcoming',\n 'herefordshire',\n 'cobalt',\n 'nickelbased',\n 'wearresistant',\n 'alloys',\n 'acknowledging',\n ...]"
     },
     "execution_count": 15,
     "metadata": {},
     "output_type": "execute_result"
    }
   ],
   "source": [
    "term_fd = FreqDist(all_words)\n",
    "# Using hapaxes() to see less frequent words in term frequency\n",
    "lessFreqWords = term_fd.hapaxes()\n",
    "print(f'The number of words that appear only once in the entire corpus is: {len(lessFreqWords)}\\n')\n",
    "\n",
    "# test\n",
    "lessFreqWords"
   ],
   "metadata": {
    "collapsed": false,
    "ExecuteTime": {
     "end_time": "2024-09-01T16:25:23.030563Z",
     "start_time": "2024-09-01T16:25:22.862312Z"
    }
   },
   "execution_count": 15
  },
  {
   "cell_type": "code",
   "outputs": [],
   "source": [
    "df['Tokenized_description'] = [[word for word in line if line not in lessFreqWords] for line in df['Tokenized_description']]"
   ],
   "metadata": {
    "collapsed": false,
    "ExecuteTime": {
     "end_time": "2024-09-01T16:25:32.375019Z",
     "start_time": "2024-09-01T16:25:23.032563Z"
    }
   },
   "execution_count": 16
  },
  {
   "cell_type": "code",
   "outputs": [
    {
     "data": {
      "text/plain": "[('experience', 578),\n ('role', 495),\n ('work', 444),\n ('team', 425),\n ('working', 402),\n ('skills', 359),\n ('client', 351),\n ('job', 342),\n ('business', 335),\n ('company', 333),\n ('excellent', 303),\n ('management', 293),\n ('based', 282),\n ('opportunity', 277),\n ('apply', 275),\n ('required', 263),\n ('salary', 262),\n ('successful', 259),\n ('support', 255),\n ('join', 249),\n ('candidate', 244),\n ('knowledge', 239),\n ('service', 234),\n ('development', 233),\n ('leading', 232),\n ('uk', 227),\n ('high', 219),\n ('cv', 214),\n ('manager', 213),\n ('strong', 208),\n ('training', 206),\n ('including', 205),\n ('provide', 204),\n ('sales', 204),\n ('services', 202),\n ('ability', 201),\n ('contact', 196),\n ('position', 196),\n ('full', 194),\n ('posted', 191),\n ('originally', 190),\n ('recruitment', 188),\n ('clients', 188),\n ('benefits', 187),\n ('good', 186),\n ('essential', 186),\n ('include', 185),\n ('information', 179),\n ('customer', 178),\n ('candidates', 176)]"
     },
     "execution_count": 17,
     "metadata": {},
     "output_type": "execute_result"
    }
   ],
   "source": [
    "# 7. Remove the top 50 most frequent words based on document frequency.\n",
    "# Function to remove top 50 most frequent words\n",
    "words = list(chain.from_iterable([set(line) for line in df['Tokenized_description']]))\n",
    "doc_fd = FreqDist(words)  # compute document frequency for each unique word/type\n",
    "top_50_Most_Freq_Words = doc_fd.most_common(50)\n",
    "top_50_Most_Freq_Words"
   ],
   "metadata": {
    "collapsed": false,
    "ExecuteTime": {
     "end_time": "2024-09-01T16:25:32.468790Z",
     "start_time": "2024-09-01T16:25:32.378930Z"
    }
   },
   "execution_count": 17
  },
  {
   "cell_type": "code",
   "outputs": [],
   "source": [
    "df['Tokenized_description'] = [[word for word in line if word not in top_50_Most_Freq_Words] for line in df['Tokenized_description']]"
   ],
   "metadata": {
    "collapsed": false,
    "ExecuteTime": {
     "end_time": "2024-09-01T16:25:34.289349Z",
     "start_time": "2024-09-01T16:25:32.469773Z"
    }
   },
   "execution_count": 18
  },
  {
   "cell_type": "code",
   "outputs": [
    {
     "data": {
      "text/plain": "        ID                                  Title  Webindex  \\\n0    00232                         fpa  blue chip  68802053   \n1    00233        part time management accountant  70757636   \n2    00234                          ifa  employed  71356489   \n3    00235                        finance manager  69073629   \n4    00236                  management accountant  70656648   \n..     ...                                    ...       ...   \n771  00772                                 valuer  68056671   \n772  00773            sales manager  it  telecoms  68256016   \n773  00774                    telesales executive  71737507   \n774  00775          international account manager  70205492   \n775  00776  estate agency senior sales negotiator  72444142   \n\n                         Company  \\\n0            hays senior finance   \n1                     fs2 uk ltd   \n2                clark james ltd   \n3         accountancy action ltd   \n4                alexander lloyd   \n..                           ...   \n771       gcb agency recruitment   \n772                not specified   \n773           thesmartlist.co.uk   \n774                bond williams   \n775  estate agency professionals   \n\n                                           Description            Category  \\\n0    a market leading retail business is going thro...  accounting_finance   \n1    you will be responsible for the efficient runn...  accounting_finance   \n2    role the purpose of the role is to provide adv...  accounting_finance   \n3    excellent opportunity to join our client an ex...  accounting_finance   \n4    our client offers a interesting opportunity fo...  accounting_finance   \n..                                                 ...                 ...   \n771  an opportunity has arisen for a property value...               sales   \n772  our client is a yorkshire based well establish...               sales   \n773  location peterborough job title marketing exec...               sales   \n774  our client based in the outskirts of poole in ...               sales   \n775  senior sales negotiator location  shoreditch s...               sales   \n\n                                 Tokenized_description  \n0    [market, leading, retail, business, rapid, gro...  \n1    [responsible, efficient, running, accounting, ...  \n2    [role, purpose, role, provide, advice, telepho...  \n3    [excellent, opportunity, join, client, expandi...  \n4    [client, offers, interesting, opportunity, par...  \n..                                                 ...  \n771  [opportunity, arisen, property, valuer, liverp...  \n772  [client, yorkshire, based, established, teleco...  \n773  [location, peterborough, job, title, marketing...  \n774  [client, based, outskirts, poole, dorset, recr...  \n775  [senior, sales, negotiator, location, shoredit...  \n\n[776 rows x 7 columns]",
      "text/html": "<div>\n<style scoped>\n    .dataframe tbody tr th:only-of-type {\n        vertical-align: middle;\n    }\n\n    .dataframe tbody tr th {\n        vertical-align: top;\n    }\n\n    .dataframe thead th {\n        text-align: right;\n    }\n</style>\n<table border=\"1\" class=\"dataframe\">\n  <thead>\n    <tr style=\"text-align: right;\">\n      <th></th>\n      <th>ID</th>\n      <th>Title</th>\n      <th>Webindex</th>\n      <th>Company</th>\n      <th>Description</th>\n      <th>Category</th>\n      <th>Tokenized_description</th>\n    </tr>\n  </thead>\n  <tbody>\n    <tr>\n      <th>0</th>\n      <td>00232</td>\n      <td>fpa  blue chip</td>\n      <td>68802053</td>\n      <td>hays senior finance</td>\n      <td>a market leading retail business is going thro...</td>\n      <td>accounting_finance</td>\n      <td>[market, leading, retail, business, rapid, gro...</td>\n    </tr>\n    <tr>\n      <th>1</th>\n      <td>00233</td>\n      <td>part time management accountant</td>\n      <td>70757636</td>\n      <td>fs2 uk ltd</td>\n      <td>you will be responsible for the efficient runn...</td>\n      <td>accounting_finance</td>\n      <td>[responsible, efficient, running, accounting, ...</td>\n    </tr>\n    <tr>\n      <th>2</th>\n      <td>00234</td>\n      <td>ifa  employed</td>\n      <td>71356489</td>\n      <td>clark james ltd</td>\n      <td>role the purpose of the role is to provide adv...</td>\n      <td>accounting_finance</td>\n      <td>[role, purpose, role, provide, advice, telepho...</td>\n    </tr>\n    <tr>\n      <th>3</th>\n      <td>00235</td>\n      <td>finance manager</td>\n      <td>69073629</td>\n      <td>accountancy action ltd</td>\n      <td>excellent opportunity to join our client an ex...</td>\n      <td>accounting_finance</td>\n      <td>[excellent, opportunity, join, client, expandi...</td>\n    </tr>\n    <tr>\n      <th>4</th>\n      <td>00236</td>\n      <td>management accountant</td>\n      <td>70656648</td>\n      <td>alexander lloyd</td>\n      <td>our client offers a interesting opportunity fo...</td>\n      <td>accounting_finance</td>\n      <td>[client, offers, interesting, opportunity, par...</td>\n    </tr>\n    <tr>\n      <th>...</th>\n      <td>...</td>\n      <td>...</td>\n      <td>...</td>\n      <td>...</td>\n      <td>...</td>\n      <td>...</td>\n      <td>...</td>\n    </tr>\n    <tr>\n      <th>771</th>\n      <td>00772</td>\n      <td>valuer</td>\n      <td>68056671</td>\n      <td>gcb agency recruitment</td>\n      <td>an opportunity has arisen for a property value...</td>\n      <td>sales</td>\n      <td>[opportunity, arisen, property, valuer, liverp...</td>\n    </tr>\n    <tr>\n      <th>772</th>\n      <td>00773</td>\n      <td>sales manager  it  telecoms</td>\n      <td>68256016</td>\n      <td>not specified</td>\n      <td>our client is a yorkshire based well establish...</td>\n      <td>sales</td>\n      <td>[client, yorkshire, based, established, teleco...</td>\n    </tr>\n    <tr>\n      <th>773</th>\n      <td>00774</td>\n      <td>telesales executive</td>\n      <td>71737507</td>\n      <td>thesmartlist.co.uk</td>\n      <td>location peterborough job title marketing exec...</td>\n      <td>sales</td>\n      <td>[location, peterborough, job, title, marketing...</td>\n    </tr>\n    <tr>\n      <th>774</th>\n      <td>00775</td>\n      <td>international account manager</td>\n      <td>70205492</td>\n      <td>bond williams</td>\n      <td>our client based in the outskirts of poole in ...</td>\n      <td>sales</td>\n      <td>[client, based, outskirts, poole, dorset, recr...</td>\n    </tr>\n    <tr>\n      <th>775</th>\n      <td>00776</td>\n      <td>estate agency senior sales negotiator</td>\n      <td>72444142</td>\n      <td>estate agency professionals</td>\n      <td>senior sales negotiator location  shoreditch s...</td>\n      <td>sales</td>\n      <td>[senior, sales, negotiator, location, shoredit...</td>\n    </tr>\n  </tbody>\n</table>\n<p>776 rows × 7 columns</p>\n</div>"
     },
     "execution_count": 19,
     "metadata": {},
     "output_type": "execute_result"
    }
   ],
   "source": [
    "df"
   ],
   "metadata": {
    "collapsed": false,
    "ExecuteTime": {
     "end_time": "2024-09-01T16:25:35.886749Z",
     "start_time": "2024-09-01T16:25:34.292196Z"
    }
   },
   "execution_count": 19
  },
  {
   "cell_type": "markdown",
   "metadata": {},
   "source": [
    "## Saving required outputs\n",
    "Save the vocabulary, bigrams and job advertisment txt as per spectification.\n",
    "- vocab.txt"
   ]
  },
  {
   "cell_type": "code",
   "execution_count": 27,
   "metadata": {
    "ExecuteTime": {
     "end_time": "2024-09-01T16:34:59.551403Z",
     "start_time": "2024-09-01T16:34:59.293822Z"
    }
   },
   "outputs": [
    {
     "data": {
      "text/plain": "{'aah': 0,\n 'aap': 1,\n 'aaps': 2,\n 'aaron': 3,\n 'aaronsmithhclpermanentcom': 4,\n 'aat': 5,\n 'aatacca': 6,\n 'abandonment': 7,\n 'abb': 8,\n 'abenefit': 9,\n 'abenefitu': 10,\n 'aberdeen': 11,\n 'aberdenshire': 12,\n 'abi': 13,\n 'abide': 14,\n 'abilities': 15,\n 'ability': 16,\n 'abr': 17,\n 'abreast': 18,\n 'abroad': 19,\n 'absence': 20,\n 'absences': 21,\n 'absolute': 22,\n 'absolutely': 23,\n 'absorb': 24,\n 'abstracts': 25,\n 'abuse': 26,\n 'ac': 27,\n 'aca': 28,\n 'acaacca': 29,\n 'acaaccacima': 30,\n 'academia': 31,\n 'academic': 32,\n 'academics': 33,\n 'academies': 34,\n 'academy': 35,\n 'acca': 36,\n 'accaacacima': 37,\n 'accacima': 38,\n 'accacimamba': 39,\n 'accept': 40,\n 'acceptable': 41,\n 'acceptance': 42,\n 'accepted': 43,\n 'accepts': 44,\n 'acces': 45,\n 'access': 46,\n 'accessible': 47,\n 'accessni': 48,\n 'accessories': 49,\n 'acci': 50,\n 'accident': 51,\n 'accidentincident': 52,\n 'accidents': 53,\n 'accommodates': 54,\n 'accommodation': 55,\n 'accompanied': 56,\n 'accompany': 57,\n 'accomplished': 58,\n 'accomplishing': 59,\n 'accordance': 60,\n 'accounant': 61,\n 'account': 62,\n 'accountabilities': 63,\n 'accountability': 64,\n 'accountable': 65,\n 'accountancy': 66,\n 'accountant': 67,\n 'accountants': 68,\n 'accounted': 69,\n 'accounting': 70,\n 'accountingaudit': 71,\n 'accountingreporting': 72,\n 'accounts': 73,\n 'accountshead': 74,\n 'accreditation': 75,\n 'accreditations': 76,\n 'accredited': 77,\n 'accruals': 78,\n 'accrued': 79,\n 'accumulation': 80,\n 'accuracy': 81,\n 'accurancy': 82,\n 'accurate': 83,\n 'accurately': 84,\n 'accustomed': 85,\n 'acdc': 86,\n 'achievable': 87,\n 'achieve': 88,\n 'achieveable': 89,\n 'achieved': 90,\n 'achievedworking': 91,\n 'achievement': 92,\n 'achievements': 93,\n 'achiever': 94,\n 'achievers': 95,\n 'achieves': 96,\n 'achieving': 97,\n 'achievingexceeding': 98,\n 'acii': 99,\n 'acis': 100,\n 'acknowledge': 101,\n 'acknowledged': 102,\n 'acknowledging': 103,\n 'acma': 104,\n 'acoenfrlondoncouk': 105,\n 'acoustic': 106,\n 'acoustics': 107,\n 'acquire': 108,\n 'acquired': 109,\n 'acquisition': 110,\n 'acquisitions': 111,\n 'acquisitive': 112,\n 'acres': 113,\n 'acrobat': 114,\n 'acs': 115,\n 'act': 116,\n 'acting': 117,\n 'action': 118,\n 'actioning': 119,\n 'actions': 120,\n 'active': 121,\n 'actively': 122,\n 'activites': 123,\n 'activities': 124,\n 'activitiesfor': 125,\n 'activitiesthe': 126,\n 'activity': 127,\n 'activitythe': 128,\n 'acts': 129,\n 'actthe': 130,\n 'actual': 131,\n 'actuals': 132,\n 'actuarial': 133,\n 'actuator': 134,\n 'acumen': 135,\n 'acute': 136,\n 'ad': 137,\n 'adam': 138,\n 'adams': 139,\n 'adapt': 140,\n 'adaptability': 141,\n 'adaptable': 142,\n 'adaptation': 143,\n 'adaptations': 144,\n 'adapting': 145,\n 'adapts': 146,\n 'add': 147,\n 'added': 148,\n 'addiction': 149,\n 'adding': 150,\n 'addition': 151,\n 'additional': 152,\n 'additionally': 153,\n 'additions': 154,\n 'addon': 155,\n 'address': 156,\n 'addressed': 157,\n 'addresses': 158,\n 'addressing': 159,\n 'adecco': 160,\n 'adeiladur': 161,\n 'adept': 162,\n 'adeptness': 163,\n 'adequacy': 164,\n 'adequate': 165,\n 'adequately': 166,\n 'adhere': 167,\n 'adhered': 168,\n 'adherence': 169,\n 'adhering': 170,\n 'adhoc': 171,\n 'adjust': 172,\n 'adjuster': 173,\n 'adjusting': 174,\n 'adjustments': 175,\n 'adlington': 176,\n 'admin': 177,\n 'admincharterhouserecruitmentcouk': 178,\n 'adminfinance': 179,\n 'administer': 180,\n 'administered': 181,\n 'administering': 182,\n 'administrating': 183,\n 'administration': 184,\n 'administrative': 185,\n 'administrativemanagerial': 186,\n 'administrator': 187,\n 'administrators': 188,\n 'admission': 189,\n 'admissions': 190,\n 'adobe': 191,\n 'adolescent': 192,\n 'adolescents': 193,\n 'adonet': 194,\n 'adopt': 195,\n 'adopted': 196,\n 'adopting': 197,\n 'adoption': 198,\n 'adopts': 199,\n 'adrian': 200,\n 'adrianwagstafficsoftwarecom': 201,\n 'ads': 202,\n 'adstream': 203,\n 'adstreamers': 204,\n 'adt': 205,\n 'adult': 206,\n 'adults': 207,\n 'advance': 208,\n 'advanced': 209,\n 'advancement': 210,\n 'advances': 211,\n 'advantage': 212,\n 'advantageous': 213,\n 'advantages': 214,\n 'adventure': 215,\n 'advert': 216,\n 'advertise': 217,\n 'advertised': 218,\n 'advertisement': 219,\n 'advertisements': 220,\n 'advertiserpromotional': 221,\n 'advertisers': 222,\n 'advertising': 223,\n 'advertsing': 224,\n 'advice': 225,\n 'advicesupport': 226,\n 'advise': 227,\n 'advised': 228,\n 'adviser': 229,\n 'advisers': 230,\n 'advising': 231,\n 'advisor': 232,\n 'advisors': 233,\n 'advisory': 234,\n 'advocate': 235,\n 'aelod': 236,\n 'aelodau': 237,\n 'aelodaur': 238,\n 'aeronautical': 239,\n 'aerospace': 240,\n 'aerospacedefence': 241,\n 'aerostructures': 242,\n 'aesthetic': 243,\n 'afcila': 244,\n 'affairs': 245,\n 'affect': 246,\n 'affected': 247,\n 'affecting': 248,\n 'affiliate': 249,\n 'affinities': 250,\n 'affinity': 251,\n 'affordability': 252,\n 'affordable': 253,\n 'afield': 254,\n 'afpc': 255,\n 'afraid': 256,\n 'africa': 257,\n 'aftercare': 258,\n 'aftercareskills': 259,\n 'aftercaretheatre': 260,\n 'aftermarket': 261,\n 'afternoon': 262,\n 'afternoons': 263,\n 'aftersales': 264,\n 'aftertreatment': 265,\n 'aga': 266,\n 'age': 267,\n 'aged': 268,\n 'agencies': 269,\n 'agency': 270,\n 'agencys': 271,\n 'agenda': 272,\n 'agendas': 273,\n 'agent': 274,\n 'agents': 275,\n 'ages': 276,\n 'aggressive': 277,\n 'agile': 278,\n 'agilent': 279,\n 'agilescrum': 280,\n 'agility': 281,\n 'ago': 282,\n 'agobespoke': 283,\n 'agree': 284,\n 'agreed': 285,\n 'agreeing': 286,\n 'agreement': 287,\n 'agreements': 288,\n 'agricultural': 289,\n 'agy': 290,\n 'ahead': 291,\n 'ahp': 292,\n 'ahu': 293,\n 'ahusfcus': 294,\n 'aid': 295,\n 'aided': 296,\n 'aiding': 297,\n 'aids': 298,\n 'aidsspectacles': 299,\n 'aim': 300,\n 'aimed': 301,\n 'aiming': 302,\n 'aims': 303,\n 'air': 304,\n 'airbus': 305,\n 'aircraft': 306,\n 'airdrie': 307,\n 'airframe': 308,\n 'airport': 309,\n 'airwatch': 310,\n 'ajc': 311,\n 'akin': 312,\n 'akton': 313,\n 'al': 314,\n 'alan': 315,\n 'alarm': 316,\n 'alarms': 317,\n 'alban': 318,\n 'albans': 319,\n 'alcohol': 320,\n 'aldershot': 321,\n 'alecto': 322,\n 'alectorecruit': 323,\n 'alerting': 324,\n 'alerts': 325,\n 'alevels': 326,\n 'alex': 327,\n 'alexander': 328,\n 'alexhowarthregionalrecruitmentcom': 329,\n 'algorithm': 330,\n 'algorithms': 331,\n 'aligned': 332,\n 'aligning': 333,\n 'alignment': 334,\n 'alike': 335,\n 'alikeknowledge': 336,\n 'allegro': 337,\n 'allen': 338,\n 'alliance': 339,\n 'allied': 340,\n 'allocate': 341,\n 'allocated': 342,\n 'allocating': 343,\n 'allocation': 344,\n 'allocations': 345,\n 'allowance': 346,\n 'allowancecandidates': 347,\n 'allowancecompany': 348,\n 'allowancepensionhealthcare': 349,\n 'allowances': 350,\n 'allowing': 351,\n 'alloys': 352,\n 'allround': 353,\n 'alm': 354,\n 'alongside': 355,\n 'alot': 356,\n 'alphanumeric': 357,\n 'als': 358,\n 'altera': 359,\n 'alternate': 360,\n 'alternating': 361,\n 'alternative': 362,\n 'alternatively': 363,\n 'alternatives': 364,\n 'altium': 365,\n 'alton': 366,\n 'altrincham': 367,\n 'altringham': 368,\n 'aluminium': 369,\n 'alzheimers': 370,\n 'amada': 371,\n 'amazing': 372,\n 'amazon': 373,\n 'ambassador': 374,\n 'ambience': 375,\n 'ambition': 376,\n 'ambitions': 377,\n 'ambitious': 378,\n 'ambridge': 379,\n 'amending': 380,\n 'amenities': 381,\n 'america': 382,\n 'american': 383,\n 'americas': 384,\n 'amigo': 385,\n 'aml': 386,\n 'amnesty': 387,\n 'amount': 388,\n 'amounts': 389,\n 'amp': 390,\n 'amplitude': 391,\n 'ampm': 392,\n 'amrec': 393,\n 'amrywiol': 394,\n 'amtech': 395,\n 'amxcrestron': 396,\n 'anaerobic': 397,\n 'anaesthesia': 398,\n 'anaesthetic': 399,\n 'anaesthetics': 400,\n 'anaesthetist': 401,\n 'analog': 402,\n 'analogue': 403,\n 'analyse': 404,\n 'analysers': 405,\n 'analyses': 406,\n 'analysing': 407,\n 'analysis': 408,\n 'analysiscontrol': 409,\n 'analysispresentation': 410,\n 'analyst': 411,\n 'analystbelfastk': 412,\n 'analystcad': 413,\n 'analysts': 414,\n 'analytic': 415,\n 'analytical': 416,\n 'analytically': 417,\n 'analyticalproblem': 418,\n 'analytics': 419,\n 'analyzing': 420,\n 'anatomy': 421,\n 'ancillary': 422,\n 'andaccount': 423,\n 'anderson': 424,\n 'andfuture': 425,\n 'andnational': 426,\n 'andoffers': 427,\n 'andor': 428,\n 'andover': 429,\n 'andrew': 430,\n 'andrews': 431,\n 'android': 432,\n 'andy': 433,\n 'andycooperlogicalpscom': 434,\n 'andykilfoyleselectiongroupcouk': 435,\n 'aneeshabuckbwpenmancom': 436,\n 'anffurfiol': 437,\n 'angeles': 438,\n 'angels': 439,\n 'angiography': 440,\n 'angle': 441,\n 'anglia': 442,\n 'anical': 443,\n 'annotation': 444,\n 'announce': 445,\n 'annual': 446,\n 'annually': 447,\n 'annum': 448,\n 'anomalies': 449,\n 'ansawdd': 450,\n 'answer': 451,\n 'answered': 452,\n 'answering': 453,\n 'antenna': 454,\n 'antennas': 455,\n 'anthony': 456,\n 'anti': 457,\n 'antibiotics': 458,\n 'anticancer': 459,\n 'anticipate': 460,\n 'anticipated': 461,\n 'antony': 462,\n 'antonybuxtonstaractuarialcom': 463,\n 'anursing': 464,\n 'ap': 465,\n 'apacs': 466,\n 'apartments': 467,\n 'api': 468,\n 'apis': 469,\n 'apmp': 470,\n 'apologies': 471,\n 'apologise': 472,\n 'apparel': 473,\n 'apparellocation': 474,\n 'appealing': 475,\n 'appeals': 476,\n 'appearance': 477,\n 'appeared': 478,\n 'appendage': 479,\n 'appetite': 480,\n 'appliances': 481,\n 'applicable': 482,\n 'applicant': 483,\n 'applicants': 484,\n 'applicantsfor': 485,\n 'application': 486,\n 'applications': 487,\n 'applicationsled': 488,\n 'applied': 489,\n 'applies': 490,\n 'apply': 491,\n 'applyakd': 492,\n 'applyakddmwhwallacehindaptrackco': 493,\n 'applyauskvmnlohoaptrackco': 494,\n 'applyauskvohoaptrackco': 495,\n 'applying': 496,\n 'appoint': 497,\n 'appointed': 498,\n 'appointment': 499,\n 'appointments': 500,\n 'appraisal': 501,\n 'appraisals': 502,\n 'appraising': 503,\n 'appreciated': 504,\n 'appreciation': 505,\n 'apprentice': 506,\n 'apprenticed': 507,\n 'apprentices': 508,\n 'apprenticeship': 509,\n 'approach': 510,\n 'approachable': 511,\n 'approaches': 512,\n 'approaching': 513,\n 'appropriately': 514,\n 'approval': 515,\n 'approvals': 516,\n 'approved': 517,\n 'approx': 518,\n 'approximately': 519,\n 'appx': 520,\n 'apqp': 521,\n 'april': 522,\n 'aptitude': 523,\n 'aptitudes': 524,\n 'ar': 525,\n 'arada': 526,\n 'arburg': 527,\n 'arc': 528,\n 'architect': 529,\n 'architecting': 530,\n 'architects': 531,\n 'architectural': 532,\n 'architecture': 533,\n 'architectures': 534,\n 'archived': 535,\n 'archiving': 536,\n 'area': 537,\n 'arealocations': 538,\n 'areamy': 539,\n 'areas': 540,\n 'areathe': 541,\n 'arehave': 542,\n 'arena': 543,\n 'argue': 544,\n 'argument': 545,\n 'arinc': 546,\n 'arise': 547,\n 'arisen': 548,\n 'arisethe': 549,\n 'arising': 550,\n 'arket': 551,\n 'arm': 552,\n 'armed': 553,\n 'arms': 554,\n 'army': 555,\n 'arrange': 556,\n 'arranged': 557,\n 'arrangement': 558,\n 'arrangements': 559,\n 'arranging': 560,\n 'array': 561,\n 'arrive': 562,\n 'arrived': 563,\n 'arriving': 564,\n 'arrow': 565,\n 'art': 566,\n 'article': 567,\n 'articles': 568,\n 'articulate': 569,\n 'articulated': 570,\n 'articulately': 571,\n 'articulating': 572,\n 'artists': 573,\n 'arts': 574,\n 'asap': 575,\n 'asbestos': 576,\n 'ascertain': 577,\n 'ascertaining': 578,\n 'ascot': 579,\n 'asda': 580,\n 'aseptic': 581,\n 'ash': 582,\n 'ashby': 583,\n 'ashe': 584,\n 'ashford': 585,\n 'ashley': 586,\n 'ashworth': 587,\n 'asia': 588,\n 'asian': 589,\n 'asic': 590,\n 'asicdsp': 591,\n 'asked': 592,\n 'asp': 593,\n 'aspect': 594,\n 'aspects': 595,\n 'aspiration': 596,\n 'aspirations': 597,\n 'aspire': 598,\n 'aspires': 599,\n 'aspnet': 600,\n 'assault': 601,\n 'assemble': 602,\n 'assembler': 603,\n 'assemblies': 604,\n 'assembling': 605,\n 'assembly': 606,\n 'assertive': 607,\n 'assertiveness': 608,\n 'asses': 609,\n 'assess': 610,\n 'assessed': 611,\n 'assesses': 612,\n 'assessing': 613,\n 'assessment': 614,\n 'assessments': 615,\n 'assessor': 616,\n 'assessors': 617,\n 'asset': 618,\n 'assets': 619,\n 'assigned': 620,\n 'assignment': 621,\n 'assignmentexperience': 622,\n 'assignments': 623,\n 'assimilate': 624,\n 'assist': 625,\n 'assistance': 626,\n 'assistancecover': 627,\n 'assistant': 628,\n 'assistants': 629,\n 'assistantscare': 630,\n 'assistantsplease': 631,\n 'assistantssupport': 632,\n 'assisted': 633,\n 'assisting': 634,\n 'assistive': 635,\n 'assists': 636,\n 'associate': 637,\n 'associates': 638,\n 'association': 639,\n 'associations': 640,\n 'assume': 641,\n 'assuming': 642,\n 'assumptions': 643,\n 'assurance': 644,\n 'assurancestandards': 645,\n 'assure': 646,\n 'assured': 647,\n 'assuring': 648,\n 'astbury': 649,\n 'astute': 650,\n 'aswel': 651,\n 'ate': 652,\n 'atkon': 653,\n 'atleast': 654,\n 'atmosphere': 655,\n 'atmospherea': 656,\n 'atms': 657,\n 'att': 658,\n 'attached': 659,\n 'attachment': 660,\n 'attain': 661,\n 'attains': 662,\n 'attend': 663,\n 'attendance': 664,\n 'attendances': 665,\n 'attendant': 666,\n 'attending': 667,\n 'attention': 668,\n 'attentive': 669,\n 'attercliffe': 670,\n 'attire': 671,\n 'attitude': 672,\n 'attitudes': 673,\n 'attract': 674,\n 'attracted': 675,\n 'attracting': 676,\n 'attraction': 677,\n 'attractive': 678,\n 'attracts': 679,\n 'attribute': 680,\n 'attributes': 681,\n 'attributesskills': 682,\n 'auckland': 683,\n 'audi': 684,\n 'audible': 685,\n 'audience': 686,\n 'audiences': 687,\n 'audio': 688,\n 'audit': 689,\n 'audited': 690,\n 'auditing': 691,\n 'auditingreviewing': 692,\n 'auditor': 693,\n 'auditors': 694,\n 'audits': 695,\n 'auditsprojects': 696,\n 'august': 697,\n 'austell': 698,\n 'australian': 699,\n 'authoring': 700,\n 'authorisation': 701,\n 'authorised': 702,\n 'authorising': 703,\n 'authoritative': 704,\n 'authorities': 705,\n 'authority': 706,\n 'authoritypublic': 707,\n 'authorized': 708,\n 'autism': 709,\n 'autistic': 710,\n 'auto': 711,\n 'autocad': 712,\n 'autoclaves': 713,\n 'autodesk': 714,\n 'automated': 715,\n 'automatic': 716,\n 'automatically': 717,\n 'automating': 718,\n 'automation': 719,\n 'automotive': 720,\n 'automotiveoem': 721,\n 'autonomous': 722,\n 'autonomously': 723,\n 'autonomy': 724,\n 'autorefractors': 725,\n 'auxiliaries': 726,\n 'auxiliary': 727,\n 'av': 728,\n 'avail': 729,\n 'availability': 730,\n 'availabilitysalaries': 731,\n 'availablefollow': 732,\n 'avenues': 733,\n 'average': 734,\n 'averaging': 735,\n 'aviation': 736,\n 'avionics': 737,\n 'avoid': 738,\n 'avon': 739,\n 'avonmouth': 740,\n 'avse': 741,\n 'awaits': 742,\n 'award': 743,\n 'awarded': 744,\n 'awards': 745,\n 'awardwinning': 746,\n 'aware': 747,\n 'awareness': 748,\n 'awconsultingltd': 749,\n 'ax': 750,\n 'axapta': 751,\n 'axis': 752,\n 'aylesbury': 753,\n 'ayrshire': 754,\n 'az': 755,\n 'ba': 756,\n 'babs': 757,\n 'babsc': 758,\n 'bachelor': 759,\n 'bachelors': 760,\n 'back': 761,\n 'backed': 762,\n 'backend': 763,\n 'background': 764,\n 'backgroundexperience': 765,\n 'backgrounds': 766,\n 'backgroundwhois': 767,\n 'backing': 768,\n 'backlog': 769,\n 'backselling': 770,\n 'backtesting': 771,\n 'backup': 772,\n 'bacs': 773,\n 'badenoch': 774,\n 'bae': 775,\n 'bag': 776,\n 'bags': 777,\n 'bailey': 778,\n 'baker': 779,\n 'baking': 780,\n 'balance': 781,\n 'balances': 782,\n 'balcance': 783,\n 'ballance': 784,\n 'bamber': 785,\n 'banbury': 786,\n 'band': 787,\n 'banding': 788,\n 'bank': 789,\n 'banking': 790,\n 'banks': 791,\n 'banner': 792,\n 'barchester': 793,\n 'barchesters': 794,\n 'barclay': 795,\n 'barnet': 796,\n 'barns': 797,\n 'barnsley': 798,\n 'barnstaple': 799,\n 'barnt': 800,\n 'barred': 801,\n 'barriers': 802,\n 'barring': 803,\n 'barrowinfurness': 804,\n 'barry': 805,\n 'barrypendrillhanoversearchcom': 806,\n 'bartender': 807,\n 'base': 808,\n 'baseband': 809,\n 'based': 810,\n 'basedk': 811,\n 'basel': 812,\n 'bases': 813,\n 'basic': 814,\n 'basingstoke': 815,\n 'basingstokeyou': 816,\n 'basis': 817,\n 'basisthe': 818,\n 'batch': 819,\n 'bath': 820,\n 'bathing': 821,\n 'bathroom': 822,\n 'bathroomkitchen': 823,\n 'bathrooms': 824,\n 'bathwe': 825,\n 'batley': 826,\n 'battlewinning': 827,\n 'bay': 828,\n 'bbc': 829,\n 'bc': 830,\n 'bdm': 831,\n 'beacon': 832,\n 'bearings': 833,\n 'beautiful': 834,\n 'beauty': 835,\n 'becky': 836,\n 'bed': 837,\n 'bedded': 838,\n 'bedding': 839,\n 'bedford': 840,\n 'bedfordshire': 841,\n 'bedroom': 842,\n 'beds': 843,\n 'beechwood': 844,\n 'beers': 845,\n 'bees': 846,\n 'befits': 847,\n 'began': 848,\n 'begin': 849,\n 'beginning': 850,\n 'begun': 851,\n 'behalf': 852,\n 'behave': 853,\n 'behavior': 854,\n 'behaviors': 855,\n 'behaviour': 856,\n 'behavioural': 857,\n 'behaviours': 858,\n 'behaviourwe': 859,\n 'beiriannau': 860,\n 'belfast': 861,\n 'belgium': 862,\n 'belief': 863,\n 'believer': 864,\n 'believes': 865,\n 'bell': 866,\n 'belong': 867,\n 'belowto': 868,\n 'belt': 869,\n 'ben': 870,\n 'bench': 871,\n 'benchmark': 872,\n 'benchmarks': 873,\n 'beneficial': 874,\n 'beneficialdegree': 875,\n 'beneficiaries': 876,\n 'benefit': 877,\n 'benefits': 878,\n 'benefitsmanchester': 879,\n 'benefitsour': 880,\n 'benefitting': 881,\n 'benelux': 882,\n 'beng': 883,\n 'benhowlettfinegreencoukthis': 884,\n 'benn': 885,\n 'bennett': 886,\n 'bens': 887,\n 'bereaved': 888,\n 'berkhamsted': 889,\n 'berks': 890,\n 'berkshire': 891,\n 'berkshirec': 892,\n 'bespoke': 893,\n 'bestival': 894,\n 'beth': 895,\n 'beverage': 896,\n 'bewe': 897,\n 'bexhill': 898,\n 'bgilltimothyjamesconsultingcom': 899,\n 'bi': 900,\n 'bias': 901,\n 'biased': 902,\n 'biasgxp': 903,\n 'bicester': 904,\n 'bid': 905,\n 'bidno': 906,\n 'bids': 907,\n 'big': 908,\n 'biggest': 909,\n 'bike': 910,\n 'bikes': 911,\n 'bill': 912,\n 'billing': 913,\n 'billinghay': 914,\n 'billings': 915,\n 'billion': 916,\n 'bills': 917,\n 'binding': 918,\n 'bingley': 919,\n 'bingo': 920,\n 'biochemistry': 921,\n 'biological': 922,\n 'biology': 923,\n 'biomedical': 924,\n 'biopharma': 925,\n 'bioscience': 926,\n 'biotechnical': 927,\n 'biotechnology': 928,\n 'birkenhead': 929,\n 'birmingham': 930,\n 'birthdays': 931,\n 'births': 932,\n 'bishop': 933,\n 'bit': 934,\n 'bitton': 935,\n 'black': 936,\n 'blackberry': 937,\n 'blackburn': 938,\n 'blaenoriaethu': 939,\n 'blaenoriaethur': 940,\n 'blake': 941,\n 'blind': 942,\n 'block': 943,\n 'blocked': 944,\n 'blood': 945,\n 'blow': 946,\n 'bls': 947,\n 'blue': 948,\n 'bluebird': 949,\n 'bluechip': 950,\n 'blueprint': 951,\n 'bluestones': 952,\n 'bluetooth': 953,\n 'blurays': 954,\n 'blwyddyn': 955,\n 'bms': 956,\n 'bmsbmsitcom': 957,\n 'bmw': 958,\n 'bn': 959,\n 'board': 960,\n 'boardroom': 961,\n 'boards': 962,\n 'boast': 963,\n 'boasted': 964,\n 'boasting': 965,\n 'boasts': 966,\n 'bob': 967,\n 'bobl': 968,\n 'bod': 969,\n 'bodies': 970,\n 'bodloni': 971,\n 'bodmin': 972,\n 'body': 973,\n 'bodybuilding': 974,\n 'bognor': 975,\n 'boiler': 976,\n 'boilers': 977,\n 'bojang': 978,\n 'bolsover': 979,\n 'bolster': 980,\n 'bolting': 981,\n 'bolton': 982,\n 'bom': 983,\n 'boms': 984,\n 'bond': 985,\n 'bonds': 986,\n 'bonus': 987,\n 'bonuses': 988,\n 'bonusesfully': 989,\n 'bonusesprofit': 990,\n 'bonusote': 991,\n 'book': 992,\n 'booked': 993,\n 'booking': 994,\n 'bookings': 995,\n 'bookkeeper': 996,\n 'bookkeeping': 997,\n 'books': 998,\n 'boost': 999,\n ...}"
     },
     "execution_count": 27,
     "metadata": {},
     "output_type": "execute_result"
    }
   ],
   "source": [
    "# 8. Save all job advertisement text and information in txt file(s) (you have flexibility to choose what format\n",
    "# you want to save the preprocessed job ads, and you will need to retrieve the pre-processed job ads\n",
    "unique_words = [line for line in df['Tokenized_description']]\n",
    "# text in Task 2 & 3);\n",
    "# 9. Build a vocabulary of the cleaned job advertisement descriptions, save it in a txt file (please refer to the\n",
    "# required output);\n",
    "# code to save output data...\n",
    "# Step 1: Create a dictionary mapping words to their integer index\n",
    "unique_words = list(chain.from_iterable(unique_words))\n",
    "unique_words = sorted(set(unique_words))\n",
    "vocab = {word: idx for idx, word in enumerate(unique_words)} \n",
    "# enumerate() takes the unique_words list and adds a counter starting from 0 by default.\n",
    "vocab"
   ]
  },
  {
   "cell_type": "code",
   "outputs": [
    {
     "name": "stdout",
     "output_type": "stream",
     "text": [
      "Vocabulary saved with 9875 words.\n"
     ]
    }
   ],
   "source": [
    "# Step 2: Save the vocabulary to a text file in the specified format\n",
    "with open('vocab.txt', 'w') as f:\n",
    "    for word, idx in vocab.items():\n",
    "        f.write(f'{word}:{idx}\\n')\n",
    "\n",
    "# Check if the vocab file is created successfully\n",
    "print(f\"Vocabulary saved with {len(vocab)} words.\")"
   ],
   "metadata": {
    "collapsed": false,
    "ExecuteTime": {
     "end_time": "2024-09-01T16:35:14.160191Z",
     "start_time": "2024-09-01T16:35:14.099988Z"
    }
   },
   "execution_count": 28
  },
  {
   "cell_type": "markdown",
   "metadata": {},
   "source": [
    "## Summary\n",
    "Give a short summary and anything you would like to talk about the assessment task here."
   ]
  },
  {
   "cell_type": "markdown",
   "metadata": {},
   "source": [
    "## Couple of notes for all code blocks in this notebook\n",
    "- please provide proper comment on your code\n",
    "- Please re-start and run all cells to make sure codes are runable and include your output in the submission.   \n",
    "<span style=\"color: red\"> This markdown block can be removed once the task is completed. </span>"
   ]
  },
  {
   "cell_type": "code",
   "execution_count": 29,
   "metadata": {
    "ExecuteTime": {
     "end_time": "2024-09-01T16:35:28.928159Z",
     "start_time": "2024-09-01T16:35:22.853323Z"
    }
   },
   "outputs": [],
   "source": [
    "# saved the cleaned data to csv file in case need to reuse in task 2 3\n",
    "df.to_csv(\"data.csv\")"
   ]
  },
  {
   "cell_type": "code",
   "outputs": [],
   "source": [],
   "metadata": {
    "collapsed": false,
    "ExecuteTime": {
     "start_time": "2024-09-01T16:25:38.267287Z"
    }
   },
   "execution_count": null
  }
 ],
 "metadata": {
  "kernelspec": {
   "display_name": "Python 3",
   "language": "python",
   "name": "python3"
  },
  "language_info": {
   "codemirror_mode": {
    "name": "ipython",
    "version": 3
   },
   "file_extension": ".py",
   "mimetype": "text/x-python",
   "name": "python",
   "nbconvert_exporter": "python",
   "pygments_lexer": "ipython3",
   "version": "3.8.8"
  }
 },
 "nbformat": 4,
 "nbformat_minor": 1
}
