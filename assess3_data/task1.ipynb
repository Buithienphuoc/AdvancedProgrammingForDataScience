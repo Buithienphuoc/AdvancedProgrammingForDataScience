{
 "cells": [
  {
   "cell_type": "markdown",
   "metadata": {},
   "source": [
    "# Assignment 2: Milestone I Natural Language Processing\n",
    "## Task 1. Basic Text Pre-processing\n",
    "#### Vu Duc Anh: s3979839\n",
    "#### Bui Thien Phuoc: s3634831\n",
    "\n",
    "Date: 2024-08-17\n",
    "\n",
    "Version: 1.0\n",
    "\n",
    "Environment: Python 3 and Jupyter notebook\n",
    "\n",
    "Libraries used: please include all the libraries you used in your assignment, e.g.,:\n",
    "* pandas\n",
    "* re\n",
    "* numpy\n",
    "\n",
    "## Introduction\n",
    "You should give a brief information of this assessment task here.\n",
    "\n",
    "<span style=\"color: red\"> Note that this is a sample notebook only. You will need to fill in the proper markdown and code blocks. You might also want to make necessary changes to the structure to meet your own needs. Note also that any generic comments written in this notebook are to be removed and replace with your own words.</span>"
   ]
  },
  {
   "cell_type": "markdown",
   "metadata": {},
   "source": [
    "## The Data\n",
    "- Given a small collection of job advertisement documents (around 750 jobs) in data folder\n",
    "- Inside the data folder, there are 4 different subfolders, namely: Accounting_Finance, Engineering, Healthcare_Nursing, and Sales, each folder name is a job category\n",
    "- The job advertisement text documents of a particular category are located in the corresponding subfolder \n",
    "- Each job advertisement document is a txt file, named as \"Job_<ID>.txt\". It contains the title, the webindex, (some will also have information on the company name, some might not), and the full description of the job advertisement."
   ]
  },
  {
   "cell_type": "markdown",
   "metadata": {},
   "source": [
    "Job advertisement document having the following attributes:\n",
    "\n",
    "| Variables | Description |\n",
    "| --- | --- | \n",
    "| Title | Title of the advertised job position\n",
    "| Webindex | 8 digit Id from the website of advertised job \n",
    "| Company | Company of the advertised job\n",
    "| Description | Description of each job advertisement"
   ]
  },
  {
   "cell_type": "markdown",
   "metadata": {},
   "source": [
    "## Importing libraries "
   ]
  },
  {
   "cell_type": "code",
   "execution_count": 1,
   "metadata": {},
   "outputs": [],
   "source": [
    "# Code to import libraries as you need in this assessment, e.g.,\n",
    "import sys\n",
    "import re\n",
    "\n",
    "# Libraries for basic NLP tasks taken from tutorial\n",
    "import sklearn\n",
    "from sklearn.datasets import load_files  \n",
    "from nltk import RegexpTokenizer\n",
    "from nltk.tokenize import sent_tokenize\n",
    "from nltk.probability import *\n",
    "from itertools import chain\n",
    "\n",
    "# Import datascience toolkits\n",
    "import numpy as np\n",
    "import pandas as pd\n",
    "from matplotlib import pyplot as plt"
   ]
  },
  {
   "cell_type": "markdown",
   "metadata": {},
   "source": [
    "### 1.1 Examining and loading data"
   ]
  },
  {
   "cell_type": "markdown",
   "metadata": {},
   "source": [
    "Load the dataset given in **data** folder using *load_files* API from **sklear.datasets**"
   ]
  },
  {
   "cell_type": "code",
   "execution_count": 2,
   "metadata": {},
   "outputs": [
    {
     "name": "stdout",
     "output_type": "stream",
     "text": [
      "<class 'sklearn.utils._bunch.Bunch'>\n"
     ]
    }
   ],
   "source": [
    "df = load_files(r'data')\n",
    "print(type(df))"
   ]
  },
  {
   "cell_type": "markdown",
   "metadata": {},
   "source": [
    "The data type of the loaded data using sklearn API is <class 'sklearn.utils._bunch.Bunch'>. \n",
    "\n",
    "We can do analysis from Bunch API \n",
    "- Bunch Ref: https://scikit-learn.org/stable/modules/generated/sklearn.utils.Bunch.html)"
   ]
  },
  {
   "cell_type": "code",
   "execution_count": 3,
   "metadata": {},
   "outputs": [
    {
     "data": {
      "text/plain": [
       "dict_keys(['data', 'filenames', 'target_names', 'target', 'DESCR'])"
      ]
     },
     "execution_count": 3,
     "metadata": {},
     "output_type": "execute_result"
    }
   ],
   "source": [
    "df.keys()"
   ]
  },
  {
   "cell_type": "code",
   "execution_count": 4,
   "metadata": {},
   "outputs": [
    {
     "name": "stdout",
     "output_type": "stream",
     "text": [
      "Print first five example: \n",
      "[b'Title: Finance / Accounts Asst Bromley to ****k\\nWebindex: 68997528\\nCompany: First Recruitment Services\\nDescription: Accountant (partqualified) to **** p.a. South East London Our client, a successful manufacturing company has an immediate requirement for an Accountant for permanent role in their modern offices in South East London. The Role: Credit Control Purchase / Sales Ledger Daily collection of debts by phone, letter and email. Handling of ledger accounts Handling disputed accounts and negotiating payment terms Allocating of cash and reconciliation of accounts Adhoc administration duties within the business The Person The ideal candidate will have previous experience in a Credit Control capacity, you will possess exceptional customer service and communication skills together with IT proficiency. You will need to be a part or fully qualified Accountant to be considered for this role', b'Title: Fund Accountant  Hedge Fund\\nWebindex: 68063513\\nCompany: Austin Andrew Ltd\\nDescription: One of the leading Hedge Funds in London is currently recruiting for a Fund Accountant to join their team. The role will be paying c**** with outstanding benefits. Based in the West End, the role will report to the Head of Fund Accounting and work with a number of Fund Accountants and Senior Fund Accountants. The successful candidate will be responsible for the fund accounting of a number of Hedge Funds mainly dealing in equities and equity related products. The role involves all aspects of fund accounting; preparation of journal voucher entries and NAV control. As part of the NAV review, the Fund Accountant also reviews cash and securities reconciliation, trade input, pricing fluctuations and financial statements.', b'Title: Deputy Home Manager\\nWebindex: 68700336\\nCompany: Caritas\\nDescription: An exciting opportunity has arisen to join an establish provider of elderly care services. The role of Deputy Home Manager is to support the Home Manager in the day to day running of the home. You need to have a passion for working in the care sector and have proven experience in this role. Job Description: To assist the Registered Manager in the management of the home To take overall responsibility for the home in the absence of the Registered Manager Job Requirements: Ensure that high standards of care are delivered to meet the needs of the individual residents Ensure the healthcare needs of the residents are met by liaising with GP\\xe2\\x80\\x99s District Nurses, Chiropodists etc. Under the supervision of the Registered Manager  Lead, manage and develop the work of the staff team Assist the Registered Manager with the management of the Home Take responsibility for the running of the Home in the absence of the Registered Manager Necessary Skills/Qualifications: NVQ Level 3 in Care Experience of working in a residential home Experience working with older people Supervisory experience Flexible to work on a shift pattern This job was originally posted as www.totaljobs.com/JobSeeking/DeputyHomeManager_job****', b'Title: Brokers Wanted Imediate Start\\nWebindex: 67996688\\nCompany: OneTwoTrade\\nDescription: OneTwoTrade is expanding their Sales Team and are recruiting Junior/Trainee Brokers for their new City of London Trading Floor. Trainee Brokers/ Senior Brokers Open and close new business clients for the company. You will be required to contact clients worldwide. Candidates should be able to demonstrate a structured sales approach and show a genuine interest in finance and investments. Manage a portfolio of clients and support them with trading activities. NO COLD CALLING We require ambitious and genuinely dynamic sales people.', b'Title: RGN Nurses (Hospitals)  Penarth\\nWebindex: 71803987\\nCompany: Swiis Healthcare\\nDescription: RGN Nurses (Hospitals) Immediate fulltime and part timehours are available The SWIIS Benefits: \\xe2\\x80\\xa2 ****4  **** per hour (dependent on banding).\\xe2\\x80\\xa2 **** bonus after first **** hours\\xe2\\x80\\xa2 Up to **** referafriend bonus\\xe2\\x80\\xa2 Free CRB.\\xe2\\x80\\xa2 Free immunisation\\xe2\\x80\\xa2 Free uniform\\xe2\\x80\\xa2 Free training\\xe2\\x80\\xa2 Ongoing professional development\\xe2\\x80\\xa2 Excellent outofhours management support SWIIS urgently requires experienced RGNs for hospital roles throughout Penarth. These are temporary positions, with range of adhoc shifts, short and longerterm projects available. Requirements: \\xe2\\x80\\xa2 At least 1 year of paid postqualification nursing experience in a relevant setting\\xe2\\x80\\xa2 Understanding and knowledge of the issues faced by service users\\xe2\\x80\\xa2 Commitment to the care and wellbeing of service users\\xe2\\x80\\xa2 Dedication to continued professional and personal development If you have the skills to be successful in this role, please submit a comprehensive, uptodate CV detailing a full employment and study history. Incomplete CVs will result in delays in the processing of your registration. SWIIS is an Employment Business for interim, contract and temporary recruitment and acts as an Employment Agency in relation to permanent vacancies. SWIIS is an equal opportunities employer. Due to the volume of applicants, if you have not received a response from us within 14 days, please assume that you have not been successful in your application. Terms and conditions apply. Bonuses apply to qualified nurses only.']\n",
      "Print first five filenames: \n",
      "['data/Accounting_Finance/Job_00382.txt'\n",
      " 'data/Accounting_Finance/Job_00354.txt'\n",
      " 'data/Healthcare_Nursing/Job_00547.txt'\n",
      " 'data/Accounting_Finance/Job_00246.txt'\n",
      " 'data/Healthcare_Nursing/Job_00543.txt']\n",
      "Print target names: \n",
      "['Accounting_Finance', 'Engineering', 'Healthcare_Nursing', 'Sales']\n",
      "Print target: \n",
      "[0 0 2 0 2 1 2 0 3 3 0 0 1 3 1 3 3 1 3 2 2 2 3 3 0 2 2 2 0 2 3 1 2 0 1 3 3\n",
      " 1 1 0 2 2 2 2 0 0 2 1 3 1 1 2 2 3 0 0 1 0 2 2 3 3 3 0 3 0 1 2 3 1 3 2 3 1\n",
      " 3 2 1 3 2 1 3 2 2 1 0 1 1 1 3 0 3 1 3 2 2 0 2 3 2 1 0 1 1 2 0 3 0 1 3 2 1\n",
      " 2 0 3 1 1 1 1 1 1 1 1 3 1 1 1 1 1 3 1 1 3 2 0 0 1 3 2 0 1 0 3 1 2 1 0 0 0\n",
      " 3 0 1 2 3 1 1 1 2 1 0 1 0 1 0 1 1 2 0 2 2 0 2 3 2 2 0 2 1 0 1 1 1 3 1 3 1\n",
      " 0 3 1 0 2 0 0 2 1 1 0 1 3 0 1 1 3 0 1 0 2 3 0 2 0 1 0 1 3 1 0 1 1 0 1 0 1\n",
      " 2 1 3 1 2 3 1 1 2 0 0 1 2 0 3 2 3 2 2 3 0 1 1 1 1 1 1 0 3 1 1 0 0 2 1 2 2\n",
      " 2 2 1 3 1 2 1 2 3 2 3 0 1 3 0 2 1 0 2 1 2 0 2 1 1 1 2 2 1 2 0 2 2 1 2 0 1\n",
      " 0 0 3 2 1 3 0 3 1 2 0 1 0 0 0 0 2 2 0 0 2 1 2 0 0 1 2 3 1 3 2 0 2 2 1 3 1\n",
      " 0 1 2 3 1 0 0 1 1 0 2 1 3 2 3 3 1 3 1 2 1 1 2 2 3 3 2 2 1 1 2 0 2 3 0 0 1\n",
      " 0 1 2 1 1 3 0 2 0 1 3 1 3 2 0 2 1 3 0 0 0 3 3 0 2 3 3 1 3 0 1 0 3 1 3 1 3\n",
      " 2 1 1 2 3 0 0 3 3 3 1 2 2 3 0 0 0 1 0 2 1 3 2 1 2 2 1 2 2 0 0 2 3 2 1 2 3\n",
      " 1 2 1 0 1 2 1 2 0 3 2 3 2 3 0 0 3 2 0 2 1 3 0 3 2 1 1 2 1 2 3 1 1 1 3 1 2\n",
      " 1 0 0 3 0 2 2 3 3 0 3 1 1 2 2 2 3 2 1 1 0 2 3 0 0 0 0 2 1 3 0 2 1 2 2 3 1\n",
      " 2 0 2 0 3 2 1 2 2 3 1 1 0 2 2 1 1 3 0 1 0 0 2 3 3 0 0 1 1 2 3 3 3 0 0 2 3\n",
      " 1 3 1 3 3 1 0 0 0 1 0 3 1 2 2 1 1 0 1 2 2 3 3 3 1 2 3 1 0 1 3 3 3 3 1 0 0\n",
      " 1 1 0 1 0 0 1 2 2 1 3 2 2 2 1 2 1 0 2 1 2 2 0 2 0 0 0 0 2 2 2 0 1 1 3 1 2\n",
      " 1 2 0 1 1 1 1 0 2 3 1 1 2 3 2 0 1 3 3 1 3 0 0 0 1 0 0 0 0 0 0 1 2 1 0 2 0\n",
      " 2 0 1 0 0 3 2 1 2 1 1 1 2 2 1 1 1 2 1 0 3 3 0 2 1 2 1 1 3 0 0 0 3 0 1 1 0\n",
      " 3 2 2 1 0 0 2 0 1 0 1 1 3 2 0 2 1 1 1 2 2 0 3 0 0 0 2 2 3 0 1 3 2 2 3 3 1\n",
      " 1 2 0 3 0 0 2 2 3 0 0 2 3 3 0 0 2 2 3 1 1 2 2 0 2 3 1 3 0 1 3 3 1 3 2 3]\n"
     ]
    }
   ],
   "source": [
    "print(f\"Print first five example: \\n{df.data[:5]}\")\n",
    "print(f\"Print first five filenames: \\n{df.filenames[:5]}\")\n",
    "print(f\"Print target names: \\n{df.target_names}\")\n",
    "print(f\"Print target: \\n{df.target}\")"
   ]
  },
  {
   "cell_type": "markdown",
   "metadata": {},
   "source": [
    "- The description is in the bytes-like format and need to be converted to python string\n",
    "- The target class name is Accounting_Finance, Engineering, Healthcare_Nursing and Sales\n",
    "- There are four target class corresponding to Integer 0 to 3\n",
    "\n",
    "Let's look at the index of each of the target class name,"
   ]
  },
  {
   "cell_type": "code",
   "execution_count": 5,
   "metadata": {},
   "outputs": [
    {
     "name": "stdout",
     "output_type": "stream",
     "text": [
      "Category at index 0 is Accounting_Finance\n",
      "Category at index 1 is Engineering\n",
      "Category at index 2 is Healthcare_Nursing\n",
      "Category at index 3 is Sales\n"
     ]
    }
   ],
   "source": [
    "for i in range(len(df['target_names'])):\n",
    "    print(f'Category at index {i} is {df[\"target_names\"][i]}')"
   ]
  },
  {
   "cell_type": "markdown",
   "metadata": {},
   "source": [
    " Create an test index variable. Check manually whether the text file attribute is the correct category index for target class,"
   ]
  },
  {
   "cell_type": "code",
   "execution_count": 6,
   "metadata": {},
   "outputs": [
    {
     "data": {
      "text/plain": [
       "('data/Healthcare_Nursing/Job_00491.txt', 2)"
      ]
     },
     "execution_count": 6,
     "metadata": {},
     "output_type": "execute_result"
    }
   ],
   "source": [
    "idx = 20\n",
    "df['filenames'][idx], df['target'][idx] "
   ]
  },
  {
   "cell_type": "code",
   "execution_count": 7,
   "metadata": {},
   "outputs": [
    {
     "name": "stdout",
     "output_type": "stream",
     "text": [
      "Job data: \n",
      "b'Title: PERM Unit Mgr RGN Kid minster Flexi ****K due\\nWebindex: 71692209\\nDescription: Job Title: Unit Manager Reporting to: Registered Manager Job Purpose: To manage in a professional manner the day to day running of the home\\xe2\\x80\\x99s administration, clinical policies and procedures, training and care planning. To implement working practices that monitors the health and welfare of the home\\xe2\\x80\\x99s service users and staff and their respective environments. To promote quality care within a warm friendly ambience. Key Result Areas Managing To work with the Directors to achieve the home\\xe2\\x80\\x99s financial targets. To manage the home in a manner which will not bring the home or service users into disrepute. To maintain confidentiality on all aspects of care and staff management. To ensure all the home\\xe2\\x80\\x99s policies and procedures are implemented and followed by all staff. To inform the Registered Manager immediately if a serious difficulty or event occurs. Managing Support To delegate responsibility effectively and within legal boundaries. To ensure through clinical standards and audits that good practice is maintained throughout the home. Nursing Duties To perform nursing duties that reflect current best practice and keep abreast of latest developments To inform the Registered Manager of any nursing and medical matters affecting the service user\\xe2\\x80\\x99s care. To assist service users with personal care which includes; using the bath / bed bath or shower, feet and nail care, hair care, shaving, mouth care, denture care, toileting needs, all daily activities as per individual care plans including tidying bed and room. To assist clients with their psychological needs, which includes; talking, listening, excursions, liaising with family, assisting with hobbies and recreation activities. To care for the service user as an individual and maintain a high level of care for their particular condition ensuring physical needs, comfort and dignity are met. To care for service user\\xe2\\x80\\x99s at their end of life in a respectful and dignified manner. To administer medication strictly in accordance with the Drug Administration policy and NMC guidelines. To assist the Registered Manager in ensuring adequate supplies of medication and correct storage as per the medication policy. To assist with serving meals and other domestic duties such as laundry, occasional cleaning etc. To deal with any internal or external communications from service users or third parties. To ensure all documentation is kept up to date and recorded accurately. To maintain records / care plans as required by the Care Quality Commission. Business Management To work both with the Directors and independently to generate enquiries and proactively deal with members of the public, and care / medical professionals, to ensure a high level of occupancy rates. To manage and have a working knowledge of the Home\\xe2\\x80\\x99s Policies and Procedures and ensure they are maintained at all times. To promote and act strictly in accordance with the Home\\xe2\\x80\\x99s Health and Safety Policy and ensure good Health and Safety practice within the working environment to comply with COSHH / RIDDOR / Environmental Health / Fire regulations and the Care Standards Act. To bring to the Directors immediate attention any item of Health and Safety importance that would be of concern and potentially needing prompt action. To have an in depth operational knowledge of all emergency procedures and ensure they are cascaded down through all the staff and service users. To attend staff meetings as arranged and to ensure other staff informed of items discussed and decisions made. To attend at least 21 hours per annum of compulsory training outlined by your personal development plan. To participate in regular reviews and an annual appraisal in order to develop your training needs in relation to skills and knowledge. To promote the good name of the Home at all times. To cover colleagues duties in times of sickness and holidays. To develop and share ideas for the improvement of practice within the home. To implement change sensitively but effectively. To replenish stocks and exercise cost / stock control. To operate within the guidelines of the Data Protection Act and ensure total confidentiality, especially with regards to staff and service users. Managing People To assist and supervise staff training. To be responsible for covering staff absences and managing disputes where appropriate. To ensure all staff contribute to the best of their ability to the efficient running of the home and that high standards are maintained. To ensure staff have the qualifications and training necessary for the duties they perform. To ensure all staff have two monthly reviews and an annual appraisal as per company policy. FURTHER DUTIES: In addition to the responsibilities listed above it may be necessary to perform other duties as required by the Home\\xe2\\x80\\x99s management or senior staff. Consideration will be given to your skills and status when given these duties. NOTE: It is expected that all duties carried out will be performed in a spirit of cooperation required from a dedicated efficient team whose prime aim is to make the service user\\xe2\\x80\\x99s stay as comfortable and enjoyable as possible.'\n",
      "Corresponding to Job filenames: \n",
      "data/Healthcare_Nursing/Job_00491.txt\n",
      "And to Job target: 2 \n",
      "\n"
     ]
    }
   ],
   "source": [
    "print(f\"Job data: \\n{df['data'][idx]}\")\n",
    "print(f\"Corresponding to Job filenames: \\n{df['filenames'][idx]}\")\n",
    "print(f\"And to Job target: {df['target'][idx]} \\n\")\n",
    "\n"
   ]
  },
  {
   "cell_type": "markdown",
   "metadata": {},
   "source": [
    "Manually checked, we can confirm the Job data (including Title, Webindex, Decsription) match the file path and name, and job target."
   ]
  },
  {
   "cell_type": "markdown",
   "metadata": {},
   "source": [
    "### 1.2 Text Pre-processing\n",
    "Before Text-Preprocessing, we need to converted data bytes-like format to Python string as finding from 1.1.\n",
    "\n",
    "Then, performing the required text pre-processing steps as follow:\n",
    "\n",
    "- 1.2.1.\n",
    "Extract information from each job advertisement. Perform the following pre-processing steps to the\n",
    "description of each job advertisement;\n",
    "\n",
    "- 1.2.2.\n",
    "Tokenize each job advertisement description. The word tokenization must use the following regular expression, r\"[a-zA-Z]+(?:[-'][a-zA-Z]+)?\";\n",
    "\n",
    "- 1.2.3.\n",
    "All the words must be converted into the lower case;\n",
    "\n",
    "- 1.2.4.\n",
    "Remove words with length less than 2.\n",
    "\n",
    "- 1.2.5.\n",
    "Remove stopwords using the provided stop words list (i.e, stopwords_en.txt). It is located inside the same downloaded folder.\n",
    "\n",
    "- 1.2.6.\n",
    "Remove the word that appears only once in the document collection, based on term frequency.\n",
    "\n",
    "- 1.2.7.\n",
    "Remove the top 50 most frequent words based on document frequency.\n",
    "\n",
    "- 1.2.8.\n",
    "Save all job advertisement text and information in txt file(s) (you have flexibility to choose what format you want to save the preprocessed job ads, and you will need to retrieve the pre-processed job ads text in Task 2 & 3);\n",
    "\n",
    "- 1.2.9.\n",
    "Build a vocabulary of the cleaned job advertisement descriptions, save it in a txt file (please refer to the required output);"
   ]
  },
  {
   "cell_type": "markdown",
   "metadata": {},
   "source": [
    "...... Sections and code blocks on basic text pre-processing\n",
    "\n",
    "\n",
    "<span style=\"color: red\"> You might have complex notebook structure in this section, please feel free to create your own notebook structure. </span>"
   ]
  },
  {
   "cell_type": "code",
   "execution_count": 8,
   "metadata": {},
   "outputs": [
    {
     "name": "stdout",
     "output_type": "stream",
     "text": [
      "Before conversion: \n",
      "<class 'bytes'>\n",
      "After conversion: \n",
      "<class 'str'>\n"
     ]
    }
   ],
   "source": [
    "# Function to convert bytes-like format to Python string\n",
    "def bytes_to_string(data):\n",
    "    \"\"\"\n",
    "    Converts bytes to a string using the 'utf-8' encoding.\n",
    "    Parameters:\n",
    "    - data (bytes or list): The bytes data, or list of bytes to be converted.\n",
    "    Returns:\n",
    "    - str: The converted string, or list of str.\n",
    "    \"\"\"\n",
    "    if isinstance(data, list):\n",
    "        return [bytes_to_string(d) for d in data]\n",
    "    return data.decode('utf-8')\n",
    "\n",
    "print(f\"Before conversion: \\n{type(df['data'][0])}\")\n",
    "print(f\"After conversion: \\n{type(bytes_to_string(df['data'][0]))}\")\n",
    "df.data = bytes_to_string(df.data)\n"
   ]
  },
  {
   "cell_type": "markdown",
   "metadata": {},
   "source": [
    "#### 1.2.1. Extract information from each job advertisement"
   ]
  },
  {
   "cell_type": "code",
   "execution_count": 9,
   "metadata": {},
   "outputs": [
    {
     "name": "stdout",
     "output_type": "stream",
     "text": [
      "Job data at index 20: \n",
      "Title: PERM Unit Mgr RGN Kid minster Flexi ****K due\n",
      "Webindex: 71692209\n",
      "Description: Job Title: Unit Manager Reporting to: Registered Manager Job Purpose: To manage in a professional manner the day to day running of the home’s administration, clinical policies and procedures, training and care planning. To implement working practices that monitors the health and welfare of the home’s service users and staff and their respective environments. To promote quality care within a warm friendly ambience. Key Result Areas Managing To work with the Directors to achieve the home’s financial targets. To manage the home in a manner which will not bring the home or service users into disrepute. To maintain confidentiality on all aspects of care and staff management. To ensure all the home’s policies and procedures are implemented and followed by all staff. To inform the Registered Manager immediately if a serious difficulty or event occurs. Managing Support To delegate responsibility effectively and within legal boundaries. To ensure through clinical standards and audits that good practice is maintained throughout the home. Nursing Duties To perform nursing duties that reflect current best practice and keep abreast of latest developments To inform the Registered Manager of any nursing and medical matters affecting the service user’s care. To assist service users with personal care which includes; using the bath / bed bath or shower, feet and nail care, hair care, shaving, mouth care, denture care, toileting needs, all daily activities as per individual care plans including tidying bed and room. To assist clients with their psychological needs, which includes; talking, listening, excursions, liaising with family, assisting with hobbies and recreation activities. To care for the service user as an individual and maintain a high level of care for their particular condition ensuring physical needs, comfort and dignity are met. To care for service user’s at their end of life in a respectful and dignified manner. To administer medication strictly in accordance with the Drug Administration policy and NMC guidelines. To assist the Registered Manager in ensuring adequate supplies of medication and correct storage as per the medication policy. To assist with serving meals and other domestic duties such as laundry, occasional cleaning etc. To deal with any internal or external communications from service users or third parties. To ensure all documentation is kept up to date and recorded accurately. To maintain records / care plans as required by the Care Quality Commission. Business Management To work both with the Directors and independently to generate enquiries and proactively deal with members of the public, and care / medical professionals, to ensure a high level of occupancy rates. To manage and have a working knowledge of the Home’s Policies and Procedures and ensure they are maintained at all times. To promote and act strictly in accordance with the Home’s Health and Safety Policy and ensure good Health and Safety practice within the working environment to comply with COSHH / RIDDOR / Environmental Health / Fire regulations and the Care Standards Act. To bring to the Directors immediate attention any item of Health and Safety importance that would be of concern and potentially needing prompt action. To have an in depth operational knowledge of all emergency procedures and ensure they are cascaded down through all the staff and service users. To attend staff meetings as arranged and to ensure other staff informed of items discussed and decisions made. To attend at least 21 hours per annum of compulsory training outlined by your personal development plan. To participate in regular reviews and an annual appraisal in order to develop your training needs in relation to skills and knowledge. To promote the good name of the Home at all times. To cover colleagues duties in times of sickness and holidays. To develop and share ideas for the improvement of practice within the home. To implement change sensitively but effectively. To replenish stocks and exercise cost / stock control. To operate within the guidelines of the Data Protection Act and ensure total confidentiality, especially with regards to staff and service users. Managing People To assist and supervise staff training. To be responsible for covering staff absences and managing disputes where appropriate. To ensure all staff contribute to the best of their ability to the efficient running of the home and that high standards are maintained. To ensure staff have the qualifications and training necessary for the duties they perform. To ensure all staff have two monthly reviews and an annual appraisal as per company policy. FURTHER DUTIES: In addition to the responsibilities listed above it may be necessary to perform other duties as required by the Home’s management or senior staff. Consideration will be given to your skills and status when given these duties. NOTE: It is expected that all duties carried out will be performed in a spirit of cooperation required from a dedicated efficient team whose prime aim is to make the service user’s stay as comfortable and enjoyable as possible.\n"
     ]
    }
   ],
   "source": [
    "print(f'Job data at index {idx}: \\n{df[\"data\"][idx]}')"
   ]
  },
  {
   "cell_type": "code",
   "execution_count": 10,
   "metadata": {},
   "outputs": [
    {
     "name": "stdout",
     "output_type": "stream",
     "text": [
      "Job description at index 20:\n",
      "Job Title: Unit Manager Reporting to: Registered Manager Job Purpose: To manage in a professional manner the day to day running of the home’s administration, clinical policies and procedures, training and care planning. To implement working practices that monitors the health and welfare of the home’s service users and staff and their respective environments. To promote quality care within a warm friendly ambience. Key Result Areas Managing To work with the Directors to achieve the home’s financial targets. To manage the home in a manner which will not bring the home or service users into disrepute. To maintain confidentiality on all aspects of care and staff management. To ensure all the home’s policies and procedures are implemented and followed by all staff. To inform the Registered Manager immediately if a serious difficulty or event occurs. Managing Support To delegate responsibility effectively and within legal boundaries. To ensure through clinical standards and audits that good practice is maintained throughout the home. Nursing Duties To perform nursing duties that reflect current best practice and keep abreast of latest developments To inform the Registered Manager of any nursing and medical matters affecting the service user’s care. To assist service users with personal care which includes; using the bath / bed bath or shower, feet and nail care, hair care, shaving, mouth care, denture care, toileting needs, all daily activities as per individual care plans including tidying bed and room. To assist clients with their psychological needs, which includes; talking, listening, excursions, liaising with family, assisting with hobbies and recreation activities. To care for the service user as an individual and maintain a high level of care for their particular condition ensuring physical needs, comfort and dignity are met. To care for service user’s at their end of life in a respectful and dignified manner. To administer medication strictly in accordance with the Drug Administration policy and NMC guidelines. To assist the Registered Manager in ensuring adequate supplies of medication and correct storage as per the medication policy. To assist with serving meals and other domestic duties such as laundry, occasional cleaning etc. To deal with any internal or external communications from service users or third parties. To ensure all documentation is kept up to date and recorded accurately. To maintain records / care plans as required by the Care Quality Commission. Business Management To work both with the Directors and independently to generate enquiries and proactively deal with members of the public, and care / medical professionals, to ensure a high level of occupancy rates. To manage and have a working knowledge of the Home’s Policies and Procedures and ensure they are maintained at all times. To promote and act strictly in accordance with the Home’s Health and Safety Policy and ensure good Health and Safety practice within the working environment to comply with COSHH / RIDDOR / Environmental Health / Fire regulations and the Care Standards Act. To bring to the Directors immediate attention any item of Health and Safety importance that would be of concern and potentially needing prompt action. To have an in depth operational knowledge of all emergency procedures and ensure they are cascaded down through all the staff and service users. To attend staff meetings as arranged and to ensure other staff informed of items discussed and decisions made. To attend at least 21 hours per annum of compulsory training outlined by your personal development plan. To participate in regular reviews and an annual appraisal in order to develop your training needs in relation to skills and knowledge. To promote the good name of the Home at all times. To cover colleagues duties in times of sickness and holidays. To develop and share ideas for the improvement of practice within the home. To implement change sensitively but effectively. To replenish stocks and exercise cost / stock control. To operate within the guidelines of the Data Protection Act and ensure total confidentiality, especially with regards to staff and service users. Managing People To assist and supervise staff training. To be responsible for covering staff absences and managing disputes where appropriate. To ensure all staff contribute to the best of their ability to the efficient running of the home and that high standards are maintained. To ensure staff have the qualifications and training necessary for the duties they perform. To ensure all staff have two monthly reviews and an annual appraisal as per company policy. FURTHER DUTIES: In addition to the responsibilities listed above it may be necessary to perform other duties as required by the Home’s management or senior staff. Consideration will be given to your skills and status when given these duties. NOTE: It is expected that all duties carried out will be performed in a spirit of cooperation required from a dedicated efficient team whose prime aim is to make the service user’s stay as comfortable and enjoyable as possible.\n"
     ]
    }
   ],
   "source": [
    "def extract_description(data):\n",
    "    descriptions = []\n",
    "    for item in data:\n",
    "        match = re.search(r'Description: (.*)', str(item))\n",
    "        if match:\n",
    "            descriptions.append(match.group(1))\n",
    "    return descriptions\n",
    "\n",
    "descriptions = extract_description(df.data)\n",
    "print(f'Job description at index {idx}:\\n{descriptions[idx]}')\n",
    "    "
   ]
  },
  {
   "cell_type": "code",
   "execution_count": 11,
   "metadata": {},
   "outputs": [
    {
     "name": "stdout",
     "output_type": "stream",
     "text": [
      "Job title at index 20:\n",
      "PERM Unit Mgr RGN Kid minster Flexi ****K due\n"
     ]
    }
   ],
   "source": [
    "def extract_title(data):\n",
    "    titles = []\n",
    "    for item in data:\n",
    "        match = re.search(r'Title: (.*)', str(item))\n",
    "        if match:\n",
    "            titles.append(match.group(1))\n",
    "    return titles\n",
    "\n",
    "titles = extract_title(df.data)\n",
    "print(f'Job title at index {idx}:\\n{titles[idx]}')"
   ]
  },
  {
   "cell_type": "code",
   "execution_count": 12,
   "metadata": {},
   "outputs": [
    {
     "name": "stdout",
     "output_type": "stream",
     "text": [
      "Webindex at index 20:\n",
      "71692209\n",
      "webindex len\n"
     ]
    }
   ],
   "source": [
    "def extract_webindex(data):\n",
    "    webindex = []\n",
    "    for item in data:\n",
    "        match = re.search(r'Webindex: (.*)', str(item))\n",
    "        if match:\n",
    "            webindex.append(match.group(1))\n",
    "    return webindex\n",
    "\n",
    "webindex = extract_webindex(df.data)\n",
    "print(f'Webindex at index {idx}:\\n{webindex[idx]}')"
   ]
  },
  {
   "cell_type": "code",
   "execution_count": 13,
   "metadata": {},
   "outputs": [
    {
     "name": "stdout",
     "output_type": "stream",
     "text": [
      "Company at index 20:\n",
      "NA\n"
     ]
    }
   ],
   "source": [
    "def extract_company(data):\n",
    "    companies = []\n",
    "    for item in data:\n",
    "        match = re.search(r'Company: (.*)', str(item))\n",
    "        if match:\n",
    "            companies.append(match.group(1))\n",
    "        else:\n",
    "            companies.append('NA')\n",
    "    return companies\n",
    "\n",
    "companies = extract_company(df.data)\n",
    "print(f'Company at index {idx}:\\n{companies[idx]}')"
   ]
  },
  {
   "cell_type": "markdown",
   "metadata": {},
   "source": [
    "#### 1.2.2-3: Converted Job description to lower case and Tokenization"
   ]
  },
  {
   "cell_type": "code",
   "execution_count": 14,
   "metadata": {},
   "outputs": [
    {
     "name": "stdout",
     "output_type": "stream",
     "text": [
      "Raw description at index 20:\n",
      "Job Title: Unit Manager Reporting to: Registered Manager Job Purpose: To manage in a professional manner the day to day running of the home’s administration, clinical policies and procedures, training and care planning. To implement working practices that monitors the health and welfare of the home’s service users and staff and their respective environments. To promote quality care within a warm friendly ambience. Key Result Areas Managing To work with the Directors to achieve the home’s financial targets. To manage the home in a manner which will not bring the home or service users into disrepute. To maintain confidentiality on all aspects of care and staff management. To ensure all the home’s policies and procedures are implemented and followed by all staff. To inform the Registered Manager immediately if a serious difficulty or event occurs. Managing Support To delegate responsibility effectively and within legal boundaries. To ensure through clinical standards and audits that good practice is maintained throughout the home. Nursing Duties To perform nursing duties that reflect current best practice and keep abreast of latest developments To inform the Registered Manager of any nursing and medical matters affecting the service user’s care. To assist service users with personal care which includes; using the bath / bed bath or shower, feet and nail care, hair care, shaving, mouth care, denture care, toileting needs, all daily activities as per individual care plans including tidying bed and room. To assist clients with their psychological needs, which includes; talking, listening, excursions, liaising with family, assisting with hobbies and recreation activities. To care for the service user as an individual and maintain a high level of care for their particular condition ensuring physical needs, comfort and dignity are met. To care for service user’s at their end of life in a respectful and dignified manner. To administer medication strictly in accordance with the Drug Administration policy and NMC guidelines. To assist the Registered Manager in ensuring adequate supplies of medication and correct storage as per the medication policy. To assist with serving meals and other domestic duties such as laundry, occasional cleaning etc. To deal with any internal or external communications from service users or third parties. To ensure all documentation is kept up to date and recorded accurately. To maintain records / care plans as required by the Care Quality Commission. Business Management To work both with the Directors and independently to generate enquiries and proactively deal with members of the public, and care / medical professionals, to ensure a high level of occupancy rates. To manage and have a working knowledge of the Home’s Policies and Procedures and ensure they are maintained at all times. To promote and act strictly in accordance with the Home’s Health and Safety Policy and ensure good Health and Safety practice within the working environment to comply with COSHH / RIDDOR / Environmental Health / Fire regulations and the Care Standards Act. To bring to the Directors immediate attention any item of Health and Safety importance that would be of concern and potentially needing prompt action. To have an in depth operational knowledge of all emergency procedures and ensure they are cascaded down through all the staff and service users. To attend staff meetings as arranged and to ensure other staff informed of items discussed and decisions made. To attend at least 21 hours per annum of compulsory training outlined by your personal development plan. To participate in regular reviews and an annual appraisal in order to develop your training needs in relation to skills and knowledge. To promote the good name of the Home at all times. To cover colleagues duties in times of sickness and holidays. To develop and share ideas for the improvement of practice within the home. To implement change sensitively but effectively. To replenish stocks and exercise cost / stock control. To operate within the guidelines of the Data Protection Act and ensure total confidentiality, especially with regards to staff and service users. Managing People To assist and supervise staff training. To be responsible for covering staff absences and managing disputes where appropriate. To ensure all staff contribute to the best of their ability to the efficient running of the home and that high standards are maintained. To ensure staff have the qualifications and training necessary for the duties they perform. To ensure all staff have two monthly reviews and an annual appraisal as per company policy. FURTHER DUTIES: In addition to the responsibilities listed above it may be necessary to perform other duties as required by the Home’s management or senior staff. Consideration will be given to your skills and status when given these duties. NOTE: It is expected that all duties carried out will be performed in a spirit of cooperation required from a dedicated efficient team whose prime aim is to make the service user’s stay as comfortable and enjoyable as possible.\n",
      "\n",
      "Tokenised description at index 20:\n",
      "['job', 'title', 'unit', 'manager', 'reporting', 'to', 'registered', 'manager', 'job', 'purpose', 'to', 'manage', 'in', 'a', 'professional', 'manner', 'the', 'day', 'to', 'day', 'running', 'of', 'the', 'home', 's', 'administration', 'clinical', 'policies', 'and', 'procedures', 'training', 'and', 'care', 'planning', 'to', 'implement', 'working', 'practices', 'that', 'monitors', 'the', 'health', 'and', 'welfare', 'of', 'the', 'home', 's', 'service', 'users', 'and', 'staff', 'and', 'their', 'respective', 'environments', 'to', 'promote', 'quality', 'care', 'within', 'a', 'warm', 'friendly', 'ambience', 'key', 'result', 'areas', 'managing', 'to', 'work', 'with', 'the', 'directors', 'to', 'achieve', 'the', 'home', 's', 'financial', 'targets', 'to', 'manage', 'the', 'home', 'in', 'a', 'manner', 'which', 'will', 'not', 'bring', 'the', 'home', 'or', 'service', 'users', 'into', 'disrepute', 'to', 'maintain', 'confidentiality', 'on', 'all', 'aspects', 'of', 'care', 'and', 'staff', 'management', 'to', 'ensure', 'all', 'the', 'home', 's', 'policies', 'and', 'procedures', 'are', 'implemented', 'and', 'followed', 'by', 'all', 'staff', 'to', 'inform', 'the', 'registered', 'manager', 'immediately', 'if', 'a', 'serious', 'difficulty', 'or', 'event', 'occurs', 'managing', 'support', 'to', 'delegate', 'responsibility', 'effectively', 'and', 'within', 'legal', 'boundaries', 'to', 'ensure', 'through', 'clinical', 'standards', 'and', 'audits', 'that', 'good', 'practice', 'is', 'maintained', 'throughout', 'the', 'home', 'nursing', 'duties', 'to', 'perform', 'nursing', 'duties', 'that', 'reflect', 'current', 'best', 'practice', 'and', 'keep', 'abreast', 'of', 'latest', 'developments', 'to', 'inform', 'the', 'registered', 'manager', 'of', 'any', 'nursing', 'and', 'medical', 'matters', 'affecting', 'the', 'service', 'user', 's', 'care', 'to', 'assist', 'service', 'users', 'with', 'personal', 'care', 'which', 'includes', 'using', 'the', 'bath', 'bed', 'bath', 'or', 'shower', 'feet', 'and', 'nail', 'care', 'hair', 'care', 'shaving', 'mouth', 'care', 'denture', 'care', 'toileting', 'needs', 'all', 'daily', 'activities', 'as', 'per', 'individual', 'care', 'plans', 'including', 'tidying', 'bed', 'and', 'room', 'to', 'assist', 'clients', 'with', 'their', 'psychological', 'needs', 'which', 'includes', 'talking', 'listening', 'excursions', 'liaising', 'with', 'family', 'assisting', 'with', 'hobbies', 'and', 'recreation', 'activities', 'to', 'care', 'for', 'the', 'service', 'user', 'as', 'an', 'individual', 'and', 'maintain', 'a', 'high', 'level', 'of', 'care', 'for', 'their', 'particular', 'condition', 'ensuring', 'physical', 'needs', 'comfort', 'and', 'dignity', 'are', 'met', 'to', 'care', 'for', 'service', 'user', 's', 'at', 'their', 'end', 'of', 'life', 'in', 'a', 'respectful', 'and', 'dignified', 'manner', 'to', 'administer', 'medication', 'strictly', 'in', 'accordance', 'with', 'the', 'drug', 'administration', 'policy', 'and', 'nmc', 'guidelines', 'to', 'assist', 'the', 'registered', 'manager', 'in', 'ensuring', 'adequate', 'supplies', 'of', 'medication', 'and', 'correct', 'storage', 'as', 'per', 'the', 'medication', 'policy', 'to', 'assist', 'with', 'serving', 'meals', 'and', 'other', 'domestic', 'duties', 'such', 'as', 'laundry', 'occasional', 'cleaning', 'etc', 'to', 'deal', 'with', 'any', 'internal', 'or', 'external', 'communications', 'from', 'service', 'users', 'or', 'third', 'parties', 'to', 'ensure', 'all', 'documentation', 'is', 'kept', 'up', 'to', 'date', 'and', 'recorded', 'accurately', 'to', 'maintain', 'records', 'care', 'plans', 'as', 'required', 'by', 'the', 'care', 'quality', 'commission', 'business', 'management', 'to', 'work', 'both', 'with', 'the', 'directors', 'and', 'independently', 'to', 'generate', 'enquiries', 'and', 'proactively', 'deal', 'with', 'members', 'of', 'the', 'public', 'and', 'care', 'medical', 'professionals', 'to', 'ensure', 'a', 'high', 'level', 'of', 'occupancy', 'rates', 'to', 'manage', 'and', 'have', 'a', 'working', 'knowledge', 'of', 'the', 'home', 's', 'policies', 'and', 'procedures', 'and', 'ensure', 'they', 'are', 'maintained', 'at', 'all', 'times', 'to', 'promote', 'and', 'act', 'strictly', 'in', 'accordance', 'with', 'the', 'home', 's', 'health', 'and', 'safety', 'policy', 'and', 'ensure', 'good', 'health', 'and', 'safety', 'practice', 'within', 'the', 'working', 'environment', 'to', 'comply', 'with', 'coshh', 'riddor', 'environmental', 'health', 'fire', 'regulations', 'and', 'the', 'care', 'standards', 'act', 'to', 'bring', 'to', 'the', 'directors', 'immediate', 'attention', 'any', 'item', 'of', 'health', 'and', 'safety', 'importance', 'that', 'would', 'be', 'of', 'concern', 'and', 'potentially', 'needing', 'prompt', 'action', 'to', 'have', 'an', 'in', 'depth', 'operational', 'knowledge', 'of', 'all', 'emergency', 'procedures', 'and', 'ensure', 'they', 'are', 'cascaded', 'down', 'through', 'all', 'the', 'staff', 'and', 'service', 'users', 'to', 'attend', 'staff', 'meetings', 'as', 'arranged', 'and', 'to', 'ensure', 'other', 'staff', 'informed', 'of', 'items', 'discussed', 'and', 'decisions', 'made', 'to', 'attend', 'at', 'least', 'hours', 'per', 'annum', 'of', 'compulsory', 'training', 'outlined', 'by', 'your', 'personal', 'development', 'plan', 'to', 'participate', 'in', 'regular', 'reviews', 'and', 'an', 'annual', 'appraisal', 'in', 'order', 'to', 'develop', 'your', 'training', 'needs', 'in', 'relation', 'to', 'skills', 'and', 'knowledge', 'to', 'promote', 'the', 'good', 'name', 'of', 'the', 'home', 'at', 'all', 'times', 'to', 'cover', 'colleagues', 'duties', 'in', 'times', 'of', 'sickness', 'and', 'holidays', 'to', 'develop', 'and', 'share', 'ideas', 'for', 'the', 'improvement', 'of', 'practice', 'within', 'the', 'home', 'to', 'implement', 'change', 'sensitively', 'but', 'effectively', 'to', 'replenish', 'stocks', 'and', 'exercise', 'cost', 'stock', 'control', 'to', 'operate', 'within', 'the', 'guidelines', 'of', 'the', 'data', 'protection', 'act', 'and', 'ensure', 'total', 'confidentiality', 'especially', 'with', 'regards', 'to', 'staff', 'and', 'service', 'users', 'managing', 'people', 'to', 'assist', 'and', 'supervise', 'staff', 'training', 'to', 'be', 'responsible', 'for', 'covering', 'staff', 'absences', 'and', 'managing', 'disputes', 'where', 'appropriate', 'to', 'ensure', 'all', 'staff', 'contribute', 'to', 'the', 'best', 'of', 'their', 'ability', 'to', 'the', 'efficient', 'running', 'of', 'the', 'home', 'and', 'that', 'high', 'standards', 'are', 'maintained', 'to', 'ensure', 'staff', 'have', 'the', 'qualifications', 'and', 'training', 'necessary', 'for', 'the', 'duties', 'they', 'perform', 'to', 'ensure', 'all', 'staff', 'have', 'two', 'monthly', 'reviews', 'and', 'an', 'annual', 'appraisal', 'as', 'per', 'company', 'policy', 'further', 'duties', 'in', 'addition', 'to', 'the', 'responsibilities', 'listed', 'above', 'it', 'may', 'be', 'necessary', 'to', 'perform', 'other', 'duties', 'as', 'required', 'by', 'the', 'home', 's', 'management', 'or', 'senior', 'staff', 'consideration', 'will', 'be', 'given', 'to', 'your', 'skills', 'and', 'status', 'when', 'given', 'these', 'duties', 'note', 'it', 'is', 'expected', 'that', 'all', 'duties', 'carried', 'out', 'will', 'be', 'performed', 'in', 'a', 'spirit', 'of', 'cooperation', 'required', 'from', 'a', 'dedicated', 'efficient', 'team', 'whose', 'prime', 'aim', 'is', 'to', 'make', 'the', 'service', 'user', 's', 'stay', 'as', 'comfortable', 'and', 'enjoyable', 'as', 'possible']\n"
     ]
    }
   ],
   "source": [
    "def tokenizeDescription(description):\n",
    "    # Convert all words to lowercase\n",
    "    l_description = description.lower()\n",
    "    \n",
    "    # Segment into sentences\n",
    "    sentences = sent_tokenize(l_description)\n",
    "    \n",
    "    # Tokenize each sentence\n",
    "    pattern = r\"[a-zA-Z]+(?:[-'][a-zA-Z]+)?\"\n",
    "    tokenizer = RegexpTokenizer(pattern)\n",
    "    token_list = [tokenizer.tokenize(sen) for sen in sentences]\n",
    "    \n",
    "    # Merged into a list of tokens\n",
    "    tokenized_descriptions = list(chain.from_iterable(token_list))\n",
    "    return tokenized_descriptions\n",
    "\n",
    "tokenised_description = [tokenizeDescription(description) for description in descriptions]\n",
    "print(f'Raw description at index {idx}:\\n{descriptions[idx]}\\n')\n",
    "print(f'Tokenised description at index {idx}:\\n{tokenised_description[idx]}')"
   ]
  },
  {
   "cell_type": "code",
   "execution_count": 15,
   "metadata": {},
   "outputs": [
    {
     "name": "stdout",
     "output_type": "stream",
     "text": [
      "Length of tokenised description at index 20: 815\n",
      "Length of description at index 20: 813\n"
     ]
    }
   ],
   "source": [
    "print(f'Length of tokenised description at index {idx}: {len(tokenised_description[idx])}')\n",
    "print(f'Length of description at index {idx}: {len(descriptions[idx].lower().split())}')"
   ]
  },
  {
   "cell_type": "code",
   "execution_count": 16,
   "metadata": {},
   "outputs": [
    {
     "name": "stdout",
     "output_type": "stream",
     "text": [
      "Vocabulary size:  9834\n",
      "Total number of tokens:  186952\n",
      "Lexical diversity:  0.052601737344345076\n",
      "Total number of descriptions: 776\n",
      "Average description length: 240.91752577319588\n",
      "Maximun description length: 815\n",
      "Minimun description length: 13\n",
      "Standard deviation of description length: 124.97750685071483\n"
     ]
    }
   ],
   "source": [
    "def stats_print(tokenised_description):\n",
    "    words = list(chain.from_iterable(tokenised_description)) # we put all the tokens in the corpus in a single list\n",
    "    vocab = set(words) # compute the vocabulary by converting the list of words/tokens to a set, i.e., giving a set of unique words\n",
    "    lexical_diversity = len(vocab)/len(words)\n",
    "    print(\"Vocabulary size: \",len(vocab))\n",
    "    print(\"Total number of tokens: \", len(words))\n",
    "    print(\"Lexical diversity: \", lexical_diversity)\n",
    "    print(\"Total number of descriptions:\", len(tokenised_description))\n",
    "    lens = [len(description) for description in tokenised_description]\n",
    "    print(\"Average description length:\", np.mean(lens))\n",
    "    print(\"Maximun description length:\", np.max(lens))\n",
    "    print(\"Minimun description length:\", np.min(lens))\n",
    "    print(\"Standard deviation of description length:\", np.std(lens))\n",
    "\n",
    "stats_print(tokenised_description)"
   ]
  },
  {
   "cell_type": "markdown",
   "metadata": {},
   "source": [
    "#### 1.2.4. Remove words with length less than 2"
   ]
  },
  {
   "cell_type": "code",
   "execution_count": 17,
   "metadata": {},
   "outputs": [
    {
     "name": "stdout",
     "output_type": "stream",
     "text": [
      "Print description with words less than 2 characters at index 20: \n",
      "['a', 's', 's', 'a', 's', 'a', 's', 'a', 's', 'a', 's', 'a', 'a', 'a', 's', 's', 's', 'a', 'a', 's']\n"
     ]
    }
   ],
   "source": [
    "# Find the tokenised description with words less than 2 characters\n",
    "w_less_than_2 = [[w for w in description if len(w) < 2] for description in tokenised_description]\n",
    "print(f'Print description with words less than 2 characters at index {idx}: \\n{w_less_than_2[idx]}')"
   ]
  },
  {
   "cell_type": "code",
   "execution_count": 18,
   "metadata": {},
   "outputs": [
    {
     "name": "stdout",
     "output_type": "stream",
     "text": [
      "Description with words less than 2 characters at index 20 after removed: \n",
      "[]\n"
     ]
    }
   ],
   "source": [
    "# Filter the tokenised description with words greater than 2 characters\n",
    "tokenised_description = [[w for w in description if len(w) > 2] for description in tokenised_description]\n",
    "\n",
    "# After filtering\n",
    "w_less_than_2 = [[w for w in description if len(w) < 2] for description in tokenised_description]\n",
    "print(f'Description with words less than 2 characters at index {idx} after removed: \\n{w_less_than_2[idx]}')"
   ]
  },
  {
   "cell_type": "code",
   "execution_count": 19,
   "metadata": {},
   "outputs": [
    {
     "name": "stdout",
     "output_type": "stream",
     "text": [
      "Vocabulary size:  9615\n",
      "Total number of tokens:  153200\n",
      "Lexical diversity:  0.06276109660574412\n",
      "Total number of descriptions: 776\n",
      "Average description length: 197.42268041237114\n",
      "Maximun description length: 661\n",
      "Minimun description length: 12\n",
      "Standard deviation of description length: 103.46267418502396\n"
     ]
    }
   ],
   "source": [
    "stats_print(tokenised_description)"
   ]
  },
  {
   "cell_type": "markdown",
   "metadata": {},
   "source": [
    "===> Lexical diversity increased after removed words less than 2 characters."
   ]
  },
  {
   "cell_type": "markdown",
   "metadata": {},
   "source": [
    "#### 1.2.5. Remove stopwords using the provided stop words list from stopwords_en.txt"
   ]
  },
  {
   "cell_type": "code",
   "execution_count": 20,
   "metadata": {},
   "outputs": [
    {
     "name": "stdout",
     "output_type": "stream",
     "text": [
      " Stop words list to removed: \n",
      "['a', \"a's\", 'able', 'about', 'above', 'according', 'accordingly', 'across', 'actually', 'after', 'afterwards', 'again', 'against', \"ain't\", 'all', 'allow', 'allows', 'almost', 'alone', 'along', 'already', 'also', 'although', 'always', 'am', 'among', 'amongst', 'an', 'and', 'another', 'any', 'anybody', 'anyhow', 'anyone', 'anything', 'anyway', 'anyways', 'anywhere', 'apart', 'appear', 'appreciate', 'appropriate', 'are', \"aren't\", 'around', 'as', 'aside', 'ask', 'asking', 'associated', 'at', 'available', 'away', 'awfully', 'b', 'be', 'became', 'because', 'become', 'becomes', 'becoming', 'been', 'before', 'beforehand', 'behind', 'being', 'believe', 'below', 'beside', 'besides', 'best', 'better', 'between', 'beyond', 'both', 'brief', 'but', 'by', 'c', \"c'mon\", \"c's\", 'came', 'can', \"can't\", 'cannot', 'cant', 'cause', 'causes', 'certain', 'certainly', 'changes', 'clearly', 'co', 'com', 'come', 'comes', 'concerning', 'consequently', 'consider', 'considering', 'contain', 'containing', 'contains', 'corresponding', 'could', \"couldn't\", 'course', 'currently', 'd', 'definitely', 'described', 'despite', 'did', \"didn't\", 'different', 'do', 'does', \"doesn't\", 'doing', \"don't\", 'done', 'down', 'downwards', 'during', 'e', 'each', 'edu', 'eg', 'eight', 'either', 'else', 'elsewhere', 'enough', 'entirely', 'especially', 'et', 'etc', 'even', 'ever', 'every', 'everybody', 'everyone', 'everything', 'everywhere', 'ex', 'exactly', 'example', 'except', 'f', 'far', 'few', 'fifth', 'first', 'five', 'followed', 'following', 'follows', 'for', 'former', 'formerly', 'forth', 'four', 'from', 'further', 'furthermore', 'g', 'get', 'gets', 'getting', 'given', 'gives', 'go', 'goes', 'going', 'gone', 'got', 'gotten', 'greetings', 'h', 'had', \"hadn't\", 'happens', 'hardly', 'has', \"hasn't\", 'have', \"haven't\", 'having', 'he', \"he's\", 'hello', 'help', 'hence', 'her', 'here', \"here's\", 'hereafter', 'hereby', 'herein', 'hereupon', 'hers', 'herself', 'hi', 'him', 'himself', 'his', 'hither', 'hopefully', 'how', 'howbeit', 'however', 'i', \"i'd\", \"i'll\", \"i'm\", \"i've\", 'ie', 'if', 'ignored', 'immediate', 'in', 'inasmuch', 'inc', 'indeed', 'indicate', 'indicated', 'indicates', 'inner', 'insofar', 'instead', 'into', 'inward', 'is', \"isn't\", 'it', \"it'd\", \"it'll\", \"it's\", 'its', 'itself', 'j', 'just', 'k', 'keep', 'keeps', 'kept', 'know', 'knows', 'known', 'l', 'last', 'lately', 'later', 'latter', 'latterly', 'least', 'less', 'lest', 'let', \"let's\", 'like', 'liked', 'likely', 'little', 'look', 'looking', 'looks', 'ltd', 'm', 'mainly', 'many', 'may', 'maybe', 'me', 'mean', 'meanwhile', 'merely', 'might', 'more', 'moreover', 'most', 'mostly', 'much', 'must', 'my', 'myself', 'n', 'name', 'namely', 'nd', 'near', 'nearly', 'necessary', 'need', 'needs', 'neither', 'never', 'nevertheless', 'new', 'next', 'nine', 'no', 'nobody', 'non', 'none', 'noone', 'nor', 'normally', 'not', 'nothing', 'novel', 'now', 'nowhere', 'o', 'obviously', 'of', 'off', 'often', 'oh', 'ok', 'okay', 'old', 'on', 'once', 'one', 'ones', 'only', 'onto', 'or', 'other', 'others', 'otherwise', 'ought', 'our', 'ours', 'ourselves', 'out', 'outside', 'over', 'overall', 'own', 'p', 'particular', 'particularly', 'per', 'perhaps', 'placed', 'please', 'plus', 'possible', 'presumably', 'probably', 'provides', 'q', 'que', 'quite', 'qv', 'r', 'rather', 'rd', 're', 'really', 'reasonably', 'regarding', 'regardless', 'regards', 'relatively', 'respectively', 'right', 's', 'said', 'same', 'saw', 'say', 'saying', 'says', 'second', 'secondly', 'see', 'seeing', 'seem', 'seemed', 'seeming', 'seems', 'seen', 'self', 'selves', 'sensible', 'sent', 'serious', 'seriously', 'seven', 'several', 'shall', 'she', 'should', \"shouldn't\", 'since', 'six', 'so', 'some', 'somebody', 'somehow', 'someone', 'something', 'sometime', 'sometimes', 'somewhat', 'somewhere', 'soon', 'sorry', 'specified', 'specify', 'specifying', 'still', 'sub', 'such', 'sup', 'sure', 't', \"t's\", 'take', 'taken', 'tell', 'tends', 'th', 'than', 'thank', 'thanks', 'thanx', 'that', \"that's\", 'thats', 'the', 'their', 'theirs', 'them', 'themselves', 'then', 'thence', 'there', \"there's\", 'thereafter', 'thereby', 'therefore', 'therein', 'theres', 'thereupon', 'these', 'they', \"they'd\", \"they'll\", \"they're\", \"they've\", 'think', 'third', 'this', 'thorough', 'thoroughly', 'those', 'though', 'three', 'through', 'throughout', 'thru', 'thus', 'to', 'together', 'too', 'took', 'toward', 'towards', 'tried', 'tries', 'truly', 'try', 'trying', 'twice', 'two', 'u', 'un', 'under', 'unfortunately', 'unless', 'unlikely', 'until', 'unto', 'up', 'upon', 'us', 'use', 'used', 'useful', 'uses', 'using', 'usually', 'uucp', 'v', 'value', 'various', 'very', 'via', 'viz', 'vs', 'w', 'want', 'wants', 'was', \"wasn't\", 'way', 'we', \"we'd\", \"we'll\", \"we're\", \"we've\", 'welcome', 'well', 'went', 'were', \"weren't\", 'what', \"what's\", 'whatever', 'when', 'whence', 'whenever', 'where', \"where's\", 'whereafter', 'whereas', 'whereby', 'wherein', 'whereupon', 'wherever', 'whether', 'which', 'while', 'whither', 'who', \"who's\", 'whoever', 'whole', 'whom', 'whose', 'why', 'will', 'willing', 'wish', 'with', 'within', 'without', \"won't\", 'wonder', 'would', 'would', \"wouldn't\", 'x', 'y', 'yes', 'yet', 'you', \"you'd\", \"you'll\", \"you're\", \"you've\", 'your', 'yours', 'yourself', 'yourselves', 'z', 'zero']\n"
     ]
    }
   ],
   "source": [
    "stopwords_en = 'stopwords_en.txt'\n",
    "with open(stopwords_en, 'r') as f:\n",
    "    stopwords = f.read().splitlines()\n",
    "print(f\" Stop words list to removed: \\n{stopwords}\")"
   ]
  },
  {
   "cell_type": "code",
   "execution_count": 21,
   "metadata": {},
   "outputs": [
    {
     "name": "stdout",
     "output_type": "stream",
     "text": [
      "Vocabulary size:  9245\n",
      "Total number of tokens:  105768\n",
      "Lexical diversity:  0.08740828984191816\n",
      "Total number of descriptions: 776\n",
      "Average description length: 136.29896907216494\n",
      "Maximun description length: 482\n",
      "Minimun description length: 12\n",
      "Standard deviation of description length: 72.23068213879858\n"
     ]
    }
   ],
   "source": [
    "# Filter the tokenised description with stopwords\n",
    "tokenised_description = [[w for w in description if w not in stopwords] for description in tokenised_description]\n",
    "stats_print(tokenised_description)"
   ]
  },
  {
   "cell_type": "markdown",
   "metadata": {},
   "source": [
    "===> Lexical diversity also increased after filter out stopwords."
   ]
  },
  {
   "cell_type": "markdown",
   "metadata": {},
   "source": [
    "#### 1.2.6. Remove the word that appears only once in the document collection, based on term frequency"
   ]
  },
  {
   "cell_type": "code",
   "execution_count": 22,
   "metadata": {},
   "outputs": [
    {
     "name": "stdout",
     "output_type": "stream",
     "text": [
      "The number of words that appear only once in the corpus: 4105\n",
      "\n",
      "Including: \n",
      "{'frameworks', 'draughting', 'undoubted', 'xpath', 'replying', 'ebucklecompassltd', 'preferredenthusiastic', 'suggesting', 'bigger', 'gauge', 'president', 'bullself', 'measurements', 'wedi', 'newbusinessaccountmanager', 'teamcenter', 'grad', 'rotary', 'testability', 'renovations', 'barring', 'joy', 'physiotherapists', 'careerswedbush', 'distributive', 'exmouth', 'yearly', 'eager', 'busienss', 'sainsbury', 'substantiation', 'dietry', 'competitiveness', 'wpf', 'photocopying', 'goodfellow', 'violent', 'predicated', 'stripping', 'implication', 'renown', 'communities', 'internalauditmanager', 'accountmanagermanchesterote', 'coachable', 'payrollmanager', 'frs', 'personalities', 'flows', 'lengthy', 'originating', 'justified', 'arises', 'cro', 'envolve', 'cobalt', 'tunbridge', 'coin', 'dmm', 'scientist', 'irregularity', \"solution's\", 'winn', 'payne', 'seniorsalesexecutive', 'titlebusiness', 'patience', 'appeared', 'datasource', 'successdriven', 'medically', 'effects', 'staffnet', 'competitively', 'farringdon', 'cpb', 'bone', 'grind', 'londonand', 'mounted', 'password', 'properly', 'safeguard', 'dispensers', 'registeredgeneralnurse', 'alan', 'composed', 'conformance', 'alexander', 'exclusivity', 'castle', 'oath', 'rgnscarborough', 'senioroptomechanicalengineersouth', 'uskv', 'smp', 'highlyservice', 'jacksonastburymarsden', 'bmw', 'curve', 'radius', 'kegworth', 'map', 'leadleyinteractionrecruitment', 'peiriannu', 'hamble', 'intentions', 'tenanted', 'swept', 'websites', 'highlighted', 'buxtonstaractuarial', 'chasing', 'ferrous', 'selfesteem', 'chks', 'assesses', 'jim', 'vosa', 'fidic', 'drywall', 'venter', 'mpo', 'swallowing', 'predetermined', 'miliynau', 'linesconducting', 'borrowing', 'catered', 'ouh', 'senioraccountexecutivesales', 'collateral', 'analyzing', 'orientatedinterested', 'france', 'cynghori', 'masonry', 'chard', 'residency', 'rolethe', 'cau', 'als', 'pairing', 'learned', 'supportability', 'ejr', 'minuets', 'newest', 'lively', 'evolve', 'worldleading', 'fia', 'tints', 'nightshift', 'seal', 'springboard', 'retailsalesconsultantassistantsalesmanager', 'pull', 'surgeries', 'neurodegenerative', 'writer', 'mixes', 'wtw', 'apmi', 'sponsor', 'glapwell', 'visibility', 'legible', 'satisfying', 'safer', 'immaculate', 'electronicengineer', 'leinster', 'muratsubaki', 'finishers', \"upp's\", 'sgiliau', 'attercliffe', 'pendrill', 'storrington', 'pen', 'particpate', 'criticism', 'unethical', 'nominated', 'entailing', 'brigg', \"i'n\", 'fireworks', 'gathered', 'highcalibre', 'whollyowned', 'recognises', 'ignore', 'andrews', 'regrets', 'logically', 'prominent', 'managementmaintain', 'bullit', 'swiftly', 'policyassess', 'hanner', 'actioning', 'lower', 'bushing', 'mins', 'gases', 'championing', 'ota', 'cafeteria', 'penalty', 'ofdm', 'monmouth', 'holidayabout', 'serviceuser', 'apologise', 'morris', 'energised', 'ricoh', 'emphasising', 'isl', 'gcsestandard', 'bond', 'microcephaly', 'upheld', 'mcafee', 'misra', 'dewrance', 'personthis', 'mus', 'reimburse', 'organiser', 'pounds', 'reproduction', 'backlog', 'marsdenomnirms', 'theirnumber', 'iconic', 'postal', 'testers', 'investigative', 'formalised', 'pressures', 'bolton', 'telco', 'recognize', 'tray', 'neonatal', 'characterization', 'greeks', 'glesurfredlinegroup', 'retreat', 'hazop', 'workinprogress', 'manpower', 'biopharma', 'nsuring', 'bridging', 'huntington', 'expensive', 'steadily', 'apparel', 'uncover', 'adeiladu', 'extreme', 'ceisiadau', 'normanton', 'solves', 'electric', 'managersector', 'stsm', 'requisite', 'winners', 'warwick', 'terminal', 'rrp', 'connect', 'homebased', 'salesrepresentativeconstructiontraineeorexperiencedconsidered', 'waiting', 'kilmarnock', 'sarbanesoxley', 'skillsets', 'dinnington', 'gears', 'renewed', 'countermeasures', 'shore', 'wheels', 'unhappy', 'switched', 'adopts', 'viable', 'aerostructures', 'nonlinear', 'jobshcone', 'dairy', 'neurone', 'bridgend', 'compromising', 'innovations', 'werkshage', 'lpc', 'thame', 'hcsw', 'sheltered', 'examples', 'coil', 'manylebau', 'valueadded', 'sas', 'shrinking', 'currency', 'midwife', 'addressed', 'mrk', 'smps', 'fulfill', 'toptable', 'seniorleadengineer', 'deputyhomemanagerrn', 'stop', 'mailing', 'ssembling', 'salesadministrator', 'thickness', 'informative', 'multiaxis', 'clientsupportanalystbuysidetechnologylondoncity', 'pathways', 'stafford', 'excellentorganisation', 'article', 'idexconsulting', 'belgium', 'imaginative', 'agenda', 'mov', 'reality', 'waking', 'walking', 'nursinghome', 'resultsfocussed', 'citations', 'ionformation', 'iva', 'universitystrong', 'southwest', 'clapham', 'towcester', 'samplingward', 'recruitmentsalesexecutive', 'targedau', 'healthshield', 'projectbased', 'producer', 'omega', 'zone', 'manned', 'juniorsalesassistantimmediatestart', 'beth', 'racheal', 'amtech', 'relocators', 'atmospherea', 'clubs', 'agilent', 'max', 'operationallyfocused', 'steering', 'underway', 'appx', 'timetotime', 'laid', 'highimpact', 'inter', 'constructors', 'multitier', 'partnered', 'winchfield', 'pending', 'unquestionably', 'constructionrelated', 'frankfurt', 'partssalesexecutive', 'borehamwood', 'stroud', 'diplomatic', 'grass', 'partaking', 'dockside', 'picked', 'excursions', 'kcar', 'trim', 'shokerpenguinrecruitment', 'overachiever', 'pact', 'iab', 'reacting', 'instore', 'datrys', 'roaming', 'malfunctions', 'consequence', 'regionally', 'survival', 'ethicexcellent', 'combines', 'acrobat', 'vrv', 'langley', 'celebrated', 'salesdue', 'solenoids', 'sort', 'angeles', 'toilet', 'amnesty', 'databooks', 'brokerages', 'motorsport', 'swadlincote', 'datacenters', 'partake', 'presently', 'melbourne', 'htm', 'onpatch', 'csr', 'hannah', 'itsoftwaresalesmicrosoftepsom', 'prince', 'unlike', \"atm's\", 'acis', 'realtime', 'accompany', 'uncappedsales', 'perkz', 'weeklies', 'linen', 'personcentred', 'friendship', 'stretched', 'businessesproven', 'uchafu', 'branding', 'composites', 'bradshaw', 'disassemble', 'showcasing', \"ireland's\", 'nordic', 'felt', 'ddylunio', 'sacrifices', 'radiographic', 'endorsement', 'clientside', 'stb', 'nonconformance', 'highenergy', 'flwyddyn', 'shelf', 'experienceinjection', 'yearfor', 'consideredadditional', 'polices', 'langridge', 'ombudsman', 'financialreportinganalyst', 'wimbledon', 'unqualified', 'eating', 'exacting', 'bennett', 'managergood', 'afpc', 'hopping', 'thirst', 'czech', 'regrind', 'horsley', 'sorters', 'accomplishing', 'extraordinary', \"west's\", 'tenant', 'mips', 'learnt', 'dydd', 'memberships', 'essence', 'gyfrannu', 'kingswodd', 'assistive', 'hostile', 'disclosurescotland', 'offenders', 'smoking', 'benefitting', 'evaluations', 'outturn', 'optomechanical', 'fullyfuelled', 'movement', 'deadline', 'logue', 'customerfocussed', 'wagstaff', 'simplification', 'tiverton', 'pitches', 'propel', 'displays', 'sleepovers', 'revolutionising', 'taxassistantmanager', 'romsey', 'embeddedsoftwareengineerbedfordshire', 'accrued', 'cores', 'empty', 'dey', 'embolization', 'takeoffs', 'commands', 'fieldsaleselectricalwholesalebirminghamsouthlondon', 'phy', 'brwdfrydedd', 'morekare', 'recreation', 'ended', 'desirables', 'groundbreaking', 'upgraded', 'timeframes', 'putney', 'carly', 'plain', 'formatting', 'seniorbrokerslondon', 'philippines', 'codnco', 'oxley', 'prescriptions', 'suggests', 'vav', 'compete', 'absences', 'rpo', 'selfconfidence', 'pupils', 'afraid', 'ohand', 'financeassistant', 'faxes', 'chostau', 'comparison', 'careersredfishsolutions', 'necessity', 'distrubutions', 'nonnuclear', 'configurator', 'negotiationskills', 'barnt', 'graduatesalesengineer', 'databus', 'impress', 'chriscavendishmaine', 'quqlification', 'onlymy', 'rose', 'mrcpsych', 'rasen', 'traceability', 'pest', 'regulatorypolicymanager', 'lettingsmanager', 'rhapsody', 'scal', 'actuator', 'modernisation', 'asses', 'gamp', 'twilight', 'possesses', 'vanilla', 'leavers', 'riskanalyst', 'launceston', 'selective', 'uphold', 'subprojects', 'ansawdd', 'dayfull', 'scr', 'resonsibilities', 'kgv', 'powered', 'holds', 'directorate', 'lac', 'rpaynegenesisassociates', 'deflect', 'solar', 'dividendscorporateactionsadministrator', 'awaits', 'standardised', 'overnights', 'bonusesfully', 'wardday', 'rtl', 'redditch', 'deterministic', 'couriers', 'mexico', 'academia', 'managment', 'evaluated', 'profitably', 'yass', 'arising', 'iec', 'spontaneity', 'lining', 'cbt', 'believer', 'psychology', 'riskmanager', 'mencap', 'derbyn', 'cgeol', 'chwarae', 'oddeutu', 'ofeurope', 'stations', 'traininga', 'technicalsalesmanagerscotlandlocated', 'loaded', 'scrutiny', 'visualstudioskills', 'perthnasol', 'relevantexperience', 'chemistry', 'innate', 'experiments', 'territorymanager', 'postqualification', 'tabulations', 'grows', 'scarborough', 'brentwood', 'dracup', 'carton', 'peiriannau', 'denominations', 'nebosh', 'luke', 'offset', 'subscriptions', 'bingo', 'currencies', 'auditexecutive', 'articulately', 'martin', 'amplitude', 'mequantitysurveyor', 'joe', 'outsource', 'brexcellent', 'floorcoverings', 'marketsstrong', 'nation', 'stokeontrent', 'equate', 'multilingual', 'abr', 'mccall', 'adt', 'pmisalesexecutive', 'datacollectors', 'europeansalesmanager', 'kvgncpopulusconsultants', 'republic', 'organically', 'prescreen', 'austell', 'chilled', 'gerry', 'textile', 'oho', 'phrofiad', 'plumbers', 'expereince', 'weaknesses', 'torque', 'taxfree', 'entitlements', 'fazed', 'nonstandard', 'declined', 'reverse', 'buick', 'realises', 'sixty', 'ymgeisio', 'amrec', 'submittal', 'londoncare', 'accreditations', 'tem', 'therapies', 'ocassional', 'corporatetaxaccounantcoventry', 'monteray', 'trustbased', 'discounting', 'introduce', 'loaders', 'stan', 'councils', 'grocers', 'greeneking', 'army', 'zouch', 'glazes', 'philip', 'crawfordablyresources', 'detected', 'airconditioningengineer', 'repayment', 'saas', 'abstracts', 'efthis', 'frequent', 'banding', 'referafriend', 'victoria', 'commercialfinancialanalyst', 'bojang', 'nondisclosure', 'representations', 'perfformiad', 'norwichmy', 'preventive', 'byod', 'sporting', 'condo', 'experiencedegree', 'switchedon', 'uncertainties', 'taysidenhs', 'barskydomusrecruitment', 'carefinancial', 'ovens', 'smile', 'beginning', 'wills', 'agreeing', 'earth', 'academics', 'netley', 'wed', 'mno', 'rebalancing', 'compared', 'filed', 'friendlier', 'facilitation', 'availablefollow', 'commuted', 'wardrobes', 'convictions', 'conform', 'salesexecutivemeetingseventsaberdeen', 'rcslt', 'clientele', 'catheter', 'inventors', 'careersflamecare', 'netting', 'cliche', 'mountains', 'ryan', 'finds', 'initiation', 'gawley', 'expereinced', 'tolerance', 'shrewsbury', 'autoclaves', 'alphanumeric', 'showerhead', 'mangers', 'upturn', 'downloading', 'gardening', 'privilege', 'painting', 'lgapiuenpcvwow', 'incircuit', 'veterinary', 'meade', 'bingley', 'stowmarket', 'tempered', 'swim', 'football', 'rjvibe', 'producers', 'constituent', 'absolutely', 'shoker', 'parallel', 'fascinating', 'infusion', 'curious', 'prize', 'preparationof', 'upkeep', 'disclosures', 'glorious', 'multidiscipline', 'mpayment', 'accurancy', 'xst', 'nhsggcrecruitmentnhs', 'packaged', 'sqs', 'transparently', 'courteous', 'seniorhardwaredesignengineerdigitalarmintelmicros', 'agendas', 'megane', 'toolroom', 'precompletion', 'eng', 'sportsstrong', 'rectified', 'seeker', 'wonderful', 'cleveland', 'catchment', \"ipo's\", 'recruitmentmanage', 'sysml', 'adaptations', 'widen', 'bordon', 'neccessary', 'sheffieldsalary', 'areasalesrepresentativeareasalesmanager', 'diathermy', 'forgetting', 'cleifion', 'recruited', 'owning', 'cavities', 'avail', 'continuation', 'antennas', 'langwith', 'halls', 'tiers', 'lstrevensredlinegroup', 'accountancyapprentice', 'tandberg', 'intracompany', 'hsmp', 'settlements', 'welleducated', 'advertisers', 'fyddwch', 'paneuropean', 'roster', 'enjoyment', 'converse', 'customercare', 'xslt', 'oemsalesmanageramericas', 'notts', 'limitless', 'acoenfrlondon', 'rti', 'moore', 'justify', 'hawthorn', 'managerto', 'assistantbranchmanager', 'administrating', 'earlies', 'shaped', 'nichola', 'transform', 'deliveries', 'obesity', 'diaries', 'basisthe', 'constcarillion', 'lodon', 'cls', 'venous', 'docklands', 'epitomise', 'ian', 'andover', 'diligence', 'leaver', 'caats', 'prisons', 'farnham', 'disciplinaries', 'loveridge', 'newydd', 'brworking', 'caliber', 'callington', 'waverley', 'fodlon', 'dyfodol', 'aftercaretheatre', 'overcoming', 'succinct', 'willow', 'arada', 'super', 'occaision', 'devoted', 'marked', 'maturity', 'signed', 'correspondent', 'emeainsidesalesagent', 'configure', 'injured', 'kaizen', 'orderbook', 'admincharterhouserecruitment', 'tram', 'lyme', 'minimised', 'furnishings', 'commmercial', 'specialties', 'brholiday', 'underpins', 'idyllic', 'commercialfinanceanalyst', 'nadine', 'borrows', \"mae'r\", 'applicationsdesignengineer', 'calendar', 'higgsfmctalent', 'transactsql', 'studier', 'eagerness', 'opdef', 'suffered', 'cmcconsulting', 'anaerobic', 'dictates', 'rmns', 'needham', 'pipefitter', 'rationale', 'cultures', 'paxton', 'consumption', 'tilt', 'august', 'negotiations', 'engineersloughand', 'oknowledge', 'purchased', 'horley', 'finniganpopulusconsultants', 'prioritsation', 'hackney', 'cancellation', 'touches', 'spans', 'lluniadau', 'attains', 'leatherhead', 'soutions', 'vulnerabilities', 'turned', 'comanage', 'omissions', 'barnstaple', 'mlss', 'destamat', 'sidcup', 'blwyddyn', 'respectful', 'nastran', 'hanham', 'proficiency', 'burelf', 'announce', \"cd's\", 'magnificent', 'ccst', 'folder', 'scissor', 'realstaffing', 'nuneaton', 'pendrillhanoversearch', 'conductb', 'bpt', 'southeast', 'formulating', 'principally', 'williams', 'debit', 'managements', 'bishop', 'bill', 'burnhamonsea', 'warranties', 'subteams', 'pir', 'setups', 'applythis', 'habits', 'poynton', 'tuning', 'stat', 'aviation', 'matched', 'introducers', 'brbrresponsible', 'directive', 'distinctive', 'dealt', 'testimonial', 'fetching', 'fenland', 'authoring', 'persuade', 'dealmonster', 'offaly', 'seimens', 'suspicious', 'likeable', 'graduatesalesexecutiveconstructionproductssurrey', 'mpgw', 'burton', 'oesophageal', 'tunstall', 'ukbased', 'stacks', 'longford', 'achieveable', 'portugal', 'fairgrievematchtech', \"europe's\", 'accounant', 'tollbooths', \"phrofi'r\", \"aelodau'r\", 'confidentially', 'cdp', 'multipurpose', 'serviceengineerhighpressuresystems', 'illnesses', 'spinalcord', 'salesmanagermedicalsalesexecutive', 'legend', 'mansonstaractuarial', 'sponge', 'reflexology', 'irb', 'availabilitysalaries', 'tasc', 'disposable', 'midsize', 'meadowhall', 'machinesalesrepconstructionequipmentuncappedote', 'nontraded', 'launder', 'sixth', 'responsibliities', 'throsolwg', 'remits', 'whiteshall', 'kare', 'negotiates', 'newey', 'intermediatesized', 'reinvestment', 'parcel', 'andnational', 'gyms', 'caused', 'thoughts', 'disney', 'stortford', 'roleexperience', 'corfforaethol', 'hydrotherapy', 'operability', 'bprs', 'ports', 'underpinned', 'monthend', 'societies', 'deputyhomemanager', 'sapa', 'carter', 'salons', 'gynae', \"achiever's\", 'smalikchase', 'staffs', 'linear', 'castlerock', 'deputybranchmanagerfolkestone', 'adoption', 'ogledd', 'nonspecialist', 'gofyn', 'advocate', 'annotation', 'matron', 'preeminence', 'downtime', 'qms', 'static', 'squash', 'crestron', 'articulated', 'practically', 'experienceyou', 'transmitters', 'sensor', 'competitivesalary', 'alliance', 'messages', 'soil', 'memory', 'internationalsalesaccountmanagergermanmarket', 'rated', 'goddard', 'acres', 'stocking', 'washroom', 'recharge', 'mpgj', 'weathers', 'judith', 'equations', 'lost', 'agility', 'recreations', 'nfs', 'andfuture', 'kob', 'nuhalch', 'gatwick', 'ciob', 'boms', 'colleges', 'cssiw', 'potentialthe', 'afcila', 'chertsey', 'landline', 'backselling', 'payrollassistant', 'blaenoriaethu', 'oeic', 'twickenham', 'cramlington', 'seniorsalesnegotiator', 'ascertaining', 'convey', 'uppersecond', 'twg', 'urgency', 'netherlands', 'ragor', 'ocs', 'howarthregionalrecruitment', 'frps', 'spotchecks', 'trouble', 'billings', 'advertiser', 'lawrence', 'manger', 'ballance', 'encountered', 'healthier', 'ajc', 'catalogue', 'manualthe', 'gbp', 'communicational', 'multibillion', 'pursuit', 'lawyers', 'costings', 'dirty', 'remove', 'lloydspharmacy', 'prefect', 'discrimination', 'merchandisers', 'usual', 'weektype', 'accountsassistant', 'receptionist', 'remediate', 'shortlisting', 'gateway', 'qcf', 'resterilising', 'upcoming', 'insa', 'customerscontinual', 'scousinscompassltd', 'counters', 'scan', 'pbo', 'blow', 'srgeurope', 'instigate', 'teamto', 'focusa', 'blackberry', 'username', 'journalists', 'inherent', 'macro', 'throughlife', 'managementfamily', 'mewn', 'estateagencyseniorsalesnegotiator', 'filtration', 'mildenhall', 'noncontact', 'nonlife', 'fullyadvised', 'infopath', 'registerednursermnnbarchesterhealthcare', 'uninterrupted', \"coding's\", 'linda', 'menu', 'retrieve', 'crushers', 'purposely', 'cass', 'encouraging', 'losses', 'stakeholderssupport', 'quant', 'officially', 'coordinated', 'bicester', 'refrigerants', 'affiliate', 'servicesthis', 'informaiton', 'endless', 'curriculum', 'fullyexpensed', 'clarified', 'attentive', 'nursecurrently', 'vehiclepurchasercarsales', 'jedwardscitizenrecruitment', 'everincreasingly', 'buttress', 'tidying', 'topnotch', 'spg', 'harman', 'aseptic', 'receives', 'facsimile', 'bowling', 'electricaldesignengineerengineeringconsultancy', 'requesting', 'virtex', 'emp', 'acs', 'cousins', 'lin', 'modes', 'calorifier', 'rsquot', 'safest', 'jacob', 'arc', 'compentent', 'ncm', 'webster', 'mechanic', 'detroit', 'wheel', 'cots', 'faced', 'warwickshire', 'recover', 'charm', 'uncappedpensioncarmobilelaptop', 'experiencegood', 'berkshirec', 'aspires', 'philosophy', 'approaching', 'fed', 'educate', 'thompsonpenguinrecruitment', 'bees', 'mau', 'picture', 'skyline', 'mawrth', \"theuk's\", 'engb', 'mode', 'hcv', 'degenerative', 'interconnected', 'extensions', 'timehours', 'telling', 'fmeca', 'hsqe', 'lineadherence', 'concrete', 'bynnag', 'qpa', 'holsbenefits', 'checklists', 'entertainers', 'stick', 'red', 'garyitscity', 'coshh', 'wing', 'potentials', 'logo', 'tour', 'unwavering', 'transition', 'eta', 'bags', 'discharges', 'unemployed', 'remained', 'destruction', 'wragby', 'wybodaeth', 'fin', 'lodgings', 'assault', 'dispense', 'nwerkshageopentable', 'uskvmnloho', 'detoxification', 'hazardous', 'ifaclientsupport', 'standardisation', 'approvals', 'commercialaccountant', 'dogfennau', 'shona', 'nfosterencoretechnical', 'btec', 'rachel', 'stretch', 'spots', 'overflow', 'rfj', 'unigolyn', 'anticancer', 'manse', 'mange', 'intrastat', 'curtis', 'sarahclinicalprofessionals', 'staging', 'gyfle', 'wastage', 'ceremonies', 'irish', 'converging', 'thoracic', 'sensors', 'postcloses', 'borough', 'formally', 'aldershot', 'leveraging', 'portsdown', 'existence', 'cornerstone', 'swindon', 'benefitsour', 'taxis', 'elective', 'allen', 'smithhclpermanent', 'greu', 'caledonian', 'incontinence', 'bullexcellent', 'barrowinfurness', 'scripts', 'stratford', 'pensioner', 'proving', 'receptionists', 'acquire', 'dowdeswell', 'carla', 'telecomm', 'coworkers', 'dysphagia', 'weddings', \"cv's\", 'chorley', 'remittances', 'lte', 'advantages', 'legalentitycontrolproductibanalysis', 'mwinnresourcingsolutions', 'rydym', 'unrestricted', 'restructures', 'multiyear', 'baker', 'careful', 'authoritative', 'apologies', \"nmc's\", 'voyagecare', 'xsd', 'ears', 'inputting', 'benchmarks', 'howlett', 'seizure', 'wow', 'deferred', 'patran', 'leoedd', 'solutionsales', 'kuka', 'matthewhayesfirstselection', 'kva', 'londonlawesgroup', 'longevity', 'populate', 'philosophies', 'benchmark', 'gaming', 'populus', 'adams', 'interfere', 'renal', 'generations', 'cities', 'shadowgraph', 'exiting', 'adaptation', 'farnborough', 'datacentre', 'solderer', 'recruitmentrevolution', 'universitylevel', 'adapts', 'mathlab', \"pc's\", 'bobl', 'sequence', 'grafton', 'partially', 'kvag', 'stubbington', 'broadbased', 'toworking', 'evolving', 'mainstay', 'neat', 'parhaus', 'trucks', 'boxing', 'sewage', 'johnstonfinegreen', 'subsided', 'cryer', 'penderels', 'spam', 'deliveringhigh', 'outofhours', 'causer', \"ibi's\", 'aberdenshire', 'electronically', 'mine', 'gis', 'breakers', 'gains', 'brskills', 'shipbuilding', 'numberprevious', 'cumulative', 'salesyou', 'fordingbridge', 'competancies', 'laois', 'maldon', 'boardroom', 'eyre', 'hillyard', 'feasibility', 'hyn', 'allocations', 'skillsgreat', 'pertaining', 'progresses', 'matthewssearch', 'bod', 'whorelishes', 'mitigations', 'sidmouth', 'hasn', 'indication', 'firstrate', 'mandates', 'handles', 'koonerpertemps', 'creates', 'responsibilitiesassess', 'eur', 'label', \"llywodraethu'r\", 'nterpersonal', 'tandem', 'robinson', 'actthe', 'harlow', 'ride', 'taylor', 'utilize', 'amada', 'grips', 'optoms', 'shaz', 'glass', 'perseverance', 'allegro', 'churches', 'geared', 'discover', 'mark', 'ashe', 'bulllegal', 'federation', 'gravitas', 'faultfind', 'ntier', 'guideline', 'autorefractors', 'banner', 'buzzard', 'smalltomedium', 'cisa', 'protax', 'multitasking', 'acquisitive', 'inhibit', 'winding', 'aiding', 'sponsored', 'directions', 'failed', 'kawasaki', 'manageraims', 'joannaaesco', 'mainline', 'spends', 'ranks', 'quantify', 'soc', 'appreciated', 'ymroi', 'documentations', 'convenientlylocated', 'governments', 'wellington', 'havant', 'enhancement', 'necessaryskills', \"driver's\", 'fixedprice', 'mallet', 'modularizing', 'pas', 'sterile', 'carolineprestonpagepersonnel', 'principals', 'saleswork', 'sterling', 'fife', 'concluding', 'acces', \"hospital's\", \"friday's\", 'spain', 'clarke', 'commercialclaimshandler', 'profressionals', 'inflows', 'headquarter', 'psychotherapy', 'akton', 'binding', 'appealing', 'competitions', 'surreysalary', 'kate', 'gatekeeper', 'judge', 'chemicals', 'shortages', 'motherwell', 'detector', 'faint', 'microprocessors', 'selfregulated', 'onetwotrade', 'productive', 'wilmslow', 'pitcher', 'achieves', 'crosssite', 'exc', 'fulltimemy', 'financialaccountant', 'dictate', 'bbc', 'timelimited', 'implemention', 'plccrawley', 'organisers', 'intially', 'btelesalesadvisor', 'modifies', 'resultoriented', 'timber', 'gormod', 'moss', 'rhaid', 'workflows', 'esk', 'polishing', 'ccg', 'walkington', 'commercialdirectoronline', 'launches', 'territorysalesmanagermedicalsalesexecutive', 'systematic', 'financeanalyst', 'pivot', 'bydd', 'mouth', 'sar', 'leonardo', 'wifi', 'theories', 'excellentbudget', \"person's\", 'nbspengineering', 'voyage', 'catheterization', 'mediasalesaccountexecutivenichemultimedia', 'crave', 'rolewe', 'cancellations', 'frontoffice', 'ljs', 'watching', 'earliest', 'infrastructures', 'intuition', 'intangible', 'befits', 'solver', 'enquiry', 'seniorpurchasingmanager', 'byfleet', 'reflected', 'senioreducationrecruitmentconsultantbirmingham', 'lewishrguk', 'unlawful', 'distressed', 'considerate', 'dignumers', 'shrinkage', 'suffering', 'rhino', 'wembley', 'conduction', \"adult's\", 'knight', 'tape', 'sharedservice', 'wilson', 'difficulty', 'ofsted', 'dws', 'designates', 'managerdemonstration', 'cto', 'intense', 'instances', 'geoff', 'faye', 'simms', 'callibre', 'acknowledge', 'spectacles', 'coatbridge', 'cherry', 'sows', 'fights', 'biomedical', 'surpluses', 'phoneyour', 'battlewinning', 'greener', 'wheelchairs', 'objectoriented', 'notably', 'msk', 'lpg', 'substantially', 'tdracupaktonrecruitment', 'moved', 'literatesuccessful', 'pvt', 'mths', 'lbe', 'coast', 'highlyskilled', 'healthsalary', 'dollars', 'observe', 'fabricator', 'explains', 'trollies', 'bri', 'dialoguelettersadviser', 'volt', 'trailers', 'adapting', 'robwhiterecruitment', 'edmundson', 'desiring', 'relative', 'shipment', 'lyons', 'rhai', 'crawlers', 'ruane', 'slots', 'midlife', 'jobstriumph', 'comparing', 'geo', 'milstd', 'mmr', 'supervises', 'mother', 'adoperation', 'interrupting', 'clientfocused', 'aftertreatment', 'instruction', 'bushings', 'pretender', 'abuse', 'validating', 'akin', 'sicr', 'lucky', 'tsi', 'caterham', 'salesrepresentativehorticulture', 'striling', 'paperless', 'brought', 'mobilise', 'selfsufficiency', 'qualityrewarded', 'trips', 'longstanding', 'remarketing', 'dsear', 'manmanagement', 'xmc', 'performancebased', 'equipping', 'brownlee', 'valueadd', 'amx', \"yw'ch\", 'recruitmentconsultantcontractmediadivision', 'stops', 'guillotines', 'catalogues', 'pensionsandpayrollconsultant', 'dixon', 'haves', 'block', 'rnmh', 'exhibited', 'ado', 'firstly', 'shortlist', 'printing', 'rothery', 'ahp', 'risksbuild', 'brbrregistered', 'manipulate', 'polishes', 'renew', 'coached', 'triumph', 'pharmacists', 'trustee', 'angle', 'immunisation', 'hazan', 'hilton', 'trails', 'births', 'prestigiouslondoncontracts', 'underground', 'roadmaps', 'broadly', 'accountmanagerinsurances', 'lewistimerecruitment', 'treasuryamct', 'alban', 'mitie', 'offhighway', 'fledgling', 'labels', 'timing', 'altringham', 'selfmotived', 'frontend', \"engineer's\", 'karel', 'diagnostics', 'premobilisation', 'innovators', 'dentist', 'grave', 'rabaiotti', 'microprocessor', 'areasalesrepresentative', 'regs', 'psychometric', 'modelsim', 'scoliosis', 'underwrite', 'contractually', 'rank', 'senioraccountexecutivemarketingprsoftware', 'staffnurse', 'streams', 'castleford', 'couples', 'wholesaler', 'projectmanaging', 'openness', 'fellows', 'sarbanes', 'wrexham', 'harmed', 'cfa', 'scade', 'rta', 'commodes', 'candoattitude', 'buffer', 'transcribe', 'vitae', 'hearted', 'congress', 'gastro', 'sut', 'earthworks', 'satisfactorily', 'electrification', 'transverse', 'sat', 'begun', 'othersthis', 'fmmedia', \"bank's\", 'witnesses', 'areamy', 'bodloni', 'probity', 'aligning', 'alot', 'tailor', 'indemnity', 'internalsalesaccountmanager', 'datatransfer', 'execute', 'woods', 'cysylltwch', 'noon', 'tittle', 'stays', 'electrifying', 'islington', 'standby', 'commences', 'highreliability', 'lewisham', 'caealpaed', 'technicalaccountmanager', 'outstandings', 'pharmeuceutical', 'simpler', 'dead', 'legionnaires', 'notifications', 'borrow', 'finalists', 'elearning', 'sun', 'mangotsfield', 'warmers', 'dyletswyddau', 'emily', 'reservoirdriven', 'gordon', 'alerts', 'chymryd', 'occassional', 'forces', 'wycombe', 'thatcham', 'cooperlogicalps', 'bots', 'estee', 'pontefract', 'cefndir', 'snagging', 'marvellous', 'formation', 'hdl', 'rmh', 'midmarketsalesexecutive', 'rhifiadol', 'hughes', 'interdisciplinary', 'presents', 'rivalled', 'constipation', 'solvitt', 'sarahrjanelewis', 'specifics', 'callers', 'cataloguing', 'inviting', 'turners', 'gsce', 'spas', 'witness', 'discharge', 'eec', 'estio', 'beneferedenbrown', 'sortec', 'associations', 'chillers', 'medicaljobs', 'resigning', \"industry's\", 'sessional', 'enthuse', 'taxation', 'chaps', 'laminar', 'godalming', 'landscape', 'beneficialdegree', 'corff', 'iosh', 'aptitudes', 'eventempered', 'doug', 'temptesttechnician', 'checkthe', 'customercentric', 'airport', 'smarter', 'honeywell', 'consumerfinanceadministrator', 'dcdc', 'conformances', 'financebusinesspartner', 'detached', \"giftware's\", 'prv', 'openended', 'multiaward', 'addon', 'diwrnod', 'udp', 'recertification', 'interrogating', 'appliances', 'clamp', 'nhbc', 'dressings', 'bsp', 'flexitime', 'morley', 'liamzest', 'objectivec', 'electricallyengineered', 'hucknall', 'retailenergyexpert', 'lauren', 'icaapspecialist', 'functioning', 'hymgynghorwyr', 'relief', 'associateconsultantlondon', 'refinement', 'licenses', 'payingin', 'antibiotics', 'truro', 'repeatable', 'evenly', 'skillsambitious', 'transistor', 'stimulate', 'closeknit', 'herts', 'checkweighers', 'peg', 'herefordshire', 'meters', \"blaenoriaethu'r\", 'mrics', 'lawned', 'lates', \"i'r\", 'arket', 'definitions', 'integrates', 'lunsars', 'stocked', 'thedition', 'chiropodists', 'bae', 'negligible', 'trachea', 'arrive', 'pressurized', 'composing', 'grip', 'perceived', 'unplanned', 'unity', 'weighing', 'temps', 'sensitively', 'commercials', 'appendage', 'westmeath', 'patented', 'multiindustry', 'pipefitting', 'rhwng', 'clinet', \"odp's\", 'wiling', 'crude', 'wouldn', 'bromsgrove', 'citizensadvice', 'kitchen', 'retinal', 'lcwallacehind', 'dudley', 'embodies', 'tvs', 'americas', 'resistance', 'lights', 'dear', 'crac', 'grand', 'riskandcompliancemanagercardpaymentswatford', 'duke', 'raglenni', 'airframe', 'retains', 'susurface', 'rotation', 'hurst', 'felicityapprenticesales', 'exceptionalhome', 'differentiated', 'eurocodes', 'interactions', 'arrived', 'height', 'accounted', 'voted', 'arts', 'boy', 'strategol', 'francisco', 'pmc', 'propective', 'duplicates', 'oscilloscopes', 'liquids', 'collaboratively', 'overachieving', 'mathematica', 'verifying', 'rotational', 'redirects', 'behaviors', 'accountsauditsenior', 'kcarbens', 'forex', 'ynni', 'lap', 'manson', 'transacted', 'honours', 'skillsmust', 'formalising', 'flavour', 'garner', 'guarantees', 'gill', 'tenaciousyou', 'hourhours', 'bron', 'homeis', 'pence', 'vigorously', 'qasectionmanager', 'humour', 'mct', 'iris', 'stats', 'debate', 'telematic', 'reduction', 'gds', 'gmo', 'msirecruitment', 'cohorts', 'plethora', 'supportslough', 'supplements', 'infirmary', \"gyda'r\", 'attraction', 'scp', 'hindsight', 'bottom', 'spontaneous', 'facilitys', 'ofthe', 'blackpool', 'simulationengineer', 'heathfield', 'seated', 'lasts', 'shortterm', 'dorking', 'finished', 'aswel', 'sophisticated', 'shepton', 'legislations', 'loft', 'dvds', 'registeredmanagers', 'translational', 'attribute', 'rod', 'olds', 'anaesthetic', 'kilfoyleselectiongroup', 'wrigley', 'categorisation', 'commercialanalyst', 'helped', 'subordinates', 'nejobsbmsuk', 'cavity', 'prediction', 'pcbs', 'constraint', 'therapeutics', 'resterilisation', 'favorable', 'seniorengineermechanical', 'cath', 'scanners', 'informatio', 'consumed', 'peirianneg', 'webservices', 'creditcontrollerparttime', 'ranalyst', 'lynch', 'solet', 'showrooms', 'outlet', 'aiming', 'dockyards', 'elections', 'eaa', 'flt', 'mjeffreyscompassltd', 'undergraduate', 'edwardspearce', 'labview', 'lawesrecruitment', 'vigour', 'highlymotivated', 'alectorecruit', 'brosiectau', 'dads', \"people's\", 'safehands', 'modem', 'boasting', 'str', 'debating', 'filler', 'doctor', 'dotted', 'mech', 'showering', 'assistanttreasurymanager', 'heat', 'rochdale', 'solaris', 'tension', 'dyddiad', 'plantfitterandplantserviceengineersnationwide', 'nele', 'adventure', 'cocn', 'infotax', 'aesthetic', 'purposein', 'automating', 'plump', 'broadcasters', 'complianceofficer', 'investigatory', 'rabaiottipenguinrecruitment', 'hoist', 'computing', 'headford', 'disp', 'biological', 'mcginley', 'psychiatry', 'bitton', 'candidatemust', 'jobopps', 'responsibly', 'enginerring', 'realization', 'norfolkbased', 'beers', 'vote', 'harder', 'jobscare', 'sra', 'prestigeous', 'bundles', 'presennol', 'exponentially', 'etcfull', 'sponsorship', 'rgnqualified', 'tickit', 'unmatched', 'salesaforappointments', \"homeware's\", 'acoustics', 'count', 'whois', 'mattunitystoke', 'immigration', 'centered', 'screened', 'detailoriented', 'gymru', 'exploiting', 'grading', 'actuals', 'tyseley', 'hurt', 'nmcuk', 'commissioned', 'shower', 'shortly', 'ashworth', 'unresolved', \"leaver's\", 'differential', 'levelexcellent', 'threaten', 'thunderhclplc', 'recouped', 'rheoli', 'multinationals', 'slow', 'mackenziestuart', 'hierarchy', 'frics', 'receptive', 'doubled', 'vaccinations', 'independantly', 'communicators', 'cfd', 'aspnetsoftwaredeveloperamigoloans', 'bodmin', 'kerr', 'graphics', 'rapportthe', 'ondemand', 'tangible', 'tgargettredlinegroup', 'violets', 'occupies', 'investmentstreasurycontroller', 'sabre', 'sean', 'optimize', 'rns', 'absorb', 'conflict', 'reigate', 'plater', 'stadiums', 'expressed', 'pathology', 'fromthe', 'tonometers', 'saltmarsh', 'compliancemonitoringofficer', 'shutdown', 'likelihood', 'biotechnology', 'perceptions', 'elegant', 'enterpriserecruitment', 'nsrp', 'njc', 'mds', 'stw', 'subcontractledgerclerkfulltimepermimmediatestart', 'schememinimum', 'cat', 'forget', 'architecting', 'opportunityto', 'nail', 'youre', 'judged', 'nteract', 'supplement', 'fats', 'brbenefits', 'weeklocation', 'pain', 'captured', 'disruption', 'sanctuarygroup', 'tba', 'crewe', 'conveyers', 'bob', 'icas', 'highlighting', 'insulation', 'comint', 'fall', 'thunder', 'polycom', 'balcance', 'sterlingmccall', 'toolkits', 'travels', 'nurseincharge', 'cofrestru', 'electricalcontrolandinstrumentationengineer', 'arriving', 'alzheimer', 'bike', 'megabrands', 'classeneurolondon', 'hss', 'diecasting', 'proximity', 'capitation', 'bluetooth', 'purposebuilt', 'grew', 'prerequisite', 'utilization', 'thefollowing', 'apparellocation', 'motortradejobs', 'tackling', 'tcg', 'metalwork', 'widest', 'newsletter', 'specked', 'outtake', 'seniormanufacturingengineer', 'mackenzieedenscott', 'howlettfinegreen', 'goaloriented', 'soidworks', 'solids', 'fat', 'intend', 'dietetic', 'investigo', 'joiners', 'finalising', 'afield', 'argue', 'hants', 'generously', 'residing', 'dfmea', 'die', 'brislington', 'companys', 'requiredautomotive', 'occassionaly', 'strip', 'largebore', 'selfservice', 'intention', 'avoid', 'yellow', 'staines', 'jeffreys', 'musee', 'subjectmatterexpert', 'enclosures', 'interpretations', 'poultry', 'karen', 'acma', 'consutative', 'cast', 'crossfunctional', 'prototyping', 'retford', 'fatigue', 'morrisrisetechnical', 'amending', 'polish', 'timothy', 'eplan', 'kennedy', 'mimo', 'centric', 'documentaries', 'activitiesfor', 'riskbased', 'parental', 'bannerappointgroup', 'investable', 'leverage', 'buckbwpenman', 'indya', 'aspiration', 'fieldsalesexecutive', 'cynhelir', 'commercialunderwritingmotorteamleader', 'streak', 'negotiators', 'invaluable', 'denmark', 'awconsultingltd', 'accustomed', 'craft', 'annually', 'cii', 'newquay', 'origination', 'uttoxeter', 'implies', 'magnetics', 'eleven', 'scratch', 'merthyr', 'stuff', 'projectmanager', 'clearing', 'kitchens', 'complemented', 'proses', 'quotation', 'ortho', 'ssc', 'rig', 'postage', 'ceramics', \"club's\", 'uniques', 'hitech', 'mainland', 'assembling', 'rejects', 'borner', 'soldering', 'ophthalmic', 'andaccount', 'conclusions', 'attendances', 'managementquality', 'spending', 'averaging', 'fmea', 'huntress', 'financialadministratorandsupportfleetdept', 'kay', 'fod', 'australian', 'shortfall', 'mechanicalmaintenancefitter', 'agobespoke', 'businessperformancemanager', 'mini', 'audited', 'relocating', 'wares', 'ingredient', 'loader', 'parttimepayrollclerk', 'index', 'item', 'cleint', 'nontechnical', 'evans', 'taskcentred', 'carenecessary', 'commencement', 'drop', 'authorising', 'reaching', 'watts', 'usb', 'ocae', 'nursingthis', 'projector', 'fridaysunday', 'climates', 'upwards', 'kinross', 'serviceable', 'organizations', 'graduateschemeexecutiverecruitment', 'classleading', 'revise', 'explorer', 'grinder', 'flm', 'ntms', 'wwf', 'imagination', 'vicepresident', 'domination', 'petrophysics', 'workingforus', 'deficient', 'toolchain', 'anatomy', 'solvent', 'timorously', 'mediumspeed', 'bodybuilding', 'linkage', 'packageread', 'kalamazooreynolds', 'borrowers', 'affordability', 'npi', 'society', 'draftsperson', 'quoted', 'ids', 'transfer', 'caistor', 'stretford', 'cook', 'mdm', 'hfss', 'bartender', 'accountsseniorportfoliomanager', 'envelope', 'inclining', 'cncmachinist', 'jackson', 'ghl', 'complications', 'modify', 'newspapers', 'mcdonagh', 'impacting', 'pertains', 'christchurch', 'traineerecruitmentconsultant', 'validity', 'practises', 'designfocused', 'atthhis', 'surpassing', 'denture', 'prejudice', 'ryanh', 'rails', 'locating', 'delahuntyrandstad', 'depreciation', 'passes', 'recordkeeping', 'rotahours', 'reallocations', 'restricted', 'laptopyour', 'removal', 'janette', 'buys', 'recycling', 'welded', 'unconscious', 'talents', 'cambs', 'purely', 'versions', 'concisely', 'seafield', 'setters', 'rimell', 'inquisitive', 'serviceengineercommercialcateringlaundryequipmentnorthamptonshire', 'meath', 'referees', 'articles', 'reins', 'mortgages', 'relayed', 'honos', 'accumulation', 'wishing', 'tick', 'renewables', 'euros', 'selby', 'weybridge', 'sighted', 'wimax', 'boards', 'jig', 'assemble', 'cvi', 'score', 'wpm', 'insure', 'traits', \"crb's\", 'liberty', 'monthsfor', 'inroads', 'maker', 'recommissioning', 'highspec', 'recordsall', 'byddwch', 'technique', 'prioritize', 'kanban', 'worthington', 'laundryfieldserviceengineergloucester', 'smartlist', 'insert', 'keith', 'representation', 'selectivity', 'bristolbased', 'midhurst', 'sudbury', 'gartnavel', 'pvc', 'bsuiness', 'stuck', 'paediatrics', 'surrounds', 'interconnects', 'mps', 'germanspeakingtelemarketer', 'firstselection', 'exisiting', 'ambience', 'completes', 'hightech', 'accessories', 'secondtonone', 'consultantled', 'sustained', 'gloucs', 'anffurfiol', 'intermediaries', 'careersbmssales', 'underperformance', 'deserved', 'papercut', 'supportaccountant', 'strafford', 'choosing', 'fide', 'geosciences', 'salespurchaseledgerclerkmaternitycover', 'diarising', 'payables', 'requirred', 'stone', 'symptom', 'ooad', 'speakers', 'attachment', 'calmly', 'uncappedwell', 'emis', 'feed', 'scores', 'institutes', 'marsha', \"builder's\", 'seakeeping', 'korea', 'acknowledging', 'locomotive', 'solvency', 'citizenrecruit', 'jwildscompassltd', 'databook', 'cyhoedd', 'highvolume', 'experimentation', 'newyearnewcareersystemengineermfautomotiveproducts', 'unsocial', 'fta', 'replica', 'tightlyknit', 'pitch', 'missile', 'negligence', 'recruitmentbranchmanagerbirmingham', 'multicultural', 'solutionmarketingmanager', 'heidi', 'aftercare', 'beauty', 'threats', 'franchised', 'omb', 'promary', 'privileged', 'indispensable', 'browse', 'tec', 'bondselection', 'symposia', 'preempt', 'clevedon', 'altera', 'adlington', 'sdlc', 'cscs', 'crg', 'astbury', 'handbookd', 'asian', 'coherent', 'intricate', 'stayed', 'unwell', 'crewkerne', 'gradually', 'atleast', 'landlord', 'abide', 'phones', 'category', 'cfs', 'farms', 'dayyou', 'orbit', 'remunerated', 'liverpoolsalesassistant', 'edk', 'contaminants', 'collate', 'nderstanding', 'affinities', 'buxton', 'safetycritical', 'oftec', 'embraces', 'manageryou', 'redwood', 'acoustic', 'predicting', 'earns', 'porduction', 'inefficiencies', 'clactononsea', 'electrochemistry', 'allowancepensionhealthcare', 'domains', 'youth', 'strike', 'derricklawesrecruit', 'knocking', 'breath', 'learnif', 'cti', 'ncr', 'schemeoperationsadministrator', 'adverse', 'penarth', 'experiencedmachinistverticalborerheavyengineering', 'reed', 'krl', 'tagfeydd', 'fastgrowing', 'airwatch', 'speedy', 'volunteer', 'excessive', 'remake', 'helpdesk', 'varies', 'allocating', 'donnington', 'gvs', 'finishing', 'roger', 'radiant', 'cco', 'mcgougan', 'applicationsled', 'stepping', 'brlocation', 'enduser', 'leg', 'rigorous', 'unrhyw', \"firm's\", 'playing', 'compliment', 'gilltimothyjamesconsulting', 'notification', 'hatstand', 'risklead', 'seasoned', 'paramarine', 'regulatorsexcellent', 'fostered', 'baileynorthstaffs', 'negotiated', 'guinness', 'nonverbal', 'nhsd', 'ichgcp', 'bridgwater', 'seniorc', 'meredith', 'trowbridge', 'deypenguinrecruitment', 'lone', 'homec', 'devonport', 'recruitmentnhslothian', 'conforms', 'coat', 'selfdiscipline', 'attire', 'allocate', 'advertisements', 'srl', 'builder', 'promenade', 'accepts', 'arinc', 'cissp', 'bridport', 'bedding', 'plowe', 'nostros', 'lichfield', 'sefydlog', 'targetorientated', 'fifteen', 'managementpresenting', 'intravenous', 'brpicturesque', 'exposed', 'franchise', 'humanitarian', 'bonds', 'graduatesalesexecutivetraineefieldsales', 'bran', 'rmo', \"motor's\", 'servicebased', 'apacs', 'msm', 'worksop', 'ghc', 'upgrading', 'jobopportunities', 'referencesthis', 'accountssemisenior', 'dismissal', 'pubs', 'realisable', 'pdf', 'pub', 'eba', 'port', 'examination', 'brdesire', 'progressing', 'churchill', 'residual', 'intimidated', 'mathematician', 'committees', 'challenged', 'pensioners', 'payrolls', 'magnitude', 'gosport', 'resourcerkareplus', 'grievance', 'inpatient', 'strategising', 'compilation', 'gilchrist', 'evident', 'newbies', 'seniors', 'terry', 'withdrawals', 'bridgeview', 'exploit', 'mansion', 'providedthis', 'kpderbykareplus', 'intrusive', 'signoffs', 'reclaimable', 'minority', 'cradle', 'enquires', 'react', 'qualityengineertechnician', 'helen', 'psychiatrists', 'embarking', 'math', 'prompted', 'dewranceaaronwallis', 'def', 'cannulate', 'kyc', 'cavelle', 'savvy', 'chatting', 'linq', 'logbooks', 'analyze', 'seniormechanicalcontractsmanager', 'megh', 'behavior', 'outdoors', 'communicates', 'assertiveness', 'retired', 'argument', 'hope', 'roseywhealthcare', 'carwest', 'nestle', 'quotas', 'estimations', 'uniquely', 'despatch', 'bottlenecks', 'audible', 'shoppers', 'yoy', 'helens', 'partnershipdirector', 'shipley', 'reliance', 'evens', 'berks', 'mnos', 'purchases', 'hanfodol', 'conversation', 'collar', 'businessdevelopmentexecutivefieldsalesdartford', 'shadowing', 'sevices', 'folkestone', 'scottaaronwallis', 'levellers', 'broader', 'compulsory', 'tpcp', 'signatories', 'domain', 'cassual', 'ash', 'vicinity', 'ifss', 'eastern', 'facilitators', 'brpassionate', 'oes', 'oohs', 'grimsby', 'birkenhead', 'aga', 'endorsed', \"manager's\", 'blurays', 'salesminded', 'xmlbased', 'travelconsultant', 'comcats', 'municipal', 'presentationability', 'gwent', 'preventable', 'atkon', 'mechancial', 'confront', 'recuse', 'ntd', 'inyear', 'eic', 'postoperative', 'winder', 'gaines', 'interplay', 'hamilton', 'symbol', 'container', 'exportsalesexecutivefrenchgermanfluency', 'huntingdon', 'amazon', 'steelwork', 'dean', 'dominates', 'suffer', 'ultralow', 'entertaining', 'darryl', 'matthews', 'revit', 'youselling', 'oakham', 'exemplary', 'processor', 'earthmoving', 'churchdown', 'reinsurance', 'los', \"practitioner's\", 'cullompton', 'crowd', 'computation', 'hyder', 'mums', 'prefer', 'russell', 'macros', 'waiter', 'hco', 'quo', 'yvonne', 'appeals', 'overlook', 'contrologix', 'digestion', 'populusconsultants', 'unrivaled', 'umms', 'wait', 'readiness', 'professionalb', 'gyfrinachol', 'physiology', 'gordonamrgroup', 'antenna', 'lunchtime', 'fundamentally', 'cyfeiriad', 'extraction', 'educating', 'oubound', 'frome', 'homeholly', 'transportations', 'msc', 'vice', 'officebased', 'arms', 'leighton', 'banbury', 'dstlrecruitmentdstl', 'dock', 'cgmp', 'apprentices', 'intellect', 'holidaysbms', 'faro', 'peaks', 'homeaddress', 'trader', 'registrations', 'ratio', 'nice', 'wan', 'interactive', 'hoists', 'biochemistry', 'aftercareskills', 'shilley', 'lhb', 'rents', 'knowing', 'fieldsalesengineersoutherncentralscotland', 'ordered', 'pallets', 'barriers', 'reduces', 'conglomerate', 'hudson', 'villages', 'differs', 'strgroup', 'outings', 'ayrshire', 'clearable', 'query', 'inappropriate', 'cumnock', 'combustion', \"today's\", 'jobstoday', 'dehongli', 'obi', 'alevels', 'campaigning', 'randstadcare', 'flagging', 'salesconsultant', 'specs', 'practiceif', 'conventions', 'reusable', 'fieldsalesexecutivederby', 'liability', 'marketresearch', 'shirebrook', 'chelsea', 'nonspecific', 'unincorporated', 'wallisdown', 'gray', 'prosesau', 'refresher', 'scour', 'diamonds', 'ess', 'maturation', 'readily', 'connells', 'checker', 'industrysponsored', 'dsg', 'earthstream', 'shortfalls', 'gyflawni', 'gifts', 'radar', 'customerassurancemanager', 'wells', 'electronicfireandsecuritysolutionsfieldsales', 'deepwater', 'gargett', 'adultsqualifiedsocialworkergloucestershire', 'diversified', 'ontargetearnings', 'enforcing', 'exploitations', 'resume', 'preeminent', 'comdue', 'acci', 'wheatley', 'undergone', 'berkhamsted', 'hydrogen', 'sportswearmulti', 'motorbike', 'adaptable', 'automotiveoem', 'icobs', 'orally', 'mrp', 'adstreamers', 'union', 'littlehampton', 'goruchwylio', 'improper', 'gael', 'analytic', 'internships', 'wellequipped', 'weight', 'pensiojn', 'tech', 'version', 'hwhelanstrgroup', 'formulate', 'installers', 'remaining', 'wearresistant', 'btelesalestraineesgladlyaccepted', 'fieldsalesexecutivesoftwareprinthardwaredocumentsolutions', 'cifs', 'fbk', 'reef', 'introduces', 'disappointed', 'visitsthe', 'booster', 'lawful', 'turnkey', 'incomes', 'stephenruetwo', 'floors', 'hcr', 'interruption', 'countiesthis', 'smartview', 'psd', 'auckland', 'escalates', 'gave', 'disparate', 'beechwood', 'ampm', 'misselling', 'refinery', 'crafts', 'holl', 'tradition', 'reserve', 'distribute', 'emeabusinessdevelopmentmanager', 'spot', 'assuring', 'taflenni', 'extrusions', 'consultatively', 'ddyfynnwyd', 'thrust', 'gls', 'conceptually', 'thenecessary', 'letchworth', 'vulnerability', 'coleraine', 'shipped', 'usersbrdevelopment', 'netherton', 'sitemanager', 'declinature', 'separately', 'estimators', 'contingency', 'maximo', 'ulcers', 'wetherby', 'fans', 'drywalling', 'collaborate', 'practicefull', 'bognor', 'belong', 'posters', 'nonaggressive', 'analytically', 'miet', 'caseloads', 'forkliftdriver', 'timezones', 'profound', 'youyou', 'attendant', 'ranked', 'detox', 'cmd', 'league', 'passenger', 'peterlee', 'sclerosis', 'salesexecinternal', 'magazines', 'licolnshire', 'bay', 'irregularities', \"rnld's\", 'committing', 'marks', 'businesslink', 'corby', 'dunfermline', 'jtag', 'favoured', 'souths', 'attracted', 'continence', 'theukandsouth', 'highstreet', 'toulouse', 'literateexperience', 'ingredients', 'pabx', 'documentatation', 'webbased', 'stanley', 'itd', 'mdt', 'costeffective', 'confer', 'apprenticed', 'timesto', 'dos', 'prm', 'bamber', 'entities', 'thin', 'configurations', 'victims', 'hdu', 'cardiovascular', 'regt', 'petersfield', 'iee', 'china', 'crest', 'usage', 'secom', 'elevators', 'collingham', 'winches', 'origins', 'passing', 'lies', 'pairs', 'cica', 'converged', \"huntington's\", 'areathe', 'valve', 'ipv', 'lanecramlingtonnorthumberlandne', 'mendelsohn', 'telecommunication', 'widespread', 'sevice', 'cameron', 'kennedyrandstad', 'bourton', 'logic', 'mobilegasengineerreadingnewbury', 'handwork', 'litteraly', 'neurology', 'socialising', 'dispensary', 'barred', 'everevolving', 'inverness', 'daniella', 'conformity', 'cashflows', 'roller', 'likeminded', 'navigation', 'nightrgnrequiredatnasebycareandnursinghome', 'excellant', 'mlse', 'citrix', 'threepeople', 'surpass', 'gryfhau', 'likes', 'timekeeping', 'dark', 'carryout', 'seminars', 'dialux', 'erecruit', 'headofcompliance', 'struggled', 'porthouse', 'pragmatic', 'standish', 'wagstafficsoftware', 'groupcontrolsanalyst', 'rheoleiddiol', 'chwilio', 'withstand', 'raw', 'pensionsadministrator', 'precious', 'radiography', 'termination', 'eradicate', 'conscientious', 'ssl', 'agricultural', 'nick', 'hydrodynamic', 'glendundee', 'installs', 'anaesthetists', 'copenhagen', 'ing', 'merseyside', 'permanently', 'lack', 'upselling', 'ukcc', 'alternating', 'florida', 'lamps', 'testandvalidationengineer', 'fancy', 'accompanied', 'scenery', 'cyfweliadau', 'ooa', 'accountspayableteamleadersupervisor', 'aneesha', 'apqp', 'emech', 'practicable', \"candidate's\", 'switch', 'ofmanufacturing', 'rimellpenguinrecruitment', 'eurolondon', 'formula', 'briefed', 'saltford', 'salesmanagerpremiumhealthclub', 'eventbased', 'defect', 'wadebridge', 'observed', 'onboarding', 'alloys', 'fiscal', 'ukthis', 'wcdma', 'mortgagebroker', 'openigs', 'directs', 'beiriannau', 'alton', 'socialwork', 'leiaf', 'sjh', 'teller', 'enter', 'resulted', 'netbios', 'aelodau', 'dutton', 'cascaded', 'theukwithout', 'fail', 'professor', 'downloads', 'washington', 'wellloved', 'confused', 'offences', 'connects', 'savouries', 'nonreynolds', 'ddefnyddio', 'mainting', 'internalsalesexecutivesalessupporttelecareequipment', 'abandonment', 'complicated', 'mitigation', 'llywodraethu', 'liam', 'yna', 'redesign', 'equip', 'conversational', 'boroughs', 'servicesaround', 'prereg', 'equitrac', 'dep', 'noa', 'seat', 'sutherland', 'clyde', 'roberts', 'individualyou', \"o'n\", 'careersflamehealth', 'gladly', 'healthcarewith', 'dmrb', 'riskunderstanding', 'extent', 'stamping', 'salesrepresentativeleadgenerator', 'jigiau', 'lends', 'defeat', 'deprivation', 'searchrecruitmentconsultantmediaandtechnologybrighton', 'learners', \"agency's\", 'iwerddon', 'spec', 'fastener', 'misdescriptions', 'chubb', 'opticaltechnician', 'edmonton', 'whls', 'barnet', 'soughtyou', 'mortgageprocessor', 'dmwhwallacehind', 'simulators', 'ukas', 'fork', 'borland', 'colton', 'pdr', 'estimator', 'orrock', 'ent', 'marketspecific', 'viewed', 'elimination', 'diffuse', 'capacities', 'riddor', 'monetary', 'implicitly', 'prew', 'vested', 'fmc', 'slater', 'daytime', 'chp', 'discretionary', 'responds', 'computers', 'equities', 'april', 'aftersales', 'multisite', 'carveout', 'ddu', 'centers', 'preassessment', 'smb', 'refreshments', 'staffed', 'receivables', 'cutters', 'adeptness', 'redline', 'nit', 'indirect', 'noticefor', 'reinvest', 'receivers', 'oexperienced', 'illustrations', 'drafting', 'timcryerbaker', 'electrics', 'harmonious', 'concurrently', 'seniordeveloperwithc', \"limited's\", 'highestquality', 'phoneas', 'legislative', 'testexec', 'conceptualisation', 'cutoff', \"chris's\", 'enforcement', 'classen', 'assure', 'summarising', 'emission', 'arburg', 'spares', 'remainder', 'bewe', 'barclay', 'ome', 'respects', 'encouragement', 'harm', 'mcc', 'cfranceeclypserecruitment', 'interbus', 'percentage', 'darrylreadpr', 'acknowledged', 'venepuncture', 'publicly', 'helpline', 'cma', 'leadgenerator', 'bioscience', 'sabbatical', 'timephased', 'tpn', 'treasurer', 'laiddown', 'enterprising', 'objectorientated', 'pci', 'newbusinessdeveloper', 'faultfree', \"hunt's\", 'jeff', 'lowcarbon', 'themed', 'resolutions', 'ise', 'contaminant', 'gmm', 'mentors', 'angels', 'puts', 'transferable', 'buoyancy', 'attain', 'shorterm', 'ahus', 'alternatives', 'clerkenwell', 'embed', 'itrelated', 'nonmedical', 'callout', 'applytodaystarttomorrownewsalesfor', 'tables', 'negated', 'bridges', 'mana', 'risksdrive', 'mdonnellycobaltrecruitment', 'wave', 'onetoone', 'leannecityscapeltd', 'accessni', 'benefitsmanchester', 'mechanicalbiasshiftmanager', 'fluctuations', 'succesful', 'electrified', 'switches', 'unfamiliar', 'immensely', 'becks', 'singalongs', 'relaxation', 'supermarket', 'dorchester', 'carbonus', 'medicalsalesexecutiveassociateorthopaedics', 'pob', 'rentals', 'toil', 'synthesisers', 'excellentleadership', 'pfis', 'buses', 'deck', 'managerially', 'telematics', 'mindset', 'wade', 'purchaseledgerclerk', 'oxygen', 'nonconforming', 'lloyds', 'intel', 'enters', 'reductions', 'fothergill', 'kudos', 'industryinternational', 'pttls', 'guiding', 'bag', 'quang', 'reservior', 'nonclinical', \"consultant's\", 'dining', 'badenochandclark', 'differing', 'tgrattongenesisassociates', 'recruitmentconsultantsearchselect', 'excelprofessional', 'realisation', 'academies', 'opportunties', 'rosters', 'taxi', 'yourprimary', 'culminating', 'demonstrator', 'dietary', 'thereof', 'determines', 'reflex', 'tutbury', 'chiller', 'wirral', 'bedroom', 'pritchardinteractionrecruitment', 'steady', 'disrepute', 'quantitysurveyorseniorquantitysurveyorcivils', 'kpmg', 'interrogate', 'datblygiad', 'nhsaaa', 'contributor', 'nickelbased', 'readprojectresource', 'naseby', 'establishged', 'anaesthesia', 'measured', 'medicalrecruitmentaapct', 'concession', 'intentionally', 'omantechnicalsalesglobalcompany', 'subsidized', 'kildare', 'shaving', 'anti', 'ems', 'bullproven', 'nationalaccountmanager', 'lng', 'cpld', 'environmentto', 'salesmanagerwithdigitaladvertisingexperience', 'enclosure', 'gosodiad', 'replenish', 'bolster', 'gartlea', 'collated', 'caterers', 'brfor', 'unearned', 'swanage', 'solicitor', 'kris', 'completions', 'pedigree', 'vitality', 'cluster', 'struggling', 'isometric', 'chyfrifoldebau', 'jasonaddtec', 'vss', 'creatively', 'rapportyou', 'followingup', 'dsaddiredlinegroup', 'marshfield', 'universal', 'decline', 'registrars', 'dct', 'jack', 'autistic', 'delegated', 'empathetic', 'flagship', 'customerbased', 'favourite', 'profi', 'permitted', 'peerreviewed', 'bolsover', 'postcodes', 'facts', 'fmhead', 'proclaim', 'disputed', 'bradley', 'foccused', 'ctu', 'reflux', 'fcus', 'nurture', 'ewch', 'motability', 'indicating', 'pad', 'distract', 'chicago', 'discloser', 'kilimanjaro', 'regulator', 'underfloor', 'priv', 'occupation', 'tourism', 'fist', 'translates', 'pieces', 'burning', 'blueprint', 'economically', 'managerkareplus', 'derail', 'longwell', 'practicably', 'nmcresponsible', \"nation's\", 'projectspecific', 'firmware', 'critically', 'rerefurbishment', 'accidents', 'corporates', 'wasting', 'optimistic', 'statute', 'similarly', 'recreational', 'wholesaledepartment', 'oversees', 'prequalification', 'archived', 'porter', 'hatton', 'uksalary', 'scrutinies', 'generallocation', 'lcr', 'opposed', 'gwelliant', 'learner', 'trafodaeth', 'pocket', 'tydfil', 'massage', 'requirementsall', 'totally', 'bmssales', \"year's\", 'boasted', 'collating', 'adolescent', 'rhannol', 'prohibited', 'genetics', 'carmobile', 'brilliantly', 'slant', 'robinsonappointgroup', 'savage', 'experineced', 'coffee', 'brownfield', 'ptt', 'tips', 'policymakers', 'tts', 'koteuncapp', 'digitaltestengineer', 'presses', 'developmentongoing', 'kit', 'nations', 'effluent', \"tv's\", 'doig', 'fanyleb', 'bereaved', 'staggering', 'preserve', 'flexsa', 'segmented', 'ilford', 'replication', 'biotechnical', 'custodians', 'engineeringetsgroup', 'reconciled', 'sicrhau', 'detectors', 'carewatch', 'aah', 'precedents', 'northlanarkshire', 'anderson', 'toptier', 'deposit', 'distributions', 'verticals', 'altium', 'eyecare', 'mdu', 'stamp', 'paris', 'initiating', 'deploy', 'weekday', 'unprecedented', 'allround', 'eastbourse', 'categorised', 'thrown', 'shoreham', 'subassemblies', 'newhall', 'escort', 'voip', 'breaks', 'vericut', 'utilises', 'lane', 'bestival', 'bom', 'vessel', 'lounge', 'todate', 'stamford', 'batley', 'cso', 'withbusiness', 'directorshareholder', 'salesexecutiveforddunfermline', 'entrepreneurs', 'freshly', 'indications', 'anical', 'possession', 'shiftmanagerfmcg', 'airbus', 'evangelize', 'irrbb', 'redecoration', 'dilysu', 'collaborative', 'claire', 'streamline', 'soap', 'subcontracting', 'stationary', 'broomfield', 'harwich', 'avionics', 'compliancerelated', 'exit', 'genres', 'estimation', 'chose', 'ccj', 'postcampaign', 'cafes', 'skilledmachinist', 'illustration', 'persistent', 'donnelly', 'sufficiently', 'technicalsalesmanager', 'cement', 'disclose', 'storemanagerfurniturecarpets', 'customs', 'alexanderlloyd', 'avonmouth', 'uplift', 'graham', 'housework', 'eich', 'spills', 'loved', 'clever', 'lesser', 'hong', 'zuken', 'pair', 'recklessly', 'crack', 'predicted', 'psu', 'cdm', 'hillfoot', 'higgs', 'shearer', 'preservation', 'aelod', 'kong', 'anursing', 'schemethornbury', 'embarks', 'rmb', 'prepaid', 'scripting', 'charges', 'tamworth', 'commentaries', 'pipes', 'businessdevelopmentmanagercourierservices', 'persistence', 'easter', 'settingas', 'weare', 'fibre', 'deeper', 'discoveries', 'professions', 'nuclearsafetyengineersgloucesterwarrington', 'lapsed', 'smd', 'legally', 'serial', 'migration', 'dexterity'}\n"
     ]
    }
   ],
   "source": [
    "words = list(chain.from_iterable(tokenised_description))\n",
    "term_fd = FreqDist(words)\n",
    "lessFreqWords = set(term_fd.hapaxes())\n",
    "print(f'The number of words that appear only once in the corpus: {len(lessFreqWords)}\\n')\n",
    "print(f'Including: \\n{lessFreqWords}')\n"
   ]
  },
  {
   "cell_type": "code",
   "execution_count": 23,
   "metadata": {},
   "outputs": [
    {
     "name": "stdout",
     "output_type": "stream",
     "text": [
      "Vocabulary size:  5140\n",
      "Total number of tokens:  101663\n",
      "Lexical diversity:  0.05055920049575559\n",
      "Total number of descriptions: 776\n",
      "Average description length: 131.0090206185567\n",
      "Maximun description length: 466\n",
      "Minimun description length: 12\n",
      "Standard deviation of description length: 69.61315176035262\n"
     ]
    }
   ],
   "source": [
    "def removeLessFreqWords(description):\n",
    "    return [w for w in description if w not in lessFreqWords]\n",
    "\n",
    "tokenised_description = [removeLessFreqWords(description) for description in tokenised_description]\n",
    "stats_print(tokenised_description)"
   ]
  },
  {
   "cell_type": "markdown",
   "metadata": {},
   "source": [
    "===> Lexical diversity decreased. However, words that appear less frequency usually not contribute to distinguishing in terms of lexical or simply typo errors."
   ]
  },
  {
   "cell_type": "markdown",
   "metadata": {},
   "source": [
    "#### 1.2.7. Remove the top 50 most frequent words based on document frequency"
   ]
  },
  {
   "cell_type": "code",
   "execution_count": 24,
   "metadata": {},
   "outputs": [
    {
     "name": "stdout",
     "output_type": "stream",
     "text": [
      "Top 50 most frequent words and number of occurance in the corpus: \n",
      "[('experience', 586), ('role', 499), ('work', 453), ('team', 431), ('working', 407), ('skills', 366), ('client', 358), ('job', 348), ('company', 343), ('business', 342), ('excellent', 309), ('management', 301), ('based', 287), ('apply', 286), ('opportunity', 280), ('salary', 270), ('required', 269), ('successful', 267), ('support', 261), ('join', 252), ('candidate', 248), ('service', 242), ('knowledge', 241), ('development', 235), ('leading', 234), ('high', 224), ('manager', 220), ('www', 220), ('training', 214), ('sales', 211), ('strong', 211), ('including', 209), ('provide', 209), ('services', 208), ('ability', 201), ('contact', 200), ('position', 199), ('recruitment', 196), ('full', 194), ('benefits', 193), ('posted', 192), ('originally', 191), ('jobseeking', 191), ('clients', 187), ('include', 187), ('good', 187), ('essential', 186), ('information', 184), ('customer', 182), ('environment', 182)]\n"
     ]
    }
   ],
   "source": [
    "words_2 = list(chain.from_iterable([set(description) for description in tokenised_description]))\n",
    "doc_fd = FreqDist(words_2) # compute document frequency for each unique word/type\n",
    "top50FreqWords = doc_fd.most_common(50)\n",
    "print(f'Top 50 most frequent words and number of occurance in the corpus: \\n{top50FreqWords}')"
   ]
  },
  {
   "cell_type": "code",
   "execution_count": 25,
   "metadata": {},
   "outputs": [
    {
     "name": "stdout",
     "output_type": "stream",
     "text": [
      "Statisctics after top 50 frequent words as final statistics after pre-processing steps: \n",
      "\n",
      "Vocabulary size:  5140\n",
      "Total number of tokens:  101663\n",
      "Lexical diversity:  0.05055920049575559\n",
      "Total number of descriptions: 776\n",
      "Average description length: 131.0090206185567\n",
      "Maximun description length: 466\n",
      "Minimun description length: 12\n",
      "Standard deviation of description length: 69.61315176035262\n"
     ]
    }
   ],
   "source": [
    "def removetop50FreqWords(description):\n",
    "    return [w for w in description if w not in top50FreqWords]\n",
    "\n",
    "tokenised_description = [removetop50FreqWords(description) for description in tokenised_description]\n",
    "print(f'Statisctics after top 50 frequent words as final statistics after pre-processing steps: \\n')\n",
    "stats_print(tokenised_description)"
   ]
  },
  {
   "cell_type": "markdown",
   "metadata": {},
   "source": [
    "#### 1.2.8. Save all job advertisement text and information in txt file(s)\n",
    "##### `description.txt`\n",
    "Each line is a Tokenised description text for advetised job, seperated by a whitespace.\n",
    "##### `category.txt`\n",
    "Corresponding labels for job descriptions (Labels value: 0,1,2,3)\n",
    "- each line is a label\n",
    "##### `title.txt`\n",
    "Corresponding titles for job description\n",
    "- each line is a title"
   ]
  },
  {
   "cell_type": "code",
   "execution_count": 26,
   "metadata": {},
   "outputs": [],
   "source": [
    "def save_description(descriptionsFilename,tokenised_description):\n",
    "    out_file = open(descriptionsFilename, 'w') # creates a txt file and open to save the reviews\n",
    "    string = \"\\n\".join([\" \".join(description) for description in tokenised_description])\n",
    "    out_file.write(string)\n",
    "    out_file.close() # close the file\n",
    "\n",
    "# save the tokenised description to txt file\n",
    "descriptionsFilename = 'descriptions.txt'\n",
    "save_description(descriptionsFilename,tokenised_description)\n",
    "\n",
    "def save_category(categoryFilename,category):\n",
    "    out_file = open(categoryFilename, 'w') # creates a txt file and open to save sentiments\n",
    "    string = \"\\n\".join([str(s) for s in category])\n",
    "    out_file.write(string)\n",
    "    out_file.close() # close the file\n",
    "\n",
    "# save category to txt file\n",
    "categoryFilename = 'category.txt'\n",
    "save_category(categoryFilename,df.target)\n",
    "\n",
    "def save_titles(titlesFilename,titles):\n",
    "    out_file = open(titlesFilename, 'w') # creates a txt file and open to save sentiments\n",
    "    string = \"\\n\".join([str(s) for s in titles])\n",
    "    out_file.write(string)\n",
    "    out_file.close() # close the\n",
    "\n",
    "# save titles to txt file\n",
    "titlesFilename = 'titles.txt'\n",
    "save_titles(titlesFilename,titles)"
   ]
  },
  {
   "cell_type": "markdown",
   "metadata": {},
   "source": [
    "##### `job.csv`\n",
    "Store information into Dataframe and save into CSV file\n"
   ]
  },
  {
   "cell_type": "code",
   "execution_count": 30,
   "metadata": {},
   "outputs": [
    {
     "data": {
      "text/html": [
       "<div>\n",
       "<style scoped>\n",
       "    .dataframe tbody tr th:only-of-type {\n",
       "        vertical-align: middle;\n",
       "    }\n",
       "\n",
       "    .dataframe tbody tr th {\n",
       "        vertical-align: top;\n",
       "    }\n",
       "\n",
       "    .dataframe thead th {\n",
       "        text-align: right;\n",
       "    }\n",
       "</style>\n",
       "<table border=\"1\" class=\"dataframe\">\n",
       "  <thead>\n",
       "    <tr style=\"text-align: right;\">\n",
       "      <th></th>\n",
       "      <th>Title</th>\n",
       "      <th>Tokenised Title</th>\n",
       "      <th>Webindex</th>\n",
       "      <th>Company</th>\n",
       "      <th>Tokenised Company</th>\n",
       "      <th>Description</th>\n",
       "      <th>Tokenised Description</th>\n",
       "      <th>Category</th>\n",
       "    </tr>\n",
       "  </thead>\n",
       "  <tbody>\n",
       "    <tr>\n",
       "      <th>0</th>\n",
       "      <td>Finance / Accounts Asst Bromley to ****k</td>\n",
       "      <td>[finance, accounts, asst, bromley, to, k]</td>\n",
       "      <td>68997528</td>\n",
       "      <td>First Recruitment Services</td>\n",
       "      <td>[first, recruitment, services]</td>\n",
       "      <td>Accountant (partqualified) to **** p.a. South ...</td>\n",
       "      <td>[accountant, partqualified, south, east, londo...</td>\n",
       "      <td>0</td>\n",
       "    </tr>\n",
       "    <tr>\n",
       "      <th>1</th>\n",
       "      <td>Fund Accountant  Hedge Fund</td>\n",
       "      <td>[fund, accountant, hedge, fund]</td>\n",
       "      <td>68063513</td>\n",
       "      <td>Austin Andrew Ltd</td>\n",
       "      <td>[austin, andrew, ltd]</td>\n",
       "      <td>One of the leading Hedge Funds in London is cu...</td>\n",
       "      <td>[leading, hedge, funds, london, recruiting, fu...</td>\n",
       "      <td>0</td>\n",
       "    </tr>\n",
       "    <tr>\n",
       "      <th>2</th>\n",
       "      <td>Deputy Home Manager</td>\n",
       "      <td>[deputy, home, manager]</td>\n",
       "      <td>68700336</td>\n",
       "      <td>Caritas</td>\n",
       "      <td>[caritas]</td>\n",
       "      <td>An exciting opportunity has arisen to join an ...</td>\n",
       "      <td>[exciting, opportunity, arisen, join, establis...</td>\n",
       "      <td>2</td>\n",
       "    </tr>\n",
       "    <tr>\n",
       "      <th>3</th>\n",
       "      <td>Brokers Wanted Imediate Start</td>\n",
       "      <td>[brokers, wanted, imediate, start]</td>\n",
       "      <td>67996688</td>\n",
       "      <td>OneTwoTrade</td>\n",
       "      <td>[onetwotrade]</td>\n",
       "      <td>OneTwoTrade is expanding their Sales Team and ...</td>\n",
       "      <td>[expanding, sales, team, recruiting, junior, t...</td>\n",
       "      <td>0</td>\n",
       "    </tr>\n",
       "    <tr>\n",
       "      <th>4</th>\n",
       "      <td>RGN Nurses (Hospitals)  Penarth</td>\n",
       "      <td>[rgn, nurses, hospitals, penarth]</td>\n",
       "      <td>71803987</td>\n",
       "      <td>Swiis Healthcare</td>\n",
       "      <td>[swiis, healthcare]</td>\n",
       "      <td>RGN Nurses (Hospitals) Immediate fulltime and ...</td>\n",
       "      <td>[rgn, nurses, hospitals, fulltime, part, swiis...</td>\n",
       "      <td>2</td>\n",
       "    </tr>\n",
       "    <tr>\n",
       "      <th>...</th>\n",
       "      <td>...</td>\n",
       "      <td>...</td>\n",
       "      <td>...</td>\n",
       "      <td>...</td>\n",
       "      <td>...</td>\n",
       "      <td>...</td>\n",
       "      <td>...</td>\n",
       "      <td>...</td>\n",
       "    </tr>\n",
       "    <tr>\n",
       "      <th>771</th>\n",
       "      <td>Apply Today, Start Tomorrow New Sales for 2013</td>\n",
       "      <td>[apply, today, start, tomorrow, new, sales, for]</td>\n",
       "      <td>70457475</td>\n",
       "      <td>Motion Marketing Ltd</td>\n",
       "      <td>[motion, marketing, ltd]</td>\n",
       "      <td>Apply Today, Start Tomorrow New Sales for 2013...</td>\n",
       "      <td>[apply, today, start, tomorrow, sales, money, ...</td>\n",
       "      <td>3</td>\n",
       "    </tr>\n",
       "    <tr>\n",
       "      <th>772</th>\n",
       "      <td>Assembly/Production Technicians Milton Keynes</td>\n",
       "      <td>[assembly, production, technicians, milton, ke...</td>\n",
       "      <td>71631590</td>\n",
       "      <td>Newstaff Employment Services Ltd</td>\n",
       "      <td>[newstaff, employment, services, ltd]</td>\n",
       "      <td>Main Purpose of Job:To perform a range of mech...</td>\n",
       "      <td>[main, purpose, job, perform, range, mechanica...</td>\n",
       "      <td>1</td>\n",
       "    </tr>\n",
       "    <tr>\n",
       "      <th>773</th>\n",
       "      <td>Medical Sales Executive/Associate  Orthopaedics</td>\n",
       "      <td>[medical, sales, executive, associate, orthopa...</td>\n",
       "      <td>70028343</td>\n",
       "      <td>Progress Sales Recruitment</td>\n",
       "      <td>[progress, sales, recruitment]</td>\n",
       "      <td>Sales Associate – Hip and Knee Orthopaedics A ...</td>\n",
       "      <td>[sales, associate, hip, knee, orthopaedics, ma...</td>\n",
       "      <td>3</td>\n",
       "    </tr>\n",
       "    <tr>\n",
       "      <th>774</th>\n",
       "      <td>Mobile Optometrist  Oxford</td>\n",
       "      <td>[mobile, optometrist, oxford]</td>\n",
       "      <td>71402732</td>\n",
       "      <td>Zest Optical</td>\n",
       "      <td>[zest, optical]</td>\n",
       "      <td>A mobile Super Optometrist is required to join...</td>\n",
       "      <td>[mobile, optometrist, required, join, leading,...</td>\n",
       "      <td>2</td>\n",
       "    </tr>\n",
       "    <tr>\n",
       "      <th>775</th>\n",
       "      <td>Field Sales Executive</td>\n",
       "      <td>[field, sales, executive]</td>\n",
       "      <td>71185283</td>\n",
       "      <td>Genesis Associates</td>\n",
       "      <td>[genesis, associates]</td>\n",
       "      <td>Title: Field Sales Executive  Office Supplies ...</td>\n",
       "      <td>[title, field, sales, executive, office, suppl...</td>\n",
       "      <td>3</td>\n",
       "    </tr>\n",
       "  </tbody>\n",
       "</table>\n",
       "<p>776 rows × 8 columns</p>\n",
       "</div>"
      ],
      "text/plain": [
       "                                               Title  \\\n",
       "0           Finance / Accounts Asst Bromley to ****k   \n",
       "1                        Fund Accountant  Hedge Fund   \n",
       "2                                Deputy Home Manager   \n",
       "3                      Brokers Wanted Imediate Start   \n",
       "4                    RGN Nurses (Hospitals)  Penarth   \n",
       "..                                               ...   \n",
       "771   Apply Today, Start Tomorrow New Sales for 2013   \n",
       "772    Assembly/Production Technicians Milton Keynes   \n",
       "773  Medical Sales Executive/Associate  Orthopaedics   \n",
       "774                       Mobile Optometrist  Oxford   \n",
       "775                            Field Sales Executive   \n",
       "\n",
       "                                       Tokenised Title  Webindex  \\\n",
       "0            [finance, accounts, asst, bromley, to, k]  68997528   \n",
       "1                      [fund, accountant, hedge, fund]  68063513   \n",
       "2                              [deputy, home, manager]  68700336   \n",
       "3                   [brokers, wanted, imediate, start]  67996688   \n",
       "4                    [rgn, nurses, hospitals, penarth]  71803987   \n",
       "..                                                 ...       ...   \n",
       "771   [apply, today, start, tomorrow, new, sales, for]  70457475   \n",
       "772  [assembly, production, technicians, milton, ke...  71631590   \n",
       "773  [medical, sales, executive, associate, orthopa...  70028343   \n",
       "774                      [mobile, optometrist, oxford]  71402732   \n",
       "775                          [field, sales, executive]  71185283   \n",
       "\n",
       "                              Company                      Tokenised Company  \\\n",
       "0          First Recruitment Services         [first, recruitment, services]   \n",
       "1                   Austin Andrew Ltd                  [austin, andrew, ltd]   \n",
       "2                             Caritas                              [caritas]   \n",
       "3                         OneTwoTrade                          [onetwotrade]   \n",
       "4                    Swiis Healthcare                    [swiis, healthcare]   \n",
       "..                                ...                                    ...   \n",
       "771              Motion Marketing Ltd               [motion, marketing, ltd]   \n",
       "772  Newstaff Employment Services Ltd  [newstaff, employment, services, ltd]   \n",
       "773        Progress Sales Recruitment         [progress, sales, recruitment]   \n",
       "774                      Zest Optical                        [zest, optical]   \n",
       "775                Genesis Associates                  [genesis, associates]   \n",
       "\n",
       "                                           Description  \\\n",
       "0    Accountant (partqualified) to **** p.a. South ...   \n",
       "1    One of the leading Hedge Funds in London is cu...   \n",
       "2    An exciting opportunity has arisen to join an ...   \n",
       "3    OneTwoTrade is expanding their Sales Team and ...   \n",
       "4    RGN Nurses (Hospitals) Immediate fulltime and ...   \n",
       "..                                                 ...   \n",
       "771  Apply Today, Start Tomorrow New Sales for 2013...   \n",
       "772  Main Purpose of Job:To perform a range of mech...   \n",
       "773  Sales Associate – Hip and Knee Orthopaedics A ...   \n",
       "774  A mobile Super Optometrist is required to join...   \n",
       "775  Title: Field Sales Executive  Office Supplies ...   \n",
       "\n",
       "                                 Tokenised Description  Category  \n",
       "0    [accountant, partqualified, south, east, londo...         0  \n",
       "1    [leading, hedge, funds, london, recruiting, fu...         0  \n",
       "2    [exciting, opportunity, arisen, join, establis...         2  \n",
       "3    [expanding, sales, team, recruiting, junior, t...         0  \n",
       "4    [rgn, nurses, hospitals, fulltime, part, swiis...         2  \n",
       "..                                                 ...       ...  \n",
       "771  [apply, today, start, tomorrow, sales, money, ...         3  \n",
       "772  [main, purpose, job, perform, range, mechanica...         1  \n",
       "773  [sales, associate, hip, knee, orthopaedics, ma...         3  \n",
       "774  [mobile, optometrist, required, join, leading,...         2  \n",
       "775  [title, field, sales, executive, office, suppl...         3  \n",
       "\n",
       "[776 rows x 8 columns]"
      ]
     },
     "execution_count": 30,
     "metadata": {},
     "output_type": "execute_result"
    }
   ],
   "source": [
    "tokenised_title = [tokenizeDescription(title) for title in titles]\n",
    "#print(len(titles))\n",
    "#print(len(tokenised_title))\n",
    "tokenised_company = [tokenizeDescription(company) for company in companies]\n",
    "#print(len(companies))\n",
    "#print(len(tokenised_company))\n",
    "\n",
    "# Create job data frame\n",
    "job_df = pd.DataFrame({'Title': titles, 'Tokenised Title': tokenised_title, \n",
    "                       'Webindex': webindex, \n",
    "                       'Company': companies, 'Tokenised Company': tokenised_company, \n",
    "                       'Description': descriptions, 'Tokenised Description': tokenised_description,\n",
    "                       'Category': df.target})\n",
    "job_df"
   ]
  },
  {
   "cell_type": "code",
   "execution_count": 31,
   "metadata": {},
   "outputs": [],
   "source": [
    "# update Webindex to integer\n",
    "job_df['Webindex'] = job_df['Webindex'].astype(int)\n",
    "\n",
    "# update Category to corresponding category names\n",
    "job_df['Category'] = [df['target_names'][i] for i in job_df['Category']]"
   ]
  },
  {
   "cell_type": "code",
   "execution_count": 33,
   "metadata": {},
   "outputs": [
    {
     "data": {
      "text/plain": [
       "Title                        PERM Unit Mgr RGN Kid minster Flexi ****K due\n",
       "Tokenised Title          [perm, unit, mgr, rgn, kid, minster, flexi, k,...\n",
       "Webindex                                                          71692209\n",
       "Company                                                                 NA\n",
       "Tokenised Company                                                     [na]\n",
       "Description              Job Title: Unit Manager Reporting to: Register...\n",
       "Tokenised Description    [job, title, unit, manager, reporting, registe...\n",
       "Category                                                Healthcare_Nursing\n",
       "Name: 20, dtype: object"
      ]
     },
     "execution_count": 33,
     "metadata": {},
     "output_type": "execute_result"
    }
   ],
   "source": [
    "# Check dataframe at test index \n",
    "job_df.loc[idx]"
   ]
  },
  {
   "cell_type": "code",
   "execution_count": 36,
   "metadata": {},
   "outputs": [
    {
     "name": "stdout",
     "output_type": "stream",
     "text": [
      "<class 'pandas.core.frame.DataFrame'>\n",
      "RangeIndex: 776 entries, 0 to 775\n",
      "Data columns (total 8 columns):\n",
      " #   Column                 Non-Null Count  Dtype \n",
      "---  ------                 --------------  ----- \n",
      " 0   Title                  776 non-null    object\n",
      " 1   Tokenised Title        776 non-null    object\n",
      " 2   Webindex               776 non-null    int64 \n",
      " 3   Company                776 non-null    object\n",
      " 4   Tokenised Company      776 non-null    object\n",
      " 5   Description            776 non-null    object\n",
      " 6   Tokenised Description  776 non-null    object\n",
      " 7   Category               776 non-null    object\n",
      "dtypes: int64(1), object(7)\n",
      "memory usage: 48.6+ KB\n"
     ]
    }
   ],
   "source": [
    "# Save job data to csv file\n",
    "job_df.to_csv('job_data.csv', index=False)\n",
    "\n",
    "# Get job_data info\n",
    "job_df.info()"
   ]
  },
  {
   "cell_type": "markdown",
   "metadata": {},
   "source": [
    "#### 1.2.9. Build a vocabulary of the cleaned job advertisement descriptions, save as txt fille `vocab.txt`\n",
    "\n",
    "This file contains the unigram vocabulary, one each line, in the following format: word_string:word_integer_index. Very importantly, words in the vocabulary must be sorted in alphabetical order, and the index value starts from 0. This file is the key to interpret the sparse encoding. For instance, in the following example, the word aaron is the 20th word (the corresponding integer_index as 19) in the vocabulary (note that the index values and words in the following image are artificial and used to demonstrate the required format only, it doesn't reflect the values of the actual expected output)."
   ]
  },
  {
   "cell_type": "code",
   "execution_count": 37,
   "metadata": {},
   "outputs": [],
   "source": [
    "def write_vocab(vocab, filename):\n",
    "    with open(filename, 'w') as f:  # creates a txt file open in write mode\n",
    "        for i, word in enumerate(vocab):\n",
    "            # write each index and vocabulary word, note that index start from 0\n",
    "            f.write(word + ':' + str(i) + '\\n')\n",
    "            \n",
    "# convert tokenized description into a alphabetically sorted list\n",
    "vocab = sorted(list(set(chain.from_iterable(tokenised_description))))\n",
    "\n",
    "# save the sorted vocabulary list according to the requirement\n",
    "write_vocab(vocab, 'vocab.txt')"
   ]
  },
  {
   "cell_type": "markdown",
   "metadata": {},
   "source": [
    "## Summary\n",
    "Give a short summary and anything you would like to talk about the assessment task here."
   ]
  },
  {
   "cell_type": "markdown",
   "metadata": {},
   "source": [
    "## Couple of notes for all code blocks in this notebook\n",
    "- please provide proper comment on your code\n",
    "- Please re-start and run all cells to make sure codes are runable and include your output in the submission.   \n",
    "<span style=\"color: red\"> This markdown block can be removed once the task is completed. </span>"
   ]
  },
  {
   "cell_type": "code",
   "execution_count": null,
   "metadata": {},
   "outputs": [],
   "source": []
  }
 ],
 "metadata": {
  "kernelspec": {
   "display_name": "Python 3",
   "language": "python",
   "name": "python3"
  },
  "language_info": {
   "codemirror_mode": {
    "name": "ipython",
    "version": 3
   },
   "file_extension": ".py",
   "mimetype": "text/x-python",
   "name": "python",
   "nbconvert_exporter": "python",
   "pygments_lexer": "ipython3",
   "version": "3.12.4"
  }
 },
 "nbformat": 4,
 "nbformat_minor": 1
}
